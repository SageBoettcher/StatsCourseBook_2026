{
 "cells": [
  {
   "cell_type": "code",
   "execution_count": null,
   "id": "11278d97-8b8a-4969-a17d-b5af5007e238",
   "metadata": {},
   "outputs": [],
   "source": [
    "# Inference from a sample\n",
    "\n",
    "Typically as scientists we have a small sample of data "
   ]
  }
 ],
 "metadata": {
  "kernelspec": {
   "display_name": "Python 3 (ipykernel)",
   "language": "python",
   "name": "python3"
  },
  "language_info": {
   "codemirror_mode": {
    "name": "ipython",
    "version": 3
   },
   "file_extension": ".py",
   "mimetype": "text/x-python",
   "name": "python",
   "nbconvert_exporter": "python",
   "pygments_lexer": "ipython3",
   "version": "3.11.7"
  }
 },
 "nbformat": 4,
 "nbformat_minor": 5
}
