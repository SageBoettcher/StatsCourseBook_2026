{
 "cells": [
  {
   "cell_type": "markdown",
   "id": "de3cf593",
   "metadata": {},
   "source": [
    "# Sampling with and without replacement\n",
    "\n",
    "This notebook introduces the idea of sampling and the `pandas` function `df.sample()`\n",
    "\n",
    "When we *sample* from a population or parent distribution, we can do so with or without replacement.\n",
    "\n",
    "Sampling *without* replacement is what we usually do when running an experiment or survey. A real world example of sampling without replacement would be if we give 100 students a wellbeing questionairre - each student in our sample is a member of the parent distribution (all students/ allstudents in the college we were sampling from etc). We will only want to survey each student once. \n",
    "\n",
    "Sampling *with* replacement is often a good way to model random events. A real world of example of sampling with replacement is rolling a dice. Each diceroll yeilds an outcome (1-6) that is a sample from an infinite selection of possible outcomes - if I roll a three on one turn, I don't 'use up' the three - it is still possible to roll a three on the next turn.\n",
    "\n",
    "A direct comparison would be drawing cards from a deck. Without replacement, each card once drawn is set aside, so it is impossible to draw the same card twice. With replacement, each card is tucked back into the deck after being drawn, so it can be drawn again.\n",
    "\n",
    "\n",
    "### Set up Python libraries\n",
    "\n",
    "As usual, run the code cell below to import the relevant Python libraries\n"
   ]
  },
  {
   "cell_type": "code",
   "execution_count": 1,
   "id": "ea3026d8",
   "metadata": {},
   "outputs": [],
   "source": [
    "# Set-up Python libraries - you need to run this but you don't need to change it\n",
    "import numpy as np\n",
    "import matplotlib.pyplot as plt\n",
    "import scipy.stats as stats\n",
    "import pandas as pd\n",
    "import seaborn as sns\n",
    "sns.set_theme(style='white')\n",
    "import statsmodels.api as sm\n",
    "import statsmodels.formula.api as smf\n",
    "import warnings \n",
    "warnings.simplefilter('ignore', category=FutureWarning)"
   ]
  },
  {
   "cell_type": "markdown",
   "id": "a4919fcb",
   "metadata": {},
   "source": [
    "### Toy example\n",
    "\n",
    "Let's explore the idea of sampling with and without replacement using a very simple example (a simple example designed just to illustrate a point is sometimes called a *toy example*)\n",
    "\n",
    "Say I have a dataset listing four children's pets:\n",
    "\n",
    "[cat, dog, cat, rabbit]\n",
    "\n",
    "If I sample from this dataset, I get a new list of pets. Say I draw a sample of size $𝑛=2$, my sample might be [cat, cat] (if I'm lucky- I love cats!)\n",
    "\n",
    "\n",
    "#### Without replacement\n",
    "\n",
    "If I sample without replacement, after I have 'drawn' my first sample pet fromt the original dataset, I cannot draw it again - my next sample pet will be drawn from the remaining three. The consequence of this is that all samples of size 𝑛=4 contain all of the original 4 pets, albeit in a different order\n",
    "\n",
    "[cat, cat, dog, rabbit]\n",
    "\n",
    "[rabbit, cat, dog, cat]\n",
    "\n",
    "[cat, dog, rabbit, cat]\n",
    "\n",
    "etc\n",
    "\n",
    "#### With replacement\n",
    "\n",
    "If I sample with replacement, each 'draw' can be any of the four animals (think of it like pulling a card from a deck, checking which animal is on it, and then replacing the card in the deck before the next sample is drawn).\n",
    "\n",
    "So I could get:\n",
    "\n",
    "[cat, cat, cat, cat]\n",
    "\n",
    "if I'm really lucky!\n",
    "\n",
    "or more likely:\n",
    "\n",
    "[cat, dog, cat, cat]\n",
    "\n",
    "[rabbit, dog, cat, rabbit]\n",
    "\n",
    "... etc\n",
    "\n"
   ]
  },
  {
   "cell_type": "markdown",
   "id": "6b35cdee",
   "metadata": {},
   "source": [
    "## Sampling from a `Pandas` dataframe\n",
    "\n",
    "`Pandas` has a handy built-in sampling function called `df.sample()`\n",
    "\n",
    "Let's see it at work:"
   ]
  },
  {
   "cell_type": "code",
   "execution_count": 2,
   "id": "3a364b69",
   "metadata": {},
   "outputs": [
    {
     "data": {
      "text/html": [
       "<div>\n",
       "<style scoped>\n",
       "    .dataframe tbody tr th:only-of-type {\n",
       "        vertical-align: middle;\n",
       "    }\n",
       "\n",
       "    .dataframe tbody tr th {\n",
       "        vertical-align: top;\n",
       "    }\n",
       "\n",
       "    .dataframe thead th {\n",
       "        text-align: right;\n",
       "    }\n",
       "</style>\n",
       "<table border=\"1\" class=\"dataframe\">\n",
       "  <thead>\n",
       "    <tr style=\"text-align: right;\">\n",
       "      <th></th>\n",
       "      <th>Child</th>\n",
       "      <th>Pet</th>\n",
       "    </tr>\n",
       "  </thead>\n",
       "  <tbody>\n",
       "    <tr>\n",
       "      <th>0</th>\n",
       "      <td>Anna</td>\n",
       "      <td>cat</td>\n",
       "    </tr>\n",
       "    <tr>\n",
       "      <th>1</th>\n",
       "      <td>Betty</td>\n",
       "      <td>cat</td>\n",
       "    </tr>\n",
       "    <tr>\n",
       "      <th>2</th>\n",
       "      <td>Charley</td>\n",
       "      <td>cat</td>\n",
       "    </tr>\n",
       "    <tr>\n",
       "      <th>3</th>\n",
       "      <td>David</td>\n",
       "      <td>dog</td>\n",
       "    </tr>\n",
       "    <tr>\n",
       "      <th>4</th>\n",
       "      <td>Egbert</td>\n",
       "      <td>cat</td>\n",
       "    </tr>\n",
       "    <tr>\n",
       "      <th>5</th>\n",
       "      <td>Freddie</td>\n",
       "      <td>rabbit</td>\n",
       "    </tr>\n",
       "    <tr>\n",
       "      <th>6</th>\n",
       "      <td>Georgia</td>\n",
       "      <td>dog</td>\n",
       "    </tr>\n",
       "    <tr>\n",
       "      <th>7</th>\n",
       "      <td>Henrietta</td>\n",
       "      <td>cat</td>\n",
       "    </tr>\n",
       "  </tbody>\n",
       "</table>\n",
       "</div>"
      ],
      "text/plain": [
       "       Child     Pet\n",
       "0       Anna     cat\n",
       "1      Betty     cat\n",
       "2    Charley     cat\n",
       "3      David     dog\n",
       "4     Egbert     cat\n",
       "5    Freddie  rabbit\n",
       "6    Georgia     dog\n",
       "7  Henrietta     cat"
      ]
     },
     "execution_count": 2,
     "metadata": {},
     "output_type": "execute_result"
    }
   ],
   "source": [
    "pets = pd.read_csv('https://raw.githubusercontent.com/jillxoreilly/StatsCourseBook_2024/main/data/pets.csv')\n",
    "pets"
   ]
  },
  {
   "cell_type": "code",
   "execution_count": 3,
   "id": "a13f2c47",
   "metadata": {},
   "outputs": [
    {
     "data": {
      "text/html": [
       "<div>\n",
       "<style scoped>\n",
       "    .dataframe tbody tr th:only-of-type {\n",
       "        vertical-align: middle;\n",
       "    }\n",
       "\n",
       "    .dataframe tbody tr th {\n",
       "        vertical-align: top;\n",
       "    }\n",
       "\n",
       "    .dataframe thead th {\n",
       "        text-align: right;\n",
       "    }\n",
       "</style>\n",
       "<table border=\"1\" class=\"dataframe\">\n",
       "  <thead>\n",
       "    <tr style=\"text-align: right;\">\n",
       "      <th></th>\n",
       "      <th>Child</th>\n",
       "      <th>Pet</th>\n",
       "    </tr>\n",
       "  </thead>\n",
       "  <tbody>\n",
       "    <tr>\n",
       "      <th>7</th>\n",
       "      <td>Henrietta</td>\n",
       "      <td>cat</td>\n",
       "    </tr>\n",
       "    <tr>\n",
       "      <th>2</th>\n",
       "      <td>Charley</td>\n",
       "      <td>cat</td>\n",
       "    </tr>\n",
       "    <tr>\n",
       "      <th>0</th>\n",
       "      <td>Anna</td>\n",
       "      <td>cat</td>\n",
       "    </tr>\n",
       "  </tbody>\n",
       "</table>\n",
       "</div>"
      ],
      "text/plain": [
       "       Child  Pet\n",
       "7  Henrietta  cat\n",
       "2    Charley  cat\n",
       "0       Anna  cat"
      ]
     },
     "execution_count": 3,
     "metadata": {},
     "output_type": "execute_result"
    }
   ],
   "source": [
    "# draw a sample of size n=3 without replacement\n",
    "pets.sample(3, replace=False)"
   ]
  },
  {
   "cell_type": "code",
   "execution_count": 4,
   "id": "de8546f7",
   "metadata": {},
   "outputs": [
    {
     "data": {
      "text/html": [
       "<div>\n",
       "<style scoped>\n",
       "    .dataframe tbody tr th:only-of-type {\n",
       "        vertical-align: middle;\n",
       "    }\n",
       "\n",
       "    .dataframe tbody tr th {\n",
       "        vertical-align: top;\n",
       "    }\n",
       "\n",
       "    .dataframe thead th {\n",
       "        text-align: right;\n",
       "    }\n",
       "</style>\n",
       "<table border=\"1\" class=\"dataframe\">\n",
       "  <thead>\n",
       "    <tr style=\"text-align: right;\">\n",
       "      <th></th>\n",
       "      <th>Child</th>\n",
       "      <th>Pet</th>\n",
       "    </tr>\n",
       "  </thead>\n",
       "  <tbody>\n",
       "    <tr>\n",
       "      <th>4</th>\n",
       "      <td>Egbert</td>\n",
       "      <td>cat</td>\n",
       "    </tr>\n",
       "    <tr>\n",
       "      <th>1</th>\n",
       "      <td>Betty</td>\n",
       "      <td>cat</td>\n",
       "    </tr>\n",
       "    <tr>\n",
       "      <th>4</th>\n",
       "      <td>Egbert</td>\n",
       "      <td>cat</td>\n",
       "    </tr>\n",
       "    <tr>\n",
       "      <th>5</th>\n",
       "      <td>Freddie</td>\n",
       "      <td>rabbit</td>\n",
       "    </tr>\n",
       "    <tr>\n",
       "      <th>7</th>\n",
       "      <td>Henrietta</td>\n",
       "      <td>cat</td>\n",
       "    </tr>\n",
       "    <tr>\n",
       "      <th>2</th>\n",
       "      <td>Charley</td>\n",
       "      <td>cat</td>\n",
       "    </tr>\n",
       "    <tr>\n",
       "      <th>7</th>\n",
       "      <td>Henrietta</td>\n",
       "      <td>cat</td>\n",
       "    </tr>\n",
       "    <tr>\n",
       "      <th>5</th>\n",
       "      <td>Freddie</td>\n",
       "      <td>rabbit</td>\n",
       "    </tr>\n",
       "    <tr>\n",
       "      <th>1</th>\n",
       "      <td>Betty</td>\n",
       "      <td>cat</td>\n",
       "    </tr>\n",
       "    <tr>\n",
       "      <th>6</th>\n",
       "      <td>Georgia</td>\n",
       "      <td>dog</td>\n",
       "    </tr>\n",
       "    <tr>\n",
       "      <th>5</th>\n",
       "      <td>Freddie</td>\n",
       "      <td>rabbit</td>\n",
       "    </tr>\n",
       "    <tr>\n",
       "      <th>5</th>\n",
       "      <td>Freddie</td>\n",
       "      <td>rabbit</td>\n",
       "    </tr>\n",
       "  </tbody>\n",
       "</table>\n",
       "</div>"
      ],
      "text/plain": [
       "       Child     Pet\n",
       "4     Egbert     cat\n",
       "1      Betty     cat\n",
       "4     Egbert     cat\n",
       "5    Freddie  rabbit\n",
       "7  Henrietta     cat\n",
       "2    Charley     cat\n",
       "7  Henrietta     cat\n",
       "5    Freddie  rabbit\n",
       "1      Betty     cat\n",
       "6    Georgia     dog\n",
       "5    Freddie  rabbit\n",
       "5    Freddie  rabbit"
      ]
     },
     "execution_count": 4,
     "metadata": {},
     "output_type": "execute_result"
    }
   ],
   "source": [
    "# draw a sample of size n=12 with replacement\n",
    "pets.sample(12, replace=True)"
   ]
  },
  {
   "cell_type": "markdown",
   "id": "1916d217-5ecf-470d-8ad9-3be4ad3d951f",
   "metadata": {},
   "source": [
    "### Summarizing samples\n",
    "\n",
    "Often we are not interested in the exact contents of the sample, but some summary value - for example, how many cats are there?\n"
   ]
  },
  {
   "cell_type": "code",
   "execution_count": 5,
   "id": "dc9466ae",
   "metadata": {},
   "outputs": [
    {
     "data": {
      "text/plain": [
       "5    rabbit\n",
       "1       cat\n",
       "2       cat\n",
       "1       cat\n",
       "1       cat\n",
       "3       dog\n",
       "4       cat\n",
       "4       cat\n",
       "Name: Pet, dtype: object"
      ]
     },
     "execution_count": 5,
     "metadata": {},
     "output_type": "execute_result"
    }
   ],
   "source": [
    "# Make a new sample and just get the column 'Pet'\n",
    "pets.sample(8, replace=True).Pet"
   ]
  },
  {
   "cell_type": "code",
   "execution_count": 6,
   "id": "dea41265",
   "metadata": {},
   "outputs": [
    {
     "data": {
      "text/plain": [
       "6"
      ]
     },
     "execution_count": 6,
     "metadata": {},
     "output_type": "execute_result"
    }
   ],
   "source": [
    "# Make a new sample count the cats!\n",
    "sum(pets.sample(8, replace=True).Pet=='cat')"
   ]
  },
  {
   "cell_type": "code",
   "execution_count": null,
   "id": "a206cb53-68f2-4cc3-819f-34081a314d8c",
   "metadata": {},
   "outputs": [],
   "source": []
  }
 ],
 "metadata": {
  "kernelspec": {
   "display_name": "Python 3 (ipykernel)",
   "language": "python",
   "name": "python3"
  },
  "language_info": {
   "codemirror_mode": {
    "name": "ipython",
    "version": 3
   },
   "file_extension": ".py",
   "mimetype": "text/x-python",
   "name": "python",
   "nbconvert_exporter": "python",
   "pygments_lexer": "ipython3",
   "version": "3.11.7"
  }
 },
 "nbformat": 4,
 "nbformat_minor": 5
}