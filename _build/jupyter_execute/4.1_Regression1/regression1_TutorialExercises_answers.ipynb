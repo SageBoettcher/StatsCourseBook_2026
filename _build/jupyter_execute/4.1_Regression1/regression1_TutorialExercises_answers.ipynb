{
 "cells": [
  {
   "cell_type": "markdown",
   "id": "c91ffc89",
   "metadata": {},
   "source": [
    "# Tutorial Exercises\n",
    "\n",
    "We will be using the statsmodels package in Python, so we will need to import this along with the other Python packages we have been using.\n",
    "\n",
    "\n",
    "### Set up Python libraries\n",
    "\n",
    "As usual, run the code cell below to import the relevant Python libraries\n"
   ]
  },
  {
   "cell_type": "code",
   "execution_count": 1,
   "id": "1b642f8d",
   "metadata": {
    "tags": []
   },
   "outputs": [],
   "source": [
    "# Set-up Python libraries - you need to run this but you don't need to change it\n",
    "import numpy as np\n",
    "import matplotlib.pyplot as plt\n",
    "import scipy.stats as stats\n",
    "import pandas as pd\n",
    "import seaborn as sns\n",
    "sns.set_theme(style='white')\n",
    "import statsmodels.api as sm\n",
    "import statsmodels.formula.api as smf"
   ]
  },
  {
   "cell_type": "markdown",
   "id": "b6aa98d9",
   "metadata": {},
   "source": [
    "## Life satisfaction full dataset\n",
    "\n",
    "Let's import the full dataset for life satisfaction vs GDP"
   ]
  },
  {
   "cell_type": "code",
   "execution_count": 2,
   "id": "4ee32dde",
   "metadata": {
    "tags": []
   },
   "outputs": [
    {
     "data": {
      "text/html": [
       "<div>\n",
       "<style scoped>\n",
       "    .dataframe tbody tr th:only-of-type {\n",
       "        vertical-align: middle;\n",
       "    }\n",
       "\n",
       "    .dataframe tbody tr th {\n",
       "        vertical-align: top;\n",
       "    }\n",
       "\n",
       "    .dataframe thead th {\n",
       "        text-align: right;\n",
       "    }\n",
       "</style>\n",
       "<table border=\"1\" class=\"dataframe\">\n",
       "  <thead>\n",
       "    <tr style=\"text-align: right;\">\n",
       "      <th></th>\n",
       "      <th>Country</th>\n",
       "      <th>LifeSat</th>\n",
       "      <th>GDPpc</th>\n",
       "    </tr>\n",
       "  </thead>\n",
       "  <tbody>\n",
       "    <tr>\n",
       "      <th>0</th>\n",
       "      <td>Afghanistan</td>\n",
       "      <td>2.40</td>\n",
       "      <td>1.97</td>\n",
       "    </tr>\n",
       "    <tr>\n",
       "      <th>1</th>\n",
       "      <td>Albania</td>\n",
       "      <td>5.20</td>\n",
       "      <td>13.19</td>\n",
       "    </tr>\n",
       "    <tr>\n",
       "      <th>2</th>\n",
       "      <td>Algeria</td>\n",
       "      <td>5.12</td>\n",
       "      <td>10.74</td>\n",
       "    </tr>\n",
       "    <tr>\n",
       "      <th>3</th>\n",
       "      <td>American Samoa</td>\n",
       "      <td>NaN</td>\n",
       "      <td>0.00</td>\n",
       "    </tr>\n",
       "    <tr>\n",
       "      <th>4</th>\n",
       "      <td>Andorra</td>\n",
       "      <td>NaN</td>\n",
       "      <td>0.00</td>\n",
       "    </tr>\n",
       "    <tr>\n",
       "      <th>...</th>\n",
       "      <td>...</td>\n",
       "      <td>...</td>\n",
       "      <td>...</td>\n",
       "    </tr>\n",
       "    <tr>\n",
       "      <th>233</th>\n",
       "      <td>Western Sahara</td>\n",
       "      <td>NaN</td>\n",
       "      <td>0.00</td>\n",
       "    </tr>\n",
       "    <tr>\n",
       "      <th>234</th>\n",
       "      <td>World</td>\n",
       "      <td>NaN</td>\n",
       "      <td>16.19</td>\n",
       "    </tr>\n",
       "    <tr>\n",
       "      <th>235</th>\n",
       "      <td>Yemen</td>\n",
       "      <td>4.20</td>\n",
       "      <td>0.00</td>\n",
       "    </tr>\n",
       "    <tr>\n",
       "      <th>236</th>\n",
       "      <td>Zambia</td>\n",
       "      <td>3.76</td>\n",
       "      <td>3.28</td>\n",
       "    </tr>\n",
       "    <tr>\n",
       "      <th>237</th>\n",
       "      <td>Zimbabwe</td>\n",
       "      <td>3.00</td>\n",
       "      <td>3.35</td>\n",
       "    </tr>\n",
       "  </tbody>\n",
       "</table>\n",
       "<p>238 rows × 3 columns</p>\n",
       "</div>"
      ],
      "text/plain": [
       "            Country  LifeSat  GDPpc\n",
       "0       Afghanistan     2.40   1.97\n",
       "1           Albania     5.20  13.19\n",
       "2           Algeria     5.12  10.74\n",
       "3    American Samoa      NaN   0.00\n",
       "4           Andorra      NaN   0.00\n",
       "..              ...      ...    ...\n",
       "233  Western Sahara      NaN   0.00\n",
       "234           World      NaN  16.19\n",
       "235           Yemen     4.20   0.00\n",
       "236          Zambia     3.76   3.28\n",
       "237        Zimbabwe     3.00   3.35\n",
       "\n",
       "[238 rows x 3 columns]"
      ]
     },
     "execution_count": 2,
     "metadata": {},
     "output_type": "execute_result"
    }
   ],
   "source": [
    "happy = pd.read_csv('https://raw.githubusercontent.com/jillxoreilly/StatsCourseBook_2024/main/data/All_countries_lifesat_2020.csv')\n",
    "happy"
   ]
  },
  {
   "cell_type": "markdown",
   "id": "e0b14289",
   "metadata": {},
   "source": [
    "### Data cleaning\n",
    "\n",
    "We are working with real data here! We need to examine it and take any necessary steps to clean the data before we begin analysis. \n",
    "\n",
    "* What steps do you need to take to clean the data? \n",
    "* Are there any data points that look wrong (e.g., too low or too high)? Change any suspicious values to ‘NaN’.\n",
    "* How many missing data points do you have on lifesat? \n",
    "* How many missing data points do you have on GDP per capita?\n"
   ]
  },
  {
   "cell_type": "code",
   "execution_count": 3,
   "id": "5afcc7e5",
   "metadata": {
    "tags": []
   },
   "outputs": [
    {
     "data": {
      "text/plain": [
       "Country     0\n",
       "LifeSat    92\n",
       "GDPpc       0\n",
       "dtype: int64"
      ]
     },
     "execution_count": 3,
     "metadata": {},
     "output_type": "execute_result"
    }
   ],
   "source": [
    "# check how many Nans there are in each column\n",
    "happy.isna().sum()"
   ]
  },
  {
   "cell_type": "code",
   "execution_count": 4,
   "id": "e9fac4ee",
   "metadata": {
    "tags": []
   },
   "outputs": [
    {
     "name": "stderr",
     "output_type": "stream",
     "text": [
      "/opt/anaconda3/anaconda3/lib/python3.11/site-packages/seaborn/_oldcore.py:1119: FutureWarning: use_inf_as_na option is deprecated and will be removed in a future version. Convert inf values to NaN before operating instead.\n",
      "  with pd.option_context('mode.use_inf_as_na', True):\n"
     ]
    },
    {
     "data": {
      "image/png": "[encoded data removed]",
      "text/plain": [
       "<Figure size 640x480 with 1 Axes>"
      ]
     },
     "metadata": {},
     "output_type": "display_data"
    }
   ],
   "source": [
    "# check distribution of LifeSat\n",
    "sns.histplot(data=happy, x='LifeSat')\n",
    "plt.show()"
   ]
  },
  {
   "cell_type": "markdown",
   "id": "bc6cbc07-b781-406b-97af-219d027c7810",
   "metadata": {},
   "source": [
    "<font color=red>There are no obviously problematic values in the histogram</font>"
   ]
  },
  {
   "cell_type": "code",
   "execution_count": 5,
   "id": "59b3a5e0",
   "metadata": {
    "tags": []
   },
   "outputs": [
    {
     "name": "stderr",
     "output_type": "stream",
     "text": [
      "/opt/anaconda3/anaconda3/lib/python3.11/site-packages/seaborn/_oldcore.py:1119: FutureWarning: use_inf_as_na option is deprecated and will be removed in a future version. Convert inf values to NaN before operating instead.\n",
      "  with pd.option_context('mode.use_inf_as_na', True):\n"
     ]
    },
    {
     "data": {
      "image/png": "[encoded data removed]",
      "text/plain": [
       "<Figure size 640x480 with 1 Axes>"
      ]
     },
     "metadata": {},
     "output_type": "display_data"
    }
   ],
   "source": [
    "# check distribution of GDPpc\n",
    "sns.histplot(data=happy, x='GDPpc', bins=range(0,100))\n",
    "plt.show()"
   ]
  },
  {
   "cell_type": "markdown",
   "id": "ad0314d1-3aa5-449b-a369-dfd3174ce739",
   "metadata": {},
   "source": [
    "<font color=red>It looks like there are suspiciously many values of GDP near zero. Let's check if they are exactly zero, in which case they are probably dummy values rather than real values.</font>"
   ]
  },
  {
   "cell_type": "code",
   "execution_count": 6,
   "id": "e2259c9a",
   "metadata": {
    "tags": []
   },
   "outputs": [
    {
     "data": {
      "text/plain": [
       "47"
      ]
     },
     "execution_count": 6,
     "metadata": {},
     "output_type": "execute_result"
    }
   ],
   "source": [
    "np.sum(happy.GDPpc==0)"
   ]
  },
  {
   "cell_type": "markdown",
   "id": "21089098-b6d1-4ff0-a601-e28d6a191ef1",
   "metadata": {},
   "source": [
    "<font color=red>Yes, I think we need to replace those with NaNs</font>"
   ]
  },
  {
   "cell_type": "code",
   "execution_count": 7,
   "id": "dbec8990-d404-4501-b931-99d955c01e07",
   "metadata": {
    "tags": []
   },
   "outputs": [
    {
     "name": "stderr",
     "output_type": "stream",
     "text": [
      "/opt/anaconda3/anaconda3/lib/python3.11/site-packages/seaborn/_oldcore.py:1119: FutureWarning: use_inf_as_na option is deprecated and will be removed in a future version. Convert inf values to NaN before operating instead.\n",
      "  with pd.option_context('mode.use_inf_as_na', True):\n"
     ]
    },
    {
     "data": {
      "image/png": "[encoded data removed]",
      "text/plain": [
       "<Figure size 640x480 with 1 Axes>"
      ]
     },
     "metadata": {},
     "output_type": "display_data"
    }
   ],
   "source": [
    "happy.loc[(happy.GDPpc==0),'GDPpc']=np.nan\n",
    "# check it worked\n",
    "sns.histplot(data=happy, x='GDPpc', bins=range(0,100))\n",
    "plt.show()"
   ]
  },
  {
   "cell_type": "markdown",
   "id": "eccd1ac3-4a3f-497e-85ae-758cfcccd790",
   "metadata": {},
   "source": [
    "<font color=red>Looks good! The spike at zero has gone.</font>\n",
    "\n",
    "* How many valid data points do you have? \n",
    "\n",
    "<font color=red>You could check how many cases are non-nan in each column quite easily.</font>"
   ]
  },
  {
   "cell_type": "code",
   "execution_count": 8,
   "id": "bc3e351b-7b0b-42c1-a368-8c442ec92e76",
   "metadata": {
    "tags": []
   },
   "outputs": [
    {
     "data": {
      "text/plain": [
       "Country    238\n",
       "LifeSat    146\n",
       "GDPpc      191\n",
       "dtype: int64"
      ]
     },
     "execution_count": 8,
     "metadata": {},
     "output_type": "execute_result"
    }
   ],
   "source": [
    "happy.count()"
   ]
  },
  {
   "cell_type": "markdown",
   "id": "74d92264-45f1-4232-bd18-a490c961aade",
   "metadata": {},
   "source": [
    "<font color=red>If you want to check how many complete rows we have (countries with no nan for any variable) you need to do this:</font>"
   ]
  },
  {
   "cell_type": "code",
   "execution_count": 9,
   "id": "278709f2-706a-49a4-8975-2f8cd74ea356",
   "metadata": {
    "tags": []
   },
   "outputs": [
    {
     "data": {
      "text/plain": [
       "141"
      ]
     },
     "execution_count": 9,
     "metadata": {},
     "output_type": "execute_result"
    }
   ],
   "source": [
    "sum(happy.isnull().sum(axis=1)==0)"
   ]
  },
  {
   "cell_type": "markdown",
   "id": "2b314b8d",
   "metadata": {},
   "source": [
    "### Describing the data\n",
    "\n",
    "Let’s begin with some descriptive analysis before running our first regression model. \n",
    "\n",
    "Run a scatterplot. \n",
    "\n",
    "Be sure to plot $y$ on the $y$-axis and $x$ on the $x$-axis. \n",
    "(If you are not sure which is which, discuss with your tutor).\n"
   ]
  },
  {
   "cell_type": "code",
   "execution_count": 10,
   "id": "c903f878",
   "metadata": {
    "tags": []
   },
   "outputs": [
    {
     "data": {
      "image/png": "[encoded data removed]",
      "text/plain": [
       "<Figure size 640x480 with 1 Axes>"
      ]
     },
     "metadata": {},
     "output_type": "display_data"
    },
    {
     "data": {
      "image/png": "[encoded data removed]",
      "text/plain": [
       "<Figure size 640x480 with 1 Axes>"
      ]
     },
     "metadata": {},
     "output_type": "display_data"
    }
   ],
   "source": [
    "# Your code here for the scatterplot\n",
    "sns.scatterplot(data=happy, x='GDPpc',y='LifeSat')\n",
    "plt.show()\n",
    "\n",
    "# OR\n",
    "sns.regplot(data=happy, x='GDPpc',y='LifeSat')\n",
    "plt.show()"
   ]
  },
  {
   "cell_type": "markdown",
   "id": "232c7691",
   "metadata": {},
   "source": [
    "* What are your initial conclusions about the relationship between GDP and life satisfaction? \n",
    "\n",
    "<font color=red>\n",
    "    \n",
    "* LifeSat goes up as GDPpc goes up\n",
    "    \n",
    "* The relationship is non-linear (asyptote at high GDPpc) - so for poor countries, a small increase in GDP translates to a big increase in lifesat\n",
    "    \n",
    "* Many data points are clustered at low GDPpc\n",
    "</font>\n",
    "\n",
    "### Regression model\n",
    "\n",
    "It’s time to run the regression model. \n",
    "\n",
    "The basic code can be copied from the worked examples in the previous notebook, but you will need to modify it. \n",
    "\n",
    "Where do you tell Python which is the $y$ variable, and which is the $x$?"
   ]
  },
  {
   "cell_type": "code",
   "execution_count": 11,
   "id": "b065e3c9",
   "metadata": {
    "tags": []
   },
   "outputs": [
    {
     "data": {
      "text/html": [
       "<table class=\"simpletable\">\n",
       "<caption>OLS Regression Results</caption>\n",
       "<tr>\n",
       "  <th>Dep. Variable:</th>         <td>LifeSat</td>     <th>  R-squared:         </th> <td>   0.547</td>\n",
       "</tr>\n",
       "<tr>\n",
       "  <th>Model:</th>                   <td>OLS</td>       <th>  Adj. R-squared:    </th> <td>   0.544</td>\n",
       "</tr>\n",
       "<tr>\n",
       "  <th>Method:</th>             <td>Least Squares</td>  <th>  F-statistic:       </th> <td>   168.1</td>\n",
       "</tr>\n",
       "<tr>\n",
       "  <th>Date:</th>             <td>Thu, 10 Oct 2024</td> <th>  Prob (F-statistic):</th> <td>1.07e-25</td>\n",
       "</tr>\n",
       "<tr>\n",
       "  <th>Time:</th>                 <td>15:36:01</td>     <th>  Log-Likelihood:    </th> <td> -156.58</td>\n",
       "</tr>\n",
       "<tr>\n",
       "  <th>No. Observations:</th>      <td>   141</td>      <th>  AIC:               </th> <td>   317.2</td>\n",
       "</tr>\n",
       "<tr>\n",
       "  <th>Df Residuals:</th>          <td>   139</td>      <th>  BIC:               </th> <td>   323.1</td>\n",
       "</tr>\n",
       "<tr>\n",
       "  <th>Df Model:</th>              <td>     1</td>      <th>                     </th>     <td> </td>   \n",
       "</tr>\n",
       "<tr>\n",
       "  <th>Covariance Type:</th>      <td>nonrobust</td>    <th>                     </th>     <td> </td>   \n",
       "</tr>\n",
       "</table>\n",
       "<table class=\"simpletable\">\n",
       "<tr>\n",
       "      <td></td>         <th>coef</th>     <th>std err</th>      <th>t</th>      <th>P>|t|</th>  <th>[0.025</th>    <th>0.975]</th>  \n",
       "</tr>\n",
       "<tr>\n",
       "  <th>Intercept</th> <td>    4.7338</td> <td>    0.089</td> <td>   53.052</td> <td> 0.000</td> <td>    4.557</td> <td>    4.910</td>\n",
       "</tr>\n",
       "<tr>\n",
       "  <th>GDPpc</th>     <td>    0.0391</td> <td>    0.003</td> <td>   12.967</td> <td> 0.000</td> <td>    0.033</td> <td>    0.045</td>\n",
       "</tr>\n",
       "</table>\n",
       "<table class=\"simpletable\">\n",
       "<tr>\n",
       "  <th>Omnibus:</th>       <td>20.169</td> <th>  Durbin-Watson:     </th> <td>   1.854</td>\n",
       "</tr>\n",
       "<tr>\n",
       "  <th>Prob(Omnibus):</th> <td> 0.000</td> <th>  Jarque-Bera (JB):  </th> <td>  23.974</td>\n",
       "</tr>\n",
       "<tr>\n",
       "  <th>Skew:</th>          <td>-0.919</td> <th>  Prob(JB):          </th> <td>6.22e-06</td>\n",
       "</tr>\n",
       "<tr>\n",
       "  <th>Kurtosis:</th>      <td> 3.837</td> <th>  Cond. No.          </th> <td>    42.4</td>\n",
       "</tr>\n",
       "</table><br/><br/>Notes:<br/>[1] Standard Errors assume that the covariance matrix of the errors is correctly specified."
      ],
      "text/latex": [
       "\\begin{center}\n",
       "\\begin{tabular}{lclc}\n",
       "\\toprule\n",
       "\\textbf{Dep. Variable:}    &     LifeSat      & \\textbf{  R-squared:         } &     0.547   \\\\\n",
       "\\textbf{Model:}            &       OLS        & \\textbf{  Adj. R-squared:    } &     0.544   \\\\\n",
       "\\textbf{Method:}           &  Least Squares   & \\textbf{  F-statistic:       } &     168.1   \\\\\n",
       "\\textbf{Date:}             & Thu, 10 Oct 2024 & \\textbf{  Prob (F-statistic):} &  1.07e-25   \\\\\n",
       "\\textbf{Time:}             &     15:36:01     & \\textbf{  Log-Likelihood:    } &   -156.58   \\\\\n",
       "\\textbf{No. Observations:} &         141      & \\textbf{  AIC:               } &     317.2   \\\\\n",
       "\\textbf{Df Residuals:}     &         139      & \\textbf{  BIC:               } &     323.1   \\\\\n",
       "\\textbf{Df Model:}         &           1      & \\textbf{                     } &             \\\\\n",
       "\\textbf{Covariance Type:}  &    nonrobust     & \\textbf{                     } &             \\\\\n",
       "\\bottomrule\n",
       "\\end{tabular}\n",
       "\\begin{tabular}{lcccccc}\n",
       "                   & \\textbf{coef} & \\textbf{std err} & \\textbf{t} & \\textbf{P$> |$t$|$} & \\textbf{[0.025} & \\textbf{0.975]}  \\\\\n",
       "\\midrule\n",
       "\\textbf{Intercept} &       4.7338  &        0.089     &    53.052  &         0.000        &        4.557    &        4.910     \\\\\n",
       "\\textbf{GDPpc}     &       0.0391  &        0.003     &    12.967  &         0.000        &        0.033    &        0.045     \\\\\n",
       "\\bottomrule\n",
       "\\end{tabular}\n",
       "\\begin{tabular}{lclc}\n",
       "\\textbf{Omnibus:}       & 20.169 & \\textbf{  Durbin-Watson:     } &    1.854  \\\\\n",
       "\\textbf{Prob(Omnibus):} &  0.000 & \\textbf{  Jarque-Bera (JB):  } &   23.974  \\\\\n",
       "\\textbf{Skew:}          & -0.919 & \\textbf{  Prob(JB):          } & 6.22e-06  \\\\\n",
       "\\textbf{Kurtosis:}      &  3.837 & \\textbf{  Cond. No.          } &     42.4  \\\\\n",
       "\\bottomrule\n",
       "\\end{tabular}\n",
       "%\\caption{OLS Regression Results}\n",
       "\\end{center}\n",
       "\n",
       "Notes: \\newline\n",
       " [1] Standard Errors assume that the covariance matrix of the errors is correctly specified."
      ],
      "text/plain": [
       "<class 'statsmodels.iolib.summary.Summary'>\n",
       "\"\"\"\n",
       "                            OLS Regression Results                            \n",
       "==============================================================================\n",
       "Dep. Variable:                LifeSat   R-squared:                       0.547\n",
       "Model:                            OLS   Adj. R-squared:                  0.544\n",
       "Method:                 Least Squares   F-statistic:                     168.1\n",
       "Date:                Thu, 10 Oct 2024   Prob (F-statistic):           1.07e-25\n",
       "Time:                        15:36:01   Log-Likelihood:                -156.58\n",
       "No. Observations:                 141   AIC:                             317.2\n",
       "Df Residuals:                     139   BIC:                             323.1\n",
       "Df Model:                           1                                         \n",
       "Covariance Type:            nonrobust                                         \n",
       "==============================================================================\n",
       "                 coef    std err          t      P>|t|      [0.025      0.975]\n",
       "------------------------------------------------------------------------------\n",
       "Intercept      4.7338      0.089     53.052      0.000       4.557       4.910\n",
       "GDPpc          0.0391      0.003     12.967      0.000       0.033       0.045\n",
       "==============================================================================\n",
       "Omnibus:                       20.169   Durbin-Watson:                   1.854\n",
       "Prob(Omnibus):                  0.000   Jarque-Bera (JB):               23.974\n",
       "Skew:                          -0.919   Prob(JB):                     6.22e-06\n",
       "Kurtosis:                       3.837   Cond. No.                         42.4\n",
       "==============================================================================\n",
       "\n",
       "Notes:\n",
       "[1] Standard Errors assume that the covariance matrix of the errors is correctly specified.\n",
       "\"\"\""
      ]
     },
     "execution_count": 11,
     "metadata": {},
     "output_type": "execute_result"
    }
   ],
   "source": [
    "# code for regression model\n",
    "# run the regression model\n",
    "\n",
    "# first we run this line to tell statsmodels where to find the data and the explanatory variables\n",
    "reg_formula = sm.regression.linear_model.OLS.from_formula(data = happy, formula = 'LifeSat ~ GDPpc')\n",
    "\n",
    "# then we run this line to fit the regression (work out the values of intercept and slope)\n",
    "# the output is a structure which we will call reg_results\n",
    "reg_results = reg_formula.fit()\n",
    "\n",
    "# let's view a summary of the regression results\n",
    "reg_results.summary() \n",
    "\n",
    "# note you get a warning message because the dataset is quite small - disregard this"
   ]
  },
  {
   "cell_type": "markdown",
   "id": "699201d4",
   "metadata": {},
   "source": [
    "Look at the Python regression output. \n",
    "\n",
    "* Find the intercept and the slope. \n",
    "    * <font color=red>intercept=4.73, slope=0.0391</font>\n",
    "* Write out the regression equation (on your computer or by hand on paper). \n",
    "    * <font color=red> lifesat = 4.73 + 0.0391 $\\times$ GDPpc</font>\n",
    "* Make notes on how to interpret the intercept and the slope. E.g., “the intercept is the average life satisfaction in a country with…” And “the slope of x.xx means that for every additional 1000 dollars in GDP…”\n",
    "    * <font color=red> The intercept is the average life satisfaction in a country with a zero GDP (although no countries have a GDP which is actually zero, some are close to zero so this does make some sense). The slope of 0.0391 means that for every additional 1000 dolalrs in GDP, lifesat increases by 0.0391 points - or about 25000 dollars in GDP is needed to increase lifesat by one whole point</font>\n",
    "\n",
    "### Regression plot\n",
    "\n",
    "Let’s add the regression line to the scatterplot in Python. \n",
    "\n",
    "\n",
    "`seaborn` has a special plotting function for plotting a scatterplot with regression line included, called `sns.regplot`. \n",
    "\n",
    "Give it a try, the syntax is the same as for `sns.scatterplot`\n"
   ]
  },
  {
   "cell_type": "code",
   "execution_count": 12,
   "id": "8f4480e8",
   "metadata": {
    "tags": []
   },
   "outputs": [
    {
     "data": {
      "image/png": "[encoded data removed]",
      "text/plain": [
       "<Figure size 640x480 with 1 Axes>"
      ]
     },
     "metadata": {},
     "output_type": "display_data"
    }
   ],
   "source": [
    "# your code here for a scatterplot with regression line using sns.regplot\n",
    "sns.regplot(data=happy, x='GDPpc',y='LifeSat')\n",
    "plt.show()"
   ]
  },
  {
   "cell_type": "markdown",
   "id": "ae44d8d4",
   "metadata": {},
   "source": [
    "Eyeballing the scatterplot, how well do you think the regression line fits the data points? Do you think there are any outliers? \n",
    "\n",
    "<font color=red>\n",
    "        \n",
    "* The relationship is non-linear (asyptote at high GDPpc) - so for poor countries, a small increase in GDP translates to a big increase in lifesat\n",
    "    \n",
    "* Many data points are clustered at low GDPpc\n",
    "</font>\n",
    "\n",
    "We can see that several countries with very large GDPs are below the regression line. Also, that many countries with very low GDP are a long way from the regression line. We can examine potential outliers more systematically, by asking Python to calculate residuals (and predicted values) for us."
   ]
  },
  {
   "cell_type": "code",
   "execution_count": 13,
   "id": "c5e7eeaa",
   "metadata": {
    "tags": []
   },
   "outputs": [
    {
     "data": {
      "text/html": [
       "<div>\n",
       "<style scoped>\n",
       "    .dataframe tbody tr th:only-of-type {\n",
       "        vertical-align: middle;\n",
       "    }\n",
       "\n",
       "    .dataframe tbody tr th {\n",
       "        vertical-align: top;\n",
       "    }\n",
       "\n",
       "    .dataframe thead th {\n",
       "        text-align: right;\n",
       "    }\n",
       "</style>\n",
       "<table border=\"1\" class=\"dataframe\">\n",
       "  <thead>\n",
       "    <tr style=\"text-align: right;\">\n",
       "      <th></th>\n",
       "      <th>Country</th>\n",
       "      <th>LifeSat</th>\n",
       "      <th>GDPpc</th>\n",
       "      <th>yhat</th>\n",
       "      <th>resid</th>\n",
       "    </tr>\n",
       "  </thead>\n",
       "  <tbody>\n",
       "    <tr>\n",
       "      <th>0</th>\n",
       "      <td>Afghanistan</td>\n",
       "      <td>2.40</td>\n",
       "      <td>1.97</td>\n",
       "      <td>4.807027</td>\n",
       "      <td>-2.407027</td>\n",
       "    </tr>\n",
       "    <tr>\n",
       "      <th>1</th>\n",
       "      <td>Albania</td>\n",
       "      <td>5.20</td>\n",
       "      <td>13.19</td>\n",
       "      <td>5.245729</td>\n",
       "      <td>-0.045729</td>\n",
       "    </tr>\n",
       "    <tr>\n",
       "      <th>2</th>\n",
       "      <td>Algeria</td>\n",
       "      <td>5.12</td>\n",
       "      <td>10.74</td>\n",
       "      <td>5.149934</td>\n",
       "      <td>-0.029934</td>\n",
       "    </tr>\n",
       "    <tr>\n",
       "      <th>3</th>\n",
       "      <td>American Samoa</td>\n",
       "      <td>NaN</td>\n",
       "      <td>NaN</td>\n",
       "      <td>NaN</td>\n",
       "      <td>NaN</td>\n",
       "    </tr>\n",
       "    <tr>\n",
       "      <th>4</th>\n",
       "      <td>Andorra</td>\n",
       "      <td>NaN</td>\n",
       "      <td>NaN</td>\n",
       "      <td>NaN</td>\n",
       "      <td>NaN</td>\n",
       "    </tr>\n",
       "    <tr>\n",
       "      <th>...</th>\n",
       "      <td>...</td>\n",
       "      <td>...</td>\n",
       "      <td>...</td>\n",
       "      <td>...</td>\n",
       "      <td>...</td>\n",
       "    </tr>\n",
       "    <tr>\n",
       "      <th>233</th>\n",
       "      <td>Western Sahara</td>\n",
       "      <td>NaN</td>\n",
       "      <td>NaN</td>\n",
       "      <td>NaN</td>\n",
       "      <td>NaN</td>\n",
       "    </tr>\n",
       "    <tr>\n",
       "      <th>234</th>\n",
       "      <td>World</td>\n",
       "      <td>NaN</td>\n",
       "      <td>16.19</td>\n",
       "      <td>5.363029</td>\n",
       "      <td>NaN</td>\n",
       "    </tr>\n",
       "    <tr>\n",
       "      <th>235</th>\n",
       "      <td>Yemen</td>\n",
       "      <td>4.20</td>\n",
       "      <td>NaN</td>\n",
       "      <td>NaN</td>\n",
       "      <td>NaN</td>\n",
       "    </tr>\n",
       "    <tr>\n",
       "      <th>236</th>\n",
       "      <td>Zambia</td>\n",
       "      <td>3.76</td>\n",
       "      <td>3.28</td>\n",
       "      <td>4.858248</td>\n",
       "      <td>-1.098248</td>\n",
       "    </tr>\n",
       "    <tr>\n",
       "      <th>237</th>\n",
       "      <td>Zimbabwe</td>\n",
       "      <td>3.00</td>\n",
       "      <td>3.35</td>\n",
       "      <td>4.860985</td>\n",
       "      <td>-1.860985</td>\n",
       "    </tr>\n",
       "  </tbody>\n",
       "</table>\n",
       "<p>238 rows × 5 columns</p>\n",
       "</div>"
      ],
      "text/plain": [
       "            Country  LifeSat  GDPpc      yhat     resid\n",
       "0       Afghanistan     2.40   1.97  4.807027 -2.407027\n",
       "1           Albania     5.20  13.19  5.245729 -0.045729\n",
       "2           Algeria     5.12  10.74  5.149934 -0.029934\n",
       "3    American Samoa      NaN    NaN       NaN       NaN\n",
       "4           Andorra      NaN    NaN       NaN       NaN\n",
       "..              ...      ...    ...       ...       ...\n",
       "233  Western Sahara      NaN    NaN       NaN       NaN\n",
       "234           World      NaN  16.19  5.363029       NaN\n",
       "235           Yemen     4.20    NaN       NaN       NaN\n",
       "236          Zambia     3.76   3.28  4.858248 -1.098248\n",
       "237        Zimbabwe     3.00   3.35  4.860985 -1.860985\n",
       "\n",
       "[238 rows x 5 columns]"
      ]
     },
     "execution_count": 13,
     "metadata": {},
     "output_type": "execute_result"
    }
   ],
   "source": [
    "# Your code here to generate predictions (y-hat) and residuals for each data point.\n",
    "# add them as columns to your dataframe\n",
    "# view the resulting dataframe\n",
    "happy['yhat'] = 4.73 + 0.0391*happy.GDPpc\n",
    "happy['resid']=happy.LifeSat - happy.yhat\n",
    "happy"
   ]
  },
  {
   "cell_type": "markdown",
   "id": "6865f783",
   "metadata": {},
   "source": [
    "### SSE\n",
    "\n",
    "Can you find the sum of squared residuals using an equation?\n",
    "\n",
    "Hint: The code for $x^2$ in Python is `x**2`"
   ]
  },
  {
   "cell_type": "code",
   "execution_count": 14,
   "id": "57e77d10",
   "metadata": {
    "tags": []
   },
   "outputs": [
    {
     "data": {
      "text/plain": [
       "76.086046738647"
      ]
     },
     "execution_count": 14,
     "metadata": {},
     "output_type": "execute_result"
    }
   ],
   "source": [
    "# Your code here for squaring then adding up all the residuals.\n",
    "SSE = np.nansum(happy.resid**2)\n",
    "SSE"
   ]
  },
  {
   "cell_type": "markdown",
   "id": "fa4894d0",
   "metadata": {},
   "source": [
    "* How meaningful is the sum of squared residuals (or “sum of squared error” - SSE)? What does it tell us?\n",
    "    * We know this is the minimized residual. Because this line is fitted using the method of least squares, there is no other line that could fit the data with a lower SSE. \n",
    "\n",
    "The sum of squared residuals is provided by `statsmodels` as `reg_results.ssr` - \n",
    "\n",
    "* check that the sum of squared residuals you calculated matches the output of `reg_results.ssr`\n",
    "\n",
    "\n"
   ]
  },
  {
   "cell_type": "code",
   "execution_count": 15,
   "id": "5a4babd4",
   "metadata": {
    "tags": []
   },
   "outputs": [
    {
     "data": {
      "text/plain": [
       "76.08438406844218"
      ]
     },
     "execution_count": 15,
     "metadata": {},
     "output_type": "execute_result"
    }
   ],
   "source": [
    "# your code here\n",
    "reg_results.ssr"
   ]
  },
  {
   "cell_type": "markdown",
   "id": "5fae21aa-f966-4a4c-b1f8-56949cfb65f4",
   "metadata": {
    "tags": []
   },
   "source": [
    "<font color=red>Yes, the value from `statsmodels` matches the one we calculated</font>"
   ]
  },
  {
   "cell_type": "markdown",
   "id": "2443bc13",
   "metadata": {},
   "source": [
    "### Check datapoints that are not well fit by the model\n",
    "\n",
    "Sort and display the data and find any very large residuals (remember outliers could have a positive or negative residual. Look for both!). Choose the 6 largest residuals (in absolute terms). Which countries are they? Are they in the same region, are they rich or poor? \n",
    "\n",
    "Now change the life satisfaction for these six countries to ‘NaN’ so that we can exclude them from the analysis. Store the data with the excluded outliers with a new name. Then re-run the regression, and the scatterplot with regression line.\n"
   ]
  },
  {
   "cell_type": "code",
   "execution_count": 16,
   "id": "85c40fde",
   "metadata": {
    "tags": []
   },
   "outputs": [
    {
     "data": {
      "text/html": [
       "<div>\n",
       "<style scoped>\n",
       "    .dataframe tbody tr th:only-of-type {\n",
       "        vertical-align: middle;\n",
       "    }\n",
       "\n",
       "    .dataframe tbody tr th {\n",
       "        vertical-align: top;\n",
       "    }\n",
       "\n",
       "    .dataframe thead th {\n",
       "        text-align: right;\n",
       "    }\n",
       "</style>\n",
       "<table border=\"1\" class=\"dataframe\">\n",
       "  <thead>\n",
       "    <tr style=\"text-align: right;\">\n",
       "      <th></th>\n",
       "      <th>Country</th>\n",
       "      <th>LifeSat</th>\n",
       "      <th>GDPpc</th>\n",
       "      <th>yhat</th>\n",
       "      <th>resid</th>\n",
       "    </tr>\n",
       "  </thead>\n",
       "  <tbody>\n",
       "    <tr>\n",
       "      <th>0</th>\n",
       "      <td>Afghanistan</td>\n",
       "      <td>2.40</td>\n",
       "      <td>1.97</td>\n",
       "      <td>4.807027</td>\n",
       "      <td>-2.407027</td>\n",
       "    </tr>\n",
       "    <tr>\n",
       "      <th>115</th>\n",
       "      <td>Lebanon</td>\n",
       "      <td>2.96</td>\n",
       "      <td>11.49</td>\n",
       "      <td>5.179259</td>\n",
       "      <td>-2.219259</td>\n",
       "    </tr>\n",
       "    <tr>\n",
       "      <th>190</th>\n",
       "      <td>Singapore</td>\n",
       "      <td>6.48</td>\n",
       "      <td>93.40</td>\n",
       "      <td>8.381940</td>\n",
       "      <td>-1.901940</td>\n",
       "    </tr>\n",
       "    <tr>\n",
       "      <th>237</th>\n",
       "      <td>Zimbabwe</td>\n",
       "      <td>3.00</td>\n",
       "      <td>3.35</td>\n",
       "      <td>4.860985</td>\n",
       "      <td>-1.860985</td>\n",
       "    </tr>\n",
       "    <tr>\n",
       "      <th>27</th>\n",
       "      <td>Botswana</td>\n",
       "      <td>3.47</td>\n",
       "      <td>14.65</td>\n",
       "      <td>5.302815</td>\n",
       "      <td>-1.832815</td>\n",
       "    </tr>\n",
       "    <tr>\n",
       "      <th>121</th>\n",
       "      <td>Luxembourg</td>\n",
       "      <td>7.40</td>\n",
       "      <td>112.56</td>\n",
       "      <td>9.131096</td>\n",
       "      <td>-1.731096</td>\n",
       "    </tr>\n",
       "    <tr>\n",
       "      <th>175</th>\n",
       "      <td>Rwanda</td>\n",
       "      <td>3.27</td>\n",
       "      <td>2.10</td>\n",
       "      <td>4.812110</td>\n",
       "      <td>-1.542110</td>\n",
       "    </tr>\n",
       "  </tbody>\n",
       "</table>\n",
       "</div>"
      ],
      "text/plain": [
       "         Country  LifeSat   GDPpc      yhat     resid\n",
       "0    Afghanistan     2.40    1.97  4.807027 -2.407027\n",
       "115      Lebanon     2.96   11.49  5.179259 -2.219259\n",
       "190    Singapore     6.48   93.40  8.381940 -1.901940\n",
       "237     Zimbabwe     3.00    3.35  4.860985 -1.860985\n",
       "27      Botswana     3.47   14.65  5.302815 -1.832815\n",
       "121   Luxembourg     7.40  112.56  9.131096 -1.731096\n",
       "175       Rwanda     3.27    2.10  4.812110 -1.542110"
      ]
     },
     "execution_count": 16,
     "metadata": {},
     "output_type": "execute_result"
    }
   ],
   "source": [
    "# your code here!\n",
    "happy.sort_values(by='resid', ascending=True).head(7)"
   ]
  },
  {
   "cell_type": "code",
   "execution_count": 17,
   "id": "5364c6e1-a976-4bd0-bbb5-ff52767072cd",
   "metadata": {
    "tags": []
   },
   "outputs": [
    {
     "data": {
      "text/html": [
       "<div>\n",
       "<style scoped>\n",
       "    .dataframe tbody tr th:only-of-type {\n",
       "        vertical-align: middle;\n",
       "    }\n",
       "\n",
       "    .dataframe tbody tr th {\n",
       "        vertical-align: top;\n",
       "    }\n",
       "\n",
       "    .dataframe thead th {\n",
       "        text-align: right;\n",
       "    }\n",
       "</style>\n",
       "<table border=\"1\" class=\"dataframe\">\n",
       "  <thead>\n",
       "    <tr style=\"text-align: right;\">\n",
       "      <th></th>\n",
       "      <th>Country</th>\n",
       "      <th>LifeSat</th>\n",
       "      <th>GDPpc</th>\n",
       "      <th>yhat</th>\n",
       "      <th>resid</th>\n",
       "    </tr>\n",
       "  </thead>\n",
       "  <tbody>\n",
       "    <tr>\n",
       "      <th>110</th>\n",
       "      <td>Kosovo</td>\n",
       "      <td>6.46</td>\n",
       "      <td>10.71</td>\n",
       "      <td>5.148761</td>\n",
       "      <td>1.311239</td>\n",
       "    </tr>\n",
       "    <tr>\n",
       "      <th>70</th>\n",
       "      <td>Finland</td>\n",
       "      <td>7.82</td>\n",
       "      <td>47.15</td>\n",
       "      <td>6.573565</td>\n",
       "      <td>1.246435</td>\n",
       "    </tr>\n",
       "    <tr>\n",
       "      <th>150</th>\n",
       "      <td>Nicaragua</td>\n",
       "      <td>6.16</td>\n",
       "      <td>5.28</td>\n",
       "      <td>4.936448</td>\n",
       "      <td>1.223552</td>\n",
       "    </tr>\n",
       "    <tr>\n",
       "      <th>85</th>\n",
       "      <td>Guatemala</td>\n",
       "      <td>6.26</td>\n",
       "      <td>8.39</td>\n",
       "      <td>5.058049</td>\n",
       "      <td>1.201951</td>\n",
       "    </tr>\n",
       "    <tr>\n",
       "      <th>101</th>\n",
       "      <td>Israel</td>\n",
       "      <td>7.36</td>\n",
       "      <td>39.06</td>\n",
       "      <td>6.257246</td>\n",
       "      <td>1.102754</td>\n",
       "    </tr>\n",
       "    <tr>\n",
       "      <th>91</th>\n",
       "      <td>Honduras</td>\n",
       "      <td>6.02</td>\n",
       "      <td>5.14</td>\n",
       "      <td>4.930974</td>\n",
       "      <td>1.089026</td>\n",
       "    </tr>\n",
       "  </tbody>\n",
       "</table>\n",
       "</div>"
      ],
      "text/plain": [
       "       Country  LifeSat  GDPpc      yhat     resid\n",
       "110     Kosovo     6.46  10.71  5.148761  1.311239\n",
       "70     Finland     7.82  47.15  6.573565  1.246435\n",
       "150  Nicaragua     6.16   5.28  4.936448  1.223552\n",
       "85   Guatemala     6.26   8.39  5.058049  1.201951\n",
       "101     Israel     7.36  39.06  6.257246  1.102754\n",
       "91    Honduras     6.02   5.14  4.930974  1.089026"
      ]
     },
     "execution_count": 17,
     "metadata": {},
     "output_type": "execute_result"
    }
   ],
   "source": [
    "happy.sort_values(by='resid', ascending=False).head(6)"
   ]
  },
  {
   "cell_type": "code",
   "execution_count": 18,
   "id": "cbb8c9da-37c5-4580-860b-9fee6e17de80",
   "metadata": {},
   "outputs": [
    {
     "ename": "SyntaxError",
     "evalue": "invalid syntax (2347751598.py, line 1)",
     "output_type": "error",
     "traceback": [
      "\u001b[0;36m  Cell \u001b[0;32mIn[18], line 1\u001b[0;36m\u001b[0m\n\u001b[0;31m    <font color=red>The size largest residuals are all negative.\u001b[0m\n\u001b[0m    ^\u001b[0m\n\u001b[0;31mSyntaxError\u001b[0m\u001b[0;31m:\u001b[0m invalid syntax\n"
     ]
    }
   ],
   "source": [
    "<font color=red>The size largest residuals are all negative.\n",
    "\n",
    "Now we exclude them</font>"
   ]
  },
  {
   "cell_type": "code",
   "execution_count": 51,
   "id": "8c942df0-a1de-4867-8f7a-ed5b18036d82",
   "metadata": {
    "tags": []
   },
   "outputs": [
    {
     "data": {
      "text/html": [
       "<div>\n",
       "<style scoped>\n",
       "    .dataframe tbody tr th:only-of-type {\n",
       "        vertical-align: middle;\n",
       "    }\n",
       "\n",
       "    .dataframe tbody tr th {\n",
       "        vertical-align: top;\n",
       "    }\n",
       "\n",
       "    .dataframe thead th {\n",
       "        text-align: right;\n",
       "    }\n",
       "</style>\n",
       "<table border=\"1\" class=\"dataframe\">\n",
       "  <thead>\n",
       "    <tr style=\"text-align: right;\">\n",
       "      <th></th>\n",
       "      <th>Country</th>\n",
       "      <th>LifeSat</th>\n",
       "      <th>GDPpc</th>\n",
       "      <th>resid</th>\n",
       "      <th>yhat</th>\n",
       "    </tr>\n",
       "  </thead>\n",
       "  <tbody>\n",
       "    <tr>\n",
       "      <th>0</th>\n",
       "      <td>Afghanistan</td>\n",
       "      <td>NaN</td>\n",
       "      <td>1.97</td>\n",
       "      <td>-2.407027</td>\n",
       "      <td>4.807027</td>\n",
       "    </tr>\n",
       "    <tr>\n",
       "      <th>115</th>\n",
       "      <td>Lebanon</td>\n",
       "      <td>NaN</td>\n",
       "      <td>11.49</td>\n",
       "      <td>-2.219259</td>\n",
       "      <td>5.179259</td>\n",
       "    </tr>\n",
       "    <tr>\n",
       "      <th>190</th>\n",
       "      <td>Singapore</td>\n",
       "      <td>NaN</td>\n",
       "      <td>93.40</td>\n",
       "      <td>-1.901940</td>\n",
       "      <td>8.381940</td>\n",
       "    </tr>\n",
       "    <tr>\n",
       "      <th>237</th>\n",
       "      <td>Zimbabwe</td>\n",
       "      <td>NaN</td>\n",
       "      <td>3.35</td>\n",
       "      <td>-1.860985</td>\n",
       "      <td>4.860985</td>\n",
       "    </tr>\n",
       "    <tr>\n",
       "      <th>27</th>\n",
       "      <td>Botswana</td>\n",
       "      <td>NaN</td>\n",
       "      <td>14.65</td>\n",
       "      <td>-1.832815</td>\n",
       "      <td>5.302815</td>\n",
       "    </tr>\n",
       "    <tr>\n",
       "      <th>121</th>\n",
       "      <td>Luxembourg</td>\n",
       "      <td>NaN</td>\n",
       "      <td>112.56</td>\n",
       "      <td>-1.731096</td>\n",
       "      <td>9.131096</td>\n",
       "    </tr>\n",
       "    <tr>\n",
       "      <th>175</th>\n",
       "      <td>Rwanda</td>\n",
       "      <td>3.27</td>\n",
       "      <td>2.10</td>\n",
       "      <td>-1.542110</td>\n",
       "      <td>4.812110</td>\n",
       "    </tr>\n",
       "  </tbody>\n",
       "</table>\n",
       "</div>"
      ],
      "text/plain": [
       "         Country  LifeSat   GDPpc     resid      yhat\n",
       "0    Afghanistan      NaN    1.97 -2.407027  4.807027\n",
       "115      Lebanon      NaN   11.49 -2.219259  5.179259\n",
       "190    Singapore      NaN   93.40 -1.901940  8.381940\n",
       "237     Zimbabwe      NaN    3.35 -1.860985  4.860985\n",
       "27      Botswana      NaN   14.65 -1.832815  5.302815\n",
       "121   Luxembourg      NaN  112.56 -1.731096  9.131096\n",
       "175       Rwanda     3.27    2.10 -1.542110  4.812110"
      ]
     },
     "execution_count": 51,
     "metadata": {},
     "output_type": "execute_result"
    }
   ],
   "source": [
    "happy_clean=happy\n",
    "happy_clean.loc[(happy.resid<-1.7),'LifeSat']=np.nan\n",
    "happy_clean.sort_values(by='resid', ascending=True).head(7)"
   ]
  },
  {
   "cell_type": "markdown",
   "id": "1c2256b5",
   "metadata": {},
   "source": [
    "In the new analysis with the six outliers excluded, do your conclusions about the relationship between GDP and life satisfaction change, or stay the same?\n",
    "\n",
    "We will learn more about the assumptions of regression in the next week or two, but looking back at the scatterplot, have you noticed any potential concerns about the model?\n",
    "\n"
   ]
  },
  {
   "cell_type": "markdown",
   "id": "31a6daa9-67f6-46b3-a66e-8734d1f13e3f",
   "metadata": {
    "tags": []
   },
   "source": [
    "<font color=red>We could re-run the regression plot and the regression itself</font>"
   ]
  },
  {
   "cell_type": "code",
   "execution_count": 52,
   "id": "2dc3189d",
   "metadata": {
    "tags": []
   },
   "outputs": [
    {
     "data": {
      "image/png": "[encoded data removed]",
      "text/plain": [
       "<Figure size 640x480 with 1 Axes>"
      ]
     },
     "metadata": {},
     "output_type": "display_data"
    }
   ],
   "source": [
    "# your code here for a scatterplot with regression line using sns.regplot\n",
    "sns.regplot(data=happy_clean, x='GDPpc',y='LifeSat')\n",
    "plt.show()"
   ]
  },
  {
   "cell_type": "code",
   "execution_count": 54,
   "id": "7245ae18-d48f-4bde-8072-c95b32e505b7",
   "metadata": {
    "tags": []
   },
   "outputs": [
    {
     "data": {
      "text/html": [
       "<table class=\"simpletable\">\n",
       "<caption>OLS Regression Results</caption>\n",
       "<tr>\n",
       "  <th>Dep. Variable:</th>         <td>LifeSat</td>     <th>  R-squared:         </th> <td>   0.632</td>\n",
       "</tr>\n",
       "<tr>\n",
       "  <th>Model:</th>                   <td>OLS</td>       <th>  Adj. R-squared:    </th> <td>   0.629</td>\n",
       "</tr>\n",
       "<tr>\n",
       "  <th>Method:</th>             <td>Least Squares</td>  <th>  F-statistic:       </th> <td>   228.2</td>\n",
       "</tr>\n",
       "<tr>\n",
       "  <th>Date:</th>             <td>Tue, 13 Feb 2024</td> <th>  Prob (F-statistic):</th> <td>1.21e-30</td>\n",
       "</tr>\n",
       "<tr>\n",
       "  <th>Time:</th>                 <td>15:31:32</td>     <th>  Log-Likelihood:    </th> <td> -124.49</td>\n",
       "</tr>\n",
       "<tr>\n",
       "  <th>No. Observations:</th>      <td>   135</td>      <th>  AIC:               </th> <td>   253.0</td>\n",
       "</tr>\n",
       "<tr>\n",
       "  <th>Df Residuals:</th>          <td>   133</td>      <th>  BIC:               </th> <td>   258.8</td>\n",
       "</tr>\n",
       "<tr>\n",
       "  <th>Df Model:</th>              <td>     1</td>      <th>                     </th>     <td> </td>   \n",
       "</tr>\n",
       "<tr>\n",
       "  <th>Covariance Type:</th>      <td>nonrobust</td>    <th>                     </th>     <td> </td>   \n",
       "</tr>\n",
       "</table>\n",
       "<table class=\"simpletable\">\n",
       "<tr>\n",
       "      <td></td>         <th>coef</th>     <th>std err</th>      <th>t</th>      <th>P>|t|</th>  <th>[0.025</th>    <th>0.975]</th>  \n",
       "</tr>\n",
       "<tr>\n",
       "  <th>Intercept</th> <td>    4.7369</td> <td>    0.079</td> <td>   60.196</td> <td> 0.000</td> <td>    4.581</td> <td>    4.893</td>\n",
       "</tr>\n",
       "<tr>\n",
       "  <th>GDPpc</th>     <td>    0.0433</td> <td>    0.003</td> <td>   15.107</td> <td> 0.000</td> <td>    0.038</td> <td>    0.049</td>\n",
       "</tr>\n",
       "</table>\n",
       "<table class=\"simpletable\">\n",
       "<tr>\n",
       "  <th>Omnibus:</th>       <td> 5.933</td> <th>  Durbin-Watson:     </th> <td>   2.163</td>\n",
       "</tr>\n",
       "<tr>\n",
       "  <th>Prob(Omnibus):</th> <td> 0.051</td> <th>  Jarque-Bera (JB):  </th> <td>   5.578</td>\n",
       "</tr>\n",
       "<tr>\n",
       "  <th>Skew:</th>          <td>-0.488</td> <th>  Prob(JB):          </th> <td>  0.0615</td>\n",
       "</tr>\n",
       "<tr>\n",
       "  <th>Kurtosis:</th>      <td> 3.195</td> <th>  Cond. No.          </th> <td>    41.0</td>\n",
       "</tr>\n",
       "</table><br/><br/>Notes:<br/>[1] Standard Errors assume that the covariance matrix of the errors is correctly specified."
      ],
      "text/latex": [
       "\\begin{center}\n",
       "\\begin{tabular}{lclc}\n",
       "\\toprule\n",
       "\\textbf{Dep. Variable:}    &     LifeSat      & \\textbf{  R-squared:         } &     0.632   \\\\\n",
       "\\textbf{Model:}            &       OLS        & \\textbf{  Adj. R-squared:    } &     0.629   \\\\\n",
       "\\textbf{Method:}           &  Least Squares   & \\textbf{  F-statistic:       } &     228.2   \\\\\n",
       "\\textbf{Date:}             & Tue, 13 Feb 2024 & \\textbf{  Prob (F-statistic):} &  1.21e-30   \\\\\n",
       "\\textbf{Time:}             &     15:31:32     & \\textbf{  Log-Likelihood:    } &   -124.49   \\\\\n",
       "\\textbf{No. Observations:} &         135      & \\textbf{  AIC:               } &     253.0   \\\\\n",
       "\\textbf{Df Residuals:}     &         133      & \\textbf{  BIC:               } &     258.8   \\\\\n",
       "\\textbf{Df Model:}         &           1      & \\textbf{                     } &             \\\\\n",
       "\\textbf{Covariance Type:}  &    nonrobust     & \\textbf{                     } &             \\\\\n",
       "\\bottomrule\n",
       "\\end{tabular}\n",
       "\\begin{tabular}{lcccccc}\n",
       "                   & \\textbf{coef} & \\textbf{std err} & \\textbf{t} & \\textbf{P$> |$t$|$} & \\textbf{[0.025} & \\textbf{0.975]}  \\\\\n",
       "\\midrule\n",
       "\\textbf{Intercept} &       4.7369  &        0.079     &    60.196  &         0.000        &        4.581    &        4.893     \\\\\n",
       "\\textbf{GDPpc}     &       0.0433  &        0.003     &    15.107  &         0.000        &        0.038    &        0.049     \\\\\n",
       "\\bottomrule\n",
       "\\end{tabular}\n",
       "\\begin{tabular}{lclc}\n",
       "\\textbf{Omnibus:}       &  5.933 & \\textbf{  Durbin-Watson:     } &    2.163  \\\\\n",
       "\\textbf{Prob(Omnibus):} &  0.051 & \\textbf{  Jarque-Bera (JB):  } &    5.578  \\\\\n",
       "\\textbf{Skew:}          & -0.488 & \\textbf{  Prob(JB):          } &   0.0615  \\\\\n",
       "\\textbf{Kurtosis:}      &  3.195 & \\textbf{  Cond. No.          } &     41.0  \\\\\n",
       "\\bottomrule\n",
       "\\end{tabular}\n",
       "%\\caption{OLS Regression Results}\n",
       "\\end{center}\n",
       "\n",
       "Notes: \\newline\n",
       " [1] Standard Errors assume that the covariance matrix of the errors is correctly specified."
      ],
      "text/plain": [
       "<class 'statsmodels.iolib.summary.Summary'>\n",
       "\"\"\"\n",
       "                            OLS Regression Results                            \n",
       "==============================================================================\n",
       "Dep. Variable:                LifeSat   R-squared:                       0.632\n",
       "Model:                            OLS   Adj. R-squared:                  0.629\n",
       "Method:                 Least Squares   F-statistic:                     228.2\n",
       "Date:                Tue, 13 Feb 2024   Prob (F-statistic):           1.21e-30\n",
       "Time:                        15:31:32   Log-Likelihood:                -124.49\n",
       "No. Observations:                 135   AIC:                             253.0\n",
       "Df Residuals:                     133   BIC:                             258.8\n",
       "Df Model:                           1                                         \n",
       "Covariance Type:            nonrobust                                         \n",
       "==============================================================================\n",
       "                 coef    std err          t      P>|t|      [0.025      0.975]\n",
       "------------------------------------------------------------------------------\n",
       "Intercept      4.7369      0.079     60.196      0.000       4.581       4.893\n",
       "GDPpc          0.0433      0.003     15.107      0.000       0.038       0.049\n",
       "==============================================================================\n",
       "Omnibus:                        5.933   Durbin-Watson:                   2.163\n",
       "Prob(Omnibus):                  0.051   Jarque-Bera (JB):                5.578\n",
       "Skew:                          -0.488   Prob(JB):                       0.0615\n",
       "Kurtosis:                       3.195   Cond. No.                         41.0\n",
       "==============================================================================\n",
       "\n",
       "Notes:\n",
       "[1] Standard Errors assume that the covariance matrix of the errors is correctly specified.\n",
       "\"\"\""
      ]
     },
     "execution_count": 54,
     "metadata": {},
     "output_type": "execute_result"
    }
   ],
   "source": [
    "# code for regression model\n",
    "# run the regression model\n",
    "\n",
    "# first we run this line to tell statsmodels where to find the data and the explanatory variables\n",
    "reg_formula = sm.regression.linear_model.OLS.from_formula(data = happy_clean, formula = 'LifeSat ~ GDPpc')\n",
    "\n",
    "# then we run this line to fit the regression (work out the values of intercept and slope)\n",
    "# the output is a structure which we will call reg_results\n",
    "reg_results = reg_formula.fit()\n",
    "\n",
    "# let's view a summary of the regression results\n",
    "reg_results.summary() \n",
    "\n",
    "# note you get a warning message because the dataset is quite small - disregard this"
   ]
  },
  {
   "cell_type": "markdown",
   "id": "d781cf4c-22cd-4be7-b341-c34cdf6bd053",
   "metadata": {
    "tags": []
   },
   "source": [
    "<font color=red>The values of the intercept and slope change but both are still significant.</font>"
   ]
  },
  {
   "cell_type": "code",
   "execution_count": null,
   "id": "e48d98fa-57f8-4e4b-89d4-0116d4c69460",
   "metadata": {},
   "outputs": [],
   "source": []
  },
  {
   "cell_type": "code",
   "execution_count": null,
   "id": "22327c78-4c13-408e-8b07-8c28e365da80",
   "metadata": {},
   "outputs": [],
   "source": []
  }
 ],
 "metadata": {
  "kernelspec": {
   "display_name": "Python 3 (ipykernel)",
   "language": "python",
   "name": "python3"
  },
  "language_info": {
   "codemirror_mode": {
    "name": "ipython",
    "version": 3
   },
   "file_extension": ".py",
   "mimetype": "text/x-python",
   "name": "python",
   "nbconvert_exporter": "python",
   "pygments_lexer": "ipython3",
   "version": "3.11.7"
  }
 },
 "nbformat": 4,
 "nbformat_minor": 5
}