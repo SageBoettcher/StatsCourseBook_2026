{
 "cells": [
  {
   "cell_type": "markdown",
   "id": "8d1a084c-7545-4642-91cf-14fd8f83d5da",
   "metadata": {},
   "source": [
    "# Tutorial Exercises\n",
    "\n",
    "These tutorial exercises are designed to help you prepare for the first assignment.\n",
    "\n",
    "As a researcher, there are two distinct phases to data analysis:\n",
    "\n",
    "* Understanding the dataset yourself - this involves making lots of quick plots and descriptive statistics to\n",
    "    * check for outliers\n",
    "    * find out the data distributions\n",
    "    * look for differences between categories\n",
    "    * look for associations between variables\n",
    "<br>    \n",
    "* Preparing a report for a reader - this involves a focus on readability and the reader\n",
    "    * explain any key features of the dataset \n",
    "    * highlighting key results with descriptive statistics and figures\n",
    "    * figures should be well labelled and tweaked to make your point as clearly as possible\n",
    "    * there should be clear, readable explanatory text\n",
    "    * for most readers/clients, non technical language should be used \n",
    "    * in all cases, jargon should be avoided\n",
    "    \n",
    "In these tutorial exercises, you will complete some guided tasks (and some open-ended ones) to explore the dataset for yourself.\n",
    "\n",
    "For the hand-in assignment, you will produce a report on the same dataset for a specified reader."
   ]
  },
  {
   "cell_type": "markdown",
   "id": "7f4036c7-6c4d-427b-a2ed-16d97cd8786c",
   "metadata": {},
   "source": [
    "## Crime Survey Data\n",
    "\n",
    "We will work with a dataset extracted from the Crime Survey England and Wales 2013.\n",
    "\n",
    "I obtained the data from the UK Data Service, a data repository run by the UK Research Councils. This text is from their introduction to the dataset:\n",
    "\n",
    "*The Crime Survey for England and Wales (CSEW) is a face-to-face victimisation survey in which\n",
    "people resident in households in England and Wales are asked about their experiences of a range of\n",
    "crimes in the 12 months prior to the interview. Respondents to the survey are also asked about their\n",
    "perceptions of crime and attitudes towards crime related issues such as the police and criminal justice\n",
    "system.*\n",
    "\n",
    "The dataset I have given you contains only some of the questions that respondants were asked, containing information about the respondants' individual demographic features, neighbourhood, perceptions of crime and confidence in the police.\n",
    "\n",
    "The brief for the  hand-in report will be to write a short report for the Home Secretary addressing two topics:\n",
    "1. Which groups are the most likely to be victims of crime? and \n",
    "2. What factors affect confidence in policing?, \n",
    "\n",
    "Note that the idea is to write for a generic Home Secretary  - they have responsibility for Law and Order and as a politician are interested in how different sections of the public perceive these issues. You can assume they have no statistical training. However there is no need to accommodate the political attitudes or personal characteristics of any particular Home Secretary.\n",
    "\n",
    "In these preparatory exercises you will play around with the data to try and work out which factors are important predictors of that confidence.\n",
    "\n",
    "I have put my own conclusions at the bottom of this page - this is just to give an idea of the kinds of things you might look at.\n",
    "\n",
    "\n",
    "#### Note\n",
    "\n",
    "The survey was conducted in 2013 in the UK. Events of recent years may have affected the confidence of certain groups in the police; this would not be reflected in the data used here.\n"
   ]
  },
  {
   "cell_type": "markdown",
   "id": "1e439e2d-8e59-423c-b37a-990ed5915955",
   "metadata": {},
   "source": [
    "### Set up Python libraries"
   ]
  },
  {
   "cell_type": "code",
   "execution_count": 1,
   "id": "ed0a4a83-0abd-4806-b6de-a0b4036ef079",
   "metadata": {},
   "outputs": [],
   "source": [
    "# Set-up Python libraries - you need to run this but you don't need to change it\n",
    "import numpy as np\n",
    "import matplotlib.pyplot as plt\n",
    "import scipy.stats as stats\n",
    "import pandas as pd\n",
    "import seaborn as sns\n",
    "sns.set_theme(style='white')\n",
    "import statsmodels.api as sm\n",
    "import statsmodels.formula.api as smf\n",
    "import warnings \n",
    "warnings.simplefilter('ignore', category=FutureWarning)"
   ]
  },
  {
   "cell_type": "markdown",
   "id": "8994a738-8798-4889-805f-a7213a555a0f",
   "metadata": {},
   "source": [
    "### Import the data\n",
    "\n",
    "Download the dataset from Canvas and import them as a dataframe called `crime`"
   ]
  },
  {
   "cell_type": "code",
   "execution_count": 2,
   "id": "7d21c9e2-27bd-43f6-a5c7-e46d472eb658",
   "metadata": {},
   "outputs": [
    {
     "data": {
      "text/html": [
       "<div>\n",
       "<style scoped>\n",
       "    .dataframe tbody tr th:only-of-type {\n",
       "        vertical-align: middle;\n",
       "    }\n",
       "\n",
       "    .dataframe tbody tr th {\n",
       "        vertical-align: top;\n",
       "    }\n",
       "\n",
       "    .dataframe thead th {\n",
       "        text-align: right;\n",
       "    }\n",
       "</style>\n",
       "<table border=\"1\" class=\"dataframe\">\n",
       "  <thead>\n",
       "    <tr style=\"text-align: right;\">\n",
       "      <th></th>\n",
       "      <th>ID</th>\n",
       "      <th>Sex</th>\n",
       "      <th>Age</th>\n",
       "      <th>AgeGroup</th>\n",
       "      <th>EthnicGroup</th>\n",
       "      <th>Education</th>\n",
       "      <th>SES</th>\n",
       "      <th>DeprivationIndex</th>\n",
       "      <th>Victim</th>\n",
       "      <th>confpolice</th>\n",
       "      <th>antisoc</th>\n",
       "    </tr>\n",
       "  </thead>\n",
       "  <tbody>\n",
       "    <tr>\n",
       "      <th>0</th>\n",
       "      <td>135230170.0</td>\n",
       "      <td>Male</td>\n",
       "      <td>45.0</td>\n",
       "      <td>4</td>\n",
       "      <td>White</td>\n",
       "      <td>University</td>\n",
       "      <td>2.0</td>\n",
       "      <td>3.0</td>\n",
       "      <td>0.0</td>\n",
       "      <td>-2.290506</td>\n",
       "      <td>-3.42</td>\n",
       "    </tr>\n",
       "    <tr>\n",
       "      <th>1</th>\n",
       "      <td>135230210.0</td>\n",
       "      <td>Male</td>\n",
       "      <td>28.0</td>\n",
       "      <td>2</td>\n",
       "      <td>White</td>\n",
       "      <td>University</td>\n",
       "      <td>1.0</td>\n",
       "      <td>4.0</td>\n",
       "      <td>0.0</td>\n",
       "      <td>0.349198</td>\n",
       "      <td>0.52</td>\n",
       "    </tr>\n",
       "    <tr>\n",
       "      <th>2</th>\n",
       "      <td>135231010.0</td>\n",
       "      <td>Female</td>\n",
       "      <td>58.0</td>\n",
       "      <td>5</td>\n",
       "      <td>Black or Black British</td>\n",
       "      <td>99</td>\n",
       "      <td>5.0</td>\n",
       "      <td>2.0</td>\n",
       "      <td>0.0</td>\n",
       "      <td>-0.381797</td>\n",
       "      <td>-2.27</td>\n",
       "    </tr>\n",
       "    <tr>\n",
       "      <th>3</th>\n",
       "      <td>135231210.0</td>\n",
       "      <td>Male</td>\n",
       "      <td>70.0</td>\n",
       "      <td>6</td>\n",
       "      <td>Asian or Asian British</td>\n",
       "      <td>GCSE</td>\n",
       "      <td>3.0</td>\n",
       "      <td>4.0</td>\n",
       "      <td>0.0</td>\n",
       "      <td>99.000000</td>\n",
       "      <td>99.00</td>\n",
       "    </tr>\n",
       "    <tr>\n",
       "      <th>4</th>\n",
       "      <td>135233210.0</td>\n",
       "      <td>Female</td>\n",
       "      <td>64.0</td>\n",
       "      <td>5</td>\n",
       "      <td>White</td>\n",
       "      <td>Other</td>\n",
       "      <td>5.0</td>\n",
       "      <td>5.0</td>\n",
       "      <td>0.0</td>\n",
       "      <td>0.613168</td>\n",
       "      <td>-0.84</td>\n",
       "    </tr>\n",
       "    <tr>\n",
       "      <th>...</th>\n",
       "      <td>...</td>\n",
       "      <td>...</td>\n",
       "      <td>...</td>\n",
       "      <td>...</td>\n",
       "      <td>...</td>\n",
       "      <td>...</td>\n",
       "      <td>...</td>\n",
       "      <td>...</td>\n",
       "      <td>...</td>\n",
       "      <td>...</td>\n",
       "      <td>...</td>\n",
       "    </tr>\n",
       "    <tr>\n",
       "      <th>9295</th>\n",
       "      <td>147638210.0</td>\n",
       "      <td>Male</td>\n",
       "      <td>43.0</td>\n",
       "      <td>3</td>\n",
       "      <td>White</td>\n",
       "      <td>University</td>\n",
       "      <td>1.0</td>\n",
       "      <td>99.0</td>\n",
       "      <td>0.0</td>\n",
       "      <td>1.029429</td>\n",
       "      <td>-0.31</td>\n",
       "    </tr>\n",
       "    <tr>\n",
       "      <th>9296</th>\n",
       "      <td>147639090.0</td>\n",
       "      <td>Male</td>\n",
       "      <td>70.0</td>\n",
       "      <td>6</td>\n",
       "      <td>White</td>\n",
       "      <td>99</td>\n",
       "      <td>5.0</td>\n",
       "      <td>99.0</td>\n",
       "      <td>0.0</td>\n",
       "      <td>-1.051876</td>\n",
       "      <td>0.45</td>\n",
       "    </tr>\n",
       "    <tr>\n",
       "      <th>9297</th>\n",
       "      <td>147639130.0</td>\n",
       "      <td>Female</td>\n",
       "      <td>80.0</td>\n",
       "      <td>7</td>\n",
       "      <td>White</td>\n",
       "      <td>99</td>\n",
       "      <td>5.0</td>\n",
       "      <td>99.0</td>\n",
       "      <td>0.0</td>\n",
       "      <td>-0.808211</td>\n",
       "      <td>-0.27</td>\n",
       "    </tr>\n",
       "    <tr>\n",
       "      <th>9298</th>\n",
       "      <td>147639250.0</td>\n",
       "      <td>Male</td>\n",
       "      <td>86.0</td>\n",
       "      <td>7</td>\n",
       "      <td>White</td>\n",
       "      <td>University</td>\n",
       "      <td>1.0</td>\n",
       "      <td>99.0</td>\n",
       "      <td>0.0</td>\n",
       "      <td>-1.711802</td>\n",
       "      <td>0.56</td>\n",
       "    </tr>\n",
       "    <tr>\n",
       "      <th>9299</th>\n",
       "      <td>147639290.0</td>\n",
       "      <td>Male</td>\n",
       "      <td>70.0</td>\n",
       "      <td>6</td>\n",
       "      <td>White</td>\n",
       "      <td>99</td>\n",
       "      <td>2.0</td>\n",
       "      <td>99.0</td>\n",
       "      <td>0.0</td>\n",
       "      <td>0.115685</td>\n",
       "      <td>1.22</td>\n",
       "    </tr>\n",
       "  </tbody>\n",
       "</table>\n",
       "<p>9300 rows × 11 columns</p>\n",
       "</div>"
      ],
      "text/plain": [
       "               ID     Sex   Age  AgeGroup             EthnicGroup   Education  \\\n",
       "0     135230170.0    Male  45.0         4                   White  University   \n",
       "1     135230210.0    Male  28.0         2                   White  University   \n",
       "2     135231010.0  Female  58.0         5  Black or Black British          99   \n",
       "3     135231210.0    Male  70.0         6  Asian or Asian British        GCSE   \n",
       "4     135233210.0  Female  64.0         5                   White       Other   \n",
       "...           ...     ...   ...       ...                     ...         ...   \n",
       "9295  147638210.0    Male  43.0         3                   White  University   \n",
       "9296  147639090.0    Male  70.0         6                   White          99   \n",
       "9297  147639130.0  Female  80.0         7                   White          99   \n",
       "9298  147639250.0    Male  86.0         7                   White  University   \n",
       "9299  147639290.0    Male  70.0         6                   White          99   \n",
       "\n",
       "      SES  DeprivationIndex  Victim  confpolice  antisoc  \n",
       "0     2.0               3.0     0.0   -2.290506    -3.42  \n",
       "1     1.0               4.0     0.0    0.349198     0.52  \n",
       "2     5.0               2.0     0.0   -0.381797    -2.27  \n",
       "3     3.0               4.0     0.0   99.000000    99.00  \n",
       "4     5.0               5.0     0.0    0.613168    -0.84  \n",
       "...   ...               ...     ...         ...      ...  \n",
       "9295  1.0              99.0     0.0    1.029429    -0.31  \n",
       "9296  5.0              99.0     0.0   -1.051876     0.45  \n",
       "9297  5.0              99.0     0.0   -0.808211    -0.27  \n",
       "9298  1.0              99.0     0.0   -1.711802     0.56  \n",
       "9299  2.0              99.0     0.0    0.115685     1.22  \n",
       "\n",
       "[9300 rows x 11 columns]"
      ]
     },
     "execution_count": 2,
     "metadata": {},
     "output_type": "execute_result"
    }
   ],
   "source": [
    "# WARNING! This will only work once you:\n",
    "# download the datafile and \n",
    "# put it in the right place on your computer!\n",
    "crime  = pd.read_csv('../data/CrimeData_2013.csv')\n",
    "crime"
   ]
  },
  {
   "cell_type": "markdown",
   "id": "9ebffd3d-a7f5-4ada-a19d-3a8b78b52837",
   "metadata": {},
   "source": [
    "### Variables in the dataset\n",
    "\n",
    "Information about the respondant and their neighbourhood:\n",
    "\n",
    "* **ID** a unique number for each participant\n",
    "* **Sex**\n",
    "* **Age** in years\n",
    "* **Age Group** ages in 10-year groups\n",
    "* **Ethnic Group** the categories given are the ones recorded in the original survey\n",
    "* **Education** highest level of education completed; modern British qualifications are used as a short hand for any equivalent, for example 'A-Levels' includes any equivalent of completing high school to age 18.\n",
    "* **SES** socio-economic status\n",
    "    * 1. Managerial and professional occs \n",
    "    * 2. Intermediate occs \n",
    "    * 3. Small employers and own account workers \n",
    "    * 4. Lower supervisory and technical occupations \n",
    "    * 5. Semi-routine and routine occupations \n",
    "    * 6. Never worked and long term unemployed \n",
    "    * 7. Full-time students \n",
    "    * 8. Not classified\n",
    "* **Deprivation Index** this is a neighbourhood-level measure of poverty, in qunitiles\n",
    "    * 1 is the most deprived (poorest) 20% of neighbourhoods\n",
    "    * 5 is the least deprived (wealthiest) 20%\n",
    "* **Victim** has the respondant been a victim of crime in the last 12 months?\n",
    "\n",
    "\n",
    "The following variables are **constructed** variables summarizing the respondant's attitudes on the following points:\n",
    "\n",
    "* **confpolice** how confident are you in the policing of your neighbourhood?\n",
    "* **antisoc** how much antisocial behaviour is there in your neighbourhood?\n",
    "  \n",
    "Each variable actually reflects a combination of the respondant's answers to several questions; for example **antisoc** is based on several questions asking about different antisocial behaviours- 'is there vandalism in your neighbourhood', 'are there gangs present in your neighbourhood', 'is there a fly tipping problem in your neighbourhood' etc):\n",
    "\n",
    "\n"
   ]
  },
  {
   "cell_type": "markdown",
   "id": "34efaea3-81ea-4ca5-8a1c-a5b51f22320f",
   "metadata": {},
   "source": [
    "## Check for bad values\n",
    "\n",
    "Are there any outliers of filler values (such as `9999`) in the dataset?\n",
    "* check, and deal with them appropriately\n",
    "\n",
    "I would suggest starting with `df.describe()`"
   ]
  },
  {
   "cell_type": "code",
   "execution_count": 3,
   "id": "e357b86c-b4d0-4f1c-9ab7-cecc3210044d",
   "metadata": {},
   "outputs": [],
   "source": [
    "# Your code here - you may need multiple code blocks in this section"
   ]
  },
  {
   "cell_type": "markdown",
   "id": "55601beb-e224-4014-bfb9-f0ad82004023",
   "metadata": {},
   "source": [
    "### Have we got rid of all the 99's now?\n",
    "\n",
    "We actually haven't. When we checked the dataframe using `df.describe()`, we only checked the numerical variables, but some of the variables coded as strings also have missing values coded as 99.\n",
    "\n",
    "Have a look back at the dataframe and see if you can spot (and remove) them...\n",
    "\n",
    "Let's check what string variables were in the dataframe:"
   ]
  },
  {
   "cell_type": "code",
   "execution_count": 4,
   "id": "66cb1261-3d82-451a-8e7d-dc15889f4788",
   "metadata": {},
   "outputs": [],
   "source": [
    "# Display the dataframe again to remind yourself what string variables there are"
   ]
  },
  {
   "cell_type": "markdown",
   "id": "80d2dde3-ad50-4cd5-b28d-76e6a967c70b",
   "metadata": {},
   "source": [
    "Now we check whether there are any '99's using `df.column.unique()`:"
   ]
  },
  {
   "cell_type": "code",
   "execution_count": 5,
   "id": "93f65b6b-20ae-4513-9531-c0e444b81037",
   "metadata": {
    "scrolled": true
   },
   "outputs": [],
   "source": [
    "# eg print(crime.Sex.unique())"
   ]
  },
  {
   "cell_type": "markdown",
   "id": "57ad0d23-f020-44c9-a5d4-a78e8b1dd433",
   "metadata": {},
   "source": [
    "Now we replace the 99's.\n",
    "\n",
    "**Hint:** the 99's in these strong variables are the string '99', not the number `99`!"
   ]
  },
  {
   "cell_type": "code",
   "execution_count": 6,
   "id": "25670d6f-9a3a-4381-8cc7-79623c84d944",
   "metadata": {},
   "outputs": [],
   "source": [
    "# Your code here"
   ]
  },
  {
   "cell_type": "markdown",
   "id": "926212b6-acd9-4242-805f-27924a72fc37",
   "metadata": {
    "tags": []
   },
   "source": [
    "## Explore the distribution of the variables\n",
    "\n",
    "Now you will explore each variable individually by making suitable graphs. Complete each code block to produce a suitable plot or descriptive statistic. There are no right answers but in each case you should look at what you produced and evaluate whether your learned something from it!"
   ]
  },
  {
   "cell_type": "code",
   "execution_count": 7,
   "id": "b7a65b60-c308-40ef-936c-9559103f2ad5",
   "metadata": {
    "tags": []
   },
   "outputs": [],
   "source": [
    "# Are there more men or women in the sample?"
   ]
  },
  {
   "cell_type": "code",
   "execution_count": 8,
   "id": "602ee46a-2321-40ad-b06a-eeff2d47d74f",
   "metadata": {
    "tags": []
   },
   "outputs": [],
   "source": [
    "# What ages were included in the survey and what is the distribution of respondants' ages?"
   ]
  },
  {
   "cell_type": "code",
   "execution_count": 9,
   "id": "4917d03a-3c0f-4aae-8738-ce432e69e479",
   "metadata": {
    "tags": []
   },
   "outputs": [],
   "source": [
    "# What are the bins used for the variable AgeGroup?\n",
    "# hint: the `hue` argument of sns.histplot can help you here"
   ]
  },
  {
   "cell_type": "code",
   "execution_count": 10,
   "id": "c0fc43a6-f28b-4790-a951-bc4985f274ec",
   "metadata": {
    "tags": []
   },
   "outputs": [],
   "source": [
    "# How many respondants came from each ethnic group?\n",
    "# Hint: you may need to resize the firgue so the x-axis labels are readable\n",
    "# plt.figure(figsize=(12,2))"
   ]
  },
  {
   "cell_type": "code",
   "execution_count": 11,
   "id": "3cb37b7b-0f38-4f45-baef-0a5f7f28607d",
   "metadata": {
    "tags": []
   },
   "outputs": [],
   "source": [
    "# What proportion of respondants have been a victim of crime in the last 12 months?\n",
    "# Hint: `victim` is coded as 1 or 0"
   ]
  },
  {
   "cell_type": "code",
   "execution_count": 12,
   "id": "30423d7f-57f3-4228-a1ec-c648468ef476",
   "metadata": {},
   "outputs": [],
   "source": [
    "# For each of the constructed variables (confpolice and antisoc) plot the distribution\n"
   ]
  },
  {
   "cell_type": "markdown",
   "id": "04e5e962-e275-4c5e-a17d-8a056c387e40",
   "metadata": {},
   "source": [
    "**NOTE -** \n",
    "We note that these variables take positive and negative values\n",
    "\n",
    "* For confidence in the police there is a strong spike around zero (many people have a neutral attitude - or are they disengaged or have no experience with the police? - later we will break this down by victims/non victims) - there is also a strong positive tail\n",
    "* For perceptions of 'antisocial behaviour in my neighbourhood' there is a strong positive tail - could it depend on neighbourhood characteristics?\n"
   ]
  },
  {
   "cell_type": "code",
   "execution_count": 13,
   "id": "899050d7-de3e-4971-a290-3f6e753f8003",
   "metadata": {},
   "outputs": [
    {
     "data": {
      "text/plain": [
       "0.1394095893261098"
      ]
     },
     "execution_count": 13,
     "metadata": {},
     "output_type": "execute_result"
    }
   ],
   "source": [
    "# Is there a correlation between people's experience of antisocial behaviour, and their confidence in the police?\n",
    "crime.confpolice.corr(crime.antisoc)"
   ]
  },
  {
   "cell_type": "code",
   "execution_count": 14,
   "id": "ada4f241-8d76-4e31-abd8-31fc09196a76",
   "metadata": {},
   "outputs": [
    {
     "data": {
      "text/html": [
       "<div>\n",
       "<style scoped>\n",
       "    .dataframe tbody tr th:only-of-type {\n",
       "        vertical-align: middle;\n",
       "    }\n",
       "\n",
       "    .dataframe tbody tr th {\n",
       "        vertical-align: top;\n",
       "    }\n",
       "\n",
       "    .dataframe thead th {\n",
       "        text-align: right;\n",
       "    }\n",
       "</style>\n",
       "<table border=\"1\" class=\"dataframe\">\n",
       "  <thead>\n",
       "    <tr style=\"text-align: right;\">\n",
       "      <th></th>\n",
       "      <th>confpolice</th>\n",
       "      <th>antisoc</th>\n",
       "    </tr>\n",
       "  </thead>\n",
       "  <tbody>\n",
       "    <tr>\n",
       "      <th>mean</th>\n",
       "      <td>6.589355</td>\n",
       "      <td>6.643392</td>\n",
       "    </tr>\n",
       "    <tr>\n",
       "      <th>std</th>\n",
       "      <td>24.696669</td>\n",
       "      <td>24.788734</td>\n",
       "    </tr>\n",
       "  </tbody>\n",
       "</table>\n",
       "</div>"
      ],
      "text/plain": [
       "      confpolice    antisoc\n",
       "mean    6.589355   6.643392\n",
       "std    24.696669  24.788734"
      ]
     },
     "execution_count": 14,
     "metadata": {},
     "output_type": "execute_result"
    }
   ],
   "source": [
    "# For the attitude variables (confpolice and antisoc) what is the mean and standard deviation?\n",
    "# Can you guess how these attitude variables ended up with that mean and standard deviation (think back to the section on standardizing data)?\n",
    "crime.agg({'confpolice':['mean', 'std'], 'antisoc':['mean', 'std']})"
   ]
  },
  {
   "cell_type": "markdown",
   "id": "7a9bc332-0374-45d0-ac52-3deaa4973b59",
   "metadata": {},
   "source": [
    "The means are 1 and the sd is 0 for each - they have been Z-scored. \n",
    "\n"
   ]
  },
  {
   "cell_type": "code",
   "execution_count": 15,
   "id": "e5dc20bb-2a62-4839-9643-a1ecd960a30d",
   "metadata": {
    "tags": []
   },
   "outputs": [
    {
     "data": {
      "text/plain": [
       "ID                  0\n",
       "Sex                 0\n",
       "Age                 0\n",
       "AgeGroup            0\n",
       "EthnicGroup         0\n",
       "Education           0\n",
       "SES                 0\n",
       "DeprivationIndex    0\n",
       "Victim              0\n",
       "confpolice          0\n",
       "antisoc             0\n",
       "dtype: int64"
      ]
     },
     "execution_count": 15,
     "metadata": {},
     "output_type": "execute_result"
    }
   ],
   "source": [
    "# Which variables have a lot of missing data?\n",
    "# HINT use df.isna() and sum()\n",
    "crime.isna().sum()"
   ]
  },
  {
   "cell_type": "markdown",
   "id": "d6497f5a-11fc-4c9f-952f-402db9f91802",
   "metadata": {},
   "source": [
    "## Who is most likely to be a victim of crime?\n",
    "\n",
    "Explore which demographic variables make a difference to the chance of being a victim of crime. Are more men than women victims of crime? etc\n",
    "\n",
    "**HINT** as `Victim` is coded as 1 (if they have been a victim of crime in the past 12 months) and 0 (otherwise), you can obtain the proportion of people who have been a victim by taking the mean value of the column `Victim`.\n",
    "\n",
    "You can also use `sns.barplot()` with the `x` and `hue` arguments to plot the proportion who are victims of crime within each category (each age group, etc).\n"
   ]
  },
  {
   "cell_type": "code",
   "execution_count": 16,
   "id": "e7e2317a-7661-49b7-b0f1-07c4734f266f",
   "metadata": {
    "tags": []
   },
   "outputs": [],
   "source": [
    "# You will add several code blocks here to explore the data"
   ]
  },
  {
   "cell_type": "markdown",
   "id": "dfda59ed-be2c-4ce8-93d1-de326c7ef759",
   "metadata": {},
   "source": [
    "## Disaggregate the data\n",
    "\n",
    "In the lecture we heard that a pattern that holds in one group of respondants may not hold for another group. We can check this by **disaggregating** the data.\n",
    "\n",
    "#### Are students victims of crime because they live in deprived neighbourhoods? \n",
    "\n",
    "Try plotting the proportion of people who are victime of crime broken down by deprivation index (as above), but further broken down by SES\n",
    "\n",
    "**HINT:** Use the `hue` argument to get clusters of bars for each level of SES\n",
    "\n"
   ]
  },
  {
   "cell_type": "code",
   "execution_count": 17,
   "id": "ec9c940d-107d-4476-be23-d663dc88120b",
   "metadata": {
    "tags": []
   },
   "outputs": [],
   "source": [
    "# Your code here"
   ]
  },
  {
   "cell_type": "markdown",
   "id": "9d3b0fee-5835-4515-9f3f-776f240170ff",
   "metadata": {
    "tags": []
   },
   "source": [
    "#### Do the patterns hold for all ethnicities?\n",
    "\n",
    "The proportion of people who are victims of crime falls with age overall.\n",
    "\n",
    "But is this true for all ethnicities?\n",
    "\n",
    "The survey respondants were overwhelmingly white, so even if there was a quite different pattern of victimization in other ethnic groups, when we simply average everyone together this effect would be 'swamped'\n",
    "\n",
    "Try plotting the proportion of people who are victims, broken down by `AgeGroup`, and further broken down by `EthinicGroup`"
   ]
  },
  {
   "cell_type": "code",
   "execution_count": 18,
   "id": "3edd2d5b-f026-4453-b7d8-697b722b66ef",
   "metadata": {},
   "outputs": [],
   "source": [
    "# Your code here"
   ]
  },
  {
   "cell_type": "markdown",
   "id": "7dd27f6c-5dcf-42aa-b0ad-c4258d70a8e4",
   "metadata": {},
   "source": [
    "## Do attitudes differ depending on demographics?\n",
    "\n",
    "Looking at the attitude variables (`confpolice` and `antisoc`), which demographic factors seem to influence these?\n",
    "\n",
    "I found it most helpful to make barplots for each attitude variable, broken down by demographic factors (such as deprivation index or age group). \n",
    "\n",
    "Go ahead and explore the breakdown of `confpolice` and `antisoc` by `AgeGroup`, `EthnicGroup` and `DeprivationIndex`"
   ]
  },
  {
   "cell_type": "markdown",
   "id": "232ff35f-2390-4aae-a53f-c3941bff8793",
   "metadata": {
    "tags": []
   },
   "source": [
    "### Age"
   ]
  },
  {
   "cell_type": "code",
   "execution_count": 19,
   "id": "404ab5cc-7768-49a2-b769-4c3f0608c5b3",
   "metadata": {
    "tags": []
   },
   "outputs": [],
   "source": [
    "# Your code here\n",
    "# Hint: use plt.subplot to create pairs of plots - this keeps things tidy\n"
   ]
  },
  {
   "cell_type": "markdown",
   "id": "128dd98b-8378-460b-885a-9269fff8690b",
   "metadata": {
    "tags": []
   },
   "source": [
    "## Deprivation Index"
   ]
  },
  {
   "cell_type": "code",
   "execution_count": 20,
   "id": "fd1a046d-b116-44e1-a04d-debe53760e6b",
   "metadata": {
    "tags": []
   },
   "outputs": [],
   "source": [
    "# Your code here\n",
    "# Hint: use plt.subplot to create pairs of plots - this keeps things tidy\n"
   ]
  },
  {
   "cell_type": "markdown",
   "id": "c9fd4204-7d1e-4b42-a411-37fe882bbe4a",
   "metadata": {},
   "source": [
    "## Ethnic Group"
   ]
  },
  {
   "cell_type": "code",
   "execution_count": 21,
   "id": "abd31e4e-9cd4-4388-9e19-6247fa6bf2a2",
   "metadata": {},
   "outputs": [],
   "source": [
    "# Your code here\n",
    "# Hint: use plt.subplot to create pairs of plots - this keeps things tidy\n"
   ]
  },
  {
   "cell_type": "markdown",
   "id": "84a96e37-8e45-4485-add8-624e5bc648a9",
   "metadata": {
    "tags": []
   },
   "source": [
    "## Lurking Variables?\n",
    "\n",
    "Earlier we noticed that people who reported higher levels of antisocial behaviour in their neighbourhood also had higher confidence in the police, which is somewhat surprising.\n",
    "\n",
    "Looking at how `confpolice` and `antisoc` vary by `AgeGroup`, can you think of a spurious explanation for this correlation?"
   ]
  },
  {
   "cell_type": "markdown",
   "id": "126f734f-90e5-4b3a-ae5f-7cdefd93c129",
   "metadata": {},
   "source": [
    "## Conclusions\n",
    "\n",
    "Now think about how you might summarize what you have learned from the dataset\n",
    "\n",
    "* who is most likely to be a victim of crime?\n",
    "* who is most likely to report high levels of antisocial behaviour in their neighbourhood?\n",
    "* what factors predict confidence in the police and experience of antisocial behaviour?\n",
    "* what are the limitations of the survey? Are the experiences of all groups equally well documented?"
   ]
  },
  {
   "cell_type": "code",
   "execution_count": null,
   "id": "6b0cc76a-4b33-4017-8d60-e027d57d589d",
   "metadata": {},
   "outputs": [],
   "source": []
  }
 ],
 "metadata": {
  "kernelspec": {
   "display_name": "Python 3 (ipykernel)",
   "language": "python",
   "name": "python3"
  },
  "language_info": {
   "codemirror_mode": {
    "name": "ipython",
    "version": 3
   },
   "file_extension": ".py",
   "mimetype": "text/x-python",
   "name": "python",
   "nbconvert_exporter": "python",
   "pygments_lexer": "ipython3",
   "version": "3.11.7"
  }
 },
 "nbformat": 4,
 "nbformat_minor": 5
}