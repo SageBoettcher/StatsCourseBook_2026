{
 "cells": [
  {
   "cell_type": "markdown",
   "id": "5cfdceec",
   "metadata": {},
   "source": [
    "# Independent samples t-test"
   ]
  },
  {
   "cell_type": "markdown",
   "id": "741220b6",
   "metadata": {},
   "source": [
    "### Set up Python libraries\n",
    "\n",
    "As usual, run the code cell below to import the relevant Python libraries"
   ]
  },
  {
   "cell_type": "code",
   "execution_count": 1,
   "id": "692abf91",
   "metadata": {
    "tags": []
   },
   "outputs": [],
   "source": [
    "# Set-up Python libraries - you need to run this but you don't need to change it\n",
    "import numpy as np\n",
    "import matplotlib.pyplot as plt\n",
    "import scipy.stats as stats\n",
    "import pandas as pd\n",
    "import seaborn as sns\n",
    "sns.set_theme(style='white')\n",
    "import statsmodels.api as sm\n",
    "import statsmodels.formula.api as smf"
   ]
  },
  {
   "cell_type": "markdown",
   "id": "38124844",
   "metadata": {},
   "source": [
    "## Example\n",
    "\n",
    "<img src=\"https://raw.githubusercontent.com/jillxoreilly/StatsCourseBook/main/images/appletree.jpg\" width=30% >\n",
    "\n",
    "\n",
    "Below we have data on the average weight, in grams, of apples from each of 20 apple trees.\n",
    "\n",
    "10 of the trees received MiracleGro fertilizer and the other 10 received Brand X.\n",
    "\n",
    "Test the hypothesis that the trees given MiracleGro produced heavier apples."
   ]
  },
  {
   "cell_type": "markdown",
   "id": "f2ba6e37",
   "metadata": {},
   "source": [
    "### Inspect the data\n",
    "\n",
    "The data are provided in a text (.csv) file.\n",
    "\n",
    "Let's load the data as a Pandas dataframe, and plot them to get a sense for their distribution (is it normal?) and any outliers"
   ]
  },
  {
   "cell_type": "code",
   "execution_count": 2,
   "id": "3f184f9d",
   "metadata": {
    "tags": []
   },
   "outputs": [
    {
     "data": {
      "text/html": [
       "<div>\n",
       "<style scoped>\n",
       "    .dataframe tbody tr th:only-of-type {\n",
       "        vertical-align: middle;\n",
       "    }\n",
       "\n",
       "    .dataframe tbody tr th {\n",
       "        vertical-align: top;\n",
       "    }\n",
       "\n",
       "    .dataframe thead th {\n",
       "        text-align: right;\n",
       "    }\n",
       "</style>\n",
       "<table border=\"1\" class=\"dataframe\">\n",
       "  <thead>\n",
       "    <tr style=\"text-align: right;\">\n",
       "      <th></th>\n",
       "      <th>Fertilizer</th>\n",
       "      <th>meanAppleWeight</th>\n",
       "    </tr>\n",
       "  </thead>\n",
       "  <tbody>\n",
       "    <tr>\n",
       "      <th>0</th>\n",
       "      <td>BrandX</td>\n",
       "      <td>172</td>\n",
       "    </tr>\n",
       "    <tr>\n",
       "      <th>1</th>\n",
       "      <td>BrandX</td>\n",
       "      <td>165</td>\n",
       "    </tr>\n",
       "    <tr>\n",
       "      <th>2</th>\n",
       "      <td>BrandX</td>\n",
       "      <td>175</td>\n",
       "    </tr>\n",
       "    <tr>\n",
       "      <th>3</th>\n",
       "      <td>BrandX</td>\n",
       "      <td>164</td>\n",
       "    </tr>\n",
       "    <tr>\n",
       "      <th>4</th>\n",
       "      <td>BrandX</td>\n",
       "      <td>165</td>\n",
       "    </tr>\n",
       "    <tr>\n",
       "      <th>5</th>\n",
       "      <td>BrandX</td>\n",
       "      <td>157</td>\n",
       "    </tr>\n",
       "    <tr>\n",
       "      <th>6</th>\n",
       "      <td>BrandX</td>\n",
       "      <td>183</td>\n",
       "    </tr>\n",
       "    <tr>\n",
       "      <th>7</th>\n",
       "      <td>BrandX</td>\n",
       "      <td>186</td>\n",
       "    </tr>\n",
       "    <tr>\n",
       "      <th>8</th>\n",
       "      <td>BrandX</td>\n",
       "      <td>191</td>\n",
       "    </tr>\n",
       "    <tr>\n",
       "      <th>9</th>\n",
       "      <td>BrandX</td>\n",
       "      <td>173</td>\n",
       "    </tr>\n",
       "    <tr>\n",
       "      <th>10</th>\n",
       "      <td>MiracleGro</td>\n",
       "      <td>164</td>\n",
       "    </tr>\n",
       "    <tr>\n",
       "      <th>11</th>\n",
       "      <td>MiracleGro</td>\n",
       "      <td>198</td>\n",
       "    </tr>\n",
       "    <tr>\n",
       "      <th>12</th>\n",
       "      <td>MiracleGro</td>\n",
       "      <td>184</td>\n",
       "    </tr>\n",
       "    <tr>\n",
       "      <th>13</th>\n",
       "      <td>MiracleGro</td>\n",
       "      <td>200</td>\n",
       "    </tr>\n",
       "    <tr>\n",
       "      <th>14</th>\n",
       "      <td>MiracleGro</td>\n",
       "      <td>180</td>\n",
       "    </tr>\n",
       "    <tr>\n",
       "      <th>15</th>\n",
       "      <td>MiracleGro</td>\n",
       "      <td>189</td>\n",
       "    </tr>\n",
       "    <tr>\n",
       "      <th>16</th>\n",
       "      <td>MiracleGro</td>\n",
       "      <td>177</td>\n",
       "    </tr>\n",
       "    <tr>\n",
       "      <th>17</th>\n",
       "      <td>MiracleGro</td>\n",
       "      <td>170</td>\n",
       "    </tr>\n",
       "    <tr>\n",
       "      <th>18</th>\n",
       "      <td>MiracleGro</td>\n",
       "      <td>192</td>\n",
       "    </tr>\n",
       "    <tr>\n",
       "      <th>19</th>\n",
       "      <td>MiracleGro</td>\n",
       "      <td>193</td>\n",
       "    </tr>\n",
       "    <tr>\n",
       "      <th>20</th>\n",
       "      <td>MiracleGro</td>\n",
       "      <td>187</td>\n",
       "    </tr>\n",
       "    <tr>\n",
       "      <th>21</th>\n",
       "      <td>MiracleGro</td>\n",
       "      <td>176</td>\n",
       "    </tr>\n",
       "  </tbody>\n",
       "</table>\n",
       "</div>"
      ],
      "text/plain": [
       "    Fertilizer  meanAppleWeight\n",
       "0       BrandX              172\n",
       "1       BrandX              165\n",
       "2       BrandX              175\n",
       "3       BrandX              164\n",
       "4       BrandX              165\n",
       "5       BrandX              157\n",
       "6       BrandX              183\n",
       "7       BrandX              186\n",
       "8       BrandX              191\n",
       "9       BrandX              173\n",
       "10  MiracleGro              164\n",
       "11  MiracleGro              198\n",
       "12  MiracleGro              184\n",
       "13  MiracleGro              200\n",
       "14  MiracleGro              180\n",
       "15  MiracleGro              189\n",
       "16  MiracleGro              177\n",
       "17  MiracleGro              170\n",
       "18  MiracleGro              192\n",
       "19  MiracleGro              193\n",
       "20  MiracleGro              187\n",
       "21  MiracleGro              176"
      ]
     },
     "execution_count": 2,
     "metadata": {},
     "output_type": "execute_result"
    }
   ],
   "source": [
    "# load the data and have a look\n",
    "apples = pd.read_csv('https://raw.githubusercontent.com/jillxoreilly/StatsCourseBook_2024/main/data/AppleWeights.csv')\n",
    "apples"
   ]
  },
  {
   "cell_type": "markdown",
   "id": "4ce8aef6",
   "metadata": {},
   "source": [
    "Let's plot the data and see if they look Normally distributed.\n",
    "\n",
    "As we saw in the session on plotting, a good choice here will be a KDE plot (to get an estimate of the shape of the distribution) and a rug plot (individual data values as the KDE plot is based on only a small sample)"
   ]
  },
  {
   "cell_type": "code",
   "execution_count": 3,
   "id": "5b4ca4f7",
   "metadata": {
    "tags": []
   },
   "outputs": [
    {
     "data": {
      "image/png": "[encoded data removed]",
      "text/plain": [
       "<Figure size 640x480 with 1 Axes>"
      ]
     },
     "metadata": {},
     "output_type": "display_data"
    }
   ],
   "source": [
    "sns.kdeplot(data=apples, x='meanAppleWeight', hue='Fertilizer', fill=True)\n",
    "sns.rugplot(data=apples, x='meanAppleWeight',  hue='Fertilizer', height=0.1)\n",
    "plt.xlabel(\"Mean weight of apples (g)\", fontsize = 12)\n",
    "plt.ylabel(\"Density\", fontsize = 12)\n",
    "\n",
    "plt.show()"
   ]
  },
  {
   "cell_type": "markdown",
   "id": "08178c3d",
   "metadata": {},
   "source": [
    "It looks like both distributions are unimodal but a bit skewed. \n",
    "\n",
    "Typically, it would be hard to say if the data are really non-normal due to the small number \n",
    "of data points (the apparent skew could be a fluke). By default, I would err on the side of caution and use a non-parametric test.\n",
    "\n",
    "However, in this particular case I am confident that the data in each sample are drawn from a normal distribution \n",
    "because each data point represents the mean of a large sample (the weights of all apples on one tree) \n",
    "and such means are always normally distributed due to the Central Limit theorem.\n",
    "There is a video explaining why here.\n",
    "\n",
    "So we can go ahead and use a t-test."
   ]
  },
  {
   "cell_type": "markdown",
   "id": "97b80d53",
   "metadata": {},
   "source": [
    "### Hypotheses\n",
    "\n",
    "$\\mathcal{H_o}$: the mean weight of apples is the same for trees fertilized with MiracleGro and Brand X\n",
    "\n",
    "$\\mathcal{H_a}$: the mean weight of apples is greater for trees fertilized with MiracleGro\n",
    "    \n",
    "This is a one tailed test as the manufacturers of MiracleGro are only looking for an effect in one direction \n",
    "(evidence that MiracleGro is better!)\n",
    "\n",
    "We will test at the $\\alpha = 0.05$ significance level"
   ]
  },
  {
   "cell_type": "markdown",
   "id": "b79fc39f",
   "metadata": {},
   "source": [
    "### Descriptive statistics\n",
    "\n",
    "First, we obtain the relevant desriptive statistics. By relevant, I mean the ones that go into the equation for the t-test:\n",
    "\n",
    "\n",
    "$$ t = \\frac{\\bar{x_1} - \\bar{x_2}}{s \\sqrt{\\frac{1}{n_1}+\\frac{1}{n_2}}} $$\n",
    "\n",
    "This would be the sample means $\\bar{x_1}$ and $\\bar{x_2}$, and the standard deviations for both samples (these feed into the pooled standard deviation $s$) and the sample size $n$.\n",
    "\n",
    "Remember, <tt>apples</tt> is our original Pandas dataframe:"
   ]
  },
  {
   "cell_type": "code",
   "execution_count": 4,
   "id": "4825c72f",
   "metadata": {},
   "outputs": [
    {
     "data": {
      "text/html": [
       "<div>\n",
       "<style scoped>\n",
       "    .dataframe tbody tr th:only-of-type {\n",
       "        vertical-align: middle;\n",
       "    }\n",
       "\n",
       "    .dataframe tbody tr th {\n",
       "        vertical-align: top;\n",
       "    }\n",
       "\n",
       "    .dataframe thead th {\n",
       "        text-align: right;\n",
       "    }\n",
       "</style>\n",
       "<table border=\"1\" class=\"dataframe\">\n",
       "  <thead>\n",
       "    <tr style=\"text-align: right;\">\n",
       "      <th></th>\n",
       "      <th>Fertilizer</th>\n",
       "      <th>meanAppleWeight</th>\n",
       "    </tr>\n",
       "  </thead>\n",
       "  <tbody>\n",
       "    <tr>\n",
       "      <th>0</th>\n",
       "      <td>BrandX</td>\n",
       "      <td>172</td>\n",
       "    </tr>\n",
       "    <tr>\n",
       "      <th>1</th>\n",
       "      <td>BrandX</td>\n",
       "      <td>165</td>\n",
       "    </tr>\n",
       "    <tr>\n",
       "      <th>2</th>\n",
       "      <td>BrandX</td>\n",
       "      <td>175</td>\n",
       "    </tr>\n",
       "    <tr>\n",
       "      <th>3</th>\n",
       "      <td>BrandX</td>\n",
       "      <td>164</td>\n",
       "    </tr>\n",
       "    <tr>\n",
       "      <th>4</th>\n",
       "      <td>BrandX</td>\n",
       "      <td>165</td>\n",
       "    </tr>\n",
       "    <tr>\n",
       "      <th>5</th>\n",
       "      <td>BrandX</td>\n",
       "      <td>157</td>\n",
       "    </tr>\n",
       "    <tr>\n",
       "      <th>6</th>\n",
       "      <td>BrandX</td>\n",
       "      <td>183</td>\n",
       "    </tr>\n",
       "    <tr>\n",
       "      <th>7</th>\n",
       "      <td>BrandX</td>\n",
       "      <td>186</td>\n",
       "    </tr>\n",
       "    <tr>\n",
       "      <th>8</th>\n",
       "      <td>BrandX</td>\n",
       "      <td>191</td>\n",
       "    </tr>\n",
       "    <tr>\n",
       "      <th>9</th>\n",
       "      <td>BrandX</td>\n",
       "      <td>173</td>\n",
       "    </tr>\n",
       "    <tr>\n",
       "      <th>10</th>\n",
       "      <td>MiracleGro</td>\n",
       "      <td>164</td>\n",
       "    </tr>\n",
       "    <tr>\n",
       "      <th>11</th>\n",
       "      <td>MiracleGro</td>\n",
       "      <td>198</td>\n",
       "    </tr>\n",
       "    <tr>\n",
       "      <th>12</th>\n",
       "      <td>MiracleGro</td>\n",
       "      <td>184</td>\n",
       "    </tr>\n",
       "    <tr>\n",
       "      <th>13</th>\n",
       "      <td>MiracleGro</td>\n",
       "      <td>200</td>\n",
       "    </tr>\n",
       "    <tr>\n",
       "      <th>14</th>\n",
       "      <td>MiracleGro</td>\n",
       "      <td>180</td>\n",
       "    </tr>\n",
       "    <tr>\n",
       "      <th>15</th>\n",
       "      <td>MiracleGro</td>\n",
       "      <td>189</td>\n",
       "    </tr>\n",
       "    <tr>\n",
       "      <th>16</th>\n",
       "      <td>MiracleGro</td>\n",
       "      <td>177</td>\n",
       "    </tr>\n",
       "    <tr>\n",
       "      <th>17</th>\n",
       "      <td>MiracleGro</td>\n",
       "      <td>170</td>\n",
       "    </tr>\n",
       "    <tr>\n",
       "      <th>18</th>\n",
       "      <td>MiracleGro</td>\n",
       "      <td>192</td>\n",
       "    </tr>\n",
       "    <tr>\n",
       "      <th>19</th>\n",
       "      <td>MiracleGro</td>\n",
       "      <td>193</td>\n",
       "    </tr>\n",
       "    <tr>\n",
       "      <th>20</th>\n",
       "      <td>MiracleGro</td>\n",
       "      <td>187</td>\n",
       "    </tr>\n",
       "    <tr>\n",
       "      <th>21</th>\n",
       "      <td>MiracleGro</td>\n",
       "      <td>176</td>\n",
       "    </tr>\n",
       "  </tbody>\n",
       "</table>\n",
       "</div>"
      ],
      "text/plain": [
       "    Fertilizer  meanAppleWeight\n",
       "0       BrandX              172\n",
       "1       BrandX              165\n",
       "2       BrandX              175\n",
       "3       BrandX              164\n",
       "4       BrandX              165\n",
       "5       BrandX              157\n",
       "6       BrandX              183\n",
       "7       BrandX              186\n",
       "8       BrandX              191\n",
       "9       BrandX              173\n",
       "10  MiracleGro              164\n",
       "11  MiracleGro              198\n",
       "12  MiracleGro              184\n",
       "13  MiracleGro              200\n",
       "14  MiracleGro              180\n",
       "15  MiracleGro              189\n",
       "16  MiracleGro              177\n",
       "17  MiracleGro              170\n",
       "18  MiracleGro              192\n",
       "19  MiracleGro              193\n",
       "20  MiracleGro              187\n",
       "21  MiracleGro              176"
      ]
     },
     "metadata": {},
     "output_type": "display_data"
    }
   ],
   "source": [
    "display(apples)"
   ]
  },
  {
   "cell_type": "markdown",
   "id": "9f37ee4a",
   "metadata": {},
   "source": [
    "We obtain some commonly used descriptive statistics using the `df.describe()` method in `pandas`"
   ]
  },
  {
   "cell_type": "code",
   "execution_count": 5,
   "id": "3832fb73",
   "metadata": {},
   "outputs": [
    {
     "data": {
      "text/html": [
       "<div>\n",
       "<style scoped>\n",
       "    .dataframe tbody tr th:only-of-type {\n",
       "        vertical-align: middle;\n",
       "    }\n",
       "\n",
       "    .dataframe tbody tr th {\n",
       "        vertical-align: top;\n",
       "    }\n",
       "\n",
       "    .dataframe thead th {\n",
       "        text-align: right;\n",
       "    }\n",
       "</style>\n",
       "<table border=\"1\" class=\"dataframe\">\n",
       "  <thead>\n",
       "    <tr style=\"text-align: right;\">\n",
       "      <th></th>\n",
       "      <th>meanAppleWeight</th>\n",
       "    </tr>\n",
       "  </thead>\n",
       "  <tbody>\n",
       "    <tr>\n",
       "      <th>count</th>\n",
       "      <td>22.000000</td>\n",
       "    </tr>\n",
       "    <tr>\n",
       "      <th>mean</th>\n",
       "      <td>179.136364</td>\n",
       "    </tr>\n",
       "    <tr>\n",
       "      <th>std</th>\n",
       "      <td>12.123552</td>\n",
       "    </tr>\n",
       "    <tr>\n",
       "      <th>min</th>\n",
       "      <td>157.000000</td>\n",
       "    </tr>\n",
       "    <tr>\n",
       "      <th>25%</th>\n",
       "      <td>170.500000</td>\n",
       "    </tr>\n",
       "    <tr>\n",
       "      <th>50%</th>\n",
       "      <td>178.500000</td>\n",
       "    </tr>\n",
       "    <tr>\n",
       "      <th>75%</th>\n",
       "      <td>188.500000</td>\n",
       "    </tr>\n",
       "    <tr>\n",
       "      <th>max</th>\n",
       "      <td>200.000000</td>\n",
       "    </tr>\n",
       "  </tbody>\n",
       "</table>\n",
       "</div>"
      ],
      "text/plain": [
       "       meanAppleWeight\n",
       "count        22.000000\n",
       "mean        179.136364\n",
       "std          12.123552\n",
       "min         157.000000\n",
       "25%         170.500000\n",
       "50%         178.500000\n",
       "75%         188.500000\n",
       "max         200.000000"
      ]
     },
     "execution_count": 5,
     "metadata": {},
     "output_type": "execute_result"
    }
   ],
   "source": [
    "apples.describe()"
   ]
  },
  {
   "cell_type": "markdown",
   "id": "09028ae0",
   "metadata": {},
   "source": [
    "We need the descriptive statistics separately for each fertilizer type. \n",
    "\n",
    "We could use the separate dataframes that we created for plotting, but `pandas` has a handy method called `df.groupby()` that will do the job:"
   ]
  },
  {
   "cell_type": "code",
   "execution_count": 6,
   "id": "3b0c2aae",
   "metadata": {},
   "outputs": [
    {
     "data": {
      "text/html": [
       "<div>\n",
       "<style scoped>\n",
       "    .dataframe tbody tr th:only-of-type {\n",
       "        vertical-align: middle;\n",
       "    }\n",
       "\n",
       "    .dataframe tbody tr th {\n",
       "        vertical-align: top;\n",
       "    }\n",
       "\n",
       "    .dataframe thead tr th {\n",
       "        text-align: left;\n",
       "    }\n",
       "\n",
       "    .dataframe thead tr:last-of-type th {\n",
       "        text-align: right;\n",
       "    }\n",
       "</style>\n",
       "<table border=\"1\" class=\"dataframe\">\n",
       "  <thead>\n",
       "    <tr>\n",
       "      <th></th>\n",
       "      <th colspan=\"8\" halign=\"left\">meanAppleWeight</th>\n",
       "    </tr>\n",
       "    <tr>\n",
       "      <th></th>\n",
       "      <th>count</th>\n",
       "      <th>mean</th>\n",
       "      <th>std</th>\n",
       "      <th>min</th>\n",
       "      <th>25%</th>\n",
       "      <th>50%</th>\n",
       "      <th>75%</th>\n",
       "      <th>max</th>\n",
       "    </tr>\n",
       "    <tr>\n",
       "      <th>Fertilizer</th>\n",
       "      <th></th>\n",
       "      <th></th>\n",
       "      <th></th>\n",
       "      <th></th>\n",
       "      <th></th>\n",
       "      <th></th>\n",
       "      <th></th>\n",
       "      <th></th>\n",
       "    </tr>\n",
       "  </thead>\n",
       "  <tbody>\n",
       "    <tr>\n",
       "      <th>BrandX</th>\n",
       "      <td>10.0</td>\n",
       "      <td>173.100000</td>\n",
       "      <td>10.867382</td>\n",
       "      <td>157.0</td>\n",
       "      <td>165.00</td>\n",
       "      <td>172.5</td>\n",
       "      <td>181.00</td>\n",
       "      <td>191.0</td>\n",
       "    </tr>\n",
       "    <tr>\n",
       "      <th>MiracleGro</th>\n",
       "      <td>12.0</td>\n",
       "      <td>184.166667</td>\n",
       "      <td>11.101460</td>\n",
       "      <td>164.0</td>\n",
       "      <td>176.75</td>\n",
       "      <td>185.5</td>\n",
       "      <td>192.25</td>\n",
       "      <td>200.0</td>\n",
       "    </tr>\n",
       "  </tbody>\n",
       "</table>\n",
       "</div>"
      ],
      "text/plain": [
       "           meanAppleWeight                                               \\\n",
       "                     count        mean        std    min     25%    50%   \n",
       "Fertilizer                                                                \n",
       "BrandX                10.0  173.100000  10.867382  157.0  165.00  172.5   \n",
       "MiracleGro            12.0  184.166667  11.101460  164.0  176.75  185.5   \n",
       "\n",
       "                           \n",
       "               75%    max  \n",
       "Fertilizer                 \n",
       "BrandX      181.00  191.0  \n",
       "MiracleGro  192.25  200.0  "
      ]
     },
     "execution_count": 6,
     "metadata": {},
     "output_type": "execute_result"
    }
   ],
   "source": [
    "apples.groupby([\"Fertilizer\"]).describe()"
   ]
  },
  {
   "cell_type": "markdown",
   "id": "e1c672fd",
   "metadata": {},
   "source": [
    "It does look like the mean weight of apples from the MiracleGro trees is higher, but is the difference statistically significant?"
   ]
  },
  {
   "cell_type": "markdown",
   "id": "255f692a",
   "metadata": {},
   "source": [
    "### Carry out the test\n",
    "\n",
    "We carry out an independent samples t-test using the function <tt>ttest_ind</tt> from <tt>scipy.stats</tt>, here loaded as <tt>stats</tt>"
   ]
  },
  {
   "cell_type": "code",
   "execution_count": 7,
   "id": "744b1ab0",
   "metadata": {
    "tags": []
   },
   "outputs": [
    {
     "data": {
      "text/plain": [
       "TtestResult(statistic=np.float64(2.350347501385599), pvalue=np.float64(0.014564862730138283), df=np.float64(20.0))"
      ]
     },
     "execution_count": 7,
     "metadata": {},
     "output_type": "execute_result"
    }
   ],
   "source": [
    "stats.ttest_ind(apples.query('Fertilizer==\"MiracleGro\"').meanAppleWeight, \n",
    "                apples.query('Fertilizer==\"BrandX\"').meanAppleWeight,\n",
    "                alternative='greater')"
   ]
  },
  {
   "cell_type": "markdown",
   "id": "4dd4feae",
   "metadata": {},
   "source": [
    "The inputs to stats.ttest are the two samples to be compared (the values in the <tt>meanAppleWeight</tt> column from our separated Pandas data frames <tt>apples_BrandX</tt> and <tt>apples_MiracleGro</tt>) \n",
    "and the argument <tt>alternative='greater'</tt>, which tells the computer to run a one tailed test \n",
    "that mean of the first input <tt>apples.MiracleGro</tt> is greater than the second <tt>apples.BrandX</tt>.\n",
    "\n",
    "The outputs are <tt>statistic</tt> ($t=2.35$) and <tt>pvalue</tt> ($p=0.0146$) - if this is less than our $\\alpha$ value 0.5, there is a significant difference.\n",
    "\n",
    "### Degrees of freedom\n",
    "\n",
    "In a scientific write-up we also need to report the degrees of freedom of the test. This tells us how many observations (data-points) the test was based on, corrected for the number of means we had to estimate from the data in order to do the test.\n",
    "\n",
    "In the case of the independent samples t-test $df = n_1 + n_2 - 2$ so in this case, df=(10+12-2)=20 and we can report out test results as:\n",
    "\n",
    "$t(20) = 2.35, p=0.0146$ (one-tailed)\n",
    "\n",
    "### Interpretation\n",
    "\n",
    "Our t value of 2.35 means that the difference in mean apple weights between MiracleGro and BrandX trees is 2.35 times the standard error (where $ SE = s \\sqrt{\\frac{1}{n_1}+\\frac{1}{n_2}}$).\n",
    "\n",
    "Such a large difference (in the expected direction) would occur 0.0146 (1.46%) of the time due to chance if the null hypothesis were true (if MiracleGro was really no better than Brand X), hence the p value of 0.0146.\n",
    "\n",
    "This diagram shows the expected distribution of t-values if the null were true, with our obtained t-value marked:\n",
    "\n",
    "<img src=\"https://raw.githubusercontent.com/jillxoreilly/StatsCourseBook/main/images/ttestApples.png\" width=50% alt=\"There should be a picture of the t-distribution here\" >"
   ]
  },
  {
   "cell_type": "markdown",
   "id": "5f263742",
   "metadata": {},
   "source": [
    "### Draw conclusions\n",
    "\n",
    "As p<0.05 we conclude that the mean weight of apples on trees fertilized with MiracleGro is indeed greater than the mean weight of apples on trees fertilized with Brand X"
   ]
  },
  {
   "cell_type": "markdown",
   "id": "99f1c539",
   "metadata": {},
   "source": [
    "## Write-up \n",
    "<br>\n",
    "\n",
    "<div style = \"    padding-top: 10px;\n",
    "    padding-bottom: 10px;\n",
    "    padding-left: 10px;\n",
    "    padding-right: 10px;\n",
    "    box-shadow: 0px 8px 16px 0px rgba(0,0,0,0.2);\n",
    "    vertical-align: middle;\">\n",
    "    \n",
    "Above, I walked you through how to run the t-test and why we make different choices. \n",
    "    \n",
    "In this section we revisit the analysis, but here we practice writing up our analysis in the correct style for a scientific report. \n",
    "    \n",
    "Replace the XXXs with the correct values!    \n",
    "\n",
    "</div>\n",
    "\n",
    "<br>"
   ]
  },
  {
   "cell_type": "markdown",
   "id": "6f5439f3",
   "metadata": {},
   "source": [
    "    \n",
    "We tested the hypothesis that the mean weight of apples produced by trees fertilized with MiracleGro was higher than for trees fertilized with Brand X.\n",
    "\n",
    "The mean apple weight was measured for each of XX trees fertilized with MiracleGro (mean of mean apple weights over XX trees XXX.Xg, sd of mean apple weights over 100 trees, XXX.Xg) and XX trees fertilized with Brand X (mean over XX trees XXX.Xg, sd XXX.Xg).\n"
   ]
  },
  {
   "cell_type": "code",
   "execution_count": 8,
   "id": "5403735d",
   "metadata": {
    "tags": []
   },
   "outputs": [
    {
     "data": {
      "text/html": [
       "<div>\n",
       "<style scoped>\n",
       "    .dataframe tbody tr th:only-of-type {\n",
       "        vertical-align: middle;\n",
       "    }\n",
       "\n",
       "    .dataframe tbody tr th {\n",
       "        vertical-align: top;\n",
       "    }\n",
       "\n",
       "    .dataframe thead tr th {\n",
       "        text-align: left;\n",
       "    }\n",
       "\n",
       "    .dataframe thead tr:last-of-type th {\n",
       "        text-align: right;\n",
       "    }\n",
       "</style>\n",
       "<table border=\"1\" class=\"dataframe\">\n",
       "  <thead>\n",
       "    <tr>\n",
       "      <th></th>\n",
       "      <th colspan=\"8\" halign=\"left\">meanAppleWeight</th>\n",
       "    </tr>\n",
       "    <tr>\n",
       "      <th></th>\n",
       "      <th>count</th>\n",
       "      <th>mean</th>\n",
       "      <th>std</th>\n",
       "      <th>min</th>\n",
       "      <th>25%</th>\n",
       "      <th>50%</th>\n",
       "      <th>75%</th>\n",
       "      <th>max</th>\n",
       "    </tr>\n",
       "    <tr>\n",
       "      <th>Fertilizer</th>\n",
       "      <th></th>\n",
       "      <th></th>\n",
       "      <th></th>\n",
       "      <th></th>\n",
       "      <th></th>\n",
       "      <th></th>\n",
       "      <th></th>\n",
       "      <th></th>\n",
       "    </tr>\n",
       "  </thead>\n",
       "  <tbody>\n",
       "    <tr>\n",
       "      <th>BrandX</th>\n",
       "      <td>10.0</td>\n",
       "      <td>173.100000</td>\n",
       "      <td>10.867382</td>\n",
       "      <td>157.0</td>\n",
       "      <td>165.00</td>\n",
       "      <td>172.5</td>\n",
       "      <td>181.00</td>\n",
       "      <td>191.0</td>\n",
       "    </tr>\n",
       "    <tr>\n",
       "      <th>MiracleGro</th>\n",
       "      <td>12.0</td>\n",
       "      <td>184.166667</td>\n",
       "      <td>11.101460</td>\n",
       "      <td>164.0</td>\n",
       "      <td>176.75</td>\n",
       "      <td>185.5</td>\n",
       "      <td>192.25</td>\n",
       "      <td>200.0</td>\n",
       "    </tr>\n",
       "  </tbody>\n",
       "</table>\n",
       "</div>"
      ],
      "text/plain": [
       "           meanAppleWeight                                               \\\n",
       "                     count        mean        std    min     25%    50%   \n",
       "Fertilizer                                                                \n",
       "BrandX                10.0  173.100000  10.867382  157.0  165.00  172.5   \n",
       "MiracleGro            12.0  184.166667  11.101460  164.0  176.75  185.5   \n",
       "\n",
       "                           \n",
       "               75%    max  \n",
       "Fertilizer                 \n",
       "BrandX      181.00  191.0  \n",
       "MiracleGro  192.25  200.0  "
      ]
     },
     "execution_count": 8,
     "metadata": {},
     "output_type": "execute_result"
    }
   ],
   "source": [
    "apples = pd.read_csv('https://raw.githubusercontent.com/jillxoreilly/StatsCourseBook_2024/main/data/AppleWeights.csv')\n",
    "apples.groupby([\"Fertilizer\"]).describe()"
   ]
  },
  {
   "cell_type": "markdown",
   "id": "59fd722c",
   "metadata": {},
   "source": [
    "Theoretical considerations suggest that data for each group of trees should be drawn from a normal distribution: as individual data points were themselves the means of large samples (all apples from a given tree), these data points should follow a normal distribubtion due to the Central Limit Theorem. This was supported by a plot of the data:"
   ]
  },
  {
   "cell_type": "code",
   "execution_count": 9,
   "id": "e06d0871",
   "metadata": {
    "tags": []
   },
   "outputs": [
    {
     "data": {
      "image/png": "[encoded data removed]",
      "text/plain": [
       "<Figure size 640x480 with 1 Axes>"
      ]
     },
     "metadata": {},
     "output_type": "display_data"
    }
   ],
   "source": [
    "sns.kdeplot(data=apples, x='meanAppleWeight', hue='Fertilizer', fill=True)\n",
    "sns.rugplot(data=apples, x='meanAppleWeight',  hue='Fertilizer', height=0.1)\n",
    "plt.xlabel(\"Mean weight of apples (g)\", fontsize = 12)\n",
    "plt.ylabel(\"Density\", fontsize = 12)\n",
    "\n",
    "plt.show()"
   ]
  },
  {
   "cell_type": "markdown",
   "id": "6550a8cb",
   "metadata": {},
   "source": [
    "An independent samples t-test was therefore used to compare the means (alpha = XXX, XXX-tailed). "
   ]
  },
  {
   "cell_type": "code",
   "execution_count": 10,
   "id": "36f701e7",
   "metadata": {
    "tags": []
   },
   "outputs": [
    {
     "data": {
      "text/plain": [
       "TtestResult(statistic=np.float64(2.350347501385599), pvalue=np.float64(0.014564862730138283), df=np.float64(20.0))"
      ]
     },
     "execution_count": 10,
     "metadata": {},
     "output_type": "execute_result"
    }
   ],
   "source": [
    "stats.ttest_ind(apples.query('Fertilizer==\"MiracleGro\"').meanAppleWeight, \n",
    "                apples.query('Fertilizer==\"BrandX\"').meanAppleWeight,\n",
    "                alternative='greater')"
   ]
  },
  {
   "cell_type": "markdown",
   "id": "7e5d4dc7",
   "metadata": {},
   "source": [
    "The weight of apples from the trees fertilized with MiracleGro was indeed found to be significantly higher: t(18) = 2.35, p=0.0146."
   ]
  },
  {
   "cell_type": "markdown",
   "id": "6a113d25",
   "metadata": {},
   "source": [
    "## Exercises\n",
    "\n",
    "1. Can you work out how to run a two-tailed test on the data?\n",
    "* Info on the possible values for 'alternative' can be found on the\n",
    "<a href=\"https://docs.scipy.org/doc/scipy/reference/generated/scipy.stats.ttest_ind.html\"> scipy reference page </a>\n",
    "\n",
    "2. What happens to the p value if you run a two tailed test instead of one tailed? Is it more or less significant? Why?"
   ]
  },
  {
   "cell_type": "code",
   "execution_count": null,
   "id": "27c4d091-033f-4a3e-bee7-b464b261487d",
   "metadata": {},
   "outputs": [],
   "source": []
  }
 ],
 "metadata": {
  "kernelspec": {
   "display_name": "Python 3 (ipykernel)",
   "language": "python",
   "name": "python3"
  },
  "language_info": {
   "codemirror_mode": {
    "name": "ipython",
    "version": 3
   },
   "file_extension": ".py",
   "mimetype": "text/x-python",
   "name": "python",
   "nbconvert_exporter": "python",
   "pygments_lexer": "ipython3",
   "version": "3.11.13"
  }
 },
 "nbformat": 4,
 "nbformat_minor": 5
}