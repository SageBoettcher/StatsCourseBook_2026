{
 "cells": [
  {
   "cell_type": "markdown",
   "id": "8752e0fa",
   "metadata": {},
   "source": [
    "# Tutorial Exercises\n",
    "\n",
    "This week's tutorial exercises focus on indexing and obtaining descriptive statistics\n",
    "\n",
    "### Set up Python Libraries\n",
    "\n",
    "As usual you will need to run this code block to import the relevant Python libraries"
   ]
  },
  {
   "cell_type": "code",
   "execution_count": 1,
   "id": "8366c45d",
   "metadata": {},
   "outputs": [],
   "source": [
    "# Set-up Python libraries - you need to run this but you don't need to change it\n",
    "import numpy as np\n",
    "import matplotlib.pyplot as plt\n",
    "import scipy.stats as stats\n",
    "import pandas as pd\n",
    "import seaborn as sns\n",
    "sns.set_theme(style='white')\n",
    "import statsmodels.api as sm\n",
    "import statsmodels.formula.api as smf\n",
    "import warnings \n",
    "warnings.simplefilter('ignore', category=FutureWarning)"
   ]
  },
  {
   "cell_type": "markdown",
   "id": "6bf1597e",
   "metadata": {},
   "source": [
    "### Import a dataset to work with\n",
    "\n",
    "We will work with weather data from the Oxford weather station. This code block will read it automatically from the internet."
   ]
  },
  {
   "cell_type": "code",
   "execution_count": 2,
   "id": "8e80e994",
   "metadata": {},
   "outputs": [
    {
     "data": {
      "text/html": [
       "<div>\n",
       "<style scoped>\n",
       "    .dataframe tbody tr th:only-of-type {\n",
       "        vertical-align: middle;\n",
       "    }\n",
       "\n",
       "    .dataframe tbody tr th {\n",
       "        vertical-align: top;\n",
       "    }\n",
       "\n",
       "    .dataframe thead th {\n",
       "        text-align: right;\n",
       "    }\n",
       "</style>\n",
       "<table border=\"1\" class=\"dataframe\">\n",
       "  <thead>\n",
       "    <tr style=\"text-align: right;\">\n",
       "      <th></th>\n",
       "      <th>YYYY</th>\n",
       "      <th>Month</th>\n",
       "      <th>MM</th>\n",
       "      <th>DD</th>\n",
       "      <th>DD365</th>\n",
       "      <th>Tmax</th>\n",
       "      <th>Tmin</th>\n",
       "      <th>Tmean</th>\n",
       "      <th>Trange</th>\n",
       "      <th>Rainfall_mm</th>\n",
       "    </tr>\n",
       "  </thead>\n",
       "  <tbody>\n",
       "    <tr>\n",
       "      <th>0</th>\n",
       "      <td>1827</td>\n",
       "      <td>Jan</td>\n",
       "      <td>1</td>\n",
       "      <td>1</td>\n",
       "      <td>1</td>\n",
       "      <td>8.3</td>\n",
       "      <td>5.6</td>\n",
       "      <td>7.0</td>\n",
       "      <td>2.7</td>\n",
       "      <td>0.0</td>\n",
       "    </tr>\n",
       "    <tr>\n",
       "      <th>1</th>\n",
       "      <td>1827</td>\n",
       "      <td>Jan</td>\n",
       "      <td>1</td>\n",
       "      <td>2</td>\n",
       "      <td>2</td>\n",
       "      <td>2.2</td>\n",
       "      <td>0.0</td>\n",
       "      <td>1.1</td>\n",
       "      <td>2.2</td>\n",
       "      <td>0.0</td>\n",
       "    </tr>\n",
       "    <tr>\n",
       "      <th>2</th>\n",
       "      <td>1827</td>\n",
       "      <td>Jan</td>\n",
       "      <td>1</td>\n",
       "      <td>3</td>\n",
       "      <td>3</td>\n",
       "      <td>-2.2</td>\n",
       "      <td>-8.3</td>\n",
       "      <td>-5.3</td>\n",
       "      <td>6.1</td>\n",
       "      <td>9.7</td>\n",
       "    </tr>\n",
       "    <tr>\n",
       "      <th>3</th>\n",
       "      <td>1827</td>\n",
       "      <td>Jan</td>\n",
       "      <td>1</td>\n",
       "      <td>4</td>\n",
       "      <td>4</td>\n",
       "      <td>-1.7</td>\n",
       "      <td>-7.8</td>\n",
       "      <td>-4.8</td>\n",
       "      <td>6.1</td>\n",
       "      <td>0.0</td>\n",
       "    </tr>\n",
       "    <tr>\n",
       "      <th>4</th>\n",
       "      <td>1827</td>\n",
       "      <td>Jan</td>\n",
       "      <td>1</td>\n",
       "      <td>5</td>\n",
       "      <td>5</td>\n",
       "      <td>0.0</td>\n",
       "      <td>-10.6</td>\n",
       "      <td>-5.3</td>\n",
       "      <td>10.6</td>\n",
       "      <td>0.0</td>\n",
       "    </tr>\n",
       "    <tr>\n",
       "      <th>...</th>\n",
       "      <td>...</td>\n",
       "      <td>...</td>\n",
       "      <td>...</td>\n",
       "      <td>...</td>\n",
       "      <td>...</td>\n",
       "      <td>...</td>\n",
       "      <td>...</td>\n",
       "      <td>...</td>\n",
       "      <td>...</td>\n",
       "      <td>...</td>\n",
       "    </tr>\n",
       "    <tr>\n",
       "      <th>71338</th>\n",
       "      <td>2022</td>\n",
       "      <td>Apr</td>\n",
       "      <td>4</td>\n",
       "      <td>26</td>\n",
       "      <td>116</td>\n",
       "      <td>15.2</td>\n",
       "      <td>4.1</td>\n",
       "      <td>9.7</td>\n",
       "      <td>11.1</td>\n",
       "      <td>0.0</td>\n",
       "    </tr>\n",
       "    <tr>\n",
       "      <th>71339</th>\n",
       "      <td>2022</td>\n",
       "      <td>Apr</td>\n",
       "      <td>4</td>\n",
       "      <td>27</td>\n",
       "      <td>117</td>\n",
       "      <td>10.7</td>\n",
       "      <td>2.6</td>\n",
       "      <td>6.7</td>\n",
       "      <td>8.1</td>\n",
       "      <td>0.0</td>\n",
       "    </tr>\n",
       "    <tr>\n",
       "      <th>71340</th>\n",
       "      <td>2022</td>\n",
       "      <td>Apr</td>\n",
       "      <td>4</td>\n",
       "      <td>28</td>\n",
       "      <td>118</td>\n",
       "      <td>12.7</td>\n",
       "      <td>3.9</td>\n",
       "      <td>8.3</td>\n",
       "      <td>8.8</td>\n",
       "      <td>0.0</td>\n",
       "    </tr>\n",
       "    <tr>\n",
       "      <th>71341</th>\n",
       "      <td>2022</td>\n",
       "      <td>Apr</td>\n",
       "      <td>4</td>\n",
       "      <td>29</td>\n",
       "      <td>119</td>\n",
       "      <td>11.7</td>\n",
       "      <td>6.7</td>\n",
       "      <td>9.2</td>\n",
       "      <td>5.0</td>\n",
       "      <td>0.0</td>\n",
       "    </tr>\n",
       "    <tr>\n",
       "      <th>71342</th>\n",
       "      <td>2022</td>\n",
       "      <td>Apr</td>\n",
       "      <td>4</td>\n",
       "      <td>30</td>\n",
       "      <td>120</td>\n",
       "      <td>17.6</td>\n",
       "      <td>1.0</td>\n",
       "      <td>9.3</td>\n",
       "      <td>16.6</td>\n",
       "      <td>0.0</td>\n",
       "    </tr>\n",
       "  </tbody>\n",
       "</table>\n",
       "<p>71343 rows × 10 columns</p>\n",
       "</div>"
      ],
      "text/plain": [
       "       YYYY Month  MM  DD  DD365  Tmax  Tmin  Tmean  Trange  Rainfall_mm\n",
       "0      1827   Jan   1   1      1   8.3   5.6    7.0     2.7          0.0\n",
       "1      1827   Jan   1   2      2   2.2   0.0    1.1     2.2          0.0\n",
       "2      1827   Jan   1   3      3  -2.2  -8.3   -5.3     6.1          9.7\n",
       "3      1827   Jan   1   4      4  -1.7  -7.8   -4.8     6.1          0.0\n",
       "4      1827   Jan   1   5      5   0.0 -10.6   -5.3    10.6          0.0\n",
       "...     ...   ...  ..  ..    ...   ...   ...    ...     ...          ...\n",
       "71338  2022   Apr   4  26    116  15.2   4.1    9.7    11.1          0.0\n",
       "71339  2022   Apr   4  27    117  10.7   2.6    6.7     8.1          0.0\n",
       "71340  2022   Apr   4  28    118  12.7   3.9    8.3     8.8          0.0\n",
       "71341  2022   Apr   4  29    119  11.7   6.7    9.2     5.0          0.0\n",
       "71342  2022   Apr   4  30    120  17.6   1.0    9.3    16.6          0.0\n",
       "\n",
       "[71343 rows x 10 columns]"
      ]
     },
     "metadata": {},
     "output_type": "display_data"
    }
   ],
   "source": [
    "weather = pd.read_csv(\"https://raw.githubusercontent.com/jillxoreilly/StatsCourseBook_2024/main/data/OxfordWeather.csv\")\n",
    "display(weather)"
   ]
  },
  {
   "cell_type": "markdown",
   "id": "fe20b066",
   "metadata": {},
   "source": [
    "## Exercises\n",
    "\n",
    "In the following questions, we descriptive statistics and indexing to answer some questions about the weather and climate in Oxford.\n",
    "\n",
    "Where you are asked to calculate a value (such as the mean) rather than output a table, you should **report your answer in words** in the text box below the code block.\n",
    "\n",
    "Where the question asks you to \"comment\", you are simply being asked to engage with the data/ explain what  you notice in plain English. Please discuss with your fellow students and your tutor as this is a really important skill for data analysis.\n",
    "\n",
    "### Part 1: Heat"
   ]
  },
  {
   "cell_type": "markdown",
   "id": "b58c7c95",
   "metadata": {},
   "source": [
    "#### a. What was the hottest temperature on record?\n",
    "\n",
    "Note that the dataset ends in April 2022 and therefore does not include the record heatwave of summer 2022."
   ]
  },
  {
   "cell_type": "code",
   "execution_count": 3,
   "id": "66b09e4b",
   "metadata": {},
   "outputs": [],
   "source": [
    "# Your code here"
   ]
  },
  {
   "cell_type": "markdown",
   "id": "31fe6a75",
   "metadata": {},
   "source": [
    "*Your text here*"
   ]
  },
  {
   "cell_type": "markdown",
   "id": "14c8c66a",
   "metadata": {},
   "source": [
    "#### b. On what date did the hottest temperature occur?\n",
    "\n",
    "Hint: you could use `df.query()` to help you here"
   ]
  },
  {
   "cell_type": "code",
   "execution_count": 4,
   "id": "cd2525c4",
   "metadata": {},
   "outputs": [],
   "source": [
    "# Your code here"
   ]
  },
  {
   "cell_type": "markdown",
   "id": "a9447c85",
   "metadata": {},
   "source": [
    "*Your text here*"
   ]
  },
  {
   "cell_type": "markdown",
   "id": "7b5b2d01",
   "metadata": {},
   "source": [
    "#### c. Display the 10 hottest days on record and comment\n",
    "\n",
    "Hint: you can use `df.sort_values()` and `df.head()` or `df.tail()` to help you here"
   ]
  },
  {
   "cell_type": "code",
   "execution_count": 5,
   "id": "f78e1c16",
   "metadata": {},
   "outputs": [],
   "source": [
    "# Your code here"
   ]
  },
  {
   "cell_type": "markdown",
   "id": "889a28cf",
   "metadata": {},
   "source": [
    "*Your comment here*"
   ]
  },
  {
   "cell_type": "markdown",
   "id": "21f1fef8",
   "metadata": {},
   "source": [
    "#### d. Find the mean of maximum daily temperature (Tmax) for each month and comment\n",
    "\n",
    "Hint: you can use `df.groupby()` to help you here"
   ]
  },
  {
   "cell_type": "code",
   "execution_count": 6,
   "id": "e9599bac",
   "metadata": {},
   "outputs": [],
   "source": [
    "# Your code here"
   ]
  },
  {
   "cell_type": "markdown",
   "id": "f0c017f3",
   "metadata": {},
   "source": [
    "*Your comment here*"
   ]
  },
  {
   "cell_type": "markdown",
   "id": "1cd6748f",
   "metadata": {},
   "source": [
    "#### e. Make a table displaying the mean and standard deviation of Tmax in each month\n",
    "\n",
    "Hint: A combination of `df.agg()` and `df.groupby()` will help you here"
   ]
  },
  {
   "cell_type": "code",
   "execution_count": 7,
   "id": "6c6ff384",
   "metadata": {},
   "outputs": [],
   "source": [
    "# Your code here"
   ]
  },
  {
   "cell_type": "markdown",
   "id": "8702df29",
   "metadata": {},
   "source": [
    "#### e. Make a table displaying the mean of Tmax and Tmin in each month\n",
    "\n",
    "Hint: A combination of `df.agg()` and `df.groupby()` will help you here"
   ]
  },
  {
   "cell_type": "code",
   "execution_count": 8,
   "id": "e2f4e1f2",
   "metadata": {},
   "outputs": [],
   "source": [
    "# Your code here"
   ]
  },
  {
   "cell_type": "markdown",
   "id": "362931b5",
   "metadata": {},
   "source": [
    "### Part 2: Rain"
   ]
  },
  {
   "cell_type": "markdown",
   "id": "14aca7b0",
   "metadata": {},
   "source": [
    "#### a. Run this code block to add a column called <tt>wet</tt> containing a <tt>True</tt> for days on which it rained and <tt>False</tt> otherwise\n",
    "\n",
    "We will practice adding columns in a later session"
   ]
  },
  {
   "cell_type": "code",
   "execution_count": 9,
   "id": "9070c6fb",
   "metadata": {},
   "outputs": [
    {
     "data": {
      "text/html": [
       "<div>\n",
       "<style scoped>\n",
       "    .dataframe tbody tr th:only-of-type {\n",
       "        vertical-align: middle;\n",
       "    }\n",
       "\n",
       "    .dataframe tbody tr th {\n",
       "        vertical-align: top;\n",
       "    }\n",
       "\n",
       "    .dataframe thead th {\n",
       "        text-align: right;\n",
       "    }\n",
       "</style>\n",
       "<table border=\"1\" class=\"dataframe\">\n",
       "  <thead>\n",
       "    <tr style=\"text-align: right;\">\n",
       "      <th></th>\n",
       "      <th>YYYY</th>\n",
       "      <th>Month</th>\n",
       "      <th>MM</th>\n",
       "      <th>DD</th>\n",
       "      <th>DD365</th>\n",
       "      <th>Tmax</th>\n",
       "      <th>Tmin</th>\n",
       "      <th>Tmean</th>\n",
       "      <th>Trange</th>\n",
       "      <th>Rainfall_mm</th>\n",
       "      <th>wet</th>\n",
       "    </tr>\n",
       "  </thead>\n",
       "  <tbody>\n",
       "    <tr>\n",
       "      <th>0</th>\n",
       "      <td>1827</td>\n",
       "      <td>Jan</td>\n",
       "      <td>1</td>\n",
       "      <td>1</td>\n",
       "      <td>1</td>\n",
       "      <td>8.3</td>\n",
       "      <td>5.6</td>\n",
       "      <td>7.0</td>\n",
       "      <td>2.7</td>\n",
       "      <td>0.0</td>\n",
       "      <td>False</td>\n",
       "    </tr>\n",
       "    <tr>\n",
       "      <th>1</th>\n",
       "      <td>1827</td>\n",
       "      <td>Jan</td>\n",
       "      <td>1</td>\n",
       "      <td>2</td>\n",
       "      <td>2</td>\n",
       "      <td>2.2</td>\n",
       "      <td>0.0</td>\n",
       "      <td>1.1</td>\n",
       "      <td>2.2</td>\n",
       "      <td>0.0</td>\n",
       "      <td>False</td>\n",
       "    </tr>\n",
       "    <tr>\n",
       "      <th>2</th>\n",
       "      <td>1827</td>\n",
       "      <td>Jan</td>\n",
       "      <td>1</td>\n",
       "      <td>3</td>\n",
       "      <td>3</td>\n",
       "      <td>-2.2</td>\n",
       "      <td>-8.3</td>\n",
       "      <td>-5.3</td>\n",
       "      <td>6.1</td>\n",
       "      <td>9.7</td>\n",
       "      <td>True</td>\n",
       "    </tr>\n",
       "    <tr>\n",
       "      <th>3</th>\n",
       "      <td>1827</td>\n",
       "      <td>Jan</td>\n",
       "      <td>1</td>\n",
       "      <td>4</td>\n",
       "      <td>4</td>\n",
       "      <td>-1.7</td>\n",
       "      <td>-7.8</td>\n",
       "      <td>-4.8</td>\n",
       "      <td>6.1</td>\n",
       "      <td>0.0</td>\n",
       "      <td>False</td>\n",
       "    </tr>\n",
       "    <tr>\n",
       "      <th>4</th>\n",
       "      <td>1827</td>\n",
       "      <td>Jan</td>\n",
       "      <td>1</td>\n",
       "      <td>5</td>\n",
       "      <td>5</td>\n",
       "      <td>0.0</td>\n",
       "      <td>-10.6</td>\n",
       "      <td>-5.3</td>\n",
       "      <td>10.6</td>\n",
       "      <td>0.0</td>\n",
       "      <td>False</td>\n",
       "    </tr>\n",
       "    <tr>\n",
       "      <th>...</th>\n",
       "      <td>...</td>\n",
       "      <td>...</td>\n",
       "      <td>...</td>\n",
       "      <td>...</td>\n",
       "      <td>...</td>\n",
       "      <td>...</td>\n",
       "      <td>...</td>\n",
       "      <td>...</td>\n",
       "      <td>...</td>\n",
       "      <td>...</td>\n",
       "      <td>...</td>\n",
       "    </tr>\n",
       "    <tr>\n",
       "      <th>71338</th>\n",
       "      <td>2022</td>\n",
       "      <td>Apr</td>\n",
       "      <td>4</td>\n",
       "      <td>26</td>\n",
       "      <td>116</td>\n",
       "      <td>15.2</td>\n",
       "      <td>4.1</td>\n",
       "      <td>9.7</td>\n",
       "      <td>11.1</td>\n",
       "      <td>0.0</td>\n",
       "      <td>False</td>\n",
       "    </tr>\n",
       "    <tr>\n",
       "      <th>71339</th>\n",
       "      <td>2022</td>\n",
       "      <td>Apr</td>\n",
       "      <td>4</td>\n",
       "      <td>27</td>\n",
       "      <td>117</td>\n",
       "      <td>10.7</td>\n",
       "      <td>2.6</td>\n",
       "      <td>6.7</td>\n",
       "      <td>8.1</td>\n",
       "      <td>0.0</td>\n",
       "      <td>False</td>\n",
       "    </tr>\n",
       "    <tr>\n",
       "      <th>71340</th>\n",
       "      <td>2022</td>\n",
       "      <td>Apr</td>\n",
       "      <td>4</td>\n",
       "      <td>28</td>\n",
       "      <td>118</td>\n",
       "      <td>12.7</td>\n",
       "      <td>3.9</td>\n",
       "      <td>8.3</td>\n",
       "      <td>8.8</td>\n",
       "      <td>0.0</td>\n",
       "      <td>False</td>\n",
       "    </tr>\n",
       "    <tr>\n",
       "      <th>71341</th>\n",
       "      <td>2022</td>\n",
       "      <td>Apr</td>\n",
       "      <td>4</td>\n",
       "      <td>29</td>\n",
       "      <td>119</td>\n",
       "      <td>11.7</td>\n",
       "      <td>6.7</td>\n",
       "      <td>9.2</td>\n",
       "      <td>5.0</td>\n",
       "      <td>0.0</td>\n",
       "      <td>False</td>\n",
       "    </tr>\n",
       "    <tr>\n",
       "      <th>71342</th>\n",
       "      <td>2022</td>\n",
       "      <td>Apr</td>\n",
       "      <td>4</td>\n",
       "      <td>30</td>\n",
       "      <td>120</td>\n",
       "      <td>17.6</td>\n",
       "      <td>1.0</td>\n",
       "      <td>9.3</td>\n",
       "      <td>16.6</td>\n",
       "      <td>0.0</td>\n",
       "      <td>False</td>\n",
       "    </tr>\n",
       "  </tbody>\n",
       "</table>\n",
       "<p>71343 rows × 11 columns</p>\n",
       "</div>"
      ],
      "text/plain": [
       "       YYYY Month  MM  DD  DD365  Tmax  Tmin  Tmean  Trange  Rainfall_mm  \\\n",
       "0      1827   Jan   1   1      1   8.3   5.6    7.0     2.7          0.0   \n",
       "1      1827   Jan   1   2      2   2.2   0.0    1.1     2.2          0.0   \n",
       "2      1827   Jan   1   3      3  -2.2  -8.3   -5.3     6.1          9.7   \n",
       "3      1827   Jan   1   4      4  -1.7  -7.8   -4.8     6.1          0.0   \n",
       "4      1827   Jan   1   5      5   0.0 -10.6   -5.3    10.6          0.0   \n",
       "...     ...   ...  ..  ..    ...   ...   ...    ...     ...          ...   \n",
       "71338  2022   Apr   4  26    116  15.2   4.1    9.7    11.1          0.0   \n",
       "71339  2022   Apr   4  27    117  10.7   2.6    6.7     8.1          0.0   \n",
       "71340  2022   Apr   4  28    118  12.7   3.9    8.3     8.8          0.0   \n",
       "71341  2022   Apr   4  29    119  11.7   6.7    9.2     5.0          0.0   \n",
       "71342  2022   Apr   4  30    120  17.6   1.0    9.3    16.6          0.0   \n",
       "\n",
       "         wet  \n",
       "0      False  \n",
       "1      False  \n",
       "2       True  \n",
       "3      False  \n",
       "4      False  \n",
       "...      ...  \n",
       "71338  False  \n",
       "71339  False  \n",
       "71340  False  \n",
       "71341  False  \n",
       "71342  False  \n",
       "\n",
       "[71343 rows x 11 columns]"
      ]
     },
     "execution_count": 9,
     "metadata": {},
     "output_type": "execute_result"
    }
   ],
   "source": [
    "# Your code here\n",
    "weather['wet']=weather.Rainfall_mm>0\n",
    "weather"
   ]
  },
  {
   "cell_type": "markdown",
   "id": "6c973ea7",
   "metadata": {},
   "source": [
    "#### b. What is the proportion of wet days overall?\n",
    "\n",
    "Hint: The values <tt>True</tt> and <tt>False</tt> can be treated as <tt>1</tt> and <tt>0</tt> respectively.\n",
    "    \n",
    "To get the proportion of days on which <tt>wet==True</tt>, we can use a programmming trick which is to simply take the mean of the column <tt>wet</tt>:\n",
    "    \n",
    "* say there are 100 days in my sample\n",
    "    * say 66 of them, <tt>wet==True==1</tt>\n",
    "    * for the other 44, <tt>wet==False==0</tt>\n",
    "* If we take the mean, this gives us the proportion of wet days because we:\n",
    "    * add up all the values (answer=66) \n",
    "    * divide by the number of cases (100)\n",
    "    * result is 66/100 = 0.66 or 66%, the proportion of wet days"
   ]
  },
  {
   "cell_type": "code",
   "execution_count": 10,
   "id": "26baa946",
   "metadata": {},
   "outputs": [
    {
     "data": {
      "text/plain": [
       "0.46311481154423"
      ]
     },
     "execution_count": 10,
     "metadata": {},
     "output_type": "execute_result"
    }
   ],
   "source": [
    "weather.wet.mean()"
   ]
  },
  {
   "cell_type": "markdown",
   "id": "98581de1",
   "metadata": {},
   "source": [
    "*Your text here*"
   ]
  },
  {
   "cell_type": "markdown",
   "id": "096e665d",
   "metadata": {},
   "source": [
    "#### c. What is the proportion of wet days in each month? Comment on your findings\n",
    "\n",
    "Hint: use `df.groupby()`"
   ]
  },
  {
   "cell_type": "code",
   "execution_count": 11,
   "id": "51153a39",
   "metadata": {},
   "outputs": [
    {
     "data": {
      "text/plain": [
       "MM\n",
       "1     0.530941\n",
       "2     0.479046\n",
       "3     0.448321\n",
       "4     0.441156\n",
       "5     0.422829\n",
       "6     0.405128\n",
       "7     0.414723\n",
       "8     0.431596\n",
       "9     0.421538\n",
       "10    0.503722\n",
       "11    0.529231\n",
       "12    0.528536\n",
       "Name: wet, dtype: float64"
      ]
     },
     "execution_count": 11,
     "metadata": {},
     "output_type": "execute_result"
    }
   ],
   "source": [
    "# your code here\n",
    "weather.groupby('MM').wet.mean()"
   ]
  },
  {
   "cell_type": "markdown",
   "id": "f138aeea",
   "metadata": {},
   "source": [
    "*Your comments here*"
   ]
  },
  {
   "cell_type": "markdown",
   "id": "2df8dae1",
   "metadata": {},
   "source": [
    "#### d. What is the mean quantity of rainfall (in mm) in each month? Comment on your findings"
   ]
  },
  {
   "cell_type": "code",
   "execution_count": 12,
   "id": "da4b585b",
   "metadata": {},
   "outputs": [
    {
     "data": {
      "text/plain": [
       "MM\n",
       "1     1.768186\n",
       "2     1.513909\n",
       "3     1.384546\n",
       "4     1.471871\n",
       "5     1.666600\n",
       "6     1.813607\n",
       "7     1.888238\n",
       "8     1.935203\n",
       "9     1.889658\n",
       "10    2.173002\n",
       "11    2.043350\n",
       "12    1.878412\n",
       "Name: Rainfall_mm, dtype: float64"
      ]
     },
     "execution_count": 12,
     "metadata": {},
     "output_type": "execute_result"
    }
   ],
   "source": [
    "# your code here\n",
    "weather.groupby('MM').Rainfall_mm.mean()"
   ]
  },
  {
   "cell_type": "markdown",
   "id": "ff270f70",
   "metadata": {},
   "source": [
    "*Your comment here*"
   ]
  },
  {
   "cell_type": "markdown",
   "id": "621a10d9",
   "metadata": {},
   "source": [
    "#### e. Display the 10 wettest days on record and comment"
   ]
  },
  {
   "cell_type": "code",
   "execution_count": 13,
   "id": "db492ec7",
   "metadata": {},
   "outputs": [
    {
     "data": {
      "text/html": [
       "<div>\n",
       "<style scoped>\n",
       "    .dataframe tbody tr th:only-of-type {\n",
       "        vertical-align: middle;\n",
       "    }\n",
       "\n",
       "    .dataframe tbody tr th {\n",
       "        vertical-align: top;\n",
       "    }\n",
       "\n",
       "    .dataframe thead th {\n",
       "        text-align: right;\n",
       "    }\n",
       "</style>\n",
       "<table border=\"1\" class=\"dataframe\">\n",
       "  <thead>\n",
       "    <tr style=\"text-align: right;\">\n",
       "      <th></th>\n",
       "      <th>YYYY</th>\n",
       "      <th>Month</th>\n",
       "      <th>MM</th>\n",
       "      <th>DD</th>\n",
       "      <th>DD365</th>\n",
       "      <th>Tmax</th>\n",
       "      <th>Tmin</th>\n",
       "      <th>Tmean</th>\n",
       "      <th>Trange</th>\n",
       "      <th>Rainfall_mm</th>\n",
       "      <th>wet</th>\n",
       "    </tr>\n",
       "  </thead>\n",
       "  <tbody>\n",
       "    <tr>\n",
       "      <th>51690</th>\n",
       "      <td>1968</td>\n",
       "      <td>Jul</td>\n",
       "      <td>7</td>\n",
       "      <td>10</td>\n",
       "      <td>192</td>\n",
       "      <td>15.1</td>\n",
       "      <td>12.8</td>\n",
       "      <td>14.0</td>\n",
       "      <td>2.3</td>\n",
       "      <td>87.9</td>\n",
       "      <td>True</td>\n",
       "    </tr>\n",
       "    <tr>\n",
       "      <th>45538</th>\n",
       "      <td>1951</td>\n",
       "      <td>Sep</td>\n",
       "      <td>9</td>\n",
       "      <td>6</td>\n",
       "      <td>249</td>\n",
       "      <td>20.6</td>\n",
       "      <td>16.1</td>\n",
       "      <td>18.4</td>\n",
       "      <td>4.5</td>\n",
       "      <td>84.8</td>\n",
       "      <td>True</td>\n",
       "    </tr>\n",
       "    <tr>\n",
       "      <th>48750</th>\n",
       "      <td>1960</td>\n",
       "      <td>Jun</td>\n",
       "      <td>6</td>\n",
       "      <td>22</td>\n",
       "      <td>174</td>\n",
       "      <td>26.1</td>\n",
       "      <td>12.2</td>\n",
       "      <td>19.2</td>\n",
       "      <td>13.9</td>\n",
       "      <td>81.3</td>\n",
       "      <td>True</td>\n",
       "    </tr>\n",
       "    <tr>\n",
       "      <th>34915</th>\n",
       "      <td>1922</td>\n",
       "      <td>Aug</td>\n",
       "      <td>8</td>\n",
       "      <td>6</td>\n",
       "      <td>219</td>\n",
       "      <td>17.2</td>\n",
       "      <td>8.9</td>\n",
       "      <td>13.1</td>\n",
       "      <td>8.3</td>\n",
       "      <td>70.8</td>\n",
       "      <td>True</td>\n",
       "    </tr>\n",
       "    <tr>\n",
       "      <th>53503</th>\n",
       "      <td>1973</td>\n",
       "      <td>Jun</td>\n",
       "      <td>6</td>\n",
       "      <td>27</td>\n",
       "      <td>178</td>\n",
       "      <td>17.8</td>\n",
       "      <td>12.3</td>\n",
       "      <td>15.1</td>\n",
       "      <td>5.5</td>\n",
       "      <td>67.3</td>\n",
       "      <td>True</td>\n",
       "    </tr>\n",
       "    <tr>\n",
       "      <th>70768</th>\n",
       "      <td>2020</td>\n",
       "      <td>Oct</td>\n",
       "      <td>10</td>\n",
       "      <td>3</td>\n",
       "      <td>277</td>\n",
       "      <td>13.9</td>\n",
       "      <td>11.2</td>\n",
       "      <td>12.6</td>\n",
       "      <td>2.7</td>\n",
       "      <td>60.0</td>\n",
       "      <td>True</td>\n",
       "    </tr>\n",
       "    <tr>\n",
       "      <th>47705</th>\n",
       "      <td>1957</td>\n",
       "      <td>Aug</td>\n",
       "      <td>8</td>\n",
       "      <td>12</td>\n",
       "      <td>224</td>\n",
       "      <td>20.0</td>\n",
       "      <td>15.6</td>\n",
       "      <td>17.8</td>\n",
       "      <td>4.4</td>\n",
       "      <td>56.1</td>\n",
       "      <td>True</td>\n",
       "    </tr>\n",
       "    <tr>\n",
       "      <th>49525</th>\n",
       "      <td>1962</td>\n",
       "      <td>Aug</td>\n",
       "      <td>8</td>\n",
       "      <td>6</td>\n",
       "      <td>218</td>\n",
       "      <td>16.1</td>\n",
       "      <td>10.7</td>\n",
       "      <td>13.4</td>\n",
       "      <td>5.4</td>\n",
       "      <td>53.6</td>\n",
       "      <td>True</td>\n",
       "    </tr>\n",
       "    <tr>\n",
       "      <th>27922</th>\n",
       "      <td>1903</td>\n",
       "      <td>Jun</td>\n",
       "      <td>6</td>\n",
       "      <td>14</td>\n",
       "      <td>165</td>\n",
       "      <td>10.4</td>\n",
       "      <td>6.4</td>\n",
       "      <td>8.4</td>\n",
       "      <td>4.0</td>\n",
       "      <td>51.1</td>\n",
       "      <td>True</td>\n",
       "    </tr>\n",
       "    <tr>\n",
       "      <th>67076</th>\n",
       "      <td>2010</td>\n",
       "      <td>Aug</td>\n",
       "      <td>8</td>\n",
       "      <td>25</td>\n",
       "      <td>237</td>\n",
       "      <td>16.4</td>\n",
       "      <td>11.3</td>\n",
       "      <td>13.9</td>\n",
       "      <td>5.1</td>\n",
       "      <td>51.1</td>\n",
       "      <td>True</td>\n",
       "    </tr>\n",
       "  </tbody>\n",
       "</table>\n",
       "</div>"
      ],
      "text/plain": [
       "       YYYY Month  MM  DD  DD365  Tmax  Tmin  Tmean  Trange  Rainfall_mm   wet\n",
       "51690  1968   Jul   7  10    192  15.1  12.8   14.0     2.3         87.9  True\n",
       "45538  1951   Sep   9   6    249  20.6  16.1   18.4     4.5         84.8  True\n",
       "48750  1960   Jun   6  22    174  26.1  12.2   19.2    13.9         81.3  True\n",
       "34915  1922   Aug   8   6    219  17.2   8.9   13.1     8.3         70.8  True\n",
       "53503  1973   Jun   6  27    178  17.8  12.3   15.1     5.5         67.3  True\n",
       "70768  2020   Oct  10   3    277  13.9  11.2   12.6     2.7         60.0  True\n",
       "47705  1957   Aug   8  12    224  20.0  15.6   17.8     4.4         56.1  True\n",
       "49525  1962   Aug   8   6    218  16.1  10.7   13.4     5.4         53.6  True\n",
       "27922  1903   Jun   6  14    165  10.4   6.4    8.4     4.0         51.1  True\n",
       "67076  2010   Aug   8  25    237  16.4  11.3   13.9     5.1         51.1  True"
      ]
     },
     "execution_count": 13,
     "metadata": {},
     "output_type": "execute_result"
    }
   ],
   "source": [
    "# Your code here\n",
    "weather.sort_values(by='Rainfall_mm', ascending=False).head(10)"
   ]
  },
  {
   "cell_type": "markdown",
   "id": "da7a8e91",
   "metadata": {},
   "source": [
    "*Your comment here*"
   ]
  },
  {
   "cell_type": "markdown",
   "id": "38798a43",
   "metadata": {},
   "source": [
    "#### f. Compare and contrast the different findings in part 2 c,d, and e\n",
    "\n",
    "Different descriptive statistics tell us different things about the same data!"
   ]
  },
  {
   "cell_type": "markdown",
   "id": "62e5de6a",
   "metadata": {},
   "source": [
    "*Your comments here!*"
   ]
  },
  {
   "cell_type": "markdown",
   "id": "21480a01",
   "metadata": {},
   "source": [
    "### Snow\n",
    "\n",
    "#### a. Create a dataframe <tt>WhiteChristmas</tt> containing the weather on Christmas day, for all the years in which there was a White Christmas \n",
    "\n",
    "Hint: we don't have a column telling us when is has snowed, but it is reasonable to assume this happens when the minimum temperature dips below zero, and Rainfall_mm is above zero."
   ]
  },
  {
   "cell_type": "code",
   "execution_count": 14,
   "id": "29ec6741",
   "metadata": {},
   "outputs": [],
   "source": [
    "# Your code here\n",
    "# WhiteChristmas = "
   ]
  },
  {
   "cell_type": "markdown",
   "id": "a00193d2",
   "metadata": {},
   "source": [
    "#### b. Sort the dataframe <tt>WhiteChristmas</tt> by year and comment"
   ]
  },
  {
   "cell_type": "code",
   "execution_count": 15,
   "id": "8bf2da6b",
   "metadata": {},
   "outputs": [],
   "source": [
    "# Your code here"
   ]
  },
  {
   "cell_type": "markdown",
   "id": "f62045b3",
   "metadata": {},
   "source": [
    "*Your comments here*"
   ]
  },
  {
   "cell_type": "markdown",
   "id": "e3656051",
   "metadata": {},
   "source": [
    "#### c. Any issues with our definition of 'snow'?\n",
    "\n",
    "We defined snow as when the <tt>Tmin</tt> falls below zero and Rainfall is non-zero. \n",
    "\n",
    "* Do you think this over- or under- estiamtes the number of snowy days?\n",
    "* Why?"
   ]
  },
  {
   "cell_type": "markdown",
   "id": "bb5a99c8",
   "metadata": {},
   "source": [
    "*Your comments here*"
   ]
  },
  {
   "cell_type": "markdown",
   "id": "5f818f4e",
   "metadata": {},
   "source": [
    "#### d. How common is 'proper' snowfall in Oxford?\n",
    "\n",
    "Let's focus on days with enough snowfall to make at least a tiny snowman! Assume that this happens when TMin is below zero and there is more than 4mm of rainfall \n",
    "\n",
    "* 4mm of rain makes about 5cm of soggy snow in Oxford conditions, although it would make a uch greater depth of powder in a cold dry atmosphere like Utah or Colorado\n",
    "\n",
    "Create a dataframe called <tt>SnowDays</tt> containing only days with enough snow to make a snowman.\n",
    "\n",
    "You can check how often this happened in recent years using `df.tail()`"
   ]
  },
  {
   "cell_type": "code",
   "execution_count": 16,
   "id": "8a3a8710",
   "metadata": {},
   "outputs": [],
   "source": [
    "# Your code here"
   ]
  },
  {
   "cell_type": "markdown",
   "id": "078e4501",
   "metadata": {},
   "source": [
    "*Your comments here*\n",
    "\n"
   ]
  },
  {
   "cell_type": "code",
   "execution_count": null,
   "id": "48af32e3",
   "metadata": {},
   "outputs": [],
   "source": []
  }
 ],
 "metadata": {
  "kernelspec": {
   "display_name": "Python 3 (ipykernel)",
   "language": "python",
   "name": "python3"
  },
  "language_info": {
   "codemirror_mode": {
    "name": "ipython",
    "version": 3
   },
   "file_extension": ".py",
   "mimetype": "text/x-python",
   "name": "python",
   "nbconvert_exporter": "python",
   "pygments_lexer": "ipython3",
   "version": "3.11.7"
  }
 },
 "nbformat": 4,
 "nbformat_minor": 5
}