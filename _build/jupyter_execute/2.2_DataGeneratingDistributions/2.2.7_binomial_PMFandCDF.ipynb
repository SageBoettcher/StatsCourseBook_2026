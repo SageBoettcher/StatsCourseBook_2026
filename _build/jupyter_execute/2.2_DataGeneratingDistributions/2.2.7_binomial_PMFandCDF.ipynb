{
 "cells": [
  {
   "cell_type": "markdown",
   "id": "2300950a",
   "metadata": {},
   "source": [
    "# Binomial PMF and CDF\n",
    "\n",
    "In this chapter we explored how we would simulate a binomial variable ($k$ hits) to work out how often we expect $k$ hits on $n$ trials. This is called a **numerical solution** or **simulation**.\n",
    "\n",
    "There is also an **analytical solution** to calculating the expected number of hits if $k \\sim \\mathcal{B}(n,p)$. This means, there is an equation we can use to work it out. This equation is called the *probability mass function (PMF)*. In this section we introduce the PMF and a related function, the *cumulative density function (CDF)*, for the binomial distribution.\n",
    "\n",
    "In practice, you don't need to use the actual equations yourself, as there are built in functions in `scipy.stats` that do it for you. However it is desirable to understand conceptually where the equations 'come from' (how they are derived), as covered in the lecture. \n",
    "\n",
    "However you may wish to use the PMF (in Python) to get the probability of a certain value of $k$, rather than simulating it.\n",
    "\n",
    "### Analytical vs numerical solutions\n",
    "\n",
    "In this section we see The PMF and CDF are worked out from an equation rather than by random sampling\n",
    "* Therefore the probability values (eg $p(k<=7)$) given by `stats.binom.pmf()` and `stats.binom.cdf()` never change (for given values of $n,p,k$)\n",
    "* In contrast the values given by our simluations (how many random samples $k<=7$) did vary slightly each time we ran our simulation\n",
    "\n",
    "### Set up Python libraries\n",
    "\n",
    "As usual, run the code cell below to import the relevant Python libraries\n",
    "\n"
   ]
  },
  {
   "cell_type": "code",
   "execution_count": 1,
   "id": "3b24b04e",
   "metadata": {
    "tags": []
   },
   "outputs": [],
   "source": [
    "# Set-up Python libraries - you need to run this but you don't need to change it\n",
    "import numpy as np\n",
    "import matplotlib.pyplot as plt\n",
    "import scipy.stats as stats\n",
    "import pandas as pd\n",
    "import seaborn as sns\n",
    "sns.set_theme(style='white')\n",
    "import statsmodels.api as sm\n",
    "import statsmodels.formula.api as smf\n",
    "import warnings \n",
    "warnings.simplefilter('ignore', category=FutureWarning)"
   ]
  },
  {
   "cell_type": "markdown",
   "id": "52695a23-2c40-495b-913d-f702d14e6100",
   "metadata": {},
   "source": [
    "## Binomial PMF\n",
    "\n",
    "The probability mass function (PMF) tells us the probability of obtaining $k$ hits out of $n$ trials.\n",
    "\n",
    "The equation for the binomial PMF is as follows: \n",
    "\n",
    "$$ p(k=K) = C^{n}_{k} p^k q^{n-k} $$ \n",
    "\n",
    "where $p(k=K)$ is the probability of $K$ hits out of $n$ trials, $p$ is the probability of a hit on any given trial, and $q=(1-p)$, and \n",
    "\n",
    "$$ C^{n}_{k} = \\frac{n!}{k! (n-k)!}$$\n",
    "\n",
    "... is an expression that accounts for the fact that a even balance of hits and misses is more likely (as discussed in the lecture)\n",
    "\n",
    "* *Note* unsurprisingly, many people find the notation $p(k=K)$ (which is standard in statistical theory) confusing. In this case $k$ is a *variable* (the number of hits) and $K$ is a specific value of it - so in a coin-tossing example, where we are interested in the chance of getting 8 heads out of 10 tosses, $k$=number of heads and $K$=8; we read $p(k=8)$ as *\"the probability the number of heads is 8\"*\n",
    "\n",
    "### PMF (home-baked)\n",
    "\n",
    "Let's implement the equation for the PDF to get the exact probability that k==8, and compare to the results to the proportion of 10,000 reps in which k==8 (as on the previous worksheet)"
   ]
  },
  {
   "cell_type": "code",
   "execution_count": 2,
   "id": "352ee77f",
   "metadata": {},
   "outputs": [
    {
     "name": "stdout",
     "output_type": "stream",
     "text": [
      "0.0439453125\n"
     ]
    }
   ],
   "source": [
    "# we need the Python library \"math\" for this code block!\n",
    "import math \n",
    "\n",
    "n=10 # values of n, p, k as in previous exercise\n",
    "k=8\n",
    "p=0.5\n",
    "\n",
    "n_choose_k = math.factorial(n) / (math.factorial(k) * math.factorial(n-k))\n",
    "prob_k = ((p)**(k)) * ((1-p)**(n-k)) * n_choose_k \n",
    "print(prob_k)"
   ]
  },
  {
   "cell_type": "markdown",
   "id": "19d397c5",
   "metadata": {},
   "source": [
    "Hopefully this should be roughly the same as the proportion of our 10,000 coin tosses in which k=8 (it wont exactly match, as the simulation was subject to random noise) - let's check!"
   ]
  },
  {
   "cell_type": "code",
   "execution_count": 3,
   "id": "a490bc39-586b-4606-89e2-ce702004f095",
   "metadata": {
    "tags": []
   },
   "outputs": [
    {
     "data": {
      "text/plain": [
       "np.float64(0.0451)"
      ]
     },
     "execution_count": 3,
     "metadata": {},
     "output_type": "execute_result"
    }
   ],
   "source": [
    "k = np.random.binomial(10, 0.5, size=10000)\n",
    "np.mean(k==8)"
   ]
  },
  {
   "cell_type": "markdown",
   "id": "685dddc9",
   "metadata": {},
   "source": [
    "yep, not a bad match!\n",
    "\n",
    "### PMF (built-in function)\n",
    "\n",
    "We can also use a built-in function to give the PDF:"
   ]
  },
  {
   "cell_type": "code",
   "execution_count": 4,
   "id": "e9b7061d",
   "metadata": {
    "tags": []
   },
   "outputs": [
    {
     "data": {
      "text/plain": [
       "np.float64(0.043945312500000076)"
      ]
     },
     "execution_count": 4,
     "metadata": {},
     "output_type": "execute_result"
    }
   ],
   "source": [
    "stats.binom.pmf(8,10,0.5)"
   ]
  },
  {
   "cell_type": "markdown",
   "id": "6e54dbb9",
   "metadata": {},
   "source": [
    "**Comprehension questions**\n",
    "* Can you work out how to change this to get the probability of 7 heads out of 12 coin tosses? "
   ]
  },
  {
   "cell_type": "code",
   "execution_count": 5,
   "id": "b150d184-2aa9-4daf-9b56-8f434bb29bad",
   "metadata": {},
   "outputs": [],
   "source": [
    "# your code here!"
   ]
  },
  {
   "cell_type": "markdown",
   "id": "5445f84e-89f7-43df-874c-32a41508b60c",
   "metadata": {},
   "source": [
    "* Can you change the code so that the probability of heads is 0.75?"
   ]
  },
  {
   "cell_type": "code",
   "execution_count": 6,
   "id": "8603b5c4-b990-4a4d-aa98-52825d2f5eac",
   "metadata": {},
   "outputs": [],
   "source": [
    "# your code here!"
   ]
  },
  {
   "cell_type": "markdown",
   "id": "cacc1831-4d04-49c5-900f-49775f034304",
   "metadata": {},
   "source": [
    "## Binomial CDF\n",
    "\n",
    "The CDF or cumulative distribution function tells us the probability of obtaining *less than or equal to* $k$ hits in $n$ trials\n",
    "\n",
    "As we have seen, we often want to know this *cumulative* value - for example if we want to know if a coin is fair, and have observed 8 heads out of 10 coin tosses, we would ask how likely, with a fair coin, we would  get a value as extreme as $k=8$ *or more so* (because we would still conclude the coin was unfair if we got 9 or 10 heads)."
   ]
  },
  {
   "cell_type": "code",
   "execution_count": 7,
   "id": "7af0900c-3b0b-4c06-bc4b-c0d247974290",
   "metadata": {
    "tags": []
   },
   "outputs": [
    {
     "data": {
      "image/png": "[encoded data removed]",
      "text/plain": [
       "<Figure size 800x400 with 2 Axes>"
      ]
     },
     "metadata": {},
     "output_type": "display_data"
    }
   ],
   "source": [
    "pmf = stats.binom.pmf(range(11),10,0.5)\n",
    "cdf = stats.binom.cdf(range(11),10,0.5)\n",
    "\n",
    "plt.figure(figsize=(8,4))\n",
    "\n",
    "plt.subplot(1,2,1)\n",
    "plt.plot(range(11), pmf, 'k.-')\n",
    "plt.xlabel('k')\n",
    "plt.ylabel('probability of $k$')\n",
    "\n",
    "plt.subplot(1,2,2)\n",
    "plt.plot(range(11), cdf, 'k.-')\n",
    "plt.xlabel('k')\n",
    "plt.ylabel('cumulative probability')\n",
    "\n",
    "\n",
    "plt.tight_layout()\n",
    "plt.show()"
   ]
  },
  {
   "cell_type": "markdown",
   "id": "952a2691",
   "metadata": {},
   "source": [
    "So we have:\n",
    "* PMF(8) is the probability of obtaining exactly 7 heads ie $p(k==8)$\n",
    "* CDF(8) is the probability of obbtaining 8 or fewer heads, ie $p(k<=8)$\n",
    "\n",
    "### Area under the PMF sums to 1\n",
    "\n",
    "Noting that the probabilities of all the possible outcomes must sum to 1, we can also say:\n",
    "* CDF(10) = 1 because we always get 10 or fewer heads in 10 coin tosses\n",
    "\n",
    "The function CDF always gives us the area under the curve to the *left* of a given value, for example CDF(7) gives us $p(k<=7)$.\n",
    "\n",
    "If we want to know the probability of getting *more* than (say) 7 heads, we use the fact that the area under the curve sums to 1, so\n",
    "\n",
    "* $p(k>=8)$ = $1-p(k<8)$ = $1-p(k<=7)$\n",
    "* $p(k>=8)$ = 1-`cdf(7)`    \n",
    "\n",
    "Careful here about `>=` vs `>` etc. Since $k$ only takes integer values:\n",
    "\n",
    "* $p(k<8)$ = $p(k<=7)$\n",
    "and \n",
    "* $p(k>=8)$ = $p(k>7)$\n",
    "\n",
    "the function `stats.binom.cdf(x)` gives us the probability $p(k<=x)$\n",
    "\n",
    "**Comprehension questions**\n",
    "\n",
    "* You will need to choose the correct function (`stats.binom.pmf()` or `stats.binom.cdf()` and the right values of n,p,k to match the numerical answer given in the comments of each cell"
   ]
  },
  {
   "cell_type": "code",
   "execution_count": 8,
   "id": "2ebc2e23-cea4-4c88-8dc1-a7765fbd1834",
   "metadata": {
    "tags": []
   },
   "outputs": [],
   "source": [
    "# Find the probability of exactly 9 heads out of 12 coin tosses, \n",
    "# when the probability of heads is 0.75\n",
    "\n",
    "# answer = 0.2581"
   ]
  },
  {
   "cell_type": "code",
   "execution_count": 9,
   "id": "8fdee16d-9224-4f3c-993a-6931da8d0a62",
   "metadata": {
    "tags": []
   },
   "outputs": [],
   "source": [
    "# Find the probability of exactly 5 tails out of 6 coin tosses, \n",
    "# when the probability of heads is 0.6\n",
    "\n",
    "# answer = 0.0386"
   ]
  },
  {
   "cell_type": "code",
   "execution_count": 10,
   "id": "658185d8-ad02-49eb-86a7-ffe3d9a08b86",
   "metadata": {
    "tags": []
   },
   "outputs": [],
   "source": [
    "# Find the probability of at least 7 heads out of 20 coin tosses, \n",
    "# when the probability of heads is 0.55\n",
    "\n",
    "# answer = 0.9785"
   ]
  },
  {
   "cell_type": "code",
   "execution_count": 11,
   "id": "943c7d2f-8732-4f1e-b555-55ce885a9187",
   "metadata": {
    "tags": []
   },
   "outputs": [],
   "source": [
    "# Find the probability of fewer than 10 heads out of 20 coin tosses, \n",
    "# when the probability of heads is 0.4\n",
    "\n",
    "# answer = 0.7553"
   ]
  },
  {
   "cell_type": "code",
   "execution_count": 12,
   "id": "521c031c-503e-4381-9339-f1e39ffed09e",
   "metadata": {
    "tags": []
   },
   "outputs": [],
   "source": [
    "# Find the probability of more than 10 tails out of 15 coin tosses, \n",
    "# when the probability of heads is 0.3\n",
    "\n",
    "# answer = 0.515"
   ]
  },
  {
   "cell_type": "code",
   "execution_count": null,
   "id": "e5ae4d38",
   "metadata": {},
   "outputs": [],
   "source": []
  }
 ],
 "metadata": {
  "kernelspec": {
   "display_name": "Python 3 (ipykernel)",
   "language": "python",
   "name": "python3"
  },
  "language_info": {
   "codemirror_mode": {
    "name": "ipython",
    "version": 3
   },
   "file_extension": ".py",
   "mimetype": "text/x-python",
   "name": "python",
   "nbconvert_exporter": "python",
   "pygments_lexer": "ipython3",
   "version": "3.11.13"
  }
 },
 "nbformat": 4,
 "nbformat_minor": 5
}