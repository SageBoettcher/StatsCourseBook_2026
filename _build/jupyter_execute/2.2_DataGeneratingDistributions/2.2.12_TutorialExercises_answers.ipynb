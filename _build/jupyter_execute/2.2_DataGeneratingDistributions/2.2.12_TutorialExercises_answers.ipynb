{
 "cells": [
  {
   "cell_type": "markdown",
   "id": "b18ee5b0-18b8-455d-ab86-ef05d13090b3",
   "metadata": {
    "tags": []
   },
   "source": [
    "# Tutorial Exercises\n",
    "\n",
    "Here we explore the relationship between the binomial and normal distributions.\n",
    "\n",
    "The last section looks at the question of how many repetitions we need to make a simulation a good match to the 'ground truth'"
   ]
  },
  {
   "cell_type": "markdown",
   "id": "ee04e88c-6cc2-4333-8118-5024e2106c2e",
   "metadata": {},
   "source": [
    "### Set up Python libraries\n",
    "\n",
    "As usual, run the code cell below to import the relevant Python libraries"
   ]
  },
  {
   "cell_type": "code",
   "execution_count": 1,
   "id": "f4ff8736-d225-4592-b316-b766e9eb4962",
   "metadata": {},
   "outputs": [],
   "source": [
    "# Set-up Python libraries - you need to run this but you don't need to change it\n",
    "import numpy as np\n",
    "import matplotlib.pyplot as plt\n",
    "import scipy.stats as stats\n",
    "import pandas as pd\n",
    "import seaborn as sns\n",
    "sns.set_theme(style='white')\n",
    "import statsmodels.api as sm\n",
    "import statsmodels.formula.api as smf\n",
    "import warnings \n",
    "warnings.simplefilter('ignore', category=FutureWarning)"
   ]
  },
  {
   "cell_type": "markdown",
   "id": "4f371fcf-18fe-4e21-aa8b-b858adf9e0f9",
   "metadata": {},
   "source": [
    "## Recap of Binomial PMF and CDF\n",
    "\n",
    "These questions recap the use of the binomial equation to find the probability of different outcomes when tossing a fair coin multiple times.\n",
    "\n",
    "They are repeated here from a previous section in this chapter.\n",
    "\n",
    "* You will need to choose the correct function (`stats.binom.pmf()` or `stats.binom.cdf()` and the right values of n,p,k to match the numerical answer given in the comments of each cell"
   ]
  },
  {
   "cell_type": "code",
   "execution_count": 2,
   "id": "2ebc2e23-cea4-4c88-8dc1-a7765fbd1834",
   "metadata": {
    "tags": []
   },
   "outputs": [],
   "source": [
    "# Find the probability of exactly 9 heads out of 12 coin tosses, \n",
    "# when the probability of heads is 0.75\n",
    "\n",
    "# answer = 0.2581"
   ]
  },
  {
   "cell_type": "code",
   "execution_count": 3,
   "id": "8fdee16d-9224-4f3c-993a-6931da8d0a62",
   "metadata": {
    "tags": []
   },
   "outputs": [],
   "source": [
    "# Find the probability of exactly 5 tails out of 6 coin tosses, \n",
    "# when the probability of heads is 0.6\n",
    "\n",
    "# answer = 0.0386"
   ]
  },
  {
   "cell_type": "code",
   "execution_count": 4,
   "id": "658185d8-ad02-49eb-86a7-ffe3d9a08b86",
   "metadata": {
    "tags": []
   },
   "outputs": [],
   "source": [
    "# Find the probability of at least 7 heads out of 20 coin tosses, \n",
    "# when the probability of heads is 0.55\n",
    "\n",
    "# answer = 0.9785"
   ]
  },
  {
   "cell_type": "code",
   "execution_count": 5,
   "id": "943c7d2f-8732-4f1e-b555-55ce885a9187",
   "metadata": {
    "tags": []
   },
   "outputs": [],
   "source": [
    "# Find the probability of fewer than 10 heads out of 20 coin tosses, \n",
    "# when the probability of heads is 0.4\n",
    "\n",
    "# answer = 0.7553"
   ]
  },
  {
   "cell_type": "code",
   "execution_count": 6,
   "id": "521c031c-503e-4381-9339-f1e39ffed09e",
   "metadata": {
    "tags": []
   },
   "outputs": [],
   "source": [
    "# Find the probability of more than 10 tails out of 15 coin tosses, \n",
    "# when the probability of heads is 0.3\n",
    "\n",
    "# answer = 0.515"
   ]
  },
  {
   "cell_type": "markdown",
   "id": "1e3c5456-9488-4f7d-b3dd-ca79b75b40af",
   "metadata": {},
   "source": [
    "## Binomial: blindsight example\n",
    "\n",
    "Warrington and Weiskrantz (1974) worked with a patient (called in their work by his initials, DB). DB had damage to the visual cortex of his brain, and reported no conscious vision, but Warrington and Weiskrantz noticed some hints that he could react to visual stimuli even though he was unaware of them, so they set up the following experiment:\n",
    "\n",
    "Symbols are presented on a screen - 50% of symbols are X's and 50% are O's The patient guesses whether each symbol is an X or an O\n",
    "\n",
    "If the patient gives the correct answer much more often than we would expect if he were guessing, we conclude that he has some redisual (unconsicous) vision\n",
    "\n",
    "DB guessed correctly on 22 out of 30 trials. What can we conclude?\n",
    "\n",
    "**Binomial model**\n",
    "\n",
    "The number of correct guesses (out of 30) can be modelled using a binomial distribution:\n",
    "\n",
    "$$x \\sim \\mathcal{B}(n,p)$$\n",
    "\n",
    "The null and alterative hypotheses for the experiment are:\n",
    "\n",
    "* $\\mathcal{H_o}$: The patient was guessing, $x \\sim \\mathcal{B}(30, 0.5)$\n",
    "* $\\mathcal{H_a}$: The patient processed the symbols even though he had no conscious awareness of them\n",
    "\n",
    "### Simulate the null hypothesis\n",
    "\n",
    "Our 'null' hypothesis is the baseline against which we test our evidence. In this case, the null hypothesis is that DB was guessing and this would translate to a value for $p$ of 0.5\n",
    "\n",
    "So we work out how likely it was to get 22 or more trials out of 30 correct given p=0.5, and this tells us how likely it was that the data could have arisen under the null hypothesis\n",
    "\n",
    "* Why 22 **or more**?\n",
    "* We would conclude that DB was not guessing if he got an unusually high number of trials correct. We need to determine a cutoff such that if he scored more than the cut-off, we would conclude he had some residual unconscious vision. It is logical that if 22/30 trials correct is sufficient evidence to reject the null, so is 23/30 and 24/30... \n",
    "\n",
    "Now use the CDF of the binomial to find the probabilty of obtaining 22 or more trials correct if guessing:"
   ]
  },
  {
   "cell_type": "code",
   "execution_count": 7,
   "id": "2efd65ba-653f-4c2d-b0fa-9caafb4d28bf",
   "metadata": {
    "tags": []
   },
   "outputs": [
    {
     "data": {
      "text/plain": [
       "np.float64(0.008062400855123997)"
      ]
     },
     "execution_count": 7,
     "metadata": {},
     "output_type": "execute_result"
    }
   ],
   "source": [
    "# Your code here!\n",
    "1 - stats.binom.cdf(21,30,0.5)"
   ]
  },
  {
   "cell_type": "markdown",
   "id": "9cab9be5-81cc-446a-a486-f0586fef1bac",
   "metadata": {},
   "source": [
    "The probability is 0.008 or less than 1%, so we can reject the null hypothesis"
   ]
  },
  {
   "cell_type": "markdown",
   "id": "7222ee74-9702-454d-8472-4de1857e8084",
   "metadata": {
    "tags": []
   },
   "source": [
    "## How good is the Normal approximation to the binomial?\n",
    "\n",
    "We have seen that the binomial distribution can be approximated by the normal distribution.\n",
    "\n",
    "The fit is better when:\n",
    "* $n$ is large\n",
    "* $p$ is not close to 0 or 1\n",
    "\n",
    "Furthermore, the two factors interact, so we can get away with $p$ closer to 0 or 1 when $n$ is larger.\n",
    "\n",
    "The code block below creates and plots the binomial pmf and best-fit normal pdf.\n",
    "* you will need to fill in some blanks to make it work!"
   ]
  },
  {
   "cell_type": "code",
   "execution_count": 8,
   "id": "df8284b8-aa40-47d2-9c9e-dd806425be80",
   "metadata": {
    "tags": []
   },
   "outputs": [
    {
     "data": {
      "image/png": "[encoded data removed]",
      "text/plain": [
       "<Figure size 640x480 with 1 Axes>"
      ]
     },
     "metadata": {},
     "output_type": "display_data"
    }
   ],
   "source": [
    "n = 10\n",
    "p = 0.2\n",
    "\n",
    "x = range(n+1)\n",
    "binom = stats.binom.pmf(x,n,p)\n",
    "\n",
    "mu = n*p # mean of normal distribution\n",
    "sigma = (n*p*(1-p))**0.5 # std dev of normal distribution\n",
    "norm = stats.norm.pdf(x,mu,sigma)\n",
    "\n",
    "plt.plot(x, binom, 'b.-') # plot binomial PMF as blue line\n",
    "plt.plot(x, norm, 'r.--') # plot normal PDF as red dashed line\n",
    "\n",
    "plt.xlabel('k hits')\n",
    "plt.ylabel('probability')\n",
    "plt.show()\n"
   ]
  },
  {
   "cell_type": "markdown",
   "id": "28f5afd0-4013-4ed7-8f43-6df643974bed",
   "metadata": {},
   "source": [
    "Now we will explore how good the fit is for different values of $n$ and $p$\n",
    "\n",
    "*To complete these exercises, edit the code block above and observing how the graph changes*\n",
    "\n",
    "* First try changing $p$, keeping $n$ set to 10.\n",
    "    * set $p=0.5$. This should give a good fit\n",
    "    * set $p=0.2$. Why is the fit not so good now?\n",
    "    * what happens when $p=0.9$?\n",
    "    \n",
    "* Now, setting $p$ to 0.2, we will change $n$\n",
    "    * Increase $n$ to 20 then to 100\n",
    "    * The fit gets better as $n$ increases. Why?\n",
    "    \n",
    "Bear in mind that when $p$ is close to 0 or 1, not only do the blue and red lines not match well, but the best fitting normal distribution also predicts non-zero values for impossible numbers of hits (it is impossible for $k$ to be fewer than zero or more than $n$)\n",
    "\n",
    "<img src= \"https://raw.githubusercontent.com/jillxoreilly/StatsCourseBook_2024/main/images/Chp9_NormApproxRange.png\" width=\"85%\"  />"
   ]
  },
  {
   "cell_type": "code",
   "execution_count": null,
   "id": "a959fe24-e8f6-4c63-8b64-fee8e9dfe8c2",
   "metadata": {},
   "outputs": [],
   "source": []
  },
  {
   "cell_type": "markdown",
   "id": "866bf6e1-0cde-4990-bbf2-c6a9a56bda6b",
   "metadata": {},
   "source": [
    "## How many repetitions is enough?\n",
    "\n",
    "For the binomial and normal distributions, we have seen how to work out the probability of a certain outcome (eg a certain value of $k$) using both *numerical methods* (simulation) and *analytic methods* (an equation).\n",
    "\n",
    "An important difference between the two approaches is that using the equation (or `stats.binom.pmf()`) the answer is the same every time; in contrast, the numerical simulation depends on generating random numbers and will change slightly each time you run it.\n",
    "\n",
    "For some data modelling problems, no equation (analystic solution) is available - an important example we will soon meet is permutation testing. \n",
    "\n",
    "Say we want to know the probability of getting 22/20 hits or more (in the blindsight example) - how many reps would we need in a simulation to match the answer from the equation to 2 significant figures?\n",
    "\n",
    "Let's find out.\n",
    "\n",
    "### Ground truth answer\n",
    "\n",
    "First we use thhe equation to find out the probabilty of getting 22/30 or more:"
   ]
  },
  {
   "cell_type": "code",
   "execution_count": 9,
   "id": "ce36b369-807b-4456-acff-96a155590588",
   "metadata": {
    "tags": []
   },
   "outputs": [
    {
     "data": {
      "text/plain": [
       "np.float64(0.008062400855123997)"
      ]
     },
     "execution_count": 9,
     "metadata": {},
     "output_type": "execute_result"
    }
   ],
   "source": [
    "1 - stats.binom.cdf(21,30,0.5)"
   ]
  },
  {
   "cell_type": "markdown",
   "id": "446f82b8-d00a-4441-a856-d7c7e4768f66",
   "metadata": {},
   "source": [
    "I make it 0.00806 to three significant figures"
   ]
  },
  {
   "cell_type": "markdown",
   "id": "d62842bf-0639-4e62-b736-25ff03ab2775",
   "metadata": {},
   "source": [
    "### Simulation\n",
    "\n",
    "Now we run a simulation where we 'run' the experiment (30 trials) many times, assuming the null is true so \n",
    "\n",
    "$$k \\sim \\mathcal{B}(30,0.5)$$"
   ]
  },
  {
   "cell_type": "code",
   "execution_count": 10,
   "id": "ee3db6ed-5017-4f89-9582-345eef438f79",
   "metadata": {
    "tags": []
   },
   "outputs": [
    {
     "data": {
      "text/plain": [
       "np.float64(0.00805263)"
      ]
     },
     "execution_count": 10,
     "metadata": {},
     "output_type": "execute_result"
    }
   ],
   "source": [
    "nReps = 100000000\n",
    "n = 30\n",
    "p= 0.5\n",
    "\n",
    "# Your code here to generate 10000 values of k\n",
    "k = np.random.binomial(30,0.5,size=nReps)\n",
    "\n",
    "# Your code here to find the proportion in which k>=22\n",
    "np.mean(k>=22)"
   ]
  },
  {
   "cell_type": "markdown",
   "id": "e615daf9-5f4d-43f5-989e-6efdc6ad7368",
   "metadata": {},
   "source": [
    "Hopefully the result you got was close to the ground truth result of 0.00806, but it was probably not a match to two significant figures (or maybe even to one).\n",
    "\n",
    "This may be surprising when you see how well the simulation appears to match the predicted distribution overall:\n",
    "\n",
    "<img src= \"https://raw.githubusercontent.com/jillxoreilly/StatsCourseBook_2024/main/images/Chp9_simfit.png\" width=\"85%\"  />\n",
    "\n",
    "The problem is that we are interested in the very tail of the distribution and we don't expect many repetitions to result in values of k that fall in this tail. For example, we expect 54 out of 10000 reps to result in k==22. In fact, we got about 40 cases of k==22, which is an error of only 12 reps (out of 10,000), but it is also an error of over 20% (in the hheight of this particular bar):\n",
    "\n",
    "<img src= \"https://raw.githubusercontent.com/jillxoreilly/StatsCourseBook_2024/main/images/Chp9_simfit_tail.png\" width=\"85%\"  />\n",
    "\n",
    "So when we are interested in the tail of the distribution, as we often are (for example in permutation testing, when we are checking whether a result is in a tail of 5% or 1% of the null distribution) - we need a lot of repetitions to get an accurate result."
   ]
  },
  {
   "cell_type": "markdown",
   "id": "325997cd-a34f-4045-9f4e-09e498a0da40",
   "metadata": {},
   "source": [
    "Adjust `nReps` in the code above until the simulated value of p(k>=22) reliably matches the ground truth value to 2 sinificant figures (ie if you run the code block several times does it match most of the time)?\n",
    "\n",
    "* I think you need over a million reps to achieve this so if your computer is slow or you are working on colab you may need to give up!"
   ]
  },
  {
   "cell_type": "code",
   "execution_count": null,
   "id": "271afb9a-e370-4798-86ee-07d219c54e13",
   "metadata": {},
   "outputs": [],
   "source": []
  },
  {
   "cell_type": "code",
   "execution_count": null,
   "id": "98fc7d91-cf84-404b-ad90-cd3a56864bed",
   "metadata": {},
   "outputs": [],
   "source": []
  }
 ],
 "metadata": {
  "kernelspec": {
   "display_name": "Python 3 (ipykernel)",
   "language": "python",
   "name": "python3"
  },
  "language_info": {
   "codemirror_mode": {
    "name": "ipython",
    "version": 3
   },
   "file_extension": ".py",
   "mimetype": "text/x-python",
   "name": "python",
   "nbconvert_exporter": "python",
   "pygments_lexer": "ipython3",
   "version": "3.11.13"
  }
 },
 "nbformat": 4,
 "nbformat_minor": 5
}