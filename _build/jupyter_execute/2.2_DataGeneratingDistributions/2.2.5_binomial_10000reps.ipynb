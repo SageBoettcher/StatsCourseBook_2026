{
 "cells": [
  {
   "cell_type": "markdown",
   "id": "aca77593",
   "metadata": {},
   "source": [
    "# Repeat the simulation\n",
    "\n",
    "In the last section you simulated 10 coin tosses and you may or may not have obtained 5 heads (you may have obtained slightly more or fewer than 5). \n",
    "\n",
    "So far so good.\n",
    "\n",
    "What if we would like to quantify how often we get a particular number of heads from 10 coin tosses, ie $k=0,1,2....5.....9,10$?\n",
    "\n",
    "To answer this we need to run our ' experiment' (get 10 coin tosses and count the heads) not once, but lots of times. \n",
    "\n",
    "The computer can easily do this in a few milliseconds, even though it would take us ages with a real coin."
   ]
  },
  {
   "cell_type": "markdown",
   "id": "fbeb6524",
   "metadata": {},
   "source": [
    "### Set up Python libraries\n",
    "\n",
    "As usual, run the code cell below to import the relevant Python libraries"
   ]
  },
  {
   "cell_type": "code",
   "execution_count": 1,
   "id": "f85b9836",
   "metadata": {
    "tags": []
   },
   "outputs": [],
   "source": [
    "# Set-up Python libraries - you need to run this but you don't need to change it\n",
    "import numpy as np\n",
    "import matplotlib.pyplot as plt\n",
    "import scipy.stats as stats\n",
    "import pandas as pd\n",
    "import seaborn as sns\n",
    "sns.set_theme(style='white')\n",
    "import statsmodels.api as sm\n",
    "import statsmodels.formula.api as smf\n",
    "import warnings \n",
    "warnings.simplefilter('ignore', category=FutureWarning)"
   ]
  },
  {
   "cell_type": "markdown",
   "id": "249d431a",
   "metadata": {},
   "source": [
    "## 10,000 times 10 coin tosses\n",
    "\n",
    "We are going to simulate tossing the coin 10 times and counting how many head we get, 10,000 times over. This will give us a sense of the frequency of each different outcome (0 heads, 1 head, 2 heads.... 10 heads)\n",
    "\n",
    "We could use a loop to repeat our 10-coin-toss 'experiment' 10,000 times and each time record the value of $k$, the number of heads"
   ]
  },
  {
   "cell_type": "code",
   "execution_count": 2,
   "id": "fcfbe202",
   "metadata": {
    "tags": []
   },
   "outputs": [],
   "source": [
    "nReps = 10000\n",
    "# make an empty np array to store the outcomes\n",
    "k = np.empty(nReps)\n",
    "\n",
    "for i in np.arange(len(k)): # we are going to simlulte 10,000 repeats of 10 coin tosses\n",
    "    k[i] = np.random.binomial(10,0.5)"
   ]
  },
  {
   "cell_type": "markdown",
   "id": "9154cc2d-2430-4e82-a85a-94488d0ab8c4",
   "metadata": {},
   "source": [
    "In fact, we can use the `size` argument to generate 10,000 values of $k$ for $n=10$ and $p=0.5$, in a single step:"
   ]
  },
  {
   "cell_type": "code",
   "execution_count": 3,
   "id": "1f0033f1-42fa-4707-a28e-b9446528f72d",
   "metadata": {
    "tags": []
   },
   "outputs": [],
   "source": [
    "k = np.random.binomial(10, 0.5, size=10000)"
   ]
  },
  {
   "cell_type": "markdown",
   "id": "53c73ee6",
   "metadata": {},
   "source": [
    "The reason for showing how we would do this in a loop is that if you wanted to later generate data from some other distribution, you might not have a handy built-in function to help you so would need to use a loop.\n",
    "\n",
    "### Frequency of each value of $k$\n",
    "\n",
    "OK, now we have an array with 10,000 entries showing how many heads we got out of 10 coin tosses, in each of 10,000 repeats.\n",
    "\n",
    "* **Remember:** one repeat or *rep* is one round of 10 coin tosses; the outcome for each *rep* is a value *k* (between 0 and 10), which is the number of 'heads'.\n",
    "\n",
    "To summarize the outcomes of these 10,000 reps, we can use `sns.countplot()` to plot the frequencies of each value of $k$"
   ]
  },
  {
   "cell_type": "code",
   "execution_count": 4,
   "id": "1b69fb82",
   "metadata": {
    "tags": []
   },
   "outputs": [
    {
     "data": {
      "image/png": "[encoded data removed]",
      "text/plain": [
       "<Figure size 640x480 with 1 Axes>"
      ]
     },
     "metadata": {},
     "output_type": "display_data"
    }
   ],
   "source": [
    "sns.countplot(x=k) \n",
    "plt.show()"
   ]
  },
  {
   "cell_type": "markdown",
   "id": "c3bd553a-4272-45f9-957b-244359dcddbf",
   "metadata": {},
   "source": [
    "We can see that \n",
    "* unsurprisingly, 5 is the most likely number of heads given $n=10$ and $p=0.5$\n",
    "* values of $k$ close to 5 are also quite likely\n",
    "* It is unlikely that we get 0 or 10 heads"
   ]
  },
  {
   "cell_type": "markdown",
   "id": "4ce52fa5-8b6a-4c21-a7b8-0d7a172edef1",
   "metadata": {},
   "source": [
    "### Probability of exactly 8 heads\n",
    "\n",
    "All the values of $k$ for the 10000 repeats of the experiemnt are stored in the `numpy` array `k`.\n",
    "\n",
    "We can work out the probability of obtaining exactly 8 heads, as follows:"
   ]
  },
  {
   "cell_type": "code",
   "execution_count": 5,
   "id": "41464c2f-69b1-49da-971c-26a48491e785",
   "metadata": {
    "tags": []
   },
   "outputs": [
    {
     "data": {
      "text/plain": [
       "np.float64(0.047)"
      ]
     },
     "execution_count": 5,
     "metadata": {},
     "output_type": "execute_result"
    }
   ],
   "source": [
    "np.mean(k==8)\n",
    "# remember, k is a list of 10,000 values of k from our 10,000 reps\n",
    "# the code (k==8) turns this list into 1 (for reps where k==8) and 0 (elsewhere)\n",
    "# sum(k==8) would therefore count the number of times k==8\n",
    "# np.mean(k==8) is the same as sum(k==8)/len(k)"
   ]
  },
  {
   "cell_type": "markdown",
   "id": "6f138d9e-17cb-4e13-8110-ec055948abd7",
   "metadata": {},
   "source": [
    "... about 4%."
   ]
  },
  {
   "cell_type": "markdown",
   "id": "760ac4f9",
   "metadata": {},
   "source": [
    "### Probability of at least 8 heads\n",
    "\n",
    "We might be interested in the probability of obtaining some value *or higher* of $k$ - for example, what is the chance of getting 8 or more heads from a fair coin?"
   ]
  },
  {
   "cell_type": "code",
   "execution_count": 6,
   "id": "a134db6d",
   "metadata": {},
   "outputs": [
    {
     "data": {
      "text/plain": [
       "np.float64(0.0597)"
      ]
     },
     "execution_count": 6,
     "metadata": {},
     "output_type": "execute_result"
    }
   ],
   "source": [
    "sum(k>=8)/nReps"
   ]
  },
  {
   "cell_type": "markdown",
   "id": "b9a7492c",
   "metadata": {},
   "source": [
    "... 5.5%"
   ]
  }
 ],
 "metadata": {
  "kernelspec": {
   "display_name": "Python 3 (ipykernel)",
   "language": "python",
   "name": "python3"
  },
  "language_info": {
   "codemirror_mode": {
    "name": "ipython",
    "version": 3
   },
   "file_extension": ".py",
   "mimetype": "text/x-python",
   "name": "python",
   "nbconvert_exporter": "python",
   "pygments_lexer": "ipython3",
   "version": "3.11.13"
  }
 },
 "nbformat": 4,
 "nbformat_minor": 5
}