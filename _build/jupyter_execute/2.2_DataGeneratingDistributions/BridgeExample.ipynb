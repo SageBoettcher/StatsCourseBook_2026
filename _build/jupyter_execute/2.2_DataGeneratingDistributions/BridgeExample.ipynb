{
 "cells": [
  {
   "cell_type": "code",
   "execution_count": 1,
   "id": "927255c4-f5c4-46f8-b22f-c83e5f8363bd",
   "metadata": {},
   "outputs": [],
   "source": [
    "# Set-up Python libraries - you need to run this but you don't need to change it\n",
    "import numpy as np\n",
    "import matplotlib.pyplot as plt\n",
    "import scipy.stats as stats\n",
    "import pandas \n",
    "import seaborn as sns\n",
    "import statsmodels.api as sm\n",
    "import statsmodels.formula.api as smf"
   ]
  },
  {
   "cell_type": "code",
   "execution_count": 2,
   "id": "d376d936-bee7-4a24-866f-80b4d0665ae8",
   "metadata": {},
   "outputs": [
    {
     "data": {
      "text/plain": [
       "[0,\n",
       " 0,\n",
       " 0,\n",
       " 0,\n",
       " 0,\n",
       " 0,\n",
       " 0,\n",
       " 0,\n",
       " 0,\n",
       " 0,\n",
       " 1,\n",
       " 2,\n",
       " 3,\n",
       " 4,\n",
       " 0,\n",
       " 0,\n",
       " 0,\n",
       " 0,\n",
       " 0,\n",
       " 0,\n",
       " 0,\n",
       " 0,\n",
       " 0,\n",
       " 0,\n",
       " 1,\n",
       " 2,\n",
       " 3,\n",
       " 4,\n",
       " 0,\n",
       " 0,\n",
       " 0,\n",
       " 0,\n",
       " 0,\n",
       " 0,\n",
       " 0,\n",
       " 0,\n",
       " 0,\n",
       " 0,\n",
       " 1,\n",
       " 2,\n",
       " 3,\n",
       " 4,\n",
       " 0,\n",
       " 0,\n",
       " 0,\n",
       " 0,\n",
       " 0,\n",
       " 0,\n",
       " 0,\n",
       " 0,\n",
       " 0,\n",
       " 0,\n",
       " 1,\n",
       " 2,\n",
       " 3,\n",
       " 4]"
      ]
     },
     "execution_count": 2,
     "metadata": {},
     "output_type": "execute_result"
    }
   ],
   "source": [
    "cards = [0,0,0,0,0, 0,0,0,0,0, 1,2,3,4,\n",
    "         0,0,0,0,0, 0,0,0,0,0, 1,2,3,4,\n",
    "         0,0,0,0,0, 0,0,0,0,0, 1,2,3,4,\n",
    "         0,0,0,0,0, 0,0,0,0,0, 1,2,3,4]\n",
    "cards"
   ]
  },
  {
   "cell_type": "code",
   "execution_count": 3,
   "id": "28aeb445-97ce-4bc4-bdec-e1df1deab7a1",
   "metadata": {
    "tags": []
   },
   "outputs": [
    {
     "data": {
      "text/plain": [
       "[0,\n",
       " 0,\n",
       " 0,\n",
       " 3,\n",
       " 0,\n",
       " 0,\n",
       " 2,\n",
       " 0,\n",
       " 0,\n",
       " 2,\n",
       " 0,\n",
       " 0,\n",
       " 0,\n",
       " 0,\n",
       " 0,\n",
       " 0,\n",
       " 3,\n",
       " 0,\n",
       " 0,\n",
       " 1,\n",
       " 0,\n",
       " 0,\n",
       " 4,\n",
       " 0,\n",
       " 0,\n",
       " 0,\n",
       " 0,\n",
       " 4,\n",
       " 0,\n",
       " 0,\n",
       " 2,\n",
       " 4,\n",
       " 0,\n",
       " 0,\n",
       " 0,\n",
       " 1,\n",
       " 3,\n",
       " 0,\n",
       " 0,\n",
       " 0,\n",
       " 0,\n",
       " 0,\n",
       " 0,\n",
       " 1,\n",
       " 2,\n",
       " 0,\n",
       " 0,\n",
       " 0,\n",
       " 1,\n",
       " 0,\n",
       " 0,\n",
       " 4,\n",
       " 0,\n",
       " 3,\n",
       " 0,\n",
       " 0]"
      ]
     },
     "execution_count": 3,
     "metadata": {},
     "output_type": "execute_result"
    }
   ],
   "source": [
    "np.random.shuffle(cards)\n",
    "cards"
   ]
  },
  {
   "cell_type": "code",
   "execution_count": 4,
   "id": "d4ca924d-a3bb-483b-98c3-a8043d5b9619",
   "metadata": {
    "tags": []
   },
   "outputs": [
    {
     "data": {
      "text/plain": [
       "[7, 8, 14, 8]"
      ]
     },
     "execution_count": 4,
     "metadata": {},
     "output_type": "execute_result"
    }
   ],
   "source": [
    "points = [sum(cards[0:13]),\n",
    "          sum(cards[13:26]),\n",
    "          sum(cards[26:39]),\n",
    "          sum(cards[39:52])]\n",
    "points"
   ]
  },
  {
   "cell_type": "code",
   "execution_count": 5,
   "id": "57eb6f5c-86d3-4c82-b3f0-219e4cb18990",
   "metadata": {
    "tags": []
   },
   "outputs": [],
   "source": [
    "nReps=10000\n",
    "cards = [0,0,0,0,0, 0,0,0,0,0, 1,2,3,4,\n",
    "         0,0,0,0,0, 0,0,0,0,0, 1,2,3,4,\n",
    "         0,0,0,0,0, 0,0,0,0,0, 1,2,3,4,\n",
    "         0,0,0,0,0, 0,0,0,0,0, 1,2,3,4]\n",
    "bid = np.empty(nReps)\n",
    "\n",
    "for i in range(nReps):\n",
    "    \n",
    "    np.random.shuffle(cards)\n",
    "    \n",
    "    points = np.array([sum(cards[0:13]),\n",
    "          sum(cards[13:26]),\n",
    "          sum(cards[26:39]),\n",
    "          sum(cards[39:52])])\n",
    "    \n",
    "    bid[i] = sum(points>=13)"
   ]
  },
  {
   "cell_type": "code",
   "execution_count": 6,
   "id": "7f4cfaae-3fa6-4c80-8a98-a764237529b4",
   "metadata": {
    "tags": []
   },
   "outputs": [
    {
     "data": {
      "text/plain": [
       "0.2557"
      ]
     },
     "execution_count": 6,
     "metadata": {},
     "output_type": "execute_result"
    },
    {
     "data": {
      "image/png": "[encoded data removed]",
      "text/plain": [
       "<Figure size 640x480 with 1 Axes>"
      ]
     },
     "metadata": {},
     "output_type": "display_data"
    }
   ],
   "source": [
    "sns.histplot(bid)\n",
    "np.mean(bid==0)"
   ]
  },
  {
   "cell_type": "code",
   "execution_count": 7,
   "id": "6ca3510f-56a5-4c3e-8b2f-43b84e7c1614",
   "metadata": {
    "tags": []
   },
   "outputs": [
    {
     "data": {
      "text/plain": [
       "0.32659478719691104"
      ]
     },
     "execution_count": 7,
     "metadata": {},
     "output_type": "execute_result"
    }
   ],
   "source": [
    "stats.binom.cdf(5,25,0.2622)"
   ]
  },
  {
   "cell_type": "markdown",
   "id": "1bcc01ce-93ee-4eea-ae68-533ef2aad62f",
   "metadata": {},
   "source": [
    "$$t = \\frac{\\bar{x}-\\mu}{\\frac{s_{x-\\mu}}{\\sqrt{n}}}$$,\n"
   ]
  },
  {
   "cell_type": "code",
   "execution_count": null,
   "id": "5facadc5-9b0d-4164-a0fa-fa6ce2fcfb6d",
   "metadata": {},
   "outputs": [],
   "source": []
  }
 ],
 "metadata": {
  "kernelspec": {
   "display_name": "Python 3 (ipykernel)",
   "language": "python",
   "name": "python3"
  },
  "language_info": {
   "codemirror_mode": {
    "name": "ipython",
    "version": 3
   },
   "file_extension": ".py",
   "mimetype": "text/x-python",
   "name": "python",
   "nbconvert_exporter": "python",
   "pygments_lexer": "ipython3",
   "version": "3.11.7"
  }
 },
 "nbformat": 4,
 "nbformat_minor": 5
}