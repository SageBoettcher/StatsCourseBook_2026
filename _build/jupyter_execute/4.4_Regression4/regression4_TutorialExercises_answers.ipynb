{
 "cells": [
  {
   "cell_type": "markdown",
   "id": "e7dac709",
   "metadata": {},
   "source": [
    "# Tutorial exercises\n",
    "\n",
    "The data this week were collected in 2019 for a project about the consequences of economic inequality (these data are real, from the same project as the data you used in Week 7 last term, but edited for this exercise). \n",
    "\n",
    "The data were collected online and consisted of two parts, a short survey, and an online experiment. \n",
    "\n",
    "The online experiment divided the participants randomly into one of three groups with the following labels: \n",
    "\n",
    "1. general inequality\n",
    "2. inequality with poverty\n",
    "3. the control group\n",
    "\n",
    "The participants were shown a graph showing the general trend in inequality (group 1) and a graph about increasing numbers in poverty (group 2), or a graph about GDP (the control group). \n",
    "\n",
    "These data were collected online by the polling company YouGov. The sample is intended to be representative of the UK adult population.\n",
    "\n",
    "These were the ‘primes’ that were shown to the participants:\n",
    "\n",
    "<img src=\"https://raw.githubusercontent.com/jillxoreilly/StatsCourseBook/main/images/regression4_primes.png\" width=80% >\n",
    "\n",
    "\n",
    "\n",
    "In this tutorial we will analyze the effect of the primes on people's perception of their position in society\n",
    "\n",
    "\n",
    "### Set up Python libraries\n",
    "\n",
    "Copy an appropriate code cell below, and run it, to import the relevant Python libraries"
   ]
  },
  {
   "cell_type": "code",
   "execution_count": 1,
   "id": "801f3478",
   "metadata": {},
   "outputs": [],
   "source": [
    "# Set-up Python libraries - you need to run this but you don't need to change it\n",
    "import numpy as np\n",
    "import matplotlib.pyplot as plt\n",
    "import scipy.stats as stats\n",
    "import pandas \n",
    "import seaborn as sns\n",
    "import statsmodels.api as sm\n",
    "import statsmodels.formula.api as smf"
   ]
  },
  {
   "cell_type": "markdown",
   "id": "ff24a43c",
   "metadata": {},
   "source": [
    "### Import and view the data\n",
    "\n",
    "The data are available on Canvas as `inequality.csv`\n",
    "\n",
    "Download the data and import them to Python as a `pandas` dataframe called `data`"
   ]
  },
  {
   "cell_type": "code",
   "execution_count": 2,
   "id": "f84ab875",
   "metadata": {},
   "outputs": [
    {
     "data": {
      "text/html": [
       "<div>\n",
       "<style scoped>\n",
       "    .dataframe tbody tr th:only-of-type {\n",
       "        vertical-align: middle;\n",
       "    }\n",
       "\n",
       "    .dataframe tbody tr th {\n",
       "        vertical-align: top;\n",
       "    }\n",
       "\n",
       "    .dataframe thead th {\n",
       "        text-align: right;\n",
       "    }\n",
       "</style>\n",
       "<table border=\"1\" class=\"dataframe\">\n",
       "  <thead>\n",
       "    <tr style=\"text-align: right;\">\n",
       "      <th></th>\n",
       "      <th>treatment</th>\n",
       "      <th>income</th>\n",
       "      <th>age</th>\n",
       "      <th>ladder</th>\n",
       "    </tr>\n",
       "  </thead>\n",
       "  <tbody>\n",
       "    <tr>\n",
       "      <th>0</th>\n",
       "      <td>Control group</td>\n",
       "      <td>Medium-high</td>\n",
       "      <td>18</td>\n",
       "      <td>3.0</td>\n",
       "    </tr>\n",
       "    <tr>\n",
       "      <th>1</th>\n",
       "      <td>Control group</td>\n",
       "      <td>Low</td>\n",
       "      <td>18</td>\n",
       "      <td>7.0</td>\n",
       "    </tr>\n",
       "    <tr>\n",
       "      <th>2</th>\n",
       "      <td>Control group</td>\n",
       "      <td>Low</td>\n",
       "      <td>19</td>\n",
       "      <td>7.0</td>\n",
       "    </tr>\n",
       "    <tr>\n",
       "      <th>3</th>\n",
       "      <td>Control group</td>\n",
       "      <td>High</td>\n",
       "      <td>19</td>\n",
       "      <td>9.0</td>\n",
       "    </tr>\n",
       "    <tr>\n",
       "      <th>4</th>\n",
       "      <td>Control group</td>\n",
       "      <td>High</td>\n",
       "      <td>19</td>\n",
       "      <td>10.0</td>\n",
       "    </tr>\n",
       "    <tr>\n",
       "      <th>...</th>\n",
       "      <td>...</td>\n",
       "      <td>...</td>\n",
       "      <td>...</td>\n",
       "      <td>...</td>\n",
       "    </tr>\n",
       "    <tr>\n",
       "      <th>1985</th>\n",
       "      <td>General inequality</td>\n",
       "      <td>Low-medium</td>\n",
       "      <td>80</td>\n",
       "      <td>5.0</td>\n",
       "    </tr>\n",
       "    <tr>\n",
       "      <th>1986</th>\n",
       "      <td>General inequality</td>\n",
       "      <td>Low</td>\n",
       "      <td>81</td>\n",
       "      <td>5.0</td>\n",
       "    </tr>\n",
       "    <tr>\n",
       "      <th>1987</th>\n",
       "      <td>General inequality</td>\n",
       "      <td>Low-medium</td>\n",
       "      <td>82</td>\n",
       "      <td>7.0</td>\n",
       "    </tr>\n",
       "    <tr>\n",
       "      <th>1988</th>\n",
       "      <td>General inequality</td>\n",
       "      <td>Low</td>\n",
       "      <td>83</td>\n",
       "      <td>6.0</td>\n",
       "    </tr>\n",
       "    <tr>\n",
       "      <th>1989</th>\n",
       "      <td>General inequality</td>\n",
       "      <td>High</td>\n",
       "      <td>86</td>\n",
       "      <td>9.0</td>\n",
       "    </tr>\n",
       "  </tbody>\n",
       "</table>\n",
       "<p>1990 rows × 4 columns</p>\n",
       "</div>"
      ],
      "text/plain": [
       "               treatment       income  age  ladder\n",
       "0          Control group  Medium-high   18     3.0\n",
       "1          Control group          Low   18     7.0\n",
       "2          Control group          Low   19     7.0\n",
       "3          Control group         High   19     9.0\n",
       "4          Control group         High   19    10.0\n",
       "...                  ...          ...  ...     ...\n",
       "1985  General inequality   Low-medium   80     5.0\n",
       "1986  General inequality          Low   81     5.0\n",
       "1987  General inequality   Low-medium   82     7.0\n",
       "1988  General inequality          Low   83     6.0\n",
       "1989  General inequality         High   86     9.0\n",
       "\n",
       "[1990 rows x 4 columns]"
      ]
     },
     "execution_count": 2,
     "metadata": {},
     "output_type": "execute_result"
    }
   ],
   "source": [
    "data = pandas.read_csv('inequality.csv')\n",
    "data"
   ]
  },
  {
   "cell_type": "markdown",
   "id": "2da45784",
   "metadata": {},
   "source": [
    "The dataframe contains the following variables:\n",
    "    \n",
    "* ladder (a continuous measure of 1-11 where participants rate themselves in their standing in society, where the lowest rung on the ladder was labelled “bottom of society” and the top rung as “top of society”)\n",
    "* treatment (a categorical measure of the treatment/control group)\n",
    "* income (a categorical variable with four categories)\n",
    "* age (a continuous measure in years)\n",
    "\n",
    "### Get to know the data\n",
    "\n",
    "How many values are in each experimental condition. Is this as expected?"
   ]
  },
  {
   "cell_type": "code",
   "execution_count": 3,
   "id": "764d1f12",
   "metadata": {},
   "outputs": [
    {
     "data": {
      "text/plain": [
       "treatment\n",
       "Inequality with poverty    673\n",
       "General inequality         664\n",
       "Control group              653\n",
       "Name: count, dtype: int64"
      ]
     },
     "execution_count": 3,
     "metadata": {},
     "output_type": "execute_result"
    }
   ],
   "source": [
    "data.value_counts('treatment')"
   ]
  },
  {
   "cell_type": "markdown",
   "id": "281a48d7",
   "metadata": {},
   "source": [
    "### One-way ANOVA\n",
    "\n",
    "The main research question for this exercise is this: **does the treatment (the experimental condition on inequality) influence perceptions of social standing?**\n",
    "\n",
    "Answer this question with ANOVA. Before you start, write down the null and alternative hypotheses."
   ]
  },
  {
   "cell_type": "markdown",
   "id": "73cb01c1",
   "metadata": {},
   "source": [
    "Ho: no effect of treatment group\n",
    "\n",
    "Ha: treatment group changes perception on inequality"
   ]
  },
  {
   "cell_type": "code",
   "execution_count": 4,
   "id": "eb95c95d",
   "metadata": {},
   "outputs": [
    {
     "name": "stdout",
     "output_type": "stream",
     "text": [
      "               df       sum_sq    mean_sq         F        PR(>F)\n",
      "treatment     2.0    83.063114  41.531557  13.94029  9.753119e-07\n",
      "Residual   1929.0  5746.965872   2.979246       NaN           NaN\n"
     ]
    }
   ],
   "source": [
    "# First we create the ANOVA model:\n",
    "inequality_lm = smf.ols('ladder ~ treatment', data=data).fit()\n",
    "\n",
    "# Then output the ANOVA table\n",
    "table = sm.stats.anova_lm(inequality_lm) \n",
    "print(table)"
   ]
  },
  {
   "cell_type": "markdown",
   "id": "52e178f7",
   "metadata": {},
   "source": [
    "What is the p-value and F-statistic? What does this tell us about the answer to the research question? Which hypothesis do you accept?\n",
    "\n"
   ]
  },
  {
   "cell_type": "markdown",
   "id": "e41a5a03",
   "metadata": {},
   "source": [
    "< your answer here >"
   ]
  },
  {
   "cell_type": "markdown",
   "id": "184d977a",
   "metadata": {},
   "source": [
    "## Two-way ANOVA\n",
    "\n",
    "Next, run a two-way ANOVA including income as the control variable."
   ]
  },
  {
   "cell_type": "code",
   "execution_count": 5,
   "id": "c57d9796",
   "metadata": {},
   "outputs": [
    {
     "name": "stdout",
     "output_type": "stream",
     "text": [
      "               df       sum_sq     mean_sq           F        PR(>F)\n",
      "treatment     2.0    83.063114   41.531557   17.122272  4.258198e-08\n",
      "income        3.0  1075.285761  358.428587  147.769848  3.504763e-86\n",
      "Residual   1926.0  4671.680111    2.425587         NaN           NaN\n"
     ]
    }
   ],
   "source": [
    "# First we create the ANOVA model:\n",
    "inequality_lm = smf.ols('ladder ~ treatment + income ', data=data).fit()\n",
    "\n",
    "# Then output the ANOVA table\n",
    "table = sm.stats.anova_lm(inequality_lm) \n",
    "print(table)"
   ]
  },
  {
   "cell_type": "markdown",
   "id": "1239949b",
   "metadata": {},
   "source": [
    "Interpret the results. Which of the $x$-variables are statistically significant? "
   ]
  },
  {
   "cell_type": "markdown",
   "id": "9caa4e55",
   "metadata": {},
   "source": [
    "< your interpretation here >"
   ]
  },
  {
   "cell_type": "markdown",
   "id": "628f76a4",
   "metadata": {},
   "source": [
    "## ANOVA vs Linear Regression\n",
    "\n",
    "Now, compare the results of the ANOVA tests with linear regressions. \n",
    "\n",
    "Run two regression models; one with just treatment as the explanatory variable, and a second model that includes income as a control. \n"
   ]
  },
  {
   "cell_type": "code",
   "execution_count": 6,
   "id": "6870b45a",
   "metadata": {},
   "outputs": [
    {
     "data": {
      "text/html": [
       "<table class=\"simpletable\">\n",
       "<caption>OLS Regression Results</caption>\n",
       "<tr>\n",
       "  <th>Dep. Variable:</th>         <td>ladder</td>      <th>  R-squared:         </th> <td>   0.014</td>\n",
       "</tr>\n",
       "<tr>\n",
       "  <th>Model:</th>                   <td>OLS</td>       <th>  Adj. R-squared:    </th> <td>   0.013</td>\n",
       "</tr>\n",
       "<tr>\n",
       "  <th>Method:</th>             <td>Least Squares</td>  <th>  F-statistic:       </th> <td>   13.94</td>\n",
       "</tr>\n",
       "<tr>\n",
       "  <th>Date:</th>             <td>Wed, 05 Feb 2025</td> <th>  Prob (F-statistic):</th> <td>9.75e-07</td>\n",
       "</tr>\n",
       "<tr>\n",
       "  <th>Time:</th>                 <td>10:32:05</td>     <th>  Log-Likelihood:    </th> <td> -3794.4</td>\n",
       "</tr>\n",
       "<tr>\n",
       "  <th>No. Observations:</th>      <td>  1932</td>      <th>  AIC:               </th> <td>   7595.</td>\n",
       "</tr>\n",
       "<tr>\n",
       "  <th>Df Residuals:</th>          <td>  1929</td>      <th>  BIC:               </th> <td>   7612.</td>\n",
       "</tr>\n",
       "<tr>\n",
       "  <th>Df Model:</th>              <td>     2</td>      <th>                     </th>     <td> </td>   \n",
       "</tr>\n",
       "<tr>\n",
       "  <th>Covariance Type:</th>      <td>nonrobust</td>    <th>                     </th>     <td> </td>   \n",
       "</tr>\n",
       "</table>\n",
       "<table class=\"simpletable\">\n",
       "<tr>\n",
       "                    <td></td>                      <th>coef</th>     <th>std err</th>      <th>t</th>      <th>P>|t|</th>  <th>[0.025</th>    <th>0.975]</th>  \n",
       "</tr>\n",
       "<tr>\n",
       "  <th>Intercept</th>                            <td>    6.4153</td> <td>    0.069</td> <td>   92.994</td> <td> 0.000</td> <td>    6.280</td> <td>    6.551</td>\n",
       "</tr>\n",
       "<tr>\n",
       "  <th>treatment[T.General inequality]</th>      <td>   -0.4494</td> <td>    0.097</td> <td>   -4.641</td> <td> 0.000</td> <td>   -0.639</td> <td>   -0.260</td>\n",
       "</tr>\n",
       "<tr>\n",
       "  <th>treatment[T.Inequality with poverty]</th> <td>   -0.4365</td> <td>    0.096</td> <td>   -4.535</td> <td> 0.000</td> <td>   -0.625</td> <td>   -0.248</td>\n",
       "</tr>\n",
       "</table>\n",
       "<table class=\"simpletable\">\n",
       "<tr>\n",
       "  <th>Omnibus:</th>       <td>62.728</td> <th>  Durbin-Watson:     </th> <td>   1.966</td>\n",
       "</tr>\n",
       "<tr>\n",
       "  <th>Prob(Omnibus):</th> <td> 0.000</td> <th>  Jarque-Bera (JB):  </th> <td>  69.820</td>\n",
       "</tr>\n",
       "<tr>\n",
       "  <th>Skew:</th>          <td>-0.422</td> <th>  Prob(JB):          </th> <td>6.90e-16</td>\n",
       "</tr>\n",
       "<tr>\n",
       "  <th>Kurtosis:</th>      <td> 3.394</td> <th>  Cond. No.          </th> <td>    3.78</td>\n",
       "</tr>\n",
       "</table><br/><br/>Notes:<br/>[1] Standard Errors assume that the covariance matrix of the errors is correctly specified."
      ],
      "text/latex": [
       "\\begin{center}\n",
       "\\begin{tabular}{lclc}\n",
       "\\toprule\n",
       "\\textbf{Dep. Variable:}                       &      ladder      & \\textbf{  R-squared:         } &     0.014   \\\\\n",
       "\\textbf{Model:}                               &       OLS        & \\textbf{  Adj. R-squared:    } &     0.013   \\\\\n",
       "\\textbf{Method:}                              &  Least Squares   & \\textbf{  F-statistic:       } &     13.94   \\\\\n",
       "\\textbf{Date:}                                & Wed, 05 Feb 2025 & \\textbf{  Prob (F-statistic):} &  9.75e-07   \\\\\n",
       "\\textbf{Time:}                                &     10:32:05     & \\textbf{  Log-Likelihood:    } &   -3794.4   \\\\\n",
       "\\textbf{No. Observations:}                    &        1932      & \\textbf{  AIC:               } &     7595.   \\\\\n",
       "\\textbf{Df Residuals:}                        &        1929      & \\textbf{  BIC:               } &     7612.   \\\\\n",
       "\\textbf{Df Model:}                            &           2      & \\textbf{                     } &             \\\\\n",
       "\\textbf{Covariance Type:}                     &    nonrobust     & \\textbf{                     } &             \\\\\n",
       "\\bottomrule\n",
       "\\end{tabular}\n",
       "\\begin{tabular}{lcccccc}\n",
       "                                              & \\textbf{coef} & \\textbf{std err} & \\textbf{t} & \\textbf{P$> |$t$|$} & \\textbf{[0.025} & \\textbf{0.975]}  \\\\\n",
       "\\midrule\n",
       "\\textbf{Intercept}                            &       6.4153  &        0.069     &    92.994  &         0.000        &        6.280    &        6.551     \\\\\n",
       "\\textbf{treatment[T.General inequality]}      &      -0.4494  &        0.097     &    -4.641  &         0.000        &       -0.639    &       -0.260     \\\\\n",
       "\\textbf{treatment[T.Inequality with poverty]} &      -0.4365  &        0.096     &    -4.535  &         0.000        &       -0.625    &       -0.248     \\\\\n",
       "\\bottomrule\n",
       "\\end{tabular}\n",
       "\\begin{tabular}{lclc}\n",
       "\\textbf{Omnibus:}       & 62.728 & \\textbf{  Durbin-Watson:     } &    1.966  \\\\\n",
       "\\textbf{Prob(Omnibus):} &  0.000 & \\textbf{  Jarque-Bera (JB):  } &   69.820  \\\\\n",
       "\\textbf{Skew:}          & -0.422 & \\textbf{  Prob(JB):          } & 6.90e-16  \\\\\n",
       "\\textbf{Kurtosis:}      &  3.394 & \\textbf{  Cond. No.          } &     3.78  \\\\\n",
       "\\bottomrule\n",
       "\\end{tabular}\n",
       "%\\caption{OLS Regression Results}\n",
       "\\end{center}\n",
       "\n",
       "Notes: \\newline\n",
       " [1] Standard Errors assume that the covariance matrix of the errors is correctly specified."
      ],
      "text/plain": [
       "<class 'statsmodels.iolib.summary.Summary'>\n",
       "\"\"\"\n",
       "                            OLS Regression Results                            \n",
       "==============================================================================\n",
       "Dep. Variable:                 ladder   R-squared:                       0.014\n",
       "Model:                            OLS   Adj. R-squared:                  0.013\n",
       "Method:                 Least Squares   F-statistic:                     13.94\n",
       "Date:                Wed, 05 Feb 2025   Prob (F-statistic):           9.75e-07\n",
       "Time:                        10:32:05   Log-Likelihood:                -3794.4\n",
       "No. Observations:                1932   AIC:                             7595.\n",
       "Df Residuals:                    1929   BIC:                             7612.\n",
       "Df Model:                           2                                         \n",
       "Covariance Type:            nonrobust                                         \n",
       "========================================================================================================\n",
       "                                           coef    std err          t      P>|t|      [0.025      0.975]\n",
       "--------------------------------------------------------------------------------------------------------\n",
       "Intercept                                6.4153      0.069     92.994      0.000       6.280       6.551\n",
       "treatment[T.General inequality]         -0.4494      0.097     -4.641      0.000      -0.639      -0.260\n",
       "treatment[T.Inequality with poverty]    -0.4365      0.096     -4.535      0.000      -0.625      -0.248\n",
       "==============================================================================\n",
       "Omnibus:                       62.728   Durbin-Watson:                   1.966\n",
       "Prob(Omnibus):                  0.000   Jarque-Bera (JB):               69.820\n",
       "Skew:                          -0.422   Prob(JB):                     6.90e-16\n",
       "Kurtosis:                       3.394   Cond. No.                         3.78\n",
       "==============================================================================\n",
       "\n",
       "Notes:\n",
       "[1] Standard Errors assume that the covariance matrix of the errors is correctly specified.\n",
       "\"\"\""
      ]
     },
     "execution_count": 6,
     "metadata": {},
     "output_type": "execute_result"
    }
   ],
   "source": [
    "# first we run this line to tell statsmodels where to find the data and the explanatory variables\n",
    "reg_formula = sm.regression.linear_model.OLS.from_formula(data = data, formula = 'ladder ~ treatment')\n",
    "\n",
    "# then we run this line to fit the regression (work out the values of intercept and slope)\n",
    "# the output is a structure which we will call reg_results\n",
    "reg_results = reg_formula.fit()\n",
    "\n",
    "# let's view a summary of the regression results\n",
    "reg_results.summary() "
   ]
  },
  {
   "cell_type": "code",
   "execution_count": 7,
   "id": "9f77128d",
   "metadata": {},
   "outputs": [
    {
     "data": {
      "text/html": [
       "<table class=\"simpletable\">\n",
       "<caption>OLS Regression Results</caption>\n",
       "<tr>\n",
       "  <th>Dep. Variable:</th>         <td>ladder</td>      <th>  R-squared:         </th> <td>   0.199</td>\n",
       "</tr>\n",
       "<tr>\n",
       "  <th>Model:</th>                   <td>OLS</td>       <th>  Adj. R-squared:    </th> <td>   0.197</td>\n",
       "</tr>\n",
       "<tr>\n",
       "  <th>Method:</th>             <td>Least Squares</td>  <th>  F-statistic:       </th> <td>   95.51</td>\n",
       "</tr>\n",
       "<tr>\n",
       "  <th>Date:</th>             <td>Wed, 05 Feb 2025</td> <th>  Prob (F-statistic):</th> <td>4.62e-90</td>\n",
       "</tr>\n",
       "<tr>\n",
       "  <th>Time:</th>                 <td>10:32:05</td>     <th>  Log-Likelihood:    </th> <td> -3594.3</td>\n",
       "</tr>\n",
       "<tr>\n",
       "  <th>No. Observations:</th>      <td>  1932</td>      <th>  AIC:               </th> <td>   7201.</td>\n",
       "</tr>\n",
       "<tr>\n",
       "  <th>Df Residuals:</th>          <td>  1926</td>      <th>  BIC:               </th> <td>   7234.</td>\n",
       "</tr>\n",
       "<tr>\n",
       "  <th>Df Model:</th>              <td>     5</td>      <th>                     </th>     <td> </td>   \n",
       "</tr>\n",
       "<tr>\n",
       "  <th>Covariance Type:</th>      <td>nonrobust</td>    <th>                     </th>     <td> </td>   \n",
       "</tr>\n",
       "</table>\n",
       "<table class=\"simpletable\">\n",
       "<tr>\n",
       "                    <td></td>                      <th>coef</th>     <th>std err</th>      <th>t</th>      <th>P>|t|</th>  <th>[0.025</th>    <th>0.975]</th>  \n",
       "</tr>\n",
       "<tr>\n",
       "  <th>Intercept</th>                            <td>    7.4190</td> <td>    0.089</td> <td>   83.510</td> <td> 0.000</td> <td>    7.245</td> <td>    7.593</td>\n",
       "</tr>\n",
       "<tr>\n",
       "  <th>treatment[T.General inequality]</th>      <td>   -0.4355</td> <td>    0.087</td> <td>   -4.979</td> <td> 0.000</td> <td>   -0.607</td> <td>   -0.264</td>\n",
       "</tr>\n",
       "<tr>\n",
       "  <th>treatment[T.Inequality with poverty]</th> <td>   -0.4882</td> <td>    0.087</td> <td>   -5.614</td> <td> 0.000</td> <td>   -0.659</td> <td>   -0.318</td>\n",
       "</tr>\n",
       "<tr>\n",
       "  <th>income[T.Low]</th>                        <td>   -2.0677</td> <td>    0.100</td> <td>  -20.625</td> <td> 0.000</td> <td>   -2.264</td> <td>   -1.871</td>\n",
       "</tr>\n",
       "<tr>\n",
       "  <th>income[T.Low-medium]</th>                 <td>   -1.1068</td> <td>    0.097</td> <td>  -11.411</td> <td> 0.000</td> <td>   -1.297</td> <td>   -0.917</td>\n",
       "</tr>\n",
       "<tr>\n",
       "  <th>income[T.Medium-high]</th>                <td>   -0.7050</td> <td>    0.105</td> <td>   -6.703</td> <td> 0.000</td> <td>   -0.911</td> <td>   -0.499</td>\n",
       "</tr>\n",
       "</table>\n",
       "<table class=\"simpletable\">\n",
       "<tr>\n",
       "  <th>Omnibus:</th>       <td>21.286</td> <th>  Durbin-Watson:     </th> <td>   1.863</td>\n",
       "</tr>\n",
       "<tr>\n",
       "  <th>Prob(Omnibus):</th> <td> 0.000</td> <th>  Jarque-Bera (JB):  </th> <td>  27.408</td>\n",
       "</tr>\n",
       "<tr>\n",
       "  <th>Skew:</th>          <td>-0.154</td> <th>  Prob(JB):          </th> <td>1.12e-06</td>\n",
       "</tr>\n",
       "<tr>\n",
       "  <th>Kurtosis:</th>      <td> 3.496</td> <th>  Cond. No.          </th> <td>    5.46</td>\n",
       "</tr>\n",
       "</table><br/><br/>Notes:<br/>[1] Standard Errors assume that the covariance matrix of the errors is correctly specified."
      ],
      "text/latex": [
       "\\begin{center}\n",
       "\\begin{tabular}{lclc}\n",
       "\\toprule\n",
       "\\textbf{Dep. Variable:}                       &      ladder      & \\textbf{  R-squared:         } &     0.199   \\\\\n",
       "\\textbf{Model:}                               &       OLS        & \\textbf{  Adj. R-squared:    } &     0.197   \\\\\n",
       "\\textbf{Method:}                              &  Least Squares   & \\textbf{  F-statistic:       } &     95.51   \\\\\n",
       "\\textbf{Date:}                                & Wed, 05 Feb 2025 & \\textbf{  Prob (F-statistic):} &  4.62e-90   \\\\\n",
       "\\textbf{Time:}                                &     10:32:05     & \\textbf{  Log-Likelihood:    } &   -3594.3   \\\\\n",
       "\\textbf{No. Observations:}                    &        1932      & \\textbf{  AIC:               } &     7201.   \\\\\n",
       "\\textbf{Df Residuals:}                        &        1926      & \\textbf{  BIC:               } &     7234.   \\\\\n",
       "\\textbf{Df Model:}                            &           5      & \\textbf{                     } &             \\\\\n",
       "\\textbf{Covariance Type:}                     &    nonrobust     & \\textbf{                     } &             \\\\\n",
       "\\bottomrule\n",
       "\\end{tabular}\n",
       "\\begin{tabular}{lcccccc}\n",
       "                                              & \\textbf{coef} & \\textbf{std err} & \\textbf{t} & \\textbf{P$> |$t$|$} & \\textbf{[0.025} & \\textbf{0.975]}  \\\\\n",
       "\\midrule\n",
       "\\textbf{Intercept}                            &       7.4190  &        0.089     &    83.510  &         0.000        &        7.245    &        7.593     \\\\\n",
       "\\textbf{treatment[T.General inequality]}      &      -0.4355  &        0.087     &    -4.979  &         0.000        &       -0.607    &       -0.264     \\\\\n",
       "\\textbf{treatment[T.Inequality with poverty]} &      -0.4882  &        0.087     &    -5.614  &         0.000        &       -0.659    &       -0.318     \\\\\n",
       "\\textbf{income[T.Low]}                        &      -2.0677  &        0.100     &   -20.625  &         0.000        &       -2.264    &       -1.871     \\\\\n",
       "\\textbf{income[T.Low-medium]}                 &      -1.1068  &        0.097     &   -11.411  &         0.000        &       -1.297    &       -0.917     \\\\\n",
       "\\textbf{income[T.Medium-high]}                &      -0.7050  &        0.105     &    -6.703  &         0.000        &       -0.911    &       -0.499     \\\\\n",
       "\\bottomrule\n",
       "\\end{tabular}\n",
       "\\begin{tabular}{lclc}\n",
       "\\textbf{Omnibus:}       & 21.286 & \\textbf{  Durbin-Watson:     } &    1.863  \\\\\n",
       "\\textbf{Prob(Omnibus):} &  0.000 & \\textbf{  Jarque-Bera (JB):  } &   27.408  \\\\\n",
       "\\textbf{Skew:}          & -0.154 & \\textbf{  Prob(JB):          } & 1.12e-06  \\\\\n",
       "\\textbf{Kurtosis:}      &  3.496 & \\textbf{  Cond. No.          } &     5.46  \\\\\n",
       "\\bottomrule\n",
       "\\end{tabular}\n",
       "%\\caption{OLS Regression Results}\n",
       "\\end{center}\n",
       "\n",
       "Notes: \\newline\n",
       " [1] Standard Errors assume that the covariance matrix of the errors is correctly specified."
      ],
      "text/plain": [
       "<class 'statsmodels.iolib.summary.Summary'>\n",
       "\"\"\"\n",
       "                            OLS Regression Results                            \n",
       "==============================================================================\n",
       "Dep. Variable:                 ladder   R-squared:                       0.199\n",
       "Model:                            OLS   Adj. R-squared:                  0.197\n",
       "Method:                 Least Squares   F-statistic:                     95.51\n",
       "Date:                Wed, 05 Feb 2025   Prob (F-statistic):           4.62e-90\n",
       "Time:                        10:32:05   Log-Likelihood:                -3594.3\n",
       "No. Observations:                1932   AIC:                             7201.\n",
       "Df Residuals:                    1926   BIC:                             7234.\n",
       "Df Model:                           5                                         \n",
       "Covariance Type:            nonrobust                                         \n",
       "========================================================================================================\n",
       "                                           coef    std err          t      P>|t|      [0.025      0.975]\n",
       "--------------------------------------------------------------------------------------------------------\n",
       "Intercept                                7.4190      0.089     83.510      0.000       7.245       7.593\n",
       "treatment[T.General inequality]         -0.4355      0.087     -4.979      0.000      -0.607      -0.264\n",
       "treatment[T.Inequality with poverty]    -0.4882      0.087     -5.614      0.000      -0.659      -0.318\n",
       "income[T.Low]                           -2.0677      0.100    -20.625      0.000      -2.264      -1.871\n",
       "income[T.Low-medium]                    -1.1068      0.097    -11.411      0.000      -1.297      -0.917\n",
       "income[T.Medium-high]                   -0.7050      0.105     -6.703      0.000      -0.911      -0.499\n",
       "==============================================================================\n",
       "Omnibus:                       21.286   Durbin-Watson:                   1.863\n",
       "Prob(Omnibus):                  0.000   Jarque-Bera (JB):               27.408\n",
       "Skew:                          -0.154   Prob(JB):                     1.12e-06\n",
       "Kurtosis:                       3.496   Cond. No.                         5.46\n",
       "==============================================================================\n",
       "\n",
       "Notes:\n",
       "[1] Standard Errors assume that the covariance matrix of the errors is correctly specified.\n",
       "\"\"\""
      ]
     },
     "execution_count": 7,
     "metadata": {},
     "output_type": "execute_result"
    }
   ],
   "source": [
    "# first we run this line to tell statsmodels where to find the data and the explanatory variables\n",
    "reg_formula = sm.regression.linear_model.OLS.from_formula(data = data, formula = 'ladder ~ treatment + income')\n",
    "\n",
    "# then we run this line to fit the regression (work out the values of intercept and slope)\n",
    "# the output is a structure which we will call reg_results\n",
    "reg_results = reg_formula.fit()\n",
    "\n",
    "# let's view a summary of the regression results\n",
    "reg_results.summary() "
   ]
  },
  {
   "cell_type": "markdown",
   "id": "d4ad4a7a",
   "metadata": {},
   "source": [
    "What information do we get from regression that we do not get from ANOVA?"
   ]
  },
  {
   "cell_type": "markdown",
   "id": "3f64bd79",
   "metadata": {},
   "source": [
    "< your answer here >"
   ]
  },
  {
   "cell_type": "markdown",
   "id": "de9708e6",
   "metadata": {},
   "source": [
    "## Check assumptions\n",
    "\n",
    "A member of the research team raised a concern that the outcome variable, ladder, does not seem to be normally distributed. Can you run a histogram, by experimental condition, to check this? "
   ]
  },
  {
   "cell_type": "code",
   "execution_count": 8,
   "id": "88aae189",
   "metadata": {},
   "outputs": [
    {
     "data": {
      "text/plain": [
       "<Axes: xlabel='ladder', ylabel='Count'>"
      ]
     },
     "execution_count": 8,
     "metadata": {},
     "output_type": "execute_result"
    },
    {
     "data": {
      "image/png": "[encoded data removed]",
      "text/plain": [
       "<Figure size 640x480 with 1 Axes>"
      ]
     },
     "metadata": {},
     "output_type": "display_data"
    }
   ],
   "source": [
    "sns.histplot(data=data, x='ladder', hue='treatment', multiple='dodge')"
   ]
  },
  {
   "cell_type": "markdown",
   "id": "a70baf8f",
   "metadata": {},
   "source": [
    "Do you think the normality assumption has been met? "
   ]
  },
  {
   "cell_type": "markdown",
   "id": "3d9a68da",
   "metadata": {},
   "source": [
    "< your comment here >"
   ]
  },
  {
   "cell_type": "markdown",
   "id": "5d1f3af7",
   "metadata": {},
   "source": [
    "## Kruskal-Wallis Test\n",
    "\n",
    "Either way, run a Krusal-Wallis test with the same variables (ladder, treatment) to check if you get the same result as with ANOVA.\n"
   ]
  },
  {
   "cell_type": "code",
   "execution_count": 9,
   "id": "6466d11b",
   "metadata": {},
   "outputs": [
    {
     "data": {
      "text/plain": [
       "KruskalResult(statistic=30.173274271348717, pvalue=2.8051542127865784e-07)"
      ]
     },
     "execution_count": 9,
     "metadata": {},
     "output_type": "execute_result"
    }
   ],
   "source": [
    "data.dropna()\n",
    "\n",
    "stats.kruskal(data[data.treatment == 'Inequality with poverty']['ladder'],\n",
    "              data[data.treatment == 'General inequality']['ladder'],\n",
    "              data[data.treatment == 'Control group']['ladder'],\n",
    "              nan_policy = \"omit\")\n",
    "\n",
    "\n"
   ]
  },
  {
   "cell_type": "markdown",
   "id": "e30f07cc",
   "metadata": {},
   "source": [
    "What is the result, and does it agree with the ANOVA?"
   ]
  },
  {
   "cell_type": "markdown",
   "id": "f85a94a8",
   "metadata": {},
   "source": [
    "< your comment here >"
   ]
  },
  {
   "cell_type": "markdown",
   "id": "4194a9b0",
   "metadata": {},
   "source": [
    "## Including age as a control variable\n",
    "\n",
    "Age is a continuous variable. How could we use ANOVA to test whether there are differences in ‘ladder’ by age? \n",
    "\n",
    "Create a new column in the dataframe called `age4`. Make it contain four categories for age:\n",
    "\n",
    "* under 30\n",
    "* 30-45\n",
    "* 45-65\n",
    "* over 65\n",
    "\n",
    "Here is some code to get you started:"
   ]
  },
  {
   "cell_type": "code",
   "execution_count": 10,
   "id": "306cbf90",
   "metadata": {},
   "outputs": [
    {
     "name": "stderr",
     "output_type": "stream",
     "text": [
      "/var/folders/ft/hqqrzz3d29xfyct7ct4630x00000gt/T/ipykernel_48799/1113143029.py:6: FutureWarning: Setting an item of incompatible dtype is deprecated and will raise in a future error of pandas. Value 'under 30' has dtype incompatible with float64, please explicitly cast to a compatible dtype first.\n",
      "  data.loc[data['age'].isin(range(0, 30)), 'age4'] = \"under 30\"\n"
     ]
    },
    {
     "data": {
      "text/html": [
       "<div>\n",
       "<style scoped>\n",
       "    .dataframe tbody tr th:only-of-type {\n",
       "        vertical-align: middle;\n",
       "    }\n",
       "\n",
       "    .dataframe tbody tr th {\n",
       "        vertical-align: top;\n",
       "    }\n",
       "\n",
       "    .dataframe thead th {\n",
       "        text-align: right;\n",
       "    }\n",
       "</style>\n",
       "<table border=\"1\" class=\"dataframe\">\n",
       "  <thead>\n",
       "    <tr style=\"text-align: right;\">\n",
       "      <th></th>\n",
       "      <th>treatment</th>\n",
       "      <th>income</th>\n",
       "      <th>age</th>\n",
       "      <th>ladder</th>\n",
       "      <th>age4</th>\n",
       "    </tr>\n",
       "  </thead>\n",
       "  <tbody>\n",
       "    <tr>\n",
       "      <th>0</th>\n",
       "      <td>Control group</td>\n",
       "      <td>Medium-high</td>\n",
       "      <td>18</td>\n",
       "      <td>3.0</td>\n",
       "      <td>under 30</td>\n",
       "    </tr>\n",
       "    <tr>\n",
       "      <th>1</th>\n",
       "      <td>Control group</td>\n",
       "      <td>Low</td>\n",
       "      <td>18</td>\n",
       "      <td>7.0</td>\n",
       "      <td>under 30</td>\n",
       "    </tr>\n",
       "    <tr>\n",
       "      <th>2</th>\n",
       "      <td>Control group</td>\n",
       "      <td>Low</td>\n",
       "      <td>19</td>\n",
       "      <td>7.0</td>\n",
       "      <td>under 30</td>\n",
       "    </tr>\n",
       "    <tr>\n",
       "      <th>3</th>\n",
       "      <td>Control group</td>\n",
       "      <td>High</td>\n",
       "      <td>19</td>\n",
       "      <td>9.0</td>\n",
       "      <td>under 30</td>\n",
       "    </tr>\n",
       "    <tr>\n",
       "      <th>4</th>\n",
       "      <td>Control group</td>\n",
       "      <td>High</td>\n",
       "      <td>19</td>\n",
       "      <td>10.0</td>\n",
       "      <td>under 30</td>\n",
       "    </tr>\n",
       "    <tr>\n",
       "      <th>...</th>\n",
       "      <td>...</td>\n",
       "      <td>...</td>\n",
       "      <td>...</td>\n",
       "      <td>...</td>\n",
       "      <td>...</td>\n",
       "    </tr>\n",
       "    <tr>\n",
       "      <th>1985</th>\n",
       "      <td>General inequality</td>\n",
       "      <td>Low-medium</td>\n",
       "      <td>80</td>\n",
       "      <td>5.0</td>\n",
       "      <td>over 65</td>\n",
       "    </tr>\n",
       "    <tr>\n",
       "      <th>1986</th>\n",
       "      <td>General inequality</td>\n",
       "      <td>Low</td>\n",
       "      <td>81</td>\n",
       "      <td>5.0</td>\n",
       "      <td>over 65</td>\n",
       "    </tr>\n",
       "    <tr>\n",
       "      <th>1987</th>\n",
       "      <td>General inequality</td>\n",
       "      <td>Low-medium</td>\n",
       "      <td>82</td>\n",
       "      <td>7.0</td>\n",
       "      <td>over 65</td>\n",
       "    </tr>\n",
       "    <tr>\n",
       "      <th>1988</th>\n",
       "      <td>General inequality</td>\n",
       "      <td>Low</td>\n",
       "      <td>83</td>\n",
       "      <td>6.0</td>\n",
       "      <td>over 65</td>\n",
       "    </tr>\n",
       "    <tr>\n",
       "      <th>1989</th>\n",
       "      <td>General inequality</td>\n",
       "      <td>High</td>\n",
       "      <td>86</td>\n",
       "      <td>9.0</td>\n",
       "      <td>over 65</td>\n",
       "    </tr>\n",
       "  </tbody>\n",
       "</table>\n",
       "<p>1990 rows × 5 columns</p>\n",
       "</div>"
      ],
      "text/plain": [
       "               treatment       income  age  ladder      age4\n",
       "0          Control group  Medium-high   18     3.0  under 30\n",
       "1          Control group          Low   18     7.0  under 30\n",
       "2          Control group          Low   19     7.0  under 30\n",
       "3          Control group         High   19     9.0  under 30\n",
       "4          Control group         High   19    10.0  under 30\n",
       "...                  ...          ...  ...     ...       ...\n",
       "1985  General inequality   Low-medium   80     5.0   over 65\n",
       "1986  General inequality          Low   81     5.0   over 65\n",
       "1987  General inequality   Low-medium   82     7.0   over 65\n",
       "1988  General inequality          Low   83     6.0   over 65\n",
       "1989  General inequality         High   86     9.0   over 65\n",
       "\n",
       "[1990 rows x 5 columns]"
      ]
     },
     "execution_count": 10,
     "metadata": {},
     "output_type": "execute_result"
    }
   ],
   "source": [
    "# create a new column and fill it with NaN for now\n",
    "data['age4'] = np.nan\n",
    "\n",
    "# start filling in the values\n",
    "# if this looks unfamiliar, check Sammi's cheatsheet (chapter 9 of this coursebook)\n",
    "data.loc[data['age'].isin(range(0, 30)), 'age4'] = \"under 30\"\n",
    "data.loc[data['age'].isin(range(30, 45)), 'age4'] = \"30 - 45\"\n",
    "data.loc[data['age'].isin(range(45, 65)), 'age4'] = \"45 - 65\"\n",
    "data.loc[data['age'].isin(range(65, 150)), 'age4'] = \"over 65\"\n",
    "\n",
    "\n",
    "data"
   ]
  },
  {
   "cell_type": "markdown",
   "id": "6c5dc860",
   "metadata": {},
   "source": [
    "Now run an ANOVA including `age4` as a control variable"
   ]
  },
  {
   "cell_type": "code",
   "execution_count": 11,
   "id": "73752fa5",
   "metadata": {},
   "outputs": [
    {
     "name": "stdout",
     "output_type": "stream",
     "text": [
      "               df       sum_sq    mean_sq          F        PR(>F)\n",
      "treatment     2.0    83.063114  41.531557  14.201016  7.544136e-07\n",
      "age4          3.0   114.285700  38.095233  13.026023  2.012164e-08\n",
      "Residual   1926.0  5632.680172   2.924548        NaN           NaN\n"
     ]
    }
   ],
   "source": [
    "# First we create the ANOVA model:\n",
    "inequality_lm = smf.ols('ladder ~ treatment + age4', data=data).fit()\n",
    "\n",
    "# Then output the ANOVA table\n",
    "table = sm.stats.anova_lm(inequality_lm) \n",
    "print(table)"
   ]
  },
  {
   "cell_type": "markdown",
   "id": "48051870",
   "metadata": {},
   "source": [
    "## Extra Exercise: \n",
    "\n",
    "Run two-way ANOVAs with interaction terms for:\n",
    "\n",
    "1. treatment and age \n",
    "2. income and age. \n",
    "\n",
    "What are the questions you are trying to answer with the interaction terms? (Hint: “Is the effect of treatment the same for….”?)"
   ]
  },
  {
   "cell_type": "code",
   "execution_count": 12,
   "id": "b00030ce",
   "metadata": {},
   "outputs": [
    {
     "name": "stdout",
     "output_type": "stream",
     "text": [
      "                    df       sum_sq    mean_sq          F        PR(>F)\n",
      "treatment          2.0    83.063114  41.531557  14.183663  7.676708e-07\n",
      "age4               3.0   114.285700  38.095233  13.010106  2.059808e-08\n",
      "age4:treatment     6.0    10.677786   1.779631   0.607771  7.243254e-01\n",
      "Residual        1920.0  5622.002386   2.928126        NaN           NaN\n"
     ]
    }
   ],
   "source": [
    "# First we create the ANOVA model:\n",
    "inequality_lm = smf.ols('ladder ~ treatment + age4 + age4:treatment', data=data).fit()\n",
    "# ALTERNATIVE:\n",
    "#inequality_lm = smf.ols('ladder ~ treatment*age4', data=data).fit()\n",
    "\n",
    "# Then output the ANOVA table\n",
    "table = sm.stats.anova_lm(inequality_lm) \n",
    "print(table)"
   ]
  },
  {
   "cell_type": "code",
   "execution_count": 13,
   "id": "a3461329-de47-4368-b8c3-3d4dc638408b",
   "metadata": {
    "tags": []
   },
   "outputs": [
    {
     "data": {
      "text/plain": [
       "<Axes: xlabel='age4', ylabel='ladder'>"
      ]
     },
     "execution_count": 13,
     "metadata": {},
     "output_type": "execute_result"
    },
    {
     "data": {
      "image/png": "[encoded data removed]",
      "text/plain": [
       "<Figure size 640x480 with 1 Axes>"
      ]
     },
     "metadata": {},
     "output_type": "display_data"
    }
   ],
   "source": [
    "data\n",
    "sns.barplot(data=data, y='ladder', x='age4', hue='treatment', hue_order=['Control group','General inequality','Inequality with poverty'])"
   ]
  },
  {
   "cell_type": "code",
   "execution_count": 14,
   "id": "29985748",
   "metadata": {},
   "outputs": [
    {
     "name": "stdout",
     "output_type": "stream",
     "text": [
      "                df       sum_sq     mean_sq           F        PR(>F)\n",
      "income         3.0  1067.265637  355.755212  151.902795  2.375083e-88\n",
      "age            1.0   252.677147  252.677147  107.889817  1.254977e-24\n",
      "age:income     3.0     4.092561    1.364187    0.582490  6.265070e-01\n",
      "Residual    1924.0  4505.993641    2.341993         NaN           NaN\n"
     ]
    }
   ],
   "source": [
    "# First we create the ANOVA model:\n",
    "inequality_lm = smf.ols('ladder ~ income + age + age:income', data=data).fit()\n",
    "\n",
    "# Then output the ANOVA table\n",
    "table = sm.stats.anova_lm(inequality_lm) \n",
    "print(table)"
   ]
  },
  {
   "cell_type": "code",
   "execution_count": 15,
   "id": "1621f78a",
   "metadata": {
    "tags": []
   },
   "outputs": [
    {
     "data": {
      "text/plain": [
       "<Axes: xlabel='age4', ylabel='ladder'>"
      ]
     },
     "execution_count": 15,
     "metadata": {},
     "output_type": "execute_result"
    },
    {
     "data": {
      "image/png": "[encoded data removed]",
      "text/plain": [
       "<Figure size 640x480 with 1 Axes>"
      ]
     },
     "metadata": {},
     "output_type": "display_data"
    }
   ],
   "source": [
    "data\n",
    "sns.barplot(data=data, y='ladder', x='age4', hue='income', hue_order=['Low','Low-medium','Medium-high','High'])"
   ]
  },
  {
   "cell_type": "code",
   "execution_count": 16,
   "id": "de1c97a1-7895-4306-ac14-824e0fd044f4",
   "metadata": {
    "tags": []
   },
   "outputs": [
    {
     "data": {
      "text/plain": [
       "<seaborn.axisgrid.FacetGrid at 0x17f9b0590>"
      ]
     },
     "execution_count": 16,
     "metadata": {},
     "output_type": "execute_result"
    },
    {
     "data": {
      "image/png": "[encoded data removed]",
      "text/plain": [
       "<Figure size 640.625x500 with 1 Axes>"
      ]
     },
     "metadata": {},
     "output_type": "display_data"
    }
   ],
   "source": [
    "data\n",
    "sns.lmplot(data=data, y='ladder', x='age', hue='income', hue_order=['Low','Low-medium','Medium-high','High'], scatter=False)"
   ]
  },
  {
   "cell_type": "code",
   "execution_count": null,
   "id": "ef8332d2-c83e-419e-b7b1-7cc488ba484f",
   "metadata": {},
   "outputs": [],
   "source": []
  }
 ],
 "metadata": {
  "kernelspec": {
   "display_name": "Python 3 (ipykernel)",
   "language": "python",
   "name": "python3"
  },
  "language_info": {
   "codemirror_mode": {
    "name": "ipython",
    "version": 3
   },
   "file_extension": ".py",
   "mimetype": "text/x-python",
   "name": "python",
   "nbconvert_exporter": "python",
   "pygments_lexer": "ipython3",
   "version": "3.11.7"
  }
 },
 "nbformat": 4,
 "nbformat_minor": 5
}