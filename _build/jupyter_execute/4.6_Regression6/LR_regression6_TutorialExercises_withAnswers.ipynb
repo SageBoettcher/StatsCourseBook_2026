{
 "cells": [
  {
   "cell_type": "markdown",
   "id": "362e9bc8",
   "metadata": {},
   "source": [
    "# Tutorial Exercises - regression 6"
   ]
  },
  {
   "cell_type": "code",
   "execution_count": 1,
   "id": "0042bba4",
   "metadata": {},
   "outputs": [],
   "source": [
    "# Set-up Python libraries - you need to run this but you don't need to change it\n",
    "import numpy as np\n",
    "import matplotlib.pyplot as plt\n",
    "import scipy.stats as stats\n",
    "import pandas \n",
    "import seaborn as sns\n",
    "import statsmodels.api as sm\n",
    "import statsmodels.formula.api as smf"
   ]
  },
  {
   "cell_type": "markdown",
   "id": "594d6b64",
   "metadata": {},
   "source": [
    "### a. Load and inspect data"
   ]
  },
  {
   "cell_type": "code",
   "execution_count": 2,
   "id": "05bccdda",
   "metadata": {},
   "outputs": [
    {
     "data": {
      "text/html": [
       "<div>\n",
       "<style scoped>\n",
       "    .dataframe tbody tr th:only-of-type {\n",
       "        vertical-align: middle;\n",
       "    }\n",
       "\n",
       "    .dataframe tbody tr th {\n",
       "        vertical-align: top;\n",
       "    }\n",
       "\n",
       "    .dataframe thead th {\n",
       "        text-align: right;\n",
       "    }\n",
       "</style>\n",
       "<table border=\"1\" class=\"dataframe\">\n",
       "  <thead>\n",
       "    <tr style=\"text-align: right;\">\n",
       "      <th></th>\n",
       "      <th>age</th>\n",
       "      <th>eduyrs</th>\n",
       "      <th>home</th>\n",
       "      <th>skills</th>\n",
       "      <th>daily</th>\n",
       "      <th>inc4</th>\n",
       "    </tr>\n",
       "  </thead>\n",
       "  <tbody>\n",
       "    <tr>\n",
       "      <th>0</th>\n",
       "      <td>76</td>\n",
       "      <td>12</td>\n",
       "      <td>No</td>\n",
       "      <td>0</td>\n",
       "      <td>0</td>\n",
       "      <td>Mid-high</td>\n",
       "    </tr>\n",
       "    <tr>\n",
       "      <th>1</th>\n",
       "      <td>50</td>\n",
       "      <td>16</td>\n",
       "      <td>No</td>\n",
       "      <td>8</td>\n",
       "      <td>1</td>\n",
       "      <td>Mid-high</td>\n",
       "    </tr>\n",
       "    <tr>\n",
       "      <th>2</th>\n",
       "      <td>51</td>\n",
       "      <td>11</td>\n",
       "      <td>Yes</td>\n",
       "      <td>5</td>\n",
       "      <td>1</td>\n",
       "      <td>Mid-high</td>\n",
       "    </tr>\n",
       "    <tr>\n",
       "      <th>3</th>\n",
       "      <td>70</td>\n",
       "      <td>17</td>\n",
       "      <td>Yes</td>\n",
       "      <td>0</td>\n",
       "      <td>1</td>\n",
       "      <td>Mid-low</td>\n",
       "    </tr>\n",
       "    <tr>\n",
       "      <th>4</th>\n",
       "      <td>48</td>\n",
       "      <td>12</td>\n",
       "      <td>Yes</td>\n",
       "      <td>4</td>\n",
       "      <td>1</td>\n",
       "      <td>Mid-low</td>\n",
       "    </tr>\n",
       "    <tr>\n",
       "      <th>...</th>\n",
       "      <td>...</td>\n",
       "      <td>...</td>\n",
       "      <td>...</td>\n",
       "      <td>...</td>\n",
       "      <td>...</td>\n",
       "      <td>...</td>\n",
       "    </tr>\n",
       "    <tr>\n",
       "      <th>10614</th>\n",
       "      <td>23</td>\n",
       "      <td>17</td>\n",
       "      <td>Yes</td>\n",
       "      <td>12</td>\n",
       "      <td>1</td>\n",
       "      <td>Mid-low</td>\n",
       "    </tr>\n",
       "    <tr>\n",
       "      <th>10615</th>\n",
       "      <td>64</td>\n",
       "      <td>14</td>\n",
       "      <td>Yes</td>\n",
       "      <td>0</td>\n",
       "      <td>0</td>\n",
       "      <td>Mid-high</td>\n",
       "    </tr>\n",
       "    <tr>\n",
       "      <th>10616</th>\n",
       "      <td>72</td>\n",
       "      <td>12</td>\n",
       "      <td>Yes</td>\n",
       "      <td>3</td>\n",
       "      <td>0</td>\n",
       "      <td>Mid-high</td>\n",
       "    </tr>\n",
       "    <tr>\n",
       "      <th>10617</th>\n",
       "      <td>33</td>\n",
       "      <td>16</td>\n",
       "      <td>Yes</td>\n",
       "      <td>5</td>\n",
       "      <td>1</td>\n",
       "      <td>Mid-high</td>\n",
       "    </tr>\n",
       "    <tr>\n",
       "      <th>10618</th>\n",
       "      <td>42</td>\n",
       "      <td>16</td>\n",
       "      <td>Yes</td>\n",
       "      <td>8</td>\n",
       "      <td>1</td>\n",
       "      <td>Mid-low</td>\n",
       "    </tr>\n",
       "  </tbody>\n",
       "</table>\n",
       "<p>10619 rows × 6 columns</p>\n",
       "</div>"
      ],
      "text/plain": [
       "       age  eduyrs home  skills  daily      inc4\n",
       "0       76      12   No       0      0  Mid-high\n",
       "1       50      16   No       8      1  Mid-high\n",
       "2       51      11  Yes       5      1  Mid-high\n",
       "3       70      17  Yes       0      1   Mid-low\n",
       "4       48      12  Yes       4      1   Mid-low\n",
       "...    ...     ...  ...     ...    ...       ...\n",
       "10614   23      17  Yes      12      1   Mid-low\n",
       "10615   64      14  Yes       0      0  Mid-high\n",
       "10616   72      12  Yes       3      0  Mid-high\n",
       "10617   33      16  Yes       5      1  Mid-high\n",
       "10618   42      16  Yes       8      1   Mid-low\n",
       "\n",
       "[10619 rows x 6 columns]"
      ]
     },
     "execution_count": 2,
     "metadata": {},
     "output_type": "execute_result"
    }
   ],
   "source": [
    "digital = pandas.read_csv('digital.csv')\n",
    "digital"
   ]
  },
  {
   "cell_type": "markdown",
   "id": "011c4842",
   "metadata": {},
   "source": [
    "### b. Replace 999 with NaN"
   ]
  },
  {
   "cell_type": "code",
   "execution_count": 3,
   "id": "71f1031c",
   "metadata": {},
   "outputs": [
    {
     "name": "stderr",
     "output_type": "stream",
     "text": [
      "/opt/anaconda3/anaconda3/lib/python3.11/site-packages/numpy/core/fromnumeric.py:86: FutureWarning: The behavior of DataFrame.sum with axis=None is deprecated, in a future version this will reduce over both axes and return a scalar. To retain the old behavior, pass axis=0 (or do not pass axis)\n",
      "  return reduction(axis=axis, out=out, **passkwargs)\n"
     ]
    },
    {
     "data": {
      "text/plain": [
       "age         0\n",
       "eduyrs      0\n",
       "home        0\n",
       "skills    123\n",
       "daily      10\n",
       "inc4        0\n",
       "dtype: int64"
      ]
     },
     "execution_count": 3,
     "metadata": {},
     "output_type": "execute_result"
    }
   ],
   "source": [
    "# locate the offending items\n",
    "np.sum(digital==999)"
   ]
  },
  {
   "cell_type": "code",
   "execution_count": 4,
   "id": "9735b8f0",
   "metadata": {},
   "outputs": [
    {
     "data": {
      "text/plain": [
       "age       0\n",
       "eduyrs    0\n",
       "home      0\n",
       "skills    0\n",
       "daily     0\n",
       "inc4      0\n",
       "dtype: int64"
      ]
     },
     "execution_count": 4,
     "metadata": {},
     "output_type": "execute_result"
    }
   ],
   "source": [
    "# replace them\n",
    "digital.loc[digital.skills==999,'skills']=np.nan\n",
    "digital.loc[digital.daily==999,'daily']=np.nan\n",
    "\n",
    "# check they've gone\n",
    "np.sum(digital==999)"
   ]
  },
  {
   "cell_type": "code",
   "execution_count": 5,
   "id": "7c1d2d47",
   "metadata": {},
   "outputs": [
    {
     "data": {
      "text/plain": [
       "age         0\n",
       "eduyrs      0\n",
       "home        0\n",
       "skills    123\n",
       "daily      10\n",
       "inc4        0\n",
       "dtype: int64"
      ]
     },
     "execution_count": 5,
     "metadata": {},
     "output_type": "execute_result"
    }
   ],
   "source": [
    "# check Nans are there instead\n",
    "digital.isna().sum()"
   ]
  },
  {
   "cell_type": "markdown",
   "id": "65d86d94",
   "metadata": {},
   "source": [
    "### c. Find outlier in `eduyrs`"
   ]
  },
  {
   "cell_type": "code",
   "execution_count": 6,
   "id": "6f531afa",
   "metadata": {},
   "outputs": [
    {
     "data": {
      "text/plain": [
       "1520      0\n",
       "2985      0\n",
       "227       0\n",
       "2319      0\n",
       "1102      0\n",
       "       ... \n",
       "7197     30\n",
       "9464     30\n",
       "7307     30\n",
       "6649     30\n",
       "10      112\n",
       "Name: eduyrs, Length: 10619, dtype: int64"
      ]
     },
     "execution_count": 6,
     "metadata": {},
     "output_type": "execute_result"
    }
   ],
   "source": [
    "# sort the values to find the outlier\n",
    "digital.eduyrs.sort_values()"
   ]
  },
  {
   "cell_type": "code",
   "execution_count": 7,
   "id": "f8aae42e",
   "metadata": {},
   "outputs": [
    {
     "data": {
      "text/plain": [
       "<Axes: xlabel='eduyrs', ylabel='Count'>"
      ]
     },
     "execution_count": 7,
     "metadata": {},
     "output_type": "execute_result"
    },
    {
     "data": {
      "image/png": "[encoded data removed]",
      "text/plain": [
       "<Figure size 640x480 with 1 Axes>"
      ]
     },
     "metadata": {},
     "output_type": "display_data"
    }
   ],
   "source": [
    "sns.histplot(data=digital, x='eduyrs')"
   ]
  },
  {
   "cell_type": "code",
   "execution_count": 8,
   "id": "944fb95e",
   "metadata": {},
   "outputs": [
    {
     "data": {
      "text/plain": [
       "1102     0.0\n",
       "2654     0.0\n",
       "1017     0.0\n",
       "1016     0.0\n",
       "2934     0.0\n",
       "        ... \n",
       "4631    30.0\n",
       "5884    30.0\n",
       "6649    30.0\n",
       "7307    30.0\n",
       "10       NaN\n",
       "Name: eduyrs, Length: 10619, dtype: float64"
      ]
     },
     "execution_count": 8,
     "metadata": {},
     "output_type": "execute_result"
    }
   ],
   "source": [
    "# replace it with NaN\n",
    "digital.loc[digital.eduyrs>100,'eduyrs']=np.nan\n",
    "\n",
    "# check it's gone\n",
    "digital.eduyrs.sort_values()"
   ]
  },
  {
   "cell_type": "markdown",
   "id": "d876ac92",
   "metadata": {},
   "source": [
    "**Note** we were informed that there was *one* unrealistic value to replace, hence sorting (to find the min and max values) is a good approach\n",
    "\n",
    "If we didn't know how many outliers there might be, I would have checked for them by plotting the data instead"
   ]
  },
  {
   "cell_type": "markdown",
   "id": "2d3725c9",
   "metadata": {},
   "source": [
    "### d. Create a bar plot to show differences in mean digital skill level, by income. Comment on the results."
   ]
  },
  {
   "cell_type": "code",
   "execution_count": 9,
   "id": "8dfcd598",
   "metadata": {},
   "outputs": [
    {
     "data": {
      "text/plain": [
       "<Axes: xlabel='inc4', ylabel='skills'>"
      ]
     },
     "execution_count": 9,
     "metadata": {},
     "output_type": "execute_result"
    },
    {
     "data": {
      "image/png": "[encoded data removed]",
      "text/plain": [
       "<Figure size 640x480 with 1 Axes>"
      ]
     },
     "metadata": {},
     "output_type": "display_data"
    }
   ],
   "source": [
    "# use sns barplot; put bars in sensible order so pattern can be perceived\n",
    "sns.barplot(data=digital, x='inc4', y='skills', order=['Lowest','Mid-low','Mid-high','Highest'])"
   ]
  },
  {
   "cell_type": "markdown",
   "id": "a1e26af7",
   "metadata": {},
   "source": [
    "**Comments** Digital skills increase as income increases"
   ]
  },
  {
   "cell_type": "markdown",
   "id": "f7cc4944",
   "metadata": {},
   "source": [
    "### e. Multiple linear regression analysis\n",
    "\n",
    "Examine the association between digital skills $y$ and the following $x$ variables: age, eduyrs, daily and inc4."
   ]
  },
  {
   "cell_type": "code",
   "execution_count": 10,
   "id": "bd6c3fb6",
   "metadata": {},
   "outputs": [
    {
     "data": {
      "text/html": [
       "<table class=\"simpletable\">\n",
       "<caption>OLS Regression Results</caption>\n",
       "<tr>\n",
       "  <th>Dep. Variable:</th>         <td>skills</td>      <th>  R-squared:         </th> <td>   0.506</td> \n",
       "</tr>\n",
       "<tr>\n",
       "  <th>Model:</th>                   <td>OLS</td>       <th>  Adj. R-squared:    </th> <td>   0.505</td> \n",
       "</tr>\n",
       "<tr>\n",
       "  <th>Method:</th>             <td>Least Squares</td>  <th>  F-statistic:       </th> <td>   1786.</td> \n",
       "</tr>\n",
       "<tr>\n",
       "  <th>Date:</th>             <td>Mon, 11 Nov 2024</td> <th>  Prob (F-statistic):</th>  <td>  0.00</td>  \n",
       "</tr>\n",
       "<tr>\n",
       "  <th>Time:</th>                 <td>13:07:26</td>     <th>  Log-Likelihood:    </th> <td> -26297.</td> \n",
       "</tr>\n",
       "<tr>\n",
       "  <th>No. Observations:</th>      <td> 10485</td>      <th>  AIC:               </th> <td>5.261e+04</td>\n",
       "</tr>\n",
       "<tr>\n",
       "  <th>Df Residuals:</th>          <td> 10478</td>      <th>  BIC:               </th> <td>5.266e+04</td>\n",
       "</tr>\n",
       "<tr>\n",
       "  <th>Df Model:</th>              <td>     6</td>      <th>                     </th>     <td> </td>    \n",
       "</tr>\n",
       "<tr>\n",
       "  <th>Covariance Type:</th>      <td>nonrobust</td>    <th>                     </th>     <td> </td>    \n",
       "</tr>\n",
       "</table>\n",
       "<table class=\"simpletable\">\n",
       "<tr>\n",
       "           <td></td>              <th>coef</th>     <th>std err</th>      <th>t</th>      <th>P>|t|</th>  <th>[0.025</th>    <th>0.975]</th>  \n",
       "</tr>\n",
       "<tr>\n",
       "  <th>Intercept</th>           <td>    5.4845</td> <td>    0.191</td> <td>   28.770</td> <td> 0.000</td> <td>    5.111</td> <td>    5.858</td>\n",
       "</tr>\n",
       "<tr>\n",
       "  <th>C(inc4)[T.Lowest]</th>   <td>   -1.4340</td> <td>    0.097</td> <td>  -14.803</td> <td> 0.000</td> <td>   -1.624</td> <td>   -1.244</td>\n",
       "</tr>\n",
       "<tr>\n",
       "  <th>C(inc4)[T.Mid-high]</th> <td>   -0.4350</td> <td>    0.087</td> <td>   -5.026</td> <td> 0.000</td> <td>   -0.605</td> <td>   -0.265</td>\n",
       "</tr>\n",
       "<tr>\n",
       "  <th>C(inc4)[T.Mid-low]</th>  <td>   -1.0097</td> <td>    0.094</td> <td>  -10.708</td> <td> 0.000</td> <td>   -1.195</td> <td>   -0.825</td>\n",
       "</tr>\n",
       "<tr>\n",
       "  <th>age</th>                 <td>   -0.0734</td> <td>    0.002</td> <td>  -38.762</td> <td> 0.000</td> <td>   -0.077</td> <td>   -0.070</td>\n",
       "</tr>\n",
       "<tr>\n",
       "  <th>eduyrs</th>              <td>    0.2542</td> <td>    0.009</td> <td>   29.860</td> <td> 0.000</td> <td>    0.238</td> <td>    0.271</td>\n",
       "</tr>\n",
       "<tr>\n",
       "  <th>daily</th>               <td>    2.9441</td> <td>    0.074</td> <td>   39.614</td> <td> 0.000</td> <td>    2.798</td> <td>    3.090</td>\n",
       "</tr>\n",
       "</table>\n",
       "<table class=\"simpletable\">\n",
       "<tr>\n",
       "  <th>Omnibus:</th>       <td> 8.325</td> <th>  Durbin-Watson:     </th> <td>   1.890</td>\n",
       "</tr>\n",
       "<tr>\n",
       "  <th>Prob(Omnibus):</th> <td> 0.016</td> <th>  Jarque-Bera (JB):  </th> <td>   8.644</td>\n",
       "</tr>\n",
       "<tr>\n",
       "  <th>Skew:</th>          <td> 0.046</td> <th>  Prob(JB):          </th> <td>  0.0133</td>\n",
       "</tr>\n",
       "<tr>\n",
       "  <th>Kurtosis:</th>      <td> 3.106</td> <th>  Cond. No.          </th> <td>    404.</td>\n",
       "</tr>\n",
       "</table><br/><br/>Notes:<br/>[1] Standard Errors assume that the covariance matrix of the errors is correctly specified."
      ],
      "text/latex": [
       "\\begin{center}\n",
       "\\begin{tabular}{lclc}\n",
       "\\toprule\n",
       "\\textbf{Dep. Variable:}      &      skills      & \\textbf{  R-squared:         } &     0.506   \\\\\n",
       "\\textbf{Model:}              &       OLS        & \\textbf{  Adj. R-squared:    } &     0.505   \\\\\n",
       "\\textbf{Method:}             &  Least Squares   & \\textbf{  F-statistic:       } &     1786.   \\\\\n",
       "\\textbf{Date:}               & Mon, 11 Nov 2024 & \\textbf{  Prob (F-statistic):} &     0.00    \\\\\n",
       "\\textbf{Time:}               &     13:07:26     & \\textbf{  Log-Likelihood:    } &   -26297.   \\\\\n",
       "\\textbf{No. Observations:}   &       10485      & \\textbf{  AIC:               } & 5.261e+04   \\\\\n",
       "\\textbf{Df Residuals:}       &       10478      & \\textbf{  BIC:               } & 5.266e+04   \\\\\n",
       "\\textbf{Df Model:}           &           6      & \\textbf{                     } &             \\\\\n",
       "\\textbf{Covariance Type:}    &    nonrobust     & \\textbf{                     } &             \\\\\n",
       "\\bottomrule\n",
       "\\end{tabular}\n",
       "\\begin{tabular}{lcccccc}\n",
       "                             & \\textbf{coef} & \\textbf{std err} & \\textbf{t} & \\textbf{P$> |$t$|$} & \\textbf{[0.025} & \\textbf{0.975]}  \\\\\n",
       "\\midrule\n",
       "\\textbf{Intercept}           &       5.4845  &        0.191     &    28.770  &         0.000        &        5.111    &        5.858     \\\\\n",
       "\\textbf{C(inc4)[T.Lowest]}   &      -1.4340  &        0.097     &   -14.803  &         0.000        &       -1.624    &       -1.244     \\\\\n",
       "\\textbf{C(inc4)[T.Mid-high]} &      -0.4350  &        0.087     &    -5.026  &         0.000        &       -0.605    &       -0.265     \\\\\n",
       "\\textbf{C(inc4)[T.Mid-low]}  &      -1.0097  &        0.094     &   -10.708  &         0.000        &       -1.195    &       -0.825     \\\\\n",
       "\\textbf{age}                 &      -0.0734  &        0.002     &   -38.762  &         0.000        &       -0.077    &       -0.070     \\\\\n",
       "\\textbf{eduyrs}              &       0.2542  &        0.009     &    29.860  &         0.000        &        0.238    &        0.271     \\\\\n",
       "\\textbf{daily}               &       2.9441  &        0.074     &    39.614  &         0.000        &        2.798    &        3.090     \\\\\n",
       "\\bottomrule\n",
       "\\end{tabular}\n",
       "\\begin{tabular}{lclc}\n",
       "\\textbf{Omnibus:}       &  8.325 & \\textbf{  Durbin-Watson:     } &    1.890  \\\\\n",
       "\\textbf{Prob(Omnibus):} &  0.016 & \\textbf{  Jarque-Bera (JB):  } &    8.644  \\\\\n",
       "\\textbf{Skew:}          &  0.046 & \\textbf{  Prob(JB):          } &   0.0133  \\\\\n",
       "\\textbf{Kurtosis:}      &  3.106 & \\textbf{  Cond. No.          } &     404.  \\\\\n",
       "\\bottomrule\n",
       "\\end{tabular}\n",
       "%\\caption{OLS Regression Results}\n",
       "\\end{center}\n",
       "\n",
       "Notes: \\newline\n",
       " [1] Standard Errors assume that the covariance matrix of the errors is correctly specified."
      ],
      "text/plain": [
       "<class 'statsmodels.iolib.summary.Summary'>\n",
       "\"\"\"\n",
       "                            OLS Regression Results                            \n",
       "==============================================================================\n",
       "Dep. Variable:                 skills   R-squared:                       0.506\n",
       "Model:                            OLS   Adj. R-squared:                  0.505\n",
       "Method:                 Least Squares   F-statistic:                     1786.\n",
       "Date:                Mon, 11 Nov 2024   Prob (F-statistic):               0.00\n",
       "Time:                        13:07:26   Log-Likelihood:                -26297.\n",
       "No. Observations:               10485   AIC:                         5.261e+04\n",
       "Df Residuals:                   10478   BIC:                         5.266e+04\n",
       "Df Model:                           6                                         \n",
       "Covariance Type:            nonrobust                                         \n",
       "=======================================================================================\n",
       "                          coef    std err          t      P>|t|      [0.025      0.975]\n",
       "---------------------------------------------------------------------------------------\n",
       "Intercept               5.4845      0.191     28.770      0.000       5.111       5.858\n",
       "C(inc4)[T.Lowest]      -1.4340      0.097    -14.803      0.000      -1.624      -1.244\n",
       "C(inc4)[T.Mid-high]    -0.4350      0.087     -5.026      0.000      -0.605      -0.265\n",
       "C(inc4)[T.Mid-low]     -1.0097      0.094    -10.708      0.000      -1.195      -0.825\n",
       "age                    -0.0734      0.002    -38.762      0.000      -0.077      -0.070\n",
       "eduyrs                  0.2542      0.009     29.860      0.000       0.238       0.271\n",
       "daily                   2.9441      0.074     39.614      0.000       2.798       3.090\n",
       "==============================================================================\n",
       "Omnibus:                        8.325   Durbin-Watson:                   1.890\n",
       "Prob(Omnibus):                  0.016   Jarque-Bera (JB):                8.644\n",
       "Skew:                           0.046   Prob(JB):                       0.0133\n",
       "Kurtosis:                       3.106   Cond. No.                         404.\n",
       "==============================================================================\n",
       "\n",
       "Notes:\n",
       "[1] Standard Errors assume that the covariance matrix of the errors is correctly specified.\n",
       "\"\"\""
      ]
     },
     "execution_count": 10,
     "metadata": {},
     "output_type": "execute_result"
    }
   ],
   "source": [
    "# first we run this line to tell statsmodels where to find the data and the explanatory variables\n",
    "reg_formula = sm.regression.linear_model.OLS.from_formula(data = digital, formula = 'skills ~ age + eduyrs + daily + C(inc4) ')\n",
    "\n",
    "# then we run this line to fit the regression (work out the values of intercept and slope)\n",
    "# the output is a structure which we will call reg_results\n",
    "reg_results = reg_formula.fit()\n",
    "\n",
    "# let's view a summary of the regression results\n",
    "reg_results.summary() "
   ]
  },
  {
   "cell_type": "markdown",
   "id": "1f04686f",
   "metadata": {},
   "source": [
    "### Interpretation\n",
    "\n",
    "**Mention the size, sign, and statistical significance of the slope coefficients.**\n",
    "\n",
    "There is a negative effect of **age** such that for each additional year of age, skills decreased by 0.073 points (beta = -0.073). This was statistically significant (p<0.0005)\n",
    "\n",
    "There is a positive effect of **eduyrs** such that for each additional year of education, skills increased by 0.25 points (beta = 0.25). This was statistically significant (p<0.0005)\n",
    "\n",
    "There is a positive effect of **daily** internet use, such that fthose who used the internet daily had skills on average 2.9 points higher than those who did not (beta = 2.9). This was statistically significant (p<0.0005)\n",
    "\n",
    "There is a positive effect of **income** on skills; all income catcgories had significantly higher mean skills that the **Lowest** income group, with skills increasing as income increased. People in the Mid-Low, Mid-High and Highesy income groups had on average skills 0.42, 1.0 and 1.4 points higher than those in the lowest groups (betas are 0.42, 1.0 and 1.4 respectively).  All differences from the reference category (Lowest) were statistically significant (p<0.0005)\n",
    "\n",
    "**Report the R-squared and interpret.**\n",
    "\n",
    "The adjusted R^2 is 0.505, meaning the model explains 50.5% of the varianbce in idigital skills; this is a pretty good model although some sources of variation remain uncaptured"
   ]
  },
  {
   "cell_type": "markdown",
   "id": "582632c5",
   "metadata": {},
   "source": [
    "### f. Causality\n",
    "\n",
    "How good is the evidence, from this model, that the relationship between the daily internet use\n",
    "and digital skills is a causal relationship?\n",
    "\n",
    "Although there is a strong relationship between daily internet use and high digital skills, we cannot determine the direction of causality - maybe those with poor digital skills avoid internet use, maybe those who don't have access to the internet have poor digital skills as a consequence, or maybe there is a feedback loop.\n",
    "\n",
    "The data are from a  cross sectional survey. To determine causality we should use an experiment in which people with low skills are randomly assigned to use the internet daily (or not). Or we could use a natural experiment in which some people don't have access to the internet for reasons outside their control. "
   ]
  },
  {
   "cell_type": "markdown",
   "id": "d7ba14d4",
   "metadata": {},
   "source": [
    "### g. Logistic regression\n",
    "\n",
    "Using the variable ‘daily’ as the outcome variable, run a logistic regression model. Include the\n",
    "following 𝑥 variables: age, eduyrs, inc4, and home"
   ]
  },
  {
   "cell_type": "code",
   "execution_count": 11,
   "id": "4ca426c9",
   "metadata": {},
   "outputs": [
    {
     "name": "stdout",
     "output_type": "stream",
     "text": [
      "Optimization terminated successfully.\n",
      "         Current function value: 0.412818\n",
      "         Iterations 7\n"
     ]
    },
    {
     "data": {
      "text/html": [
       "<table class=\"simpletable\">\n",
       "<caption>Logit Regression Results</caption>\n",
       "<tr>\n",
       "  <th>Dep. Variable:</th>         <td>daily</td>      <th>  No. Observations:  </th>  <td> 10608</td> \n",
       "</tr>\n",
       "<tr>\n",
       "  <th>Model:</th>                 <td>Logit</td>      <th>  Df Residuals:      </th>  <td> 10601</td> \n",
       "</tr>\n",
       "<tr>\n",
       "  <th>Method:</th>                 <td>MLE</td>       <th>  Df Model:          </th>  <td>     6</td> \n",
       "</tr>\n",
       "<tr>\n",
       "  <th>Date:</th>            <td>Mon, 11 Nov 2024</td> <th>  Pseudo R-squ.:     </th>  <td>0.3395</td> \n",
       "</tr>\n",
       "<tr>\n",
       "  <th>Time:</th>                <td>13:07:26</td>     <th>  Log-Likelihood:    </th> <td> -4379.2</td>\n",
       "</tr>\n",
       "<tr>\n",
       "  <th>converged:</th>             <td>True</td>       <th>  LL-Null:           </th> <td> -6630.4</td>\n",
       "</tr>\n",
       "<tr>\n",
       "  <th>Covariance Type:</th>     <td>nonrobust</td>    <th>  LLR p-value:       </th>  <td> 0.000</td> \n",
       "</tr>\n",
       "</table>\n",
       "<table class=\"simpletable\">\n",
       "<tr>\n",
       "          <td></td>            <th>coef</th>     <th>std err</th>      <th>z</th>      <th>P>|z|</th>  <th>[0.025</th>    <th>0.975]</th>  \n",
       "</tr>\n",
       "<tr>\n",
       "  <th>Intercept</th>        <td>    0.3572</td> <td>    0.199</td> <td>    1.797</td> <td> 0.072</td> <td>   -0.032</td> <td>    0.747</td>\n",
       "</tr>\n",
       "<tr>\n",
       "  <th>inc4[T.Lowest]</th>   <td>   -1.1296</td> <td>    0.099</td> <td>  -11.459</td> <td> 0.000</td> <td>   -1.323</td> <td>   -0.936</td>\n",
       "</tr>\n",
       "<tr>\n",
       "  <th>inc4[T.Mid-high]</th> <td>   -0.5867</td> <td>    0.096</td> <td>   -6.127</td> <td> 0.000</td> <td>   -0.774</td> <td>   -0.399</td>\n",
       "</tr>\n",
       "<tr>\n",
       "  <th>inc4[T.Mid-low]</th>  <td>   -0.9251</td> <td>    0.098</td> <td>   -9.484</td> <td> 0.000</td> <td>   -1.116</td> <td>   -0.734</td>\n",
       "</tr>\n",
       "<tr>\n",
       "  <th>home[T.Yes]</th>      <td>    2.7490</td> <td>    0.105</td> <td>   26.164</td> <td> 0.000</td> <td>    2.543</td> <td>    2.955</td>\n",
       "</tr>\n",
       "<tr>\n",
       "  <th>age</th>              <td>   -0.0489</td> <td>    0.002</td> <td>  -27.552</td> <td> 0.000</td> <td>   -0.052</td> <td>   -0.045</td>\n",
       "</tr>\n",
       "<tr>\n",
       "  <th>eduyrs</th>           <td>    0.1132</td> <td>    0.008</td> <td>   13.875</td> <td> 0.000</td> <td>    0.097</td> <td>    0.129</td>\n",
       "</tr>\n",
       "</table>"
      ],
      "text/latex": [
       "\\begin{center}\n",
       "\\begin{tabular}{lclc}\n",
       "\\toprule\n",
       "\\textbf{Dep. Variable:}   &      daily       & \\textbf{  No. Observations:  } &    10608    \\\\\n",
       "\\textbf{Model:}           &      Logit       & \\textbf{  Df Residuals:      } &    10601    \\\\\n",
       "\\textbf{Method:}          &       MLE        & \\textbf{  Df Model:          } &        6    \\\\\n",
       "\\textbf{Date:}            & Mon, 11 Nov 2024 & \\textbf{  Pseudo R-squ.:     } &   0.3395    \\\\\n",
       "\\textbf{Time:}            &     13:07:26     & \\textbf{  Log-Likelihood:    } &   -4379.2   \\\\\n",
       "\\textbf{converged:}       &       True       & \\textbf{  LL-Null:           } &   -6630.4   \\\\\n",
       "\\textbf{Covariance Type:} &    nonrobust     & \\textbf{  LLR p-value:       } &    0.000    \\\\\n",
       "\\bottomrule\n",
       "\\end{tabular}\n",
       "\\begin{tabular}{lcccccc}\n",
       "                          & \\textbf{coef} & \\textbf{std err} & \\textbf{z} & \\textbf{P$> |$z$|$} & \\textbf{[0.025} & \\textbf{0.975]}  \\\\\n",
       "\\midrule\n",
       "\\textbf{Intercept}        &       0.3572  &        0.199     &     1.797  &         0.072        &       -0.032    &        0.747     \\\\\n",
       "\\textbf{inc4[T.Lowest]}   &      -1.1296  &        0.099     &   -11.459  &         0.000        &       -1.323    &       -0.936     \\\\\n",
       "\\textbf{inc4[T.Mid-high]} &      -0.5867  &        0.096     &    -6.127  &         0.000        &       -0.774    &       -0.399     \\\\\n",
       "\\textbf{inc4[T.Mid-low]}  &      -0.9251  &        0.098     &    -9.484  &         0.000        &       -1.116    &       -0.734     \\\\\n",
       "\\textbf{home[T.Yes]}      &       2.7490  &        0.105     &    26.164  &         0.000        &        2.543    &        2.955     \\\\\n",
       "\\textbf{age}              &      -0.0489  &        0.002     &   -27.552  &         0.000        &       -0.052    &       -0.045     \\\\\n",
       "\\textbf{eduyrs}           &       0.1132  &        0.008     &    13.875  &         0.000        &        0.097    &        0.129     \\\\\n",
       "\\bottomrule\n",
       "\\end{tabular}\n",
       "%\\caption{Logit Regression Results}\n",
       "\\end{center}"
      ],
      "text/plain": [
       "<class 'statsmodels.iolib.summary.Summary'>\n",
       "\"\"\"\n",
       "                           Logit Regression Results                           \n",
       "==============================================================================\n",
       "Dep. Variable:                  daily   No. Observations:                10608\n",
       "Model:                          Logit   Df Residuals:                    10601\n",
       "Method:                           MLE   Df Model:                            6\n",
       "Date:                Mon, 11 Nov 2024   Pseudo R-squ.:                  0.3395\n",
       "Time:                        13:07:26   Log-Likelihood:                -4379.2\n",
       "converged:                       True   LL-Null:                       -6630.4\n",
       "Covariance Type:            nonrobust   LLR p-value:                     0.000\n",
       "====================================================================================\n",
       "                       coef    std err          z      P>|z|      [0.025      0.975]\n",
       "------------------------------------------------------------------------------------\n",
       "Intercept            0.3572      0.199      1.797      0.072      -0.032       0.747\n",
       "inc4[T.Lowest]      -1.1296      0.099    -11.459      0.000      -1.323      -0.936\n",
       "inc4[T.Mid-high]    -0.5867      0.096     -6.127      0.000      -0.774      -0.399\n",
       "inc4[T.Mid-low]     -0.9251      0.098     -9.484      0.000      -1.116      -0.734\n",
       "home[T.Yes]          2.7490      0.105     26.164      0.000       2.543       2.955\n",
       "age                 -0.0489      0.002    -27.552      0.000      -0.052      -0.045\n",
       "eduyrs               0.1132      0.008     13.875      0.000       0.097       0.129\n",
       "====================================================================================\n",
       "\"\"\""
      ]
     },
     "execution_count": 11,
     "metadata": {},
     "output_type": "execute_result"
    }
   ],
   "source": [
    "# create the logistic regression model and fit it\n",
    "logistic_model = smf.logit('daily ~ age + eduyrs + inc4 + home', data=digital).fit()\n",
    "\n",
    "# print out the summary table\n",
    "logistic_model.summary()"
   ]
  },
  {
   "cell_type": "markdown",
   "id": "3b88a90f",
   "metadata": {},
   "source": [
    "**i) Which of the explanatory variables are statistically significant?**\n",
    "\n",
    "The effects of all the explanatory variables are significant (p<0.0005)\n",
    "\n",
    "**ii) Report the odds ratios for each of the explanatory variables. Explain in words how to\n",
    "interpret the odds ratio for home**"
   ]
  },
  {
   "cell_type": "code",
   "execution_count": 12,
   "id": "72fc7c2c",
   "metadata": {},
   "outputs": [
    {
     "data": {
      "text/plain": [
       "Intercept            1.429362\n",
       "inc4[T.Lowest]       0.323171\n",
       "inc4[T.Mid-high]     0.556143\n",
       "inc4[T.Mid-low]      0.396482\n",
       "home[T.Yes]         15.627188\n",
       "age                  0.952297\n",
       "eduyrs               1.119899\n",
       "dtype: float64"
      ]
     },
     "execution_count": 12,
     "metadata": {},
     "output_type": "execute_result"
    }
   ],
   "source": [
    "# obtain odd ratios by exponentiating log odds\n",
    "np.exp(logistic_model.params)"
   ]
  },
  {
   "cell_type": "markdown",
   "id": "65547db3",
   "metadata": {},
   "source": [
    "The odds ratios for each explanatory variable are given in the table above\n",
    "\n",
    "For `home` the odds ratio is 15.6, meaning that those who have an internet connection at home are 15.6 times more likely to use the internet daily than those who do not.\n",
    "\n",
    "For `eduyrs` the odds ratio is 1.12, meaning that each additional year of education is assoicated with being 1.12 times more likely to use the internet daily. \n",
    "\n",
    "For `age` the odds ratio is 0.95, meaning that each additional year of age is associated with being 5% less likely to use the internet daily. \n",
    "\n",
    "For `inc4` the odds ratios are all well below 1, showing that they are all less likely than the reference group (high income) to use the internet daily. For example, people in the lowest income group are 68% less likely (odds ratio of 0.32) compared to the high income group to use the internet daily."
   ]
  },
  {
   "cell_type": "markdown",
   "id": "b81f0a0b",
   "metadata": {},
   "source": [
    "**iii) What is the predicted probability of daily internet use for a person who is aged 75,\n",
    "has 12 years of education, a low income, and no internet access at home?**"
   ]
  },
  {
   "cell_type": "code",
   "execution_count": 13,
   "id": "9ea43d07",
   "metadata": {},
   "outputs": [
    {
     "data": {
      "text/plain": [
       "0    0.043966\n",
       "dtype: float64"
      ]
     },
     "execution_count": 13,
     "metadata": {},
     "output_type": "execute_result"
    }
   ],
   "source": [
    "vals = dict(age=75, eduyrs=12, inc4='Lowest', home='No')\n",
    "\n",
    "# Code for calculating predicted probability\n",
    "logistic_model.predict(vals)"
   ]
  },
  {
   "cell_type": "markdown",
   "id": "f4459c14",
   "metadata": {},
   "source": [
    "The predicted probability of daily internet use for this person is 4.3%"
   ]
  },
  {
   "cell_type": "markdown",
   "id": "28e21f41",
   "metadata": {},
   "source": [
    "### h) Model log likelihood\n",
    "\n",
    "Looking back at the model in g), say whether the log-likelihood of the fitted model is a significant\n",
    "improvement compared to the null model.\n",
    "\n",
    "Yes - as the LLL p-value is 0.000"
   ]
  },
  {
   "cell_type": "code",
   "execution_count": 14,
   "id": "1d02751b",
   "metadata": {},
   "outputs": [
    {
     "data": {
      "text/plain": [
       "0.6824394382128381"
      ]
     },
     "execution_count": 14,
     "metadata": {},
     "output_type": "execute_result"
    }
   ],
   "source": [
    "digital.daily.mean()"
   ]
  },
  {
   "cell_type": "code",
   "execution_count": 15,
   "id": "81c096e5-8eab-4814-b080-6e58d301e67b",
   "metadata": {},
   "outputs": [
    {
     "data": {
      "text/plain": [
       "<Axes: xlabel='age', ylabel='skills'>"
      ]
     },
     "execution_count": 15,
     "metadata": {},
     "output_type": "execute_result"
    },
    {
     "data": {
      "image/png": "[encoded data removed]",
      "text/plain": [
       "<Figure size 640x480 with 1 Axes>"
      ]
     },
     "metadata": {},
     "output_type": "display_data"
    }
   ],
   "source": [
    "#plt.figure(figsize=[15,2])\n",
    "sns.barplot(data=digital, x='age', y='skills')"
   ]
  },
  {
   "cell_type": "code",
   "execution_count": null,
   "id": "56fe117c-2f49-46b4-aed8-477a163ce837",
   "metadata": {},
   "outputs": [],
   "source": []
  }
 ],
 "metadata": {
  "kernelspec": {
   "display_name": "Python 3 (ipykernel)",
   "language": "python",
   "name": "python3"
  },
  "language_info": {
   "codemirror_mode": {
    "name": "ipython",
    "version": 3
   },
   "file_extension": ".py",
   "mimetype": "text/x-python",
   "name": "python",
   "nbconvert_exporter": "python",
   "pygments_lexer": "ipython3",
   "version": "3.11.7"
  }
 },
 "nbformat": 4,
 "nbformat_minor": 5
}