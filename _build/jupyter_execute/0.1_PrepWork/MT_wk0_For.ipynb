{
 "cells": [
  {
   "cell_type": "markdown",
   "id": "8716d8ff",
   "metadata": {},
   "source": [
    "# The FOR loop\n",
    "\n",
    "**This page (and subsequent pages) is a Jupyter Notebook. Download it or open it in Colab so you can actually run the code blocks!**\n",
    "\n",
    "The thing computers are really good at is repeating a calculation lots of times\n",
    "\n",
    "One way to do this is using a loop\n",
    "\n",
    "Here we meet the `for` loop (there is also such thing as a `while` loop which we will meet later)"
   ]
  },
  {
   "cell_type": "markdown",
   "id": "554bd33b",
   "metadata": {},
   "source": [
    "### Set up Python libraries\n",
    "\n",
    "As usual, run the code cell below to import the relevant Python libraries"
   ]
  },
  {
   "cell_type": "code",
   "execution_count": 1,
   "id": "6e215164",
   "metadata": {
    "tags": []
   },
   "outputs": [],
   "source": [
    "# Set-up Python libraries - you need to run this but you don't need to change it\n",
    "import numpy as np\n",
    "import matplotlib.pyplot as plt\n",
    "import scipy.stats as stats\n",
    "import pandas as pd\n",
    "import seaborn as sns\n",
    "sns.set_theme(style='white')\n",
    "import statsmodels.api as sm\n",
    "import statsmodels.formula.api as smf\n",
    "import warnings \n",
    "warnings.simplefilter('ignore', category=FutureWarning)"
   ]
  },
  {
   "cell_type": "markdown",
   "id": "3885a8a8",
   "metadata": {},
   "source": [
    "## My first loop\n",
    "\n",
    "Say we want the computer to repeat a task a few times - in this case, the task is to say \"hello\" three times.\n",
    "\n",
    "We can get the computer to do this using a for loop. \n",
    "\n",
    "* The `for` loop is controlled by a **counter variable** <tt>i</tt>. \n",
    "* <tt>i</tt> counts how many times we have been round the loop (in this case, how many times we have said \"hello\"). \n",
    "* When we have repeated the loop the required number of times, we stop"
   ]
  },
  {
   "cell_type": "code",
   "execution_count": 2,
   "id": "c91c0917",
   "metadata": {
    "tags": []
   },
   "outputs": [
    {
     "name": "stdout",
     "output_type": "stream",
     "text": [
      "0: hello!\n",
      "1: hello!\n",
      "2: hello!\n"
     ]
    }
   ],
   "source": [
    "for i in [0,1,2]:\n",
    "    print(str(i) + \": hello!\")"
   ]
  },
  {
   "cell_type": "markdown",
   "id": "b28813de",
   "metadata": {},
   "source": [
    "### Comprehension questions\n",
    "\n",
    "**a. See if you can change the code to say \"hello\" five times**\n",
    "\n",
    "## Setting the number of iterations\n",
    "\n",
    "The number of **iterations** is the number of times we want to go round the loop\n",
    "\n",
    "Imagine if we wanted to run the loop 100 times, it would be a bit annoying to write out all the values of <tt>i</tt> we want to use\n",
    "\n",
    "`for i in [0,1,2,3,4,5,6 ......... 100]`\n",
    "\n",
    "luckily we can generate this list automatically using `range()`\n",
    "\n",
    "for example\n",
    "\n",
    "`for i in range(5)`\n",
    "\n",
    "has the same effect as \n",
    "\n",
    "`for i in [0,1,2,3,4]`\n",
    "\n",
    "let's try it!"
   ]
  },
  {
   "cell_type": "code",
   "execution_count": 3,
   "id": "1aac2ed9-7e1c-4a71-8334-a01d93f4b602",
   "metadata": {
    "tags": []
   },
   "outputs": [
    {
     "name": "stdout",
     "output_type": "stream",
     "text": [
      "0: hello!\n",
      "1: hello!\n",
      "2: hello!\n",
      "3: hello!\n",
      "4: hello!\n"
     ]
    }
   ],
   "source": [
    "for i in range(5):\n",
    "    print(str(i) + \": hello!\")"
   ]
  },
  {
   "cell_type": "markdown",
   "id": "e7e31fe8-9384-45ec-92e2-7d24ca604d72",
   "metadata": {
    "tags": []
   },
   "source": [
    "## Changing the input on each iteration\n",
    "\n",
    "Our counter variable `i` can also be used to count through a list of inputs.\n",
    "\n",
    "Say we want to say hello to three of our friends:"
   ]
  },
  {
   "cell_type": "code",
   "execution_count": 4,
   "id": "9f54d8f6",
   "metadata": {
    "tags": []
   },
   "outputs": [
    {
     "name": "stdout",
     "output_type": "stream",
     "text": [
      "0: Hello Alan!\n",
      "1: Hello Barry!\n",
      "2: Hello Craig!\n"
     ]
    }
   ],
   "source": [
    "friends = ['Alan','Barry','Craig']\n",
    "\n",
    "for i in range(3):\n",
    "    print(str(i) + \": Hello \" + friends[i] + \"!\")\n"
   ]
  },
  {
   "cell_type": "markdown",
   "id": "4d346ad1-6060-4a29-a50b-132e8c63c341",
   "metadata": {},
   "source": [
    "Look at the print statement. `friends[i]` is getting the name from position <tt>i</tt> in our input list, <tt>friends</tt>\n",
    "\n",
    "### Comprehension Question\n",
    "\n",
    "**a. What would happen if I run the code block below?**\n",
    "* Think first, and then uncomment and run the code to check!"
   ]
  },
  {
   "cell_type": "code",
   "execution_count": 5,
   "id": "6e676d54-13ea-4094-9c36-52881451c1d9",
   "metadata": {
    "tags": []
   },
   "outputs": [],
   "source": [
    "# print(friends[2])"
   ]
  },
  {
   "cell_type": "markdown",
   "id": "500f5fcd-eb7a-4b41-aa34-d40b73345233",
   "metadata": {
    "tags": []
   },
   "source": [
    "**b. The code block below will give an error. Why?**"
   ]
  },
  {
   "cell_type": "code",
   "execution_count": 6,
   "id": "31cf2042-ca82-4ac6-ac2a-fce83ad42b64",
   "metadata": {
    "tags": []
   },
   "outputs": [],
   "source": [
    "# print(friends[4])"
   ]
  },
  {
   "cell_type": "markdown",
   "id": "4d94d922-f35d-448c-8c04-aeee2b92f750",
   "metadata": {},
   "source": [
    "### Automatically set number of iterations\n",
    "\n",
    "To avoid errors, we can autoamtically set the maximum value of <tt>i</tt> to match the length of our input list, using the function `len()`"
   ]
  },
  {
   "cell_type": "code",
   "execution_count": 7,
   "id": "cf4e29c0-e60a-4ac1-960f-486e2559d605",
   "metadata": {
    "tags": []
   },
   "outputs": [
    {
     "data": {
      "text/plain": [
       "3"
      ]
     },
     "execution_count": 7,
     "metadata": {},
     "output_type": "execute_result"
    }
   ],
   "source": [
    "len(friends)"
   ]
  },
  {
   "cell_type": "markdown",
   "id": "9c4c1ce1",
   "metadata": {},
   "source": [
    "Putting it together, we can do:"
   ]
  },
  {
   "cell_type": "code",
   "execution_count": 8,
   "id": "8cc259fc-0853-4049-9927-0b2a0791f496",
   "metadata": {
    "tags": []
   },
   "outputs": [
    {
     "name": "stdout",
     "output_type": "stream",
     "text": [
      "0: Hello Alan!\n",
      "1: Hello Barry!\n",
      "2: Hello Craig!\n"
     ]
    }
   ],
   "source": [
    "friends = ['Alan','Barry','Craig']\n",
    "\n",
    "for i in range(len(friends)):\n",
    "    print(str(i) + \": Hello \" + friends[i] + \"!\")\n"
   ]
  },
  {
   "cell_type": "markdown",
   "id": "5f65d6fc-1c76-4eda-9a69-23a8e9127e98",
   "metadata": {
    "tags": []
   },
   "source": [
    "#### Comprehension questions\n",
    "\n",
    "Say I add some friends to my list:\n",
    "    \n",
    "`friends = ['Alan','Barry','Craig','David','Egbert']`\n",
    "\n",
    "**a. What will `len(friends)` be now?**\n",
    "\n",
    "**b. What will happen if I run the code block below?**\n",
    "* This about what you expect to happen first\n",
    "* Then uncomment and run the code block to test your hypothesis\n",
    "\n"
   ]
  },
  {
   "cell_type": "code",
   "execution_count": 9,
   "id": "3db3b7c0-dc83-46be-b9ba-4904940003cc",
   "metadata": {
    "tags": []
   },
   "outputs": [],
   "source": [
    "#friends = ['Alan','Barry','Craig','David','Egbert']\n",
    "\n",
    "#for i in range(3):\n",
    "#    print(str(i) + \": Hello \" + friends[i] + \"!\")"
   ]
  },
  {
   "cell_type": "markdown",
   "id": "b46e69da-04d7-4764-bb98-94854432eef0",
   "metadata": {
    "tags": []
   },
   "source": [
    "**c. Can you fix the code block in part b?**\n",
    "\n",
    "**d. What will happen if I run the code block below?**\n",
    "* This about what you expect to happen first\n",
    "* Then uncomment and run the code block to test your hypothesis"
   ]
  },
  {
   "cell_type": "code",
   "execution_count": 10,
   "id": "4ddba953-2317-4664-9b83-857888efa393",
   "metadata": {
    "tags": []
   },
   "outputs": [],
   "source": [
    "#friends = ['Alan','Barry','Craig']\n",
    "\n",
    "#for i in range(5):\n",
    "#    print(str(i) + \": Hello \" + friends[i] + \"!\")"
   ]
  },
  {
   "cell_type": "markdown",
   "id": "538e25d6-0e15-4fc8-b030-9ac59a1f1612",
   "metadata": {
    "tags": []
   },
   "source": [
    "**e. Why do you think that happened? Can you fix the code block in part d?**"
   ]
  },
  {
   "cell_type": "markdown",
   "id": "78faec6d-cb7f-47d4-9e07-dffd4c4156ad",
   "metadata": {},
   "source": [
    "## Saving the output on each iteration\n",
    "\n",
    "Sometimes we don't just want to print an output to the screen!\n",
    "\n",
    "Instead we would like to save the outputs in a list or array so we can use them later (eg, plot them on a graph)\n",
    "\n",
    "If we want to do this we need to create an empty list or array to store them in. For our purposes, we will many be working with numbers, so a `numpy` array is a good choice\n",
    "\n",
    "**Example**\n",
    "\n",
    "Let's make a little loop that takes the numbers 0-5 and squares them:\n"
   ]
  },
  {
   "cell_type": "code",
   "execution_count": 11,
   "id": "70636a6b-15bc-459d-9f96-c2f816029a9b",
   "metadata": {
    "tags": []
   },
   "outputs": [
    {
     "name": "stdout",
     "output_type": "stream",
     "text": [
      "0 squared is 0\n",
      "1 squared is 1\n",
      "2 squared is 4\n",
      "3 squared is 9\n",
      "4 squared is 16\n",
      "5 squared is 25\n"
     ]
    }
   ],
   "source": [
    "x = [0,1,2,3,4,5]\n",
    "\n",
    "for i in range(len(x)):\n",
    "    print(str(x[i]) + ' squared is ' + str(x[i]*x[i]))"
   ]
  },
  {
   "cell_type": "markdown",
   "id": "00c85726-7817-4ff1-b537-d8f9e946f057",
   "metadata": {
    "tags": []
   },
   "source": [
    "Here we have an array of inputs - the values of <tt>x</tt>. On each loop we call the value from position <tt>i</tt> in this array using the syntax: `x[i]`\n",
    "\n",
    "* Note the similarity to the syntax `friends[i]` in the loop above\n",
    "\n",
    "### Comprehension questions\n",
    "\n",
    "**a. What is `x[4]`**\n",
    "* Think then check!\n",
    "* Don't forget in Python we count from zero!\n",
    "\n"
   ]
  },
  {
   "cell_type": "code",
   "execution_count": 12,
   "id": "9ec68f42-9154-44d7-84d9-646c8d34bec1",
   "metadata": {
    "tags": []
   },
   "outputs": [],
   "source": [
    "# print(str(x[4]))"
   ]
  },
  {
   "cell_type": "markdown",
   "id": "7c991945-dd7f-4402-9db3-0553470cf63c",
   "metadata": {
    "tags": []
   },
   "source": [
    "Now instead of printing the numbers to the screen, we create an array to save them in using `np.empty()`:"
   ]
  },
  {
   "cell_type": "code",
   "execution_count": 13,
   "id": "5caba5c1-c562-4630-9574-07332460d89f",
   "metadata": {
    "tags": []
   },
   "outputs": [],
   "source": [
    "squares = np.empty(len(x))"
   ]
  },
  {
   "cell_type": "markdown",
   "id": "75ecf883-b80d-4031-a6fe-49d14cb9a01f",
   "metadata": {
    "tags": []
   },
   "source": [
    "This created an empty `numpy` array called `squares` with the same number of 'slots' as our input array, `x`\n",
    "\n",
    "We can then fill these 'slots' in `squares` one by one on each pass through the loop"
   ]
  },
  {
   "cell_type": "code",
   "execution_count": 14,
   "id": "4d5e662b-6ab0-413e-a7ca-0cb3de303438",
   "metadata": {
    "tags": []
   },
   "outputs": [
    {
     "name": "stdout",
     "output_type": "stream",
     "text": [
      "[ 0.  1.  4.  9. 16. 25.]\n"
     ]
    }
   ],
   "source": [
    "x = [0,1,2,3,4,5]\n",
    "squares = np.empty(len(x))\n",
    "\n",
    "for i in range(len(x)):\n",
    "    squares[i] = x[i]*x[i]\n",
    "\n",
    "print(squares)"
   ]
  },
  {
   "cell_type": "markdown",
   "id": "910d9626-b2cb-487c-9236-6779aac6554f",
   "metadata": {
    "tags": []
   },
   "source": [
    "Now we have saved our output, instead of just putting it on the screen, we can do other things with it, for example plot it:\n",
    "* don't worry about the syntax for plotting, this is covered in a later session"
   ]
  },
  {
   "cell_type": "code",
   "execution_count": 15,
   "id": "8d9eb1ca-399b-43db-9a2f-c7c6ecdcbd7e",
   "metadata": {
    "tags": []
   },
   "outputs": [
    {
     "data": {
      "image/png": "[encoded data removed]",
      "text/plain": [
       "<Figure size 640x480 with 1 Axes>"
      ]
     },
     "metadata": {},
     "output_type": "display_data"
    }
   ],
   "source": [
    "plt.plot(x,squares, 'k.-')\n",
    "plt.xlabel('$x$'), plt.ylabel('$x^2$')\n",
    "plt.show()"
   ]
  },
  {
   "cell_type": "markdown",
   "id": "c6cf376e-7f6e-4232-9018-60e8a41d5302",
   "metadata": {
    "tags": []
   },
   "source": [
    "### Comprehension questions\n",
    "\n",
    "**a. When `i==2`, what are `x[i]` and `squares[i]`?**\n",
    "* Think then check!\n",
    "* Don't forget we count from zero in Python (goodness knows why!)"
   ]
  },
  {
   "cell_type": "code",
   "execution_count": 16,
   "id": "95091d63-c038-4b2b-a14f-c03ef9e9a6fe",
   "metadata": {
    "tags": []
   },
   "outputs": [],
   "source": [
    "#i=2\n",
    "#print(x[i])\n",
    "#print(squares[i])"
   ]
  },
  {
   "cell_type": "markdown",
   "id": "d51d5b47",
   "metadata": {},
   "source": [
    "## Exercise: Fibonacci Sequence\n",
    "\n",
    "Let's try out our newly learned skills by making a loop to generate the  Fibonacci sequence\n",
    "\n",
    "The Fibonacci Sequence is a sequence of numbers that begins [0,1,...] and continues by adding together the two previous numbers such that \n",
    "\n",
    "$$ x_i = x_{i-1} + x_{i-2} $$\n",
    "\n",
    "The sequence begins [0, 1, 1, 2, 3, 5, 8, 13..... ] and goes on forever.\n",
    "\n",
    "You can find some fun facts about the Fibonacci sequence <a href=\"https://www.mathsisfun.com/numbers/fibonacci-sequence.html\">here</a>:\n",
    "\n",
    "Let's make a `for` loop to calculate the first 10 elements of the Fibonacci sequence. \n",
    "* Uncomment and complete the code below"
   ]
  },
  {
   "cell_type": "code",
   "execution_count": 17,
   "id": "cae0c1a5",
   "metadata": {
    "tags": []
   },
   "outputs": [],
   "source": [
    "#n = 10 # number of elements to calculate\n",
    "#fibonaccis = np.empty(n) \n",
    "\n",
    "## get the sequence started\n",
    "#fibonaccis[0] = 0\n",
    "#fibonaccis[1] = 1\n",
    "\n",
    "#for i in range(2,n): # start in place 2 as we already set the first two elements of the sequence (places 0 and 1)\n",
    "#    fibonaccis[i] = # your code here to calculate the ith Fibonacci number\n",
    "\n",
    "## This bit will plot the Fibonacci sequence\n",
    "#plt.plot(fibonaccis,'.-')\n",
    "#plt.xlabel('$i$')\n",
    "#plt.ylabel('$x_i$')"
   ]
  },
  {
   "cell_type": "code",
   "execution_count": null,
   "id": "4b7118eb",
   "metadata": {},
   "outputs": [],
   "source": []
  }
 ],
 "metadata": {
  "kernelspec": {
   "display_name": "Python 3 (ipykernel)",
   "language": "python",
   "name": "python3"
  },
  "language_info": {
   "codemirror_mode": {
    "name": "ipython",
    "version": 3
   },
   "file_extension": ".py",
   "mimetype": "text/x-python",
   "name": "python",
   "nbconvert_exporter": "python",
   "pygments_lexer": "ipython3",
   "version": "3.11.13"
  }
 },
 "nbformat": 4,
 "nbformat_minor": 5
}