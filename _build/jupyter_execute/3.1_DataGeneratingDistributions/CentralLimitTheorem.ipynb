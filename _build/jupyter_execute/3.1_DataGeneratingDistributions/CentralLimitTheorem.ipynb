{
 "cells": [
  {
   "cell_type": "markdown",
   "id": "79234e4f",
   "metadata": {},
   "source": [
    "# Extension Work - Central Limit Theorem (reading)\n",
    "\n",
    "The relationship between the binomial and normal distributions has parallels with a really important result in statistics - the Central Limit Theorem.\n",
    "\n",
    "The central limmit theorem tells us about the random variation we would expect to get in the sample mean, if we were to take many many sammples from the same underlying population.\n",
    "\n",
    "In this notebook, we start by looking at the unusual case in which the population or parent distribution is available to us. We will simulate the process of drawing many samples of size $n$ from a parent distribution, and taking the mean of each sample. The distribution of these means, known as the sampling distribution of the mean, describes the expected random variability in the mean for different samples.\n",
    "\n",
    "We see that due to the Central Limit Theorem, when $n$ is large enough (above about 50) the sampling distribution of the mean is well approximated by a normal distribution, whose standard deviation is the standard error of the mean.\n",
    "\n",
    "### Set up Python libraries\n",
    "\n",
    "As usual, run the code cell below to import the relevant Python libraries"
   ]
  },
  {
   "cell_type": "code",
   "execution_count": 1,
   "id": "ba52cbb5",
   "metadata": {
    "tags": []
   },
   "outputs": [],
   "source": [
    "# Set-up Python libraries - you need to run this but you don't need to change it\n",
    "import numpy as np\n",
    "import matplotlib.pyplot as plt\n",
    "import scipy.stats as stats\n",
    "import pandas as pd\n",
    "import seaborn as sns\n",
    "sns.set_theme(style='white')\n",
    "import statsmodels.api as sm\n",
    "import statsmodels.formula.api as smf"
   ]
  },
  {
   "cell_type": "markdown",
   "id": "0c7807e3",
   "metadata": {},
   "source": [
    "### Load and plot the data\n",
    "\n",
    "We will work with a distinctly non-normal data distribution - the scores for a large number of individuals on a fictional 100-item political questionairre called BrexDex. \n",
    "\n",
    "The questions are designed and scored so that a high score overall score on the questionairre indicates an attitude agains Brexit, and a low score indicates an attitude in favour of Brexit.\n",
    "\n",
    "Because the scores relate to a polarizing topic, the data distribution is bimodal\n",
    "\n",
    "(These are made up data by the way!)\n",
    "\n",
    "First load the data:"
   ]
  },
  {
   "cell_type": "code",
   "execution_count": 2,
   "id": "66216ca9",
   "metadata": {
    "tags": []
   },
   "outputs": [
    {
     "data": {
      "text/html": [
       "<div>\n",
       "<style scoped>\n",
       "    .dataframe tbody tr th:only-of-type {\n",
       "        vertical-align: middle;\n",
       "    }\n",
       "\n",
       "    .dataframe tbody tr th {\n",
       "        vertical-align: top;\n",
       "    }\n",
       "\n",
       "    .dataframe thead th {\n",
       "        text-align: right;\n",
       "    }\n",
       "</style>\n",
       "<table border=\"1\" class=\"dataframe\">\n",
       "  <thead>\n",
       "    <tr style=\"text-align: right;\">\n",
       "      <th></th>\n",
       "      <th>ID_code</th>\n",
       "      <th>score</th>\n",
       "    </tr>\n",
       "  </thead>\n",
       "  <tbody>\n",
       "    <tr>\n",
       "      <th>0</th>\n",
       "      <td>186640</td>\n",
       "      <td>53</td>\n",
       "    </tr>\n",
       "    <tr>\n",
       "      <th>1</th>\n",
       "      <td>588140</td>\n",
       "      <td>90</td>\n",
       "    </tr>\n",
       "    <tr>\n",
       "      <th>2</th>\n",
       "      <td>977390</td>\n",
       "      <td>30</td>\n",
       "    </tr>\n",
       "    <tr>\n",
       "      <th>3</th>\n",
       "      <td>948470</td>\n",
       "      <td>42</td>\n",
       "    </tr>\n",
       "    <tr>\n",
       "      <th>4</th>\n",
       "      <td>564360</td>\n",
       "      <td>84</td>\n",
       "    </tr>\n",
       "    <tr>\n",
       "      <th>...</th>\n",
       "      <td>...</td>\n",
       "      <td>...</td>\n",
       "    </tr>\n",
       "    <tr>\n",
       "      <th>9995</th>\n",
       "      <td>851780</td>\n",
       "      <td>81</td>\n",
       "    </tr>\n",
       "    <tr>\n",
       "      <th>9996</th>\n",
       "      <td>698340</td>\n",
       "      <td>45</td>\n",
       "    </tr>\n",
       "    <tr>\n",
       "      <th>9997</th>\n",
       "      <td>693580</td>\n",
       "      <td>51</td>\n",
       "    </tr>\n",
       "    <tr>\n",
       "      <th>9998</th>\n",
       "      <td>872730</td>\n",
       "      <td>78</td>\n",
       "    </tr>\n",
       "    <tr>\n",
       "      <th>9999</th>\n",
       "      <td>385642</td>\n",
       "      <td>88</td>\n",
       "    </tr>\n",
       "  </tbody>\n",
       "</table>\n",
       "<p>10000 rows × 2 columns</p>\n",
       "</div>"
      ],
      "text/plain": [
       "      ID_code  score\n",
       "0      186640     53\n",
       "1      588140     90\n",
       "2      977390     30\n",
       "3      948470     42\n",
       "4      564360     84\n",
       "...       ...    ...\n",
       "9995   851780     81\n",
       "9996   698340     45\n",
       "9997   693580     51\n",
       "9998   872730     78\n",
       "9999   385642     88\n",
       "\n",
       "[10000 rows x 2 columns]"
      ]
     },
     "execution_count": 2,
     "metadata": {},
     "output_type": "execute_result"
    }
   ],
   "source": [
    "UKBrexdex=pd.read_csv('https://raw.githubusercontent.com/jillxoreilly/StatsCourseBook_2024/main/data/UKBrexdex.csv')\n",
    "UKBrexdex"
   ]
  },
  {
   "cell_type": "markdown",
   "id": "805661ec",
   "metadata": {},
   "source": [
    "We can see that the dataset contains 10,000 individuals' scores on the BrexDex questionnaire. \n",
    "\n",
    "Let's plot them to get a sense of the distribution:"
   ]
  },
  {
   "cell_type": "code",
   "execution_count": 3,
   "id": "c3d3da29",
   "metadata": {
    "tags": []
   },
   "outputs": [
    {
     "name": "stderr",
     "output_type": "stream",
     "text": [
      "/opt/anaconda3/anaconda3/lib/python3.11/site-packages/seaborn/_oldcore.py:1119: FutureWarning: use_inf_as_na option is deprecated and will be removed in a future version. Convert inf values to NaN before operating instead.\n",
      "  with pd.option_context('mode.use_inf_as_na', True):\n"
     ]
    },
    {
     "data": {
      "image/png": "[encoded data removed]",
      "text/plain": [
       "<Figure size 640x480 with 1 Axes>"
      ]
     },
     "metadata": {},
     "output_type": "display_data"
    }
   ],
   "source": [
    "sns.histplot(UKBrexdex['score'], bins=range(101))\n",
    "plt.xlabel('score on BrexDex')\n",
    "plt.ylabel('frequency')\n",
    "plt.show()"
   ]
  },
  {
   "cell_type": "markdown",
   "id": "3ced488a",
   "metadata": {},
   "source": [
    "Obviously, 10,000 is a very large sample (perhaps a national sample). We might be interested giving the questionnarie to a smaller group (say, 100 first year statistics students in Oxford) to see if their attitudes were similar to the larger national sample.\n",
    "\n",
    "What kind of distribution of responses would we expect to get in a sample of 100?\n",
    "\n",
    "### The sample distribution resembles the parent distribution\n",
    "\n",
    "If the Oxford students have attitudes typical of the national sample, we could simulate what their data might look like by drawing a random sample of 100 from our national dataset.\n",
    "\n",
    "We can do this using the tool <tt>numpy.random.choice</tt> which makes a random selection of datapoints from a larger dataset:"
   ]
  },
  {
   "cell_type": "code",
   "execution_count": 4,
   "id": "630da21e",
   "metadata": {
    "tags": []
   },
   "outputs": [
    {
     "name": "stdout",
     "output_type": "stream",
     "text": [
      "[42 19 23 43 37 21 27 12 33 76 34 56 44 18 79 35 31 38 85 86 16 70 38 76\n",
      " 34 78 19 22 29 43 49 22 78 44 34 32 81 21 24 12 35 38 26 76 68 78 81 74\n",
      " 13 84 79 20 99 24 22 51 38 33 34 50 83 51 17 77 10 28 79 37 33 34 39 34\n",
      " 72 83 37 22 83 32 77 18 18 83 72 76 29 16 46 31 77 81 72 52 19 27 78 55\n",
      " 38 78 80 34]\n"
     ]
    }
   ],
   "source": [
    "sample = np.random.choice(UKBrexdex['score'], 100, replace=False)\n",
    "print(sample)"
   ]
  },
  {
   "cell_type": "markdown",
   "id": "74546f62",
   "metadata": {},
   "source": [
    "Let's plot the data and compare to our national sample:"
   ]
  },
  {
   "cell_type": "code",
   "execution_count": 5,
   "id": "718d25c3",
   "metadata": {
    "tags": []
   },
   "outputs": [
    {
     "name": "stderr",
     "output_type": "stream",
     "text": [
      "/opt/anaconda3/anaconda3/lib/python3.11/site-packages/seaborn/_oldcore.py:1119: FutureWarning: use_inf_as_na option is deprecated and will be removed in a future version. Convert inf values to NaN before operating instead.\n",
      "  with pd.option_context('mode.use_inf_as_na', True):\n"
     ]
    },
    {
     "name": "stderr",
     "output_type": "stream",
     "text": [
      "/opt/anaconda3/anaconda3/lib/python3.11/site-packages/seaborn/_oldcore.py:1119: FutureWarning: use_inf_as_na option is deprecated and will be removed in a future version. Convert inf values to NaN before operating instead.\n",
      "  with pd.option_context('mode.use_inf_as_na', True):\n"
     ]
    },
    {
     "data": {
      "image/png": "[encoded data removed]",
      "text/plain": [
       "<Figure size 640x480 with 2 Axes>"
      ]
     },
     "metadata": {},
     "output_type": "display_data"
    }
   ],
   "source": [
    "plt.subplot(2,1,1)\n",
    "sns.histplot(UKBrexdex['score'], bins=range(101))\n",
    "plt.subplot(2,1,2)\n",
    "sns.histplot(sample, bins=range(0,101,5)) # use wider bins for the sample as there are fewer datapoints\n",
    "plt.xlabel('Score on Brexdex (%)')\n",
    "plt.show()"
   ]
  },
  {
   "cell_type": "markdown",
   "id": "3d87cecd",
   "metadata": {},
   "source": [
    "Hopefully we can see that the distribution within the sample resembles the shape of the distribution in the national sample, with two peaks, although somewhat noisier\n",
    "\n",
    "Let's draw a few more random samples, each time of size 100, to check this:"
   ]
  },
  {
   "cell_type": "code",
   "execution_count": 6,
   "id": "d5530cd6",
   "metadata": {
    "tags": []
   },
   "outputs": [
    {
     "name": "stderr",
     "output_type": "stream",
     "text": [
      "/opt/anaconda3/anaconda3/lib/python3.11/site-packages/seaborn/_oldcore.py:1119: FutureWarning: use_inf_as_na option is deprecated and will be removed in a future version. Convert inf values to NaN before operating instead.\n",
      "  with pd.option_context('mode.use_inf_as_na', True):\n",
      "/opt/anaconda3/anaconda3/lib/python3.11/site-packages/seaborn/_oldcore.py:1119: FutureWarning: use_inf_as_na option is deprecated and will be removed in a future version. Convert inf values to NaN before operating instead.\n",
      "  with pd.option_context('mode.use_inf_as_na', True):\n",
      "/opt/anaconda3/anaconda3/lib/python3.11/site-packages/seaborn/_oldcore.py:1119: FutureWarning: use_inf_as_na option is deprecated and will be removed in a future version. Convert inf values to NaN before operating instead.\n",
      "  with pd.option_context('mode.use_inf_as_na', True):\n",
      "/opt/anaconda3/anaconda3/lib/python3.11/site-packages/seaborn/_oldcore.py:1119: FutureWarning: use_inf_as_na option is deprecated and will be removed in a future version. Convert inf values to NaN before operating instead.\n",
      "  with pd.option_context('mode.use_inf_as_na', True):\n",
      "/opt/anaconda3/anaconda3/lib/python3.11/site-packages/seaborn/_oldcore.py:1119: FutureWarning: use_inf_as_na option is deprecated and will be removed in a future version. Convert inf values to NaN before operating instead.\n",
      "  with pd.option_context('mode.use_inf_as_na', True):\n",
      "/opt/anaconda3/anaconda3/lib/python3.11/site-packages/seaborn/_oldcore.py:1119: FutureWarning: use_inf_as_na option is deprecated and will be removed in a future version. Convert inf values to NaN before operating instead.\n",
      "  with pd.option_context('mode.use_inf_as_na', True):\n"
     ]
    },
    {
     "name": "stderr",
     "output_type": "stream",
     "text": [
      "/opt/anaconda3/anaconda3/lib/python3.11/site-packages/seaborn/_oldcore.py:1119: FutureWarning: use_inf_as_na option is deprecated and will be removed in a future version. Convert inf values to NaN before operating instead.\n",
      "  with pd.option_context('mode.use_inf_as_na', True):\n",
      "/opt/anaconda3/anaconda3/lib/python3.11/site-packages/seaborn/_oldcore.py:1119: FutureWarning: use_inf_as_na option is deprecated and will be removed in a future version. Convert inf values to NaN before operating instead.\n",
      "  with pd.option_context('mode.use_inf_as_na', True):\n"
     ]
    },
    {
     "name": "stderr",
     "output_type": "stream",
     "text": [
      "/opt/anaconda3/anaconda3/lib/python3.11/site-packages/seaborn/_oldcore.py:1119: FutureWarning: use_inf_as_na option is deprecated and will be removed in a future version. Convert inf values to NaN before operating instead.\n",
      "  with pd.option_context('mode.use_inf_as_na', True):\n",
      "/opt/anaconda3/anaconda3/lib/python3.11/site-packages/seaborn/_oldcore.py:1119: FutureWarning: use_inf_as_na option is deprecated and will be removed in a future version. Convert inf values to NaN before operating instead.\n",
      "  with pd.option_context('mode.use_inf_as_na', True):\n",
      "/opt/anaconda3/anaconda3/lib/python3.11/site-packages/seaborn/_oldcore.py:1119: FutureWarning: use_inf_as_na option is deprecated and will be removed in a future version. Convert inf values to NaN before operating instead.\n",
      "  with pd.option_context('mode.use_inf_as_na', True):\n",
      "/opt/anaconda3/anaconda3/lib/python3.11/site-packages/seaborn/_oldcore.py:1119: FutureWarning: use_inf_as_na option is deprecated and will be removed in a future version. Convert inf values to NaN before operating instead.\n",
      "  with pd.option_context('mode.use_inf_as_na', True):\n"
     ]
    },
    {
     "data": {
      "image/png": "[encoded data removed]",
      "text/plain": [
       "<Figure size 640x480 with 12 Axes>"
      ]
     },
     "metadata": {},
     "output_type": "display_data"
    }
   ],
   "source": [
    "plt.figure()\n",
    "\n",
    "for i in range(1,13):\n",
    "    sample = np.random.choice(UKBrexdex['score'], 100, replace=False)\n",
    "    plt.subplot(3,4,i)\n",
    "    sns.histplot(sample, bins=range(0,101,5)) # use wider bins for the sample as there are fewer datapoints   \n",
    "\n",
    "plt.tight_layout()    \n",
    "plt.show()"
   ]
  },
  {
   "cell_type": "markdown",
   "id": "aca85f8e",
   "metadata": {},
   "source": [
    "Notice that we always manage to reproduce the bimodal shape, albeit with random variability. \n",
    "\n",
    "<b>The distribution within each sample resembles the parent distribution from which it is drawn, ie the UK national sample.</b>"
   ]
  },
  {
   "cell_type": "markdown",
   "id": "c71802ed",
   "metadata": {},
   "source": [
    "# The sampling distribution of the mean\n",
    "\n",
    "The mean Brexdex score can be obtained from the UK national sample as follows:"
   ]
  },
  {
   "cell_type": "code",
   "execution_count": 7,
   "id": "9ee2c060",
   "metadata": {},
   "outputs": [
    {
     "data": {
      "text/plain": [
       "49.8748"
      ]
     },
     "execution_count": 7,
     "metadata": {},
     "output_type": "execute_result"
    }
   ],
   "source": [
    "UKBrexdex['score'].mean()"
   ]
  },
  {
   "cell_type": "markdown",
   "id": "bae11f22",
   "metadata": {},
   "source": [
    "The mean score in the national sample is 49.9%.\n",
    "\n",
    "Given that each of our smaller samples (with $n=100$) resemble the parent distribution, we might expect that the mean of each of these samples approximates the mean of the UK national sample.\n",
    "\n",
    "Let's try drawing a large number of random samples with $n=100$, and getting the mean of each one:"
   ]
  },
  {
   "cell_type": "code",
   "execution_count": 8,
   "id": "6d38684f",
   "metadata": {},
   "outputs": [],
   "source": [
    "nSamples = 10000 # we will draw 10,000 samples\n",
    "n=100 # each sample contains n people\n",
    "\n",
    "m=np.empty(nSamples) # make an array to store the means\n",
    "\n",
    "for i in range(nSamples):\n",
    "    sample = np.random.choice(UKBrexdex['score'], 100, replace=False)\n",
    "    m[i]=sample.mean()"
   ]
  },
  {
   "cell_type": "markdown",
   "id": "dc288d93",
   "metadata": {},
   "source": [
    "Let's plot the resulting means:"
   ]
  },
  {
   "cell_type": "code",
   "execution_count": 9,
   "id": "88c7c5b8",
   "metadata": {},
   "outputs": [
    {
     "name": "stderr",
     "output_type": "stream",
     "text": [
      "/opt/anaconda3/anaconda3/lib/python3.11/site-packages/seaborn/_oldcore.py:1119: FutureWarning: use_inf_as_na option is deprecated and will be removed in a future version. Convert inf values to NaN before operating instead.\n",
      "  with pd.option_context('mode.use_inf_as_na', True):\n"
     ]
    },
    {
     "data": {
      "text/plain": [
       "Text(0.5, 0, 'sample mean')"
      ]
     },
     "execution_count": 9,
     "metadata": {},
     "output_type": "execute_result"
    },
    {
     "data": {
      "image/png": "[encoded data removed]",
      "text/plain": [
       "<Figure size 640x480 with 1 Axes>"
      ]
     },
     "metadata": {},
     "output_type": "display_data"
    }
   ],
   "source": [
    "sns.histplot(m)\n",
    "plt.xlabel('sample mean')"
   ]
  },
  {
   "cell_type": "markdown",
   "id": "eef22b6c",
   "metadata": {},
   "source": [
    "The distribution of sample means is approximately normal.\n",
    "\n",
    "## Expected value of the mean\n",
    "\n",
    "The expected value of the sample mean is simply the mean of the parent distribution. In other words, the means obtained from our 10,000 samples cluster around the mean of the UK national sample, which was 49.9."
   ]
  },
  {
   "cell_type": "code",
   "execution_count": 10,
   "id": "92491ca9",
   "metadata": {},
   "outputs": [
    {
     "data": {
      "text/plain": [
       "49.89082"
      ]
     },
     "execution_count": 10,
     "metadata": {},
     "output_type": "execute_result"
    }
   ],
   "source": [
    "m.mean() # get the mean of the 10,000 sample means"
   ]
  },
  {
   "cell_type": "markdown",
   "id": "849278ef",
   "metadata": {},
   "source": [
    "## Standard Error of the mean\n",
    "\n",
    "Although the sample means group around the mean of the parent distrbution, there is some random variation, as some samples (by chance) contain higher Brexdex scores than others.\n",
    "\n",
    "The variability of the sample means is quantified by the standard deviation of the sampling distribution of the mean (ie the sd of the data in the histogram above), which is about 2.46."
   ]
  },
  {
   "cell_type": "code",
   "execution_count": 11,
   "id": "c67b5b43",
   "metadata": {},
   "outputs": [
    {
     "data": {
      "text/plain": [
       "2.466892654251498"
      ]
     },
     "execution_count": 11,
     "metadata": {},
     "output_type": "execute_result"
    }
   ],
   "source": [
    "m.std()"
   ]
  },
  {
   "cell_type": "markdown",
   "id": "ef8c2741",
   "metadata": {},
   "source": [
    "As we saw in the lecture, the standard deviation of the sampling distribution of the mean has a special name, the <b><i>standard error of the mean</i></b> or SEM, and is given by the formula:\n",
    "\n",
    "$$ SEM = \\frac{\\sigma}{\\sqrt{n}} $$\n",
    "\n",
    "... where $\\sigma$ is that standard deviation of the parent distribution, which in this case where we (unusually) have access to the UK national sample of 10000 individuals, we can obtain as follows:"
   ]
  },
  {
   "cell_type": "code",
   "execution_count": 12,
   "id": "858fe19d",
   "metadata": {},
   "outputs": [
    {
     "data": {
      "text/plain": [
       "24.792720561876358"
      ]
     },
     "execution_count": 12,
     "metadata": {},
     "output_type": "execute_result"
    }
   ],
   "source": [
    "UKBrexdex['score'].std()"
   ]
  },
  {
   "cell_type": "markdown",
   "id": "ce457e72",
   "metadata": {},
   "source": [
    "Shall we check if the formula for the SEM gives us a match to the standard deviation of the sampling distribution of the mean?"
   ]
  },
  {
   "cell_type": "code",
   "execution_count": 13,
   "id": "fd5930ef",
   "metadata": {},
   "outputs": [
    {
     "name": "stdout",
     "output_type": "stream",
     "text": [
      "sd of sampling distribution (from simulation) = 2.466892654251498\n",
      "SEM from the formula = 2.479272056187636\n"
     ]
    }
   ],
   "source": [
    "print('sd of sampling distribution (from simulation) = ' + str(m.std()))\n",
    "\n",
    "SEM = UKBrexdex['score'].std()/(n**0.5) # n to the power 0.5 is sqrt of n\n",
    "print('SEM from the formula = ' + str(SEM))"
   ]
  },
  {
   "cell_type": "markdown",
   "id": "5eb83ea4",
   "metadata": {},
   "source": [
    "This is not a bad match!"
   ]
  },
  {
   "cell_type": "markdown",
   "id": "0137acd3",
   "metadata": {},
   "source": [
    "## $SEM \\propto \\frac{1}{\\sqrt{n}} $"
   ]
  },
  {
   "cell_type": "markdown",
   "id": "28ed0c0c",
   "metadata": {},
   "source": [
    "The standard error of the mean is inversely proportional to $\\sqrt{n}$\n",
    "\n",
    "In other words, the random variability in sample means decreases as sample size $n$ increases - but in proportion to $\\sqrt{n}$ not $n$ itself\n",
    "\n",
    "We can see this if we construct the sampling distribution of the mean for samples of different sizes, say $n=50, 100, 1000$"
   ]
  },
  {
   "cell_type": "code",
   "execution_count": 14,
   "id": "4ede1ad7",
   "metadata": {},
   "outputs": [
    {
     "name": "stderr",
     "output_type": "stream",
     "text": [
      "/opt/anaconda3/anaconda3/lib/python3.11/site-packages/seaborn/_oldcore.py:1119: FutureWarning: use_inf_as_na option is deprecated and will be removed in a future version. Convert inf values to NaN before operating instead.\n",
      "  with pd.option_context('mode.use_inf_as_na', True):\n"
     ]
    },
    {
     "name": "stderr",
     "output_type": "stream",
     "text": [
      "/opt/anaconda3/anaconda3/lib/python3.11/site-packages/seaborn/_oldcore.py:1119: FutureWarning: use_inf_as_na option is deprecated and will be removed in a future version. Convert inf values to NaN before operating instead.\n",
      "  with pd.option_context('mode.use_inf_as_na', True):\n"
     ]
    },
    {
     "name": "stderr",
     "output_type": "stream",
     "text": [
      "/opt/anaconda3/anaconda3/lib/python3.11/site-packages/seaborn/_oldcore.py:1119: FutureWarning: use_inf_as_na option is deprecated and will be removed in a future version. Convert inf values to NaN before operating instead.\n",
      "  with pd.option_context('mode.use_inf_as_na', True):\n"
     ]
    },
    {
     "data": {
      "image/png": "[encoded data removed]",
      "text/plain": [
       "<Figure size 640x480 with 3 Axes>"
      ]
     },
     "metadata": {},
     "output_type": "display_data"
    }
   ],
   "source": [
    "nSamples = 10000 # we will draw 10,000 samples\n",
    "m=np.empty(nSamples) # make an array to store the means\n",
    "\n",
    "nVals = [50,100,1000] # values of n to try\n",
    "\n",
    "# this loop tries different values of n\n",
    "for j in range(len(nVals)): \n",
    "    \n",
    "    # this loop draws 10,000 samples of size n\n",
    "    for i in range(nSamples):\n",
    "        sample = np.random.choice(UKBrexdex['score'], nVals[j], replace=False)\n",
    "        m[i]=sample.mean()\n",
    "        \n",
    "    # plot the distribution for each value of n\n",
    "    plt.subplot(3,1,j+1)\n",
    "    sns.histplot(m)\n",
    "    plt.legend('n = ' + str(nVals[j]))\n",
    "    plt.xlim([40,60])\n",
    "\n",
    "plt.tight_layout()\n",
    "plt.xlabel('sample mean')\n",
    "plt.show()"
   ]
  },
  {
   "cell_type": "markdown",
   "id": "a4bc3d07",
   "metadata": {},
   "source": [
    "## Normal Distribution\n",
    "\n",
    "The <b>Central Limit Theorem</b> states that when $n$ is sufficiently large, the sampling distribution of the means of samples of size $n$ is a normal distribution, with a mean equivalent to the mean of the parent distribution, and a standard deviation equivalent to the SEM.\n",
    "\n",
    "Let's check how well our sampling distribution for samples of size n=100 matches the predicted normal distribution.\n",
    "\n",
    "First we regenerate our 10,000 samples of size 100:"
   ]
  },
  {
   "cell_type": "code",
   "execution_count": 15,
   "id": "fdf776a4",
   "metadata": {},
   "outputs": [
    {
     "name": "stderr",
     "output_type": "stream",
     "text": [
      "/opt/anaconda3/anaconda3/lib/python3.11/site-packages/seaborn/_oldcore.py:1119: FutureWarning: use_inf_as_na option is deprecated and will be removed in a future version. Convert inf values to NaN before operating instead.\n",
      "  with pd.option_context('mode.use_inf_as_na', True):\n"
     ]
    },
    {
     "data": {
      "image/png": "[encoded data removed]",
      "text/plain": [
       "<Figure size 640x480 with 1 Axes>"
      ]
     },
     "metadata": {},
     "output_type": "display_data"
    }
   ],
   "source": [
    "nSamples = 10000 # we will draw 10,000 samples\n",
    "n=100 # each sample contains n people\n",
    "\n",
    "m=np.empty(nSamples) # make an array to store the means\n",
    "\n",
    "for i in range(nSamples):\n",
    "    sample = np.random.choice(UKBrexdex['score'], n, replace=False)\n",
    "    m[i]=sample.mean()\n",
    "    \n",
    "sns.histplot(m)\n",
    "plt.xlabel('sample mean')\n",
    "plt.show()"
   ]
  },
  {
   "cell_type": "markdown",
   "id": "d7434f51",
   "metadata": {},
   "source": [
    "Now we make our predicted normal sampling distribution of the mean.\n",
    "\n",
    "Its mean $\\mu$ should be the mean of the parent distribution:"
   ]
  },
  {
   "cell_type": "code",
   "execution_count": 16,
   "id": "2e566c44",
   "metadata": {},
   "outputs": [
    {
     "name": "stdout",
     "output_type": "stream",
     "text": [
      "49.8748\n"
     ]
    }
   ],
   "source": [
    "mu = UKBrexdex['score'].mean()\n",
    "print(mu)"
   ]
  },
  {
   "cell_type": "markdown",
   "id": "880d5044",
   "metadata": {},
   "source": [
    "Its standard deviation should be the SEM: \n",
    "\n",
    "$$SEM = \\frac{\\sigma}{\\sqrt{n}} $$\n",
    "\n",
    "where $\\sigma$ is the standard deviaition of the parent distribution:"
   ]
  },
  {
   "cell_type": "code",
   "execution_count": 17,
   "id": "b801b477",
   "metadata": {},
   "outputs": [
    {
     "name": "stdout",
     "output_type": "stream",
     "text": [
      "2.479272056187636\n"
     ]
    }
   ],
   "source": [
    "SEM = UKBrexdex['score'].std()/(n**0.5)\n",
    "print(SEM)"
   ]
  },
  {
   "cell_type": "markdown",
   "id": "922431eb",
   "metadata": {},
   "source": [
    "Then we obtain the PDF of the normal distribution $\\mathcal{N}(\\mu, SEM)$ for a suitable range of x-axis values (based on the histogram above):"
   ]
  },
  {
   "cell_type": "code",
   "execution_count": 18,
   "id": "e7672f99",
   "metadata": {},
   "outputs": [
    {
     "name": "stderr",
     "output_type": "stream",
     "text": [
      "/opt/anaconda3/anaconda3/lib/python3.11/site-packages/seaborn/_oldcore.py:1119: FutureWarning: use_inf_as_na option is deprecated and will be removed in a future version. Convert inf values to NaN before operating instead.\n",
      "  with pd.option_context('mode.use_inf_as_na', True):\n"
     ]
    },
    {
     "data": {
      "text/plain": [
       "[]"
      ]
     },
     "execution_count": 18,
     "metadata": {},
     "output_type": "execute_result"
    },
    {
     "data": {
      "image/png": "[encoded data removed]",
      "text/plain": [
       "<Figure size 640x480 with 1 Axes>"
      ]
     },
     "metadata": {},
     "output_type": "display_data"
    }
   ],
   "source": [
    "x = np.arange(40.5,60.5) # x axis values are from 40.5 to 60.5 (the .5 is to match the middle of the bars in the histogram)\n",
    "p = stats.norm.pdf(x,mu,SEM) \n",
    "freq = p*nSamples # expected frequency of each sample mean is the probability of that sample mean, time total number of samples (10,000 in our example)\n",
    "\n",
    "sns.histplot(m, bins=range(40,60))\n",
    "plt.plot(x,freq,'r')\n",
    "plt.xlabel('sample mean')\n",
    "plt.plot()"
   ]
  },
  {
   "cell_type": "markdown",
   "id": "f55976b4",
   "metadata": {},
   "source": [
    "This is not a bad match!"
   ]
  },
  {
   "cell_type": "markdown",
   "id": "787c8903",
   "metadata": {},
   "source": [
    "## How unusual is my sample mean?\n",
    "\n",
    "Say we give the Brexdex questionnaire to 100 statistics undergraduates in Oxford, and their mean score is 55.1, as opposed to the mean in the UK national sample, 49.9. Can we infer that the students have different political attitude to the UK population as a whole?\n",
    "\n",
    "The sampling distribution of the mean tells us the distribution of sample means we expect to get if we draw samples from the parent population (the UK national sample)\n",
    "\n",
    "### Using the simulated sampling distribution of the mean\n",
    "\n",
    "What proportion of sample means in our simulated sampling distribution exceeded 55.1?"
   ]
  },
  {
   "cell_type": "code",
   "execution_count": 19,
   "id": "ec77c438",
   "metadata": {},
   "outputs": [
    {
     "name": "stdout",
     "output_type": "stream",
     "text": [
      "proportion of sample means greater than 55.1 = 0.0157 or 1.5699999999999998%\n"
     ]
    }
   ],
   "source": [
    "# regenerate the sampling distribubtion\n",
    "nSamples = 10000 # we will draw 10,000 samples\n",
    "n=100 # each sample contains n people\n",
    "\n",
    "m=np.empty(nSamples) # make an array to store the means\n",
    "\n",
    "for i in range(nSamples):\n",
    "    sample = np.random.choice(UKBrexdex['score'], 100, replace=False)\n",
    "    m[i]=sample.mean()\n",
    "    \n",
    "print('proportion of sample means greater than 55.1 = ' + str((m>55.1).mean()) +  ' or ' + str((m>55.1).mean()*100) + '%')"
   ]
  },
  {
   "cell_type": "markdown",
   "id": "22df2259",
   "metadata": {},
   "source": [
    "In other words, the mean Brexdex score of the students was high enough that we would expect it to occur less than 2% of the time for samples drawn from the UK national population - we might conclude that the political attitudes of the students differ from those of the population as a whole.\n",
    "\n",
    "### Using the Normal distribution\n",
    "\n",
    "We can ask how likely this mean was to have occurred under the assumption that the Oxford students have similar political attitudes to the population as a whole, using the CDF of the normal distribution:"
   ]
  },
  {
   "cell_type": "code",
   "execution_count": 20,
   "id": "ba834c38",
   "metadata": {},
   "outputs": [
    {
     "name": "stdout",
     "output_type": "stream",
     "text": [
      "proportion of sample means greater than 55.1 = 0.01753478848973844 or 1.753478848973844%\n"
     ]
    }
   ],
   "source": [
    "mu = UKBrexdex['score'].mean()\n",
    "SEM = UKBrexdex['score'].std()/(n**0.5)\n",
    "\n",
    "p = 1-stats.norm.cdf(55.1,mu,SEM) \n",
    "print('proportion of sample means greater than 55.1 = ' + str(p) +  ' or ' + str(p*100) + '%')"
   ]
  },
  {
   "cell_type": "markdown",
   "id": "848070ad",
   "metadata": {},
   "source": [
    "Hopefully this proportion agrees fairly well with the proportion of actual sample means exceeding 55.1 in the simulation"
   ]
  }
 ],
 "metadata": {
  "kernelspec": {
   "display_name": "Python 3 (ipykernel)",
   "language": "python",
   "name": "python3"
  },
  "language_info": {
   "codemirror_mode": {
    "name": "ipython",
    "version": 3
   },
   "file_extension": ".py",
   "mimetype": "text/x-python",
   "name": "python",
   "nbconvert_exporter": "python",
   "pygments_lexer": "ipython3",
   "version": "3.11.7"
  }
 },
 "nbformat": 4,
 "nbformat_minor": 5
}