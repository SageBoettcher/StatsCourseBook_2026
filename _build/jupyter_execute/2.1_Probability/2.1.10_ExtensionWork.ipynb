{
 "cells": [
  {
   "cell_type": "markdown",
   "id": "111b680b",
   "metadata": {},
   "source": [
    "Extension work: Rolling a Six\n",
    "\n",
    "In these exercises we model the process of rolling a dice until we get a six\n",
    "\n",
    "<img src=\"https://raw.githubusercontent.com/jillxoreilly/StatsCourseBook_2024/main/images/dice.jpg\" width=25% alt=\"(display image of dice)\" >\n",
    "\n",
    "We will meet the `while` loop, which is different from the more familiar \n",
    "`for` loop\n"
   ]
  },
  {
   "cell_type": "markdown",
   "id": "554bd33b",
   "metadata": {},
   "source": [
    "### Set up Python libraries\n",
    "\n",
    "As usual, run the code cell below to import the relevant Python libraries"
   ]
  },
  {
   "cell_type": "code",
   "execution_count": 1,
   "id": "6e215164",
   "metadata": {
    "tags": []
   },
   "outputs": [],
   "source": [
    "# Set-up Python libraries - you need to run this but you don't need to change it\n",
    "import numpy as np\n",
    "import matplotlib.pyplot as plt\n",
    "import scipy.stats as stats\n",
    "import pandas \n",
    "import seaborn as sns\n",
    "import statsmodels.api as sm\n",
    "import statsmodels.formula.api as smf"
   ]
  },
  {
   "cell_type": "markdown",
   "id": "5a4b966c",
   "metadata": {},
   "source": [
    "## Simulation of rolling a dice til you get a six\n",
    "\n",
    "\n",
    "In many children's games, players need to roll a six before their counter can start moving round the board.\n",
    "\n",
    "<ul>\n",
    "<li>What is the probability that you will need four or more tries to roll a six?\n",
    "</ul>\n",
    "\n",
    "You may recall from school maths that the way we work this out is to calculate the probability that we did *not* obtain a six on any of rolls 1, 2 or 3. As the dice has six sides, the probability of not obtaining a six on each dice roll is $\\frac{5}{6}$\n",
    "\n",
    "As each event is independent, we can multiply the probabilities together:\n",
    "\n",
    "$$ \\frac{5}{6} \\times \\frac{5}{6} \\times \\frac{5}{6} = \\frac{125}{216}$$\n",
    "\n",
    "In other words, the chance that a player needs four or more turns to roll a six is slightly over half."
   ]
  },
  {
   "cell_type": "markdown",
   "id": "760dfbb8",
   "metadata": {},
   "source": [
    "### `while` loop\n",
    "\n",
    "If we want to simulate rolling a dice til we get a six, we need to use the `while` loop.\n",
    "\n",
    "The `while` loop is a loop that keeps repeating until some criterion is fulfilled.\n",
    "\n",
    "This is in contrast to the `for` loop which is run for a fixed number of cycles.\n",
    "\n",
    "Try running the code below a few times - you should get a different outcome each time"
   ]
  },
  {
   "cell_type": "code",
   "execution_count": 2,
   "id": "83b52f3a",
   "metadata": {
    "tags": []
   },
   "outputs": [
    {
     "name": "stdout",
     "output_type": "stream",
     "text": [
      "roll 1. Outcome = 6\n",
      "Total rolls needed to get a six: 1\n"
     ]
    }
   ],
   "source": [
    "r = 0 # create the variable r which counts how many times we rolled the virtual dice\n",
    "d = 0 # create the variable d1 which stores the outcome of each dice roll\n",
    "\n",
    "while d!=6:\n",
    "    r = r+1 # increase r by 1 each time we go round the loop\n",
    "    d = np.random.randint(1,7)\n",
    "    print('roll ' + str(r) + '. Outcome = ' + str(d))\n",
    "\n",
    "# the value of r when we leave the loop is how many rolls were needed to get a six\n",
    "print('Total rolls needed to get a six: ' + str(r))"
   ]
  },
  {
   "cell_type": "markdown",
   "id": "2e1c67d6",
   "metadata": {},
   "source": [
    "What happened there?\n",
    "\n",
    "The code\n",
    "\n",
    "`while d!=6:`\n",
    "\n",
    "means \"check if the value of `d` is 6; if not, repeat the commands inside the loop and come back to check again\"\n",
    "\n",
    "Initially `d=0` (because that was the value we initially gave it).\n",
    "\n",
    "Each time we 'roll the dice' we give `d` a new value and come back to check if it is now a six.\n",
    "\n",
    "On each pass through the loop we also increment `r` (increase the value of `r` by one) to count how many times we rolled the dice.\n",
    "\n",
    "When a six is obtained (`d=6`) we stop going round the loop. The value of `r` at that point tells us how many rolls were needed to obtian a six.\n",
    "\n",
    "**Comprehension questions**\n",
    "* Change the code above so the dice is rolled until we get a one, instead of a six\n",
    "    * Look at the output text and check that the loop does indeed terminate on rolling a 1, not a 6.\n",
    "* Change the code above to model a 16-sided dice instead of a six sided dice. \n",
    "    * It should generally take longer to roll a six on a dice with more sides!  Check this by running the loop a few times.\n",
    "\n",
    "\n"
   ]
  },
  {
   "cell_type": "markdown",
   "id": "b69e115b",
   "metadata": {},
   "source": [
    "## Repeated `while` loop\n",
    "\n",
    "How often do we need to wait 2,3,4 or more trials to get a six?\n",
    "\n",
    "We can simulate this by repeating our <tt>while</tt> loop lots of times and each time, \n",
    "recording how many times we needed to roll the dice to get a six.\n",
    "\n",
    "You can think of each repeat of the 'experiment' as one player trying to roll a six and recording how many rolls it took to get one."
   ]
  },
  {
   "cell_type": "code",
   "execution_count": 3,
   "id": "0d0b482c",
   "metadata": {
    "tags": []
   },
   "outputs": [],
   "source": [
    "# let's start by simulating 10 'players' each trying to get a six\n",
    "nPlayers = 10\n",
    "outcomes = np.empty(nPlayers)\n",
    "\n",
    "for i in range(nPlayers):\n",
    "\n",
    "    # copy the code for a single player here!\n",
    "    \n",
    "    # the value of r when we leave the loop is how many rolls were needed to get a six\n",
    "    outcomes[i] = r"
   ]
  },
  {
   "cell_type": "markdown",
   "id": "1ad39e94",
   "metadata": {},
   "source": [
    "We should have created an array of 10 numbers, each of which is the number of rolls a player needed to get a six. \n",
    "\n",
    "Let's check what's in there."
   ]
  },
  {
   "cell_type": "code",
   "execution_count": 4,
   "id": "431a9a03",
   "metadata": {
    "tags": []
   },
   "outputs": [],
   "source": [
    "# Your code here to check the outcomes for the 10 players"
   ]
  },
  {
   "cell_type": "markdown",
   "id": "c0739fee",
   "metadata": {},
   "source": [
    "That was a list of the number of rolls needed to get a six for each of the 10 players.\n",
    "\n",
    "Run the simulation again - the answer should have changed.\n",
    "\n",
    "How many times did someone need 5 or more rolls to get a six?"
   ]
  },
  {
   "cell_type": "code",
   "execution_count": 5,
   "id": "f2966895-60be-4af0-af30-fe875af72fad",
   "metadata": {
    "tags": []
   },
   "outputs": [],
   "source": [
    "# Your code here"
   ]
  },
  {
   "cell_type": "markdown",
   "id": "8adb274b-ef16-40b3-a20e-b362feb72986",
   "metadata": {},
   "source": [
    "### Distribution of outcomes\n",
    "\n",
    "Overall, what is the most likely number of rolls needed to get a six?\n",
    "\n",
    "Let's simulate loads of players and plot a histogram of how often we need 1,2,3,4... etc rolls to get a six.\n"
   ]
  },
  {
   "cell_type": "code",
   "execution_count": 6,
   "id": "41f3c2c8",
   "metadata": {
    "tags": []
   },
   "outputs": [],
   "source": [
    "# your code here to simulate 10000 players\n",
    "\n",
    "# UNCOMMMENT THIS TO PLOT THE OUTCOMES\n",
    "# plot a histogram of the outcomes\n",
    "#sns.histplot(outcomes, bins=np.arange(max(outcomes)))\n",
    "#plt.xlabel('rolls needed to get a six')\n",
    "#plt.show()"
   ]
  },
  {
   "cell_type": "markdown",
   "id": "fca52bf0",
   "metadata": {},
   "source": [
    "Did it surprise you that the most likely number of rolls needed (mode of the distribution) is 1?\n",
    "\n",
    "When you think about it:\n",
    "* The chance of getting a six on Roll 1 is $\\frac{1}{6}$\n",
    "* The chance of getting a six on Roll 2 is $\\frac{1}{6} \\times \\frac{5}{6}$, that is, the chance of a six on Roll 2, multiplied by the chance of NO six on Roll 1 (as you wouldn't have done a second roll if the first roll had yielded a six)\n",
    "* The chance of getting a six on Roll 3 is $\\frac{1}{6} \\times \\frac{5}{6} \\times \\frac{5}{6}$ ...\n",
    "\n",
    "\n",
    "The distribution shown above is called a *Geometric* distribution\n",
    "\n",
    "$$ r \\sim \\mathcal{Geo}(\\frac{1}{6}) $$"
   ]
  },
  {
   "cell_type": "markdown",
   "id": "f4193c68-3568-4efb-a647-4ea2cf2f0333",
   "metadata": {},
   "source": [
    "## Expected number of rolls\n",
    "\n",
    "Although the most likely single outcome (the mode of the distribution) is one roll needed to get a six, the *mean* or *expected* number of rolls is not 1.\n",
    "\n",
    "We can work out the mean number of rolls needed using `np.mean`:"
   ]
  },
  {
   "cell_type": "code",
   "execution_count": 7,
   "id": "6ac64b4c-fcd7-4dd0-b806-e46d4f094d32",
   "metadata": {
    "tags": []
   },
   "outputs": [],
   "source": [
    "# Your code here"
   ]
  },
  {
   "cell_type": "markdown",
   "id": "36374e77-78a9-4c75-8aea-421350a05916",
   "metadata": {},
   "source": [
    "Hopefully you get an answer close to six.\n",
    "\n",
    "This means that, in the long run, a person should expect to need about 6 rolls to get a 6, or put another way, if we carry on rolling the dice, we expect to get a six about 1/6 of the time. Which is unsurprising!"
   ]
  },
  {
   "cell_type": "markdown",
   "id": "2e22e52e-e8de-4735-9520-798489f54931",
   "metadata": {},
   "source": [
    "## Frequency of extreme outcomes\n",
    "\n",
    "How often did we need over 12 rolls to get a six?\n",
    "\n",
    "You should be able to work it out using Python code (I make it about 11% of the time):"
   ]
  },
  {
   "cell_type": "code",
   "execution_count": 8,
   "id": "4462b9bc-0aa2-4ea3-9038-26e4206e6bbb",
   "metadata": {
    "tags": []
   },
   "outputs": [],
   "source": [
    "# Your code here"
   ]
  },
  {
   "cell_type": "markdown",
   "id": "9058e6fd-c4ff-494d-ba55-9105da0699c0",
   "metadata": {},
   "source": [
    "## Expected frequency of sixes in $n$ rolls\n",
    "\n",
    "Let's adapt our dice-rolling code to count how many sixes we get, if we just keep rolling the dice a lot of times - let's say 100 rolls."
   ]
  },
  {
   "cell_type": "code",
   "execution_count": 9,
   "id": "8d1471bd",
   "metadata": {
    "tags": []
   },
   "outputs": [
    {
     "name": "stderr",
     "output_type": "stream",
     "text": [
      "/opt/anaconda3/anaconda3/lib/python3.11/site-packages/seaborn/_oldcore.py:1119: FutureWarning: use_inf_as_na option is deprecated and will be removed in a future version. Convert inf values to NaN before operating instead.\n",
      "  with pd.option_context('mode.use_inf_as_na', True):\n"
     ]
    },
    {
     "data": {
      "image/png": "[encoded data removed]",
      "text/plain": [
       "<Figure size 640x480 with 1 Axes>"
      ]
     },
     "metadata": {},
     "output_type": "display_data"
    }
   ],
   "source": [
    "# let's simulate 10,000 players\n",
    "nPlayers = 10000\n",
    "nRolls = 100 # number of tiems each player rolls the dice\n",
    "outcomes = np.empty(nPlayers)\n",
    "\n",
    "for i in range(nPlayers):\n",
    "\n",
    "    s = 0 # count the sixes\n",
    "    d = 0 # create the variable d1 which stores the outcome of each dice roll\n",
    "\n",
    "    for r in range(nRolls):\n",
    "        d = np.random.randint(1,7)\n",
    "        if d==6:\n",
    "            s = s+1\n",
    "    \n",
    "    # the value of s when we leave the loop is how many sixes we got in nRolls\n",
    "    outcomes[i] = s\n",
    "    \n",
    "# plot a histogram of the outcomes\n",
    "sns.histplot(outcomes, bins=range(nRolls))\n",
    "plt.xlabel('number of sixes in ' + str(nRolls) + ' rolls')\n",
    "plt.show()"
   ]
  },
  {
   "cell_type": "markdown",
   "id": "3a922050-d957-484b-b066-dfe80464a707",
   "metadata": {
    "tags": []
   },
   "source": [
    "* The most likely number of sixes is 16 or 17 ($\\frac{100}{6} = 16.67$)\n",
    "\n",
    "The eagle-eyed amongst you may have noticed that counting the number of sixes in a hundred dice rolls is actually a binomial-type problem, and we could have generated the graph above rather more easily!\n",
    "\n",
    "Can you put together some code to plot the number of sixes in 100 dice rolls, for 10,000 simulated 'players'?"
   ]
  },
  {
   "cell_type": "code",
   "execution_count": 10,
   "id": "9320368f-5de0-4085-8f66-1f7828eb2731",
   "metadata": {
    "tags": []
   },
   "outputs": [],
   "source": [
    "# your code here\n",
    "# k = [commplete it yourself!]\n",
    "\n",
    "\n",
    "# UNCOMMEMNT THIS CODE TO PLOT THE DATA\n",
    "#sns.histplot(k, bins=range(nRolls))\n",
    "#plt.xlabel('number of sixes in ' + str(nRolls) + ' rolls')\n",
    "#plt.show()"
   ]
  },
  {
   "cell_type": "markdown",
   "id": "5536adec-c767-4eec-a4e5-5b4259e1da33",
   "metadata": {},
   "source": [
    "## What am I modelling?\n",
    "\n",
    "In these exercises we saw two different ways of modelling the physical process (rolling a six)\n",
    "\n",
    "* we looked at the frequency of the outcome of interest (a six) in a fixed number of trials (`nRolls`):\n",
    "\n",
    "$$ k \\sim \\mathcal{B}(nRolls, \\frac{1}{6})$$\n",
    "\n",
    "* we looked at the distribution of *intervals* between the sixes \n",
    "\n",
    "$$ r \\sim \\mathcal{Geo}(\\frac{1}{6}) $$\n",
    "\n",
    "So the appropriate model depends on what *outcome* we want to model (are we interested in how many sixes we roll over the course of a game, or how long it takes to get that first six we need to leave the start square?)\n",
    "\n",
    "### Applications in neuroscience\n",
    "\n",
    "Modelling the intervals between events and modelling the number of events in a time window are both of interest in many fields of study. For example, in neuroscience we might be interested in a single neuron.\n",
    "\n",
    "* A detailed model of the neuron saying when exactly it emits an action potential mimght look like our first `while` loop model\n",
    "* A summary of its firing rate (the mean number of action potentials in a time window) will look more like the second model"
   ]
  },
  {
   "cell_type": "code",
   "execution_count": null,
   "id": "9a1f98d0-0ac4-43a6-be6d-c98b42621f29",
   "metadata": {},
   "outputs": [],
   "source": []
  }
 ],
 "metadata": {
  "kernelspec": {
   "display_name": "Python 3 (ipykernel)",
   "language": "python",
   "name": "python3"
  },
  "language_info": {
   "codemirror_mode": {
    "name": "ipython",
    "version": 3
   },
   "file_extension": ".py",
   "mimetype": "text/x-python",
   "name": "python",
   "nbconvert_exporter": "python",
   "pygments_lexer": "ipython3",
   "version": "3.11.7"
  }
 },
 "nbformat": 4,
 "nbformat_minor": 5
}