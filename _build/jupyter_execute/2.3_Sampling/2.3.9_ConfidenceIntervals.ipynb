{
 "cells": [
  {
   "cell_type": "markdown",
   "id": "7cc3e554-6e52-421e-8268-95d40cb856e4",
   "metadata": {},
   "source": [
    "# Confidence intervals\n",
    "\n",
    "A 95% confidence interval is an interval around a sample mean with a width such that \n",
    "\n",
    "* if we drew many independent samples (all of size n) from the parent distribution\n",
    "* ... and we drew an interval of that width around each sample mean\n",
    "* ... then 95% of those intervals would contain the $\\mu$, the true mean of the parent population\n",
    "\n",
    "Another way of thinking about this is that for a single 95% confidence interval computed on a single sample, we (the researcher) have 95% confidence that that interval contains $\\mu$, the true mean of the parent population\n",
    "\n",
    "In this section we look at how we can construct confidence intervals.\n",
    "\n"
   ]
  },
  {
   "cell_type": "markdown",
   "id": "fece2f04-aa11-403a-ada1-840b18746b27",
   "metadata": {},
   "source": [
    "### Set up Python libraries\n",
    "\n",
    "As usual, run the code cell below to import the relevant Python libraries"
   ]
  },
  {
   "cell_type": "code",
   "execution_count": 1,
   "id": "4df45aaf-d239-4bf2-9e96-4b8dfcf0a253",
   "metadata": {},
   "outputs": [],
   "source": [
    "# Set-up Python libraries - you need to run this but you don't need to change it\n",
    "import numpy as np\n",
    "import matplotlib.pyplot as plt\n",
    "import scipy.stats as stats\n",
    "import pandas as pd\n",
    "import seaborn as sns\n",
    "sns.set_theme(style='white')\n",
    "import statsmodels.api as sm\n",
    "import statsmodels.formula.api as smf\n",
    "import warnings \n",
    "warnings.simplefilter('ignore', category=FutureWarning)"
   ]
  },
  {
   "cell_type": "markdown",
   "id": "b4bc7d39-dd4f-4eb5-8bf4-88be91798238",
   "metadata": {},
   "source": [
    "### Example sample\n",
    "\n",
    "Once again we use our sample of IQ scores for 60 students taking A-level maths (*note* - these are made up data!):"
   ]
  },
  {
   "cell_type": "code",
   "execution_count": 2,
   "id": "cf3d4af0-441c-4177-a588-1886cfc16eda",
   "metadata": {},
   "outputs": [],
   "source": [
    "mathsIQ_60 = pd.read_csv('https://raw.githubusercontent.com/jillxoreilly/StatsCourseBook_2024/main/data/mathsIQ_60.csv')"
   ]
  },
  {
   "cell_type": "markdown",
   "id": "29cbb8bf-7362-4d3e-a7e6-8f100001146d",
   "metadata": {},
   "source": [
    "Recall that:\n",
    "* the sample mean is 104.6 and\n",
    "\n"
   ]
  },
  {
   "cell_type": "code",
   "execution_count": 3,
   "id": "b800a197-4478-41c2-893c-c14af9f8bda3",
   "metadata": {},
   "outputs": [
    {
     "data": {
      "text/plain": [
       "np.float64(104.6)"
      ]
     },
     "execution_count": 3,
     "metadata": {},
     "output_type": "execute_result"
    }
   ],
   "source": [
    "m = mathsIQ_60.IQ.mean()\n",
    "m"
   ]
  },
  {
   "cell_type": "markdown",
   "id": "799aa797-fccb-4215-abcd-f746e2cd3ae6",
   "metadata": {},
   "source": [
    "* the sample standard deviation is 11.4"
   ]
  },
  {
   "cell_type": "code",
   "execution_count": 4,
   "id": "e6c1f510-e68f-4986-99a2-12e288330ef5",
   "metadata": {},
   "outputs": [
    {
     "data": {
      "text/plain": [
       "np.float64(11.366319559953567)"
      ]
     },
     "execution_count": 4,
     "metadata": {},
     "output_type": "execute_result"
    }
   ],
   "source": [
    "s = mathsIQ_60.IQ.std()\n",
    "s"
   ]
  },
  {
   "cell_type": "markdown",
   "id": "43d56697-7456-4e72-8aa5-2ae149e78e1a",
   "metadata": {},
   "source": [
    "## Likelihood of a reference value\n",
    "\n",
    "Are A-level maths students smarter than average?\n",
    "\n",
    "The mean IQ in the general population is 100. We can ask how probable the observed sample mean ($m=104.6$) would be if the sample of 60 maths students really came from a population with mean $\\mu=100$ (or lower) and standard deviation estimated as $s$. This, conversely, gives us the likelihood that the true population mean was 100 or lower.\n",
    "\n",
    "\n",
    " \n",
    "In our calculations we use the likelihood distribution that we calculated for the population mean $\\mu$ based on our sample:\n",
    "\n",
    "$$\\mu \\sim \\mathcal{N}(m, \\frac{s}{\\sqrt{n}}) $$\n",
    "\n",
    "in this case:\n",
    "\n",
    "$$\\mu \\sim \\mathcal{N}(104.6, \\frac{11.4}{\\sqrt{60}}) $$\n",
    "\n",
    "Thinking about this visually we have the following...\n",
    "\n",
    "<img src= \"https://raw.githubusercontent.com/jillxoreilly/StatsCourseBook_2024/main/images/sampling_pIQ100.png\" width=\"80%\"  />\n",
    "\n",
    "Note that the likelihood that $\\mu \\leq 100$ is worked out from the likelihood distribution based on the sample (red curve).\n",
    "\n",
    "I also show the true sampling distribution fo the mean for lots of samples from the parent population (grey histogram) for comparison - note that if we had used a different sample, with a different value of $m$<, we would get a different estimate of the probability that $\\mu \\leq 100$\n",
    "\n",
    "### Calculation with `stats.norm.cdf()`\n",
    "\n",
    "We can then work out the exact probability using `stats.norm.cdf()`:"
   ]
  },
  {
   "cell_type": "code",
   "execution_count": 5,
   "id": "0b67a972",
   "metadata": {},
   "outputs": [
    {
     "data": {
      "text/plain": [
       "np.float64(0.08597770891100479)"
      ]
     },
     "execution_count": 5,
     "metadata": {},
     "output_type": "execute_result"
    }
   ],
   "source": [
    "n=60\n",
    "SEM = s/(n**0.5)\n",
    "# percentage of time sample mean is expected to be less than 100 = \n",
    "stats.norm.cdf(100,m,SEM)*100"
   ]
  },
  {
   "cell_type": "markdown",
   "id": "faafca5b-368d-48ae-a21a-36369bb90a1a",
   "metadata": {},
   "source": [
    "Apparently, the likelihood that the population mean IQ for A-level maths students is 100, is quite low: 0.085%\n",
    "\n",
    "\n",
    "* **Note** that if we are asking whether maths students are smarter than average, we thinking about the probability of getting the sample mean we observed if maths students as a whole have an average IQ (100) *or below average IQ<100*\n",
    "    * There is an analogy here with the Blindsight example in the previous session - we would conclude our patient was guessing if his performance was equal to *or better than* some criterion value which was unlikely due to chance."
   ]
  },
  {
   "cell_type": "markdown",
   "id": "9eced553-17fc-45c9-a63e-4890e7ec1d85",
   "metadata": {},
   "source": [
    "### Check: Simulating from the population\n",
    "\n",
    "Just for fun, here is a much larger sample of all the students taking maths A-level (30,000 individuals)\n",
    "\n",
    "Can you run a simulation to draw samples of size 60 from this dataset, get the mean of each one, and work out what percentage of sample means are indeed below 100?\n",
    "\n",
    "Hopefully it should match fairly well the prediction from the Central Limit Theorem!"
   ]
  },
  {
   "cell_type": "code",
   "execution_count": 6,
   "id": "b4cbc9d8-48c9-4eec-92f3-eeea6affec91",
   "metadata": {},
   "outputs": [
    {
     "data": {
      "image/png": "[encoded data removed]",
      "text/plain": [
       "<Figure size 640x480 with 1 Axes>"
      ]
     },
     "metadata": {},
     "output_type": "display_data"
    }
   ],
   "source": [
    "mathsIQ_30k = pd.read_csv('https://raw.githubusercontent.com/jillxoreilly/StatsCourseBook/main/data/mathsIQ_30k.csv')\n",
    "sns.histplot(mathsIQ_30k.IQ, bins=range(80,150))\n",
    "plt.xlabel('IQ')\n",
    "plt.show()"
   ]
  },
  {
   "cell_type": "code",
   "execution_count": 7,
   "id": "58bd6f08-784c-4605-a54b-1334cec30c63",
   "metadata": {},
   "outputs": [
    {
     "data": {
      "text/plain": [
       "np.float64(0.0053)"
      ]
     },
     "execution_count": 7,
     "metadata": {},
     "output_type": "execute_result"
    }
   ],
   "source": [
    "# Your code here to draw 10,000 samples of size 60 from the distribution above\n",
    "# Obtain the sample mean from each sample\n",
    "# Work out the proportion of sample means that are less than 100\n",
    "\n",
    "nReps=10000\n",
    "m=np.empty(nReps)\n",
    "samplesize=60\n",
    "\n",
    "for i in range(nReps):\n",
    "    sample = mathsIQ_30k.sample(n=samplesize,replace=False)\n",
    "    m[i]=sample.IQ.mean()\n",
    "\n",
    "sum(m<100)/len(m)"
   ]
  },
  {
   "cell_type": "markdown",
   "id": "101273d4-66b9-4fa6-8fbe-1bde43aa0e2d",
   "metadata": {},
   "source": [
    "Hopefully the proportion of simulated sample means that are lower than 100 matches the prediction from the Central Limit Theorem - does it?"
   ]
  },
  {
   "cell_type": "markdown",
   "id": "d6c63fec-5e83-4015-afdf-a81bb6aaebc8",
   "metadata": {},
   "source": [
    "## Confidence intervals\n",
    "\n",
    "The 95% confidence interval is the interval of the likelihood distribution that contains 95% of the area under the curve:\n",
    "\n",
    "\n",
    "<img src= \"https://raw.githubusercontent.com/jillxoreilly/StatsCourseBook_2024/main/images/sampling_CI95.png\" width=\"80%\"  />\n",
    "\n",
    "Therefore, a 95% confidence interval is an interval around a sample mean with a width such that for a single 95% confidence interval computed on a single sample, we (the researcher) have 95% confidence that that interval contains $\\mu$, the true mean of the parent population\n",
    "\n",
    "Another way of thinking about this is that:\n",
    "\n",
    "* if we drew many independent samples (all of size n) from the parent distribution\n",
    "    * ... and we drew an interval of that width around each sample mean\n",
    "    * ... then 95% of those intervals would contain the $\\mu$, the true mean of the parent population\n",
    "\n",
    "In the diagram below, I actually drew 100 samples of size 60 from my parent distribution (30,000 'maths students') and calculated the 95% confidence interval for $\\mu$ from each sample, using the sample mean $m$ and sample deviation $s$.\n",
    "\n",
    "* note that $m$ and $s$ are different in each of the 100 samples\n",
    "\n",
    "<img src= \"https://raw.githubusercontent.com/jillxoreilly/StatsCourseBook_2024/main/images/sampling_CI95_2.png\" width=\"80%\"  />\n",
    "\n",
    "You can see that the position and width of the 95% CIs varies from sample to sample\n",
    "\n",
    "However, if I put the samples in order (from lowest sample mean to highest) you can see that indeed, the 95% CI does contain the true population mean $\\mu$ in about 95/100 cases - actually 96/100 as this is ia random simulation \n",
    "\n",
    "* just a reminder that the population mean $\\mu$ is the mean IQ *of A-level maths students*, **not** the general-population mean of 100)\n",
    "\n",
    "<img src= \"https://raw.githubusercontent.com/jillxoreilly/StatsCourseBook_2024/main/images/sampling_CI95_3.png\" width=\"80%\"  />\n",
    "\n",
    "### The magical $Z=1.96$ \n",
    "\n",
    "For a normally distributed variable:\n",
    "\n",
    "* 95% of cases fall within 1.96 standard deviations of the mean\n",
    "* 99% of cases fall within 2.33 standard deviations of the mean\n",
    "\n",
    "For example, say women's heights in the UK follow a normal distribution $\\mathcal{N}(164.3, 6.1)$\n",
    "\n",
    "We expect 95% of women to have a height between $164.3 - 1.96 \\times (6.1)$, and $164.3 + 1.96 \\times (6.1)$, ie between 152.3 cm and 176.3 cm\n",
    "\n",
    "* Remember the rule of thumb for the normal distribution:\n",
    "  \n",
    "<img src= \"https://raw.githubusercontent.com/jillxoreilly/StatsCourseBook_2024/main/images/sampling_ruleofthumb.png\" width=\"60%\"  />\n",
    "\n",
    "### 95% CI for maths IQ\n",
    "\n",
    "The sampling distribution of the mean for the maths IQ data, with samples of size 60, was estimated to be $\\mathcal{N}(m, \\frac{s}{\\sqrt{n}})$ = $\\mathcal{N}(104.6, 1.47)$. \n",
    "\n",
    "Our 95% CI for the mean of the parent population (mean IQ of all maths A-level students) is then\n",
    "\n",
    "$$[104.6 - 1.96 \\times 1.47, 104.6 + 1.96 \\times 1.47]$$\n",
    "\n",
    "ie\n",
    "\n",
    "$$[101.7,107.5]$$\n",
    "\n",
    "That is, we are 95% confident that the true population mean IQ lies between 101.7 and 107.5.\n",
    "\n",
    "Note that the mean of the general population (IQ=100) lies outside the 95% CI."
   ]
  },
  {
   "cell_type": "code",
   "execution_count": null,
   "id": "0851d6b5-7258-4b69-9c2b-fbaca41b3506",
   "metadata": {},
   "outputs": [],
   "source": []
  }
 ],
 "metadata": {
  "kernelspec": {
   "display_name": "Python 3 (ipykernel)",
   "language": "python",
   "name": "python3"
  },
  "language_info": {
   "codemirror_mode": {
    "name": "ipython",
    "version": 3
   },
   "file_extension": ".py",
   "mimetype": "text/x-python",
   "name": "python",
   "nbconvert_exporter": "python",
   "pygments_lexer": "ipython3",
   "version": "3.11.13"
  }
 },
 "nbformat": 4,
 "nbformat_minor": 5
}