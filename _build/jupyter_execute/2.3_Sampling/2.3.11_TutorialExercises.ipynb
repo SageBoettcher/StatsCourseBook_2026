{
 "cells": [
  {
   "cell_type": "markdown",
   "id": "8119837f",
   "metadata": {},
   "source": [
    "# Tutorial exercises: Sampling\n",
    "\n",
    "In these exercises we again work with the Brexdex data\n",
    "\n",
    "We are going to investigate how the sampling distribution of the mean depends on $n$, the relationship between SEM and $\\sqrt{n}$, and how we assess whether a distribution, such as the sampling distribution of the mean, is Normal."
   ]
  },
  {
   "cell_type": "markdown",
   "id": "79456fc9",
   "metadata": {},
   "source": [
    "### Set up Python libraries\n",
    "\n",
    "As usual, run the code cell below to import the relevant Python libraries"
   ]
  },
  {
   "cell_type": "code",
   "execution_count": 1,
   "id": "5cd335fe",
   "metadata": {},
   "outputs": [],
   "source": [
    "# Set-up Python libraries - you need to run this but you don't need to change it\n",
    "import numpy as np\n",
    "import matplotlib.pyplot as plt\n",
    "import scipy.stats as stats\n",
    "import pandas as pd\n",
    "import seaborn as sns\n",
    "sns.set_theme(style='white')\n",
    "import statsmodels.api as sm\n",
    "import statsmodels.formula.api as smf\n",
    "import warnings \n",
    "warnings.simplefilter('ignore', category=FutureWarning)"
   ]
  },
  {
   "cell_type": "markdown",
   "id": "fcf4f280",
   "metadata": {},
   "source": [
    "## Import and plot the data\n",
    "\n",
    "Let's remind ourselves of the dataset we are working with"
   ]
  },
  {
   "cell_type": "code",
   "execution_count": 2,
   "id": "466ab767",
   "metadata": {},
   "outputs": [
    {
     "data": {
      "text/html": [
       "<div>\n",
       "<style scoped>\n",
       "    .dataframe tbody tr th:only-of-type {\n",
       "        vertical-align: middle;\n",
       "    }\n",
       "\n",
       "    .dataframe tbody tr th {\n",
       "        vertical-align: top;\n",
       "    }\n",
       "\n",
       "    .dataframe thead th {\n",
       "        text-align: right;\n",
       "    }\n",
       "</style>\n",
       "<table border=\"1\" class=\"dataframe\">\n",
       "  <thead>\n",
       "    <tr style=\"text-align: right;\">\n",
       "      <th></th>\n",
       "      <th>ID_code</th>\n",
       "      <th>score</th>\n",
       "    </tr>\n",
       "  </thead>\n",
       "  <tbody>\n",
       "    <tr>\n",
       "      <th>0</th>\n",
       "      <td>186640</td>\n",
       "      <td>53</td>\n",
       "    </tr>\n",
       "    <tr>\n",
       "      <th>1</th>\n",
       "      <td>588140</td>\n",
       "      <td>90</td>\n",
       "    </tr>\n",
       "    <tr>\n",
       "      <th>2</th>\n",
       "      <td>977390</td>\n",
       "      <td>30</td>\n",
       "    </tr>\n",
       "    <tr>\n",
       "      <th>3</th>\n",
       "      <td>948470</td>\n",
       "      <td>42</td>\n",
       "    </tr>\n",
       "    <tr>\n",
       "      <th>4</th>\n",
       "      <td>564360</td>\n",
       "      <td>84</td>\n",
       "    </tr>\n",
       "    <tr>\n",
       "      <th>...</th>\n",
       "      <td>...</td>\n",
       "      <td>...</td>\n",
       "    </tr>\n",
       "    <tr>\n",
       "      <th>9995</th>\n",
       "      <td>851780</td>\n",
       "      <td>81</td>\n",
       "    </tr>\n",
       "    <tr>\n",
       "      <th>9996</th>\n",
       "      <td>698340</td>\n",
       "      <td>45</td>\n",
       "    </tr>\n",
       "    <tr>\n",
       "      <th>9997</th>\n",
       "      <td>693580</td>\n",
       "      <td>51</td>\n",
       "    </tr>\n",
       "    <tr>\n",
       "      <th>9998</th>\n",
       "      <td>872730</td>\n",
       "      <td>78</td>\n",
       "    </tr>\n",
       "    <tr>\n",
       "      <th>9999</th>\n",
       "      <td>385642</td>\n",
       "      <td>88</td>\n",
       "    </tr>\n",
       "  </tbody>\n",
       "</table>\n",
       "<p>10000 rows × 2 columns</p>\n",
       "</div>"
      ],
      "text/plain": [
       "      ID_code  score\n",
       "0      186640     53\n",
       "1      588140     90\n",
       "2      977390     30\n",
       "3      948470     42\n",
       "4      564360     84\n",
       "...       ...    ...\n",
       "9995   851780     81\n",
       "9996   698340     45\n",
       "9997   693580     51\n",
       "9998   872730     78\n",
       "9999   385642     88\n",
       "\n",
       "[10000 rows x 2 columns]"
      ]
     },
     "execution_count": 2,
     "metadata": {},
     "output_type": "execute_result"
    }
   ],
   "source": [
    "UKBrexdex=pd.read_csv('https://raw.githubusercontent.com/jillxoreilly/StatsCourseBook_2025/main/data/UKBrexdex.csv')\n",
    "UKBrexdex"
   ]
  },
  {
   "cell_type": "markdown",
   "id": "0e76cd91-aded-467b-8e5b-a171d90e8cc2",
   "metadata": {},
   "source": [
    "* What variables are in the dataset?\n",
    "* How many people are in the sample?\n",
    "\n",
    "and let's plot the data"
   ]
  },
  {
   "cell_type": "code",
   "execution_count": 3,
   "id": "9f1bcab5-ffd8-4aa2-bd6a-569c348d59b8",
   "metadata": {},
   "outputs": [
    {
     "data": {
      "image/png": "[encoded data removed]",
      "text/plain": [
       "<Figure size 640x480 with 1 Axes>"
      ]
     },
     "metadata": {},
     "output_type": "display_data"
    }
   ],
   "source": [
    "sns.histplot(UKBrexdex.score, bins=range(101))\n",
    "plt.xlabel('score on BrexDex')\n",
    "plt.ylabel('frequency')\n",
    "plt.show()"
   ]
  },
  {
   "cell_type": "markdown",
   "id": "aadea440",
   "metadata": {},
   "source": [
    "How would you describe this data?\n",
    "* write some text, including descritive statatistics, to describe the distribution of Brexdex scores in the UK population"
   ]
  },
  {
   "cell_type": "markdown",
   "id": "8f3bca1d-f652-46f8-be41-51057d6be0ba",
   "metadata": {},
   "source": [
    "## Drawing a sample - recap\n",
    "\n",
    "We can draw a sample from our dataframe using `df.sample()`. The output of `df.sample()` is another dataframe (with $n$ rows, where $n$ is the sample size)\n",
    "\n",
    "If we like, we can save this dataframe with a new name, like `mySample`\n",
    "\n",
    "* Create a new dataframe called `mySample` containing 10 people randomly sampled from the Brexdex dataset\n",
    "* Get the mean score for this sample\n"
   ]
  },
  {
   "cell_type": "code",
   "execution_count": 4,
   "id": "6240f953-9b53-484a-a868-1c0ea279242e",
   "metadata": {},
   "outputs": [],
   "source": [
    "# Your code here"
   ]
  },
  {
   "cell_type": "markdown",
   "id": "756e9c2e-8cf0-46c2-946d-2329c2f62906",
   "metadata": {},
   "source": [
    "## Sampling distribution of the mean\n",
    "\n",
    "In general we are not interested in any specific sample, but just in working out how much random variation to expect between samples. To quantify this random variation we will need to generate a lot of samples (in a loop) but we don't need to save each sample as a new dataframe, we can just save the sample mean from each sample into an array.\n",
    "\n",
    "Let's do this in steps:\n",
    "\n",
    "First, get a sample of 10 people from the Brexdex distribution, find their mean score, and save it as a variable `m` - this should be a single line of code and if we print m, we should get a single number (somewhere near 50)"
   ]
  },
  {
   "cell_type": "code",
   "execution_count": 5,
   "id": "264b4f92-bb49-425d-a2f1-24a211d9b969",
   "metadata": {},
   "outputs": [],
   "source": [
    "# Your code here"
   ]
  },
  {
   "cell_type": "markdown",
   "id": "bf5d1d79-f06b-4441-ade4-219a11a0e8d2",
   "metadata": {},
   "source": [
    "Now let's make a loop to do this 50 times and save the mean of each sample into an array called `m`. When we print out `m`, we should now get an array of 50 numbers."
   ]
  },
  {
   "cell_type": "code",
   "execution_count": 6,
   "id": "856ab1fa-be87-4550-ac02-abc0e9aa8bed",
   "metadata": {},
   "outputs": [],
   "source": [
    "# I've included part of the code to get you started\n",
    "# You will need to uncomment it\n",
    "\n",
    "#m = np.zeros(50)\n",
    "#for i in range(len(m)):\n",
    "    # Your code here\n",
    "\n",
    "#m"
   ]
  },
  {
   "cell_type": "markdown",
   "id": "b693c02c-9bdc-43af-b65a-0fa4825c3ada",
   "metadata": {},
   "source": [
    "Change the code above to get\n",
    "* 100 samples of size 10\n",
    "* 10 samples of size 100"
   ]
  },
  {
   "cell_type": "markdown",
   "id": "dfe366ba-f71a-4e76-9ae6-27a91177faea",
   "metadata": {},
   "source": [
    "Finally, let's get the sample means for 10000 samples of size 50 and plot them on a histogram"
   ]
  },
  {
   "cell_type": "code",
   "execution_count": 7,
   "id": "d74f7f65-3d83-49b1-8115-9575cf6f5e8c",
   "metadata": {},
   "outputs": [],
   "source": [
    "# Your code here\n",
    "\n",
    "#sns.histplot(m)\n",
    "#plt.xlabel('sample mean')\n",
    "#plt.show()"
   ]
  },
  {
   "cell_type": "markdown",
   "id": "1e2e2dd7-c779-468d-ac56-7808bb328476",
   "metadata": {},
   "source": [
    "## Standard error of the mean\n",
    "\n",
    "The standard error of the mean is the standard deviation of the sampling distribution of the mean.\n",
    "\n",
    "Let's work out the SEM from the distribution of sample means we just generated:"
   ]
  },
  {
   "cell_type": "code",
   "execution_count": 8,
   "id": "5faeec75-1ea8-4b13-a6c7-93734518134a",
   "metadata": {},
   "outputs": [],
   "source": [
    "# m.std()"
   ]
  },
  {
   "cell_type": "markdown",
   "id": "a45efb4d-17d8-42c3-a6d4-0093d2efa101",
   "metadata": {},
   "source": [
    "The SEM can also be calculated as $$ SEM = \\frac{\\sigma}{\\sqrt{n}} $$"
   ]
  },
  {
   "cell_type": "code",
   "execution_count": 9,
   "id": "6728bb36-c299-4591-b69d-27ae728da0e1",
   "metadata": {},
   "outputs": [],
   "source": [
    "# calculate the standard deviation of the Brexdex data\n",
    "# sigma = \n",
    "\n",
    "# n is the SAMPLE size\n",
    "n=50\n",
    "\n",
    "# Fill in the equation for the SEM\n",
    "# Your code here"
   ]
  },
  {
   "cell_type": "markdown",
   "id": "558da4d2-6db4-4bd1-ba52-312aa3e68d47",
   "metadata": {},
   "source": [
    "Hopefully the two values match well."
   ]
  },
  {
   "cell_type": "markdown",
   "id": "650efbe0",
   "metadata": {},
   "source": [
    "## Shape of the sampling distribution\n",
    "\n",
    "Here we explore the shape of the sampling distribution of the mean\n",
    "\n",
    "### Sampling distribution of the mean when $n$ is small\n",
    "\n",
    "Let's start by simulating what the sampling distribution of the mean looks like for small values of $n$ - starting with $n=1$\n",
    "\n",
    "#### $n=1$\n",
    "\n",
    "Write some code to draw 10,000 samples with n=1, obtain the mean of each sample, and plot the means.\n",
    "\n",
    "**Think**\n",
    "* Before you run it, think: what will this 'sampling distribution of the mean' look like?\n"
   ]
  },
  {
   "cell_type": "code",
   "execution_count": 10,
   "id": "8f8ef0c3",
   "metadata": {},
   "outputs": [],
   "source": [
    "# Your code here!\n",
    "# Note this can be copied from examples earlier in the chapter\n",
    "nSamples = 10000 # we will draw 10,000 samples\n",
    "samplesize=1 # each sample contains n people\n",
    "\n",
    "# make an empty array 'm' to store the means\n",
    "\n",
    "# Make a loop to get the samples and store their means in m\n",
    "\n",
    "# sns.histplot(m)\n",
    "# plt.xlabel('sample mean')\n",
    "# plt.show()"
   ]
  },
  {
   "cell_type": "markdown",
   "id": "7c7549dd",
   "metadata": {},
   "source": [
    "In fact when $n=1$, the sample mean is simply the value of the (one) person in the sample's score, so the sampling distribution of the mean is exactly the sample data distribution\n",
    "\n",
    "#### $n=2$\n",
    "\n",
    "Write some code to draw 10,000 samples with n=2, obtain the mean of each sample, and plot the means."
   ]
  },
  {
   "cell_type": "code",
   "execution_count": 11,
   "id": "aa81f9b2",
   "metadata": {},
   "outputs": [],
   "source": [
    "# Your code here!\n",
    "# Should be the same as the previous one but with a different n"
   ]
  },
  {
   "cell_type": "markdown",
   "id": "fd102df1",
   "metadata": {},
   "source": [
    "Hopefully you have noticed a middle peak emerging.\n",
    "\n",
    "**Think**-\n",
    "\n",
    "A simple summary of the Brexdex distribution is that people are either pre-Brexit (belonging to the lower mode of the distribution, the hump of scores below 50%), or they are against Brexit (belonging to the upper mode).\n",
    "\n",
    "If we draw a sample of $n=2$, there are four possible outomes:\n",
    "\n",
    "* pro-pro\n",
    "* pro-against\n",
    "* against-pro\n",
    "* against-against\n",
    "\n",
    "Case 1 yields low scores, case 4 yields high scores, and cases 2 and 3 yield intermediate scores.\n",
    "\n",
    "How does this relate to the simulated sampling distribution of the mean you plotted?"
   ]
  },
  {
   "cell_type": "markdown",
   "id": "f9302f17",
   "metadata": {},
   "source": [
    "#### $n = 3,4,5$\n",
    "\n",
    "As $n$ increases, we rapidly see a unimodal, bell-curve-like shape emerging\n",
    "\n",
    "Write some code to simulate the sampling distribution of the mean for 10,000 samples each of $n=3,4,5$ and plot a histogram of the sample means for each value of $n$. Organise these plots as subplots next to or above each other (you decide which is more informative)\n",
    "\n",
    "To do this, you will need to use a double `for`-loop. I have completed some parts of the code to get you started.\n",
    "\n",
    "<font color='red'>To compare the sampling distributions effectively, students should plot them above eachother and match the scales on the x-axis</font>"
   ]
  },
  {
   "cell_type": "code",
   "execution_count": 12,
   "id": "9e3efd2b",
   "metadata": {},
   "outputs": [],
   "source": [
    "# Note this can be copied from examples in chapter 0 (\"prepwork\")\n",
    "nSamples = 10000 # we will draw 10,000 samples\n",
    "samplesize=[3,4,5] # each sample contains n people\n",
    "\n",
    "for j in range(len(samplesize)):\n",
    "    m=np.empty(nSamples) # make an array to store the means\n",
    "\n",
    "    for i in range(nSamples):\n",
    "        pass # This is a placeholder, delete it!\n",
    "        # Your code here to fill in m with sample means\n",
    "        \n",
    "    #plt.subplot(3,1,j+1)\n",
    "    #sns.histplot(m, bins=range(0,100,5))\n",
    "    #plt.xlabel('sample mean')\n",
    "\n",
    "#plt.tight_layout()\n",
    "#plt.show()"
   ]
  },
  {
   "cell_type": "markdown",
   "id": "cf481a80-12da-4579-8134-f95261a61e02",
   "metadata": {},
   "source": [
    "## SEM is proportional to $\\frac{1}{\\sqrt{n}}$\n",
    "\n",
    "The standard error of the mean, which is the width of the sampling distribution of the mean, is inversely proportional to the square root of the sample size $n$\n",
    "\n",
    "Using the double loop, as above, we can plot the SEM calculated in two ways:\n",
    "* as the standard deviation of the simulated sampling distribution of the mean\n",
    "* From the equation\n",
    "\n",
    "... for a range of values of n\n",
    "\n",
    "Complete the code block below:"
   ]
  },
  {
   "cell_type": "code",
   "execution_count": 13,
   "id": "51d81422-53e1-45b4-8d0e-4db056c93e72",
   "metadata": {},
   "outputs": [
    {
     "ename": "SyntaxError",
     "evalue": "invalid syntax (1398808157.py, line 13)",
     "output_type": "error",
     "traceback": [
      "  \u001b[36mCell\u001b[39m\u001b[36m \u001b[39m\u001b[32mIn[13]\u001b[39m\u001b[32m, line 13\u001b[39m\n\u001b[31m    \u001b[39m\u001b[31msimulatedSEM[j] = # your code here\u001b[39m\n                      ^\n\u001b[31mSyntaxError\u001b[39m\u001b[31m:\u001b[39m invalid syntax\n"
     ]
    }
   ],
   "source": [
    "nSamples = 100 # we will draw 100 samples at each samplesize\n",
    "samplesizes=range(1,100) # try all values of n from 1 to 100\n",
    "simulatedSEM=np.zeros(len(samplesizes))\n",
    "calculatedSEM=np.zeros(len(samplesizes))\n",
    "\n",
    "for j in range(len(samplesizes)):\n",
    "    m=np.zeros(nSamples) # make an array to store the means\n",
    "\n",
    "    for i in range(nSamples):\n",
    "        # Your code here to fill in m with sample means\n",
    "        pass # This is a placeholder, delete it!\n",
    "        \n",
    "    simulatedSEM[j] = # your code here\n",
    "    calculatedSEM[j] = # your code here\n",
    "\n",
    "#plt.plot(samplesizes, calculatedSEM, 'r')\n",
    "#plt.plot(samplesizes, simulatedSEM, 'k.-')\n",
    "\n",
    "#plt.xlabel('sample mean')\n",
    "#plt.ylabel('SEM')\n",
    "\n",
    "#plt.tight_layout()\n",
    "#plt.show()"
   ]
  },
  {
   "cell_type": "markdown",
   "id": "9ba12ced",
   "metadata": {},
   "source": [
    "## When does the CLT apply?\n",
    "\n",
    "The Central Limit Theorem states that the sampling distribution of the mean is estimated by $\\mathcal{N}(\\bar{x},\\frac{s}{\\sqrt{n}})$ when $n$ is large\n",
    "\n",
    "But how large is large enough?\n",
    "\n",
    "A good rule of thumb is that the Central Limit Theorem applies for $n>50$, and a larger $n$ is required for a roughly normal sampling distribution when the data distribution is grossly non-normal (such as the bimodal Brexdex distribution). \n",
    "\n",
    "In reality, the normal distribution becomes a closer and closer fit tot the sampling distribution of the mean as $n$ gets larger\n",
    "\n",
    "### $n=100$\n",
    "\n",
    "Let's start with a value of $n$ for which the central limit theorem should definitely apply, $n=100$\n",
    "\n",
    "Now, we work out the mean and SEM that would be predicted for the sampling distribution of the mean, if the central limit theorem applied.\n",
    "\n",
    "Finally we compare the predicted normal distribution to the simulated sampling distribution of the mean in a plot\n",
    "\n",
    "**Note -**\n",
    "The code to get the normal curve and histogram to match in scale is a bit fiddly, this was covered in the tutorial exercises last week"
   ]
  },
  {
   "cell_type": "code",
   "execution_count": 7,
   "id": "96ed1083",
   "metadata": {},
   "outputs": [
    {
     "data": {
      "image/png": "[encoded data removed]",
      "text/plain": [
       "<Figure size 640x480 with 1 Axes>"
      ]
     },
     "metadata": {},
     "output_type": "display_data"
    }
   ],
   "source": [
    "# first simulate the sampling distribution of the mean for 10,000 samples\n",
    "nSamples = 10000\n",
    "samplesize = 100\n",
    "m=np.empty(nSamples) # make an array to store the means\n",
    "binwidth=0.1\n",
    "\n",
    "for i in range(nSamples):\n",
    "    sample = UKBrexdex.sample(n=samplesize, replace=False)\n",
    "    m[i]=sample.score.mean()\n",
    "    \n",
    "sns.histplot(m, bins=np.arange(40,60,binwidth))\n",
    " \n",
    "# now work out the expected normal distribution\n",
    "mu = UKBrexdex.score.mean()\n",
    "sigma = UKBrexdex.score.std()\n",
    "SEM = sigma/(samplesize**0.5)\n",
    "\n",
    "x = np.arange(40,60,binwidth) # x axis values - you may wat to change these once you have tried plotting it\n",
    "p = stats.norm.pdf(x,mu,SEM)\n",
    "freq = p*nSamples*binwidth # exected frequency in each ibn is probability of the bin * total nSamples * bin width\n",
    "\n",
    "plt.plot(x,freq,'r')\n",
    "plt.xlabel('sample mean')\n",
    "plt.show()"
   ]
  },
  {
   "cell_type": "markdown",
   "id": "8c05c451",
   "metadata": {},
   "source": [
    "This is clearly quite a good fit.\n",
    "\n",
    "Now try changing the `samplesize`, $n$, in the code block above, to $n=4$ (<b><i>hint:</b></i> change the histogram bins and x-axis values to  `np.arange(0,100,binwidth)`, and change `binwidth` to 1)\n",
    "\n",
    "Hopefully, you can see that although the histogram on its own looked quite normal, it is actually not a great fit to the normal distribution we would expect if the Central Limit Theorem applied - the peak is too flat and there are fewer sample means out in the tails than we would expect - the distribution looks like a piece of Toblerone\n",
    "\n",
    "<img src= \"https://raw.githubusercontent.com/jillxoreilly/StatsCourseBook/main/images/toblerone.png\" width=\"30%\"  />\n",
    "\n",
    "### Q-Q plot\n",
    "\n",
    "The differences in the peak and tails of the distribution can be hard to spot on a histogram/Normal plot as above.\n",
    "\n",
    "A type of plot designed to make these clearer exists - it is called a Q-Q (quantile-quantile) plot. In the Q-Q plot, we plot the quantiles of the data distribution (in this case our 10,000 simulated sample means) against the quantiles of the normal distribution.\n",
    "\n",
    "If our data distribution was normal, the points would all fall on a straight line, but here we see the deviation at the tails of the distribution, reflecting the difference between the triangular tails of the simulated sampling distribution as opposed to the finely tapered tails of the normal distribution."
   ]
  },
  {
   "cell_type": "code",
   "execution_count": 86,
   "id": "499c1583",
   "metadata": {},
   "outputs": [
    {
     "data": {
      "image/png": "[encoded data removed]",
      "text/plain": [
       "<Figure size 640x480 with 1 Axes>"
      ]
     },
     "metadata": {},
     "output_type": "display_data"
    }
   ],
   "source": [
    "# first simulate the sampling distribution of the mean for 10,000 samples\n",
    "nSamples = 10000\n",
    "samplesize = 100\n",
    "m=np.empty(nSamples) # make an array to store the means\n",
    "binwidth=0.1\n",
    "\n",
    "for i in range(nSamples):\n",
    "    sample = UKBrexdex.sample(n=samplesize, replace=False)\n",
    "    m[i]=sample.score.mean()\n",
    "\n",
    "# Now make the Q-Q plot\n",
    "stats.probplot(m, plot=plt)\n",
    "plt.show()"
   ]
  },
  {
   "cell_type": "markdown",
   "id": "d4c35390",
   "metadata": {},
   "source": [
    "* Try changing `samplesize` ($n$) back to smaller values ($n=2,3,4$) or larger value such as ($n=10,100$) in the code block above and remaking the Q-Q plot.\n",
    "\n",
    "You should see the tails of the sampling distribution (in both the histogram and the Q-Q plot) start to match the normal distribution\n",
    "\n",
    "* Try setting $n=2$ in the code block above and remaking the Q-Q plot. \n",
    "\n",
    "You should see the funny three-peak histogram - how is the shape of the histogram reflected in the Q-Q plot?"
   ]
  },
  {
   "cell_type": "code",
   "execution_count": null,
   "id": "6c98deeb",
   "metadata": {},
   "outputs": [],
   "source": []
  }
 ],
 "metadata": {
  "kernelspec": {
   "display_name": "Python 3 (ipykernel)",
   "language": "python",
   "name": "python3"
  },
  "language_info": {
   "codemirror_mode": {
    "name": "ipython",
    "version": 3
   },
   "file_extension": ".py",
   "mimetype": "text/x-python",
   "name": "python",
   "nbconvert_exporter": "python",
   "pygments_lexer": "ipython3",
   "version": "3.11.13"
  }
 },
 "nbformat": 4,
 "nbformat_minor": 5
}