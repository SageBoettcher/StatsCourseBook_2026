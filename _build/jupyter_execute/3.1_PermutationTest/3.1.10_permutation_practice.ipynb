{
 "cells": [
  {
   "cell_type": "markdown",
   "id": "c1062de3",
   "metadata": {},
   "source": [
    "# Permutation testing - more practice\n",
    "\n",
    "The aim of these exercises is to give you some practice running permutation tests and deciding what to permute and what your test statistic is in each case!"
   ]
  },
  {
   "cell_type": "markdown",
   "id": "994e0b88",
   "metadata": {},
   "source": [
    "### Set up Python libraries\n",
    "\n",
    "As usual, run the code cell below to import the relevant Python libraries"
   ]
  },
  {
   "cell_type": "code",
   "execution_count": 1,
   "id": "56b8c893",
   "metadata": {
    "tags": []
   },
   "outputs": [],
   "source": [
    "# Set-up Python libraries - you need to run this but you don't need to change it\n",
    "import numpy as np\n",
    "import matplotlib.pyplot as plt\n",
    "import scipy.stats as stats\n",
    "import pandas as pd\n",
    "import seaborn as sns\n",
    "sns.set_theme(style='white')\n",
    "import statsmodels.api as sm\n",
    "import statsmodels.formula.api as smf"
   ]
  },
  {
   "cell_type": "markdown",
   "id": "3f3652ec",
   "metadata": {},
   "source": [
    "### Import and view the data\n",
    "\n",
    "We will work with a fictional dataset containing wellbeing scores pre- and post the vacation for 300 Oxford students. \n",
    "\n",
    "For each student was also have the following information:\n",
    "* subject studied\n",
    "* college"
   ]
  },
  {
   "cell_type": "code",
   "execution_count": 2,
   "id": "ecc6605d",
   "metadata": {
    "tags": []
   },
   "outputs": [
    {
     "data": {
      "text/html": [
       "<div>\n",
       "<style scoped>\n",
       "    .dataframe tbody tr th:only-of-type {\n",
       "        vertical-align: middle;\n",
       "    }\n",
       "\n",
       "    .dataframe tbody tr th {\n",
       "        vertical-align: top;\n",
       "    }\n",
       "\n",
       "    .dataframe thead th {\n",
       "        text-align: right;\n",
       "    }\n",
       "</style>\n",
       "<table border=\"1\" class=\"dataframe\">\n",
       "  <thead>\n",
       "    <tr style=\"text-align: right;\">\n",
       "      <th></th>\n",
       "      <th>ID_code</th>\n",
       "      <th>College</th>\n",
       "      <th>Subject</th>\n",
       "      <th>Score_preVac</th>\n",
       "      <th>Score_postVac</th>\n",
       "    </tr>\n",
       "  </thead>\n",
       "  <tbody>\n",
       "    <tr>\n",
       "      <th>0</th>\n",
       "      <td>247610</td>\n",
       "      <td>Lonsdale</td>\n",
       "      <td>PPE</td>\n",
       "      <td>60</td>\n",
       "      <td>35</td>\n",
       "    </tr>\n",
       "    <tr>\n",
       "      <th>1</th>\n",
       "      <td>448590</td>\n",
       "      <td>Lonsdale</td>\n",
       "      <td>PPE</td>\n",
       "      <td>43</td>\n",
       "      <td>44</td>\n",
       "    </tr>\n",
       "    <tr>\n",
       "      <th>2</th>\n",
       "      <td>491100</td>\n",
       "      <td>Lonsdale</td>\n",
       "      <td>engineering</td>\n",
       "      <td>79</td>\n",
       "      <td>69</td>\n",
       "    </tr>\n",
       "    <tr>\n",
       "      <th>3</th>\n",
       "      <td>316150</td>\n",
       "      <td>Lonsdale</td>\n",
       "      <td>PPE</td>\n",
       "      <td>55</td>\n",
       "      <td>61</td>\n",
       "    </tr>\n",
       "    <tr>\n",
       "      <th>4</th>\n",
       "      <td>251870</td>\n",
       "      <td>Lonsdale</td>\n",
       "      <td>engineering</td>\n",
       "      <td>62</td>\n",
       "      <td>65</td>\n",
       "    </tr>\n",
       "    <tr>\n",
       "      <th>...</th>\n",
       "      <td>...</td>\n",
       "      <td>...</td>\n",
       "      <td>...</td>\n",
       "      <td>...</td>\n",
       "      <td>...</td>\n",
       "    </tr>\n",
       "    <tr>\n",
       "      <th>296</th>\n",
       "      <td>440570</td>\n",
       "      <td>Beaufort</td>\n",
       "      <td>history</td>\n",
       "      <td>75</td>\n",
       "      <td>70</td>\n",
       "    </tr>\n",
       "    <tr>\n",
       "      <th>297</th>\n",
       "      <td>826030</td>\n",
       "      <td>Beaufort</td>\n",
       "      <td>maths</td>\n",
       "      <td>52</td>\n",
       "      <td>49</td>\n",
       "    </tr>\n",
       "    <tr>\n",
       "      <th>298</th>\n",
       "      <td>856260</td>\n",
       "      <td>Beaufort</td>\n",
       "      <td>Biology</td>\n",
       "      <td>83</td>\n",
       "      <td>84</td>\n",
       "    </tr>\n",
       "    <tr>\n",
       "      <th>299</th>\n",
       "      <td>947060</td>\n",
       "      <td>Beaufort</td>\n",
       "      <td>engineering</td>\n",
       "      <td>62</td>\n",
       "      <td>65</td>\n",
       "    </tr>\n",
       "    <tr>\n",
       "      <th>300</th>\n",
       "      <td>165780</td>\n",
       "      <td>Beaufort</td>\n",
       "      <td>PPE</td>\n",
       "      <td>48</td>\n",
       "      <td>56</td>\n",
       "    </tr>\n",
       "  </tbody>\n",
       "</table>\n",
       "<p>301 rows × 5 columns</p>\n",
       "</div>"
      ],
      "text/plain": [
       "     ID_code   College      Subject  Score_preVac  Score_postVac\n",
       "0     247610  Lonsdale          PPE            60             35\n",
       "1     448590  Lonsdale          PPE            43             44\n",
       "2     491100  Lonsdale  engineering            79             69\n",
       "3     316150  Lonsdale          PPE            55             61\n",
       "4     251870  Lonsdale  engineering            62             65\n",
       "..       ...       ...          ...           ...            ...\n",
       "296   440570  Beaufort      history            75             70\n",
       "297   826030  Beaufort        maths            52             49\n",
       "298   856260  Beaufort      Biology            83             84\n",
       "299   947060  Beaufort  engineering            62             65\n",
       "300   165780  Beaufort          PPE            48             56\n",
       "\n",
       "[301 rows x 5 columns]"
      ]
     },
     "execution_count": 2,
     "metadata": {},
     "output_type": "execute_result"
    }
   ],
   "source": [
    "wb = pd.read_csv('https://raw.githubusercontent.com/jillxoreilly/StatsCourseBook_2024/main/data/WellbeingSample.csv')\n",
    "wb"
   ]
  },
  {
   "cell_type": "markdown",
   "id": "028303f8",
   "metadata": {},
   "source": [
    "\n",
    "### 1. For engineering students, is wellbeing increased after the vacation compared to before?\n",
    "\n",
    "\n",
    "We hypothesise that engineering students will feel better after the vacation. Test the hypothesis using a permutation test.\n",
    "\n",
    "First let's remind ourselves how to get just the rows of the dataframe containing engineering students:"
   ]
  },
  {
   "cell_type": "code",
   "execution_count": 3,
   "id": "f2abb884",
   "metadata": {
    "tags": []
   },
   "outputs": [
    {
     "data": {
      "text/html": [
       "<div>\n",
       "<style scoped>\n",
       "    .dataframe tbody tr th:only-of-type {\n",
       "        vertical-align: middle;\n",
       "    }\n",
       "\n",
       "    .dataframe tbody tr th {\n",
       "        vertical-align: top;\n",
       "    }\n",
       "\n",
       "    .dataframe thead th {\n",
       "        text-align: right;\n",
       "    }\n",
       "</style>\n",
       "<table border=\"1\" class=\"dataframe\">\n",
       "  <thead>\n",
       "    <tr style=\"text-align: right;\">\n",
       "      <th></th>\n",
       "      <th>ID_code</th>\n",
       "      <th>College</th>\n",
       "      <th>Subject</th>\n",
       "      <th>Score_preVac</th>\n",
       "      <th>Score_postVac</th>\n",
       "    </tr>\n",
       "  </thead>\n",
       "  <tbody>\n",
       "    <tr>\n",
       "      <th>2</th>\n",
       "      <td>491100</td>\n",
       "      <td>Lonsdale</td>\n",
       "      <td>engineering</td>\n",
       "      <td>79</td>\n",
       "      <td>69</td>\n",
       "    </tr>\n",
       "    <tr>\n",
       "      <th>4</th>\n",
       "      <td>251870</td>\n",
       "      <td>Lonsdale</td>\n",
       "      <td>engineering</td>\n",
       "      <td>62</td>\n",
       "      <td>65</td>\n",
       "    </tr>\n",
       "    <tr>\n",
       "      <th>6</th>\n",
       "      <td>841260</td>\n",
       "      <td>Lonsdale</td>\n",
       "      <td>engineering</td>\n",
       "      <td>71</td>\n",
       "      <td>58</td>\n",
       "    </tr>\n",
       "    <tr>\n",
       "      <th>7</th>\n",
       "      <td>960120</td>\n",
       "      <td>Lonsdale</td>\n",
       "      <td>engineering</td>\n",
       "      <td>54</td>\n",
       "      <td>54</td>\n",
       "    </tr>\n",
       "    <tr>\n",
       "      <th>15</th>\n",
       "      <td>670880</td>\n",
       "      <td>Lonsdale</td>\n",
       "      <td>engineering</td>\n",
       "      <td>70</td>\n",
       "      <td>69</td>\n",
       "    </tr>\n",
       "    <tr>\n",
       "      <th>...</th>\n",
       "      <td>...</td>\n",
       "      <td>...</td>\n",
       "      <td>...</td>\n",
       "      <td>...</td>\n",
       "      <td>...</td>\n",
       "    </tr>\n",
       "    <tr>\n",
       "      <th>266</th>\n",
       "      <td>842870</td>\n",
       "      <td>Beaufort</td>\n",
       "      <td>engineering</td>\n",
       "      <td>52</td>\n",
       "      <td>58</td>\n",
       "    </tr>\n",
       "    <tr>\n",
       "      <th>278</th>\n",
       "      <td>414020</td>\n",
       "      <td>Beaufort</td>\n",
       "      <td>engineering</td>\n",
       "      <td>76</td>\n",
       "      <td>82</td>\n",
       "    </tr>\n",
       "    <tr>\n",
       "      <th>291</th>\n",
       "      <td>384240</td>\n",
       "      <td>Beaufort</td>\n",
       "      <td>engineering</td>\n",
       "      <td>78</td>\n",
       "      <td>89</td>\n",
       "    </tr>\n",
       "    <tr>\n",
       "      <th>294</th>\n",
       "      <td>457900</td>\n",
       "      <td>Beaufort</td>\n",
       "      <td>engineering</td>\n",
       "      <td>72</td>\n",
       "      <td>62</td>\n",
       "    </tr>\n",
       "    <tr>\n",
       "      <th>299</th>\n",
       "      <td>947060</td>\n",
       "      <td>Beaufort</td>\n",
       "      <td>engineering</td>\n",
       "      <td>62</td>\n",
       "      <td>65</td>\n",
       "    </tr>\n",
       "  </tbody>\n",
       "</table>\n",
       "<p>61 rows × 5 columns</p>\n",
       "</div>"
      ],
      "text/plain": [
       "     ID_code   College      Subject  Score_preVac  Score_postVac\n",
       "2     491100  Lonsdale  engineering            79             69\n",
       "4     251870  Lonsdale  engineering            62             65\n",
       "6     841260  Lonsdale  engineering            71             58\n",
       "7     960120  Lonsdale  engineering            54             54\n",
       "15    670880  Lonsdale  engineering            70             69\n",
       "..       ...       ...          ...           ...            ...\n",
       "266   842870  Beaufort  engineering            52             58\n",
       "278   414020  Beaufort  engineering            76             82\n",
       "291   384240  Beaufort  engineering            78             89\n",
       "294   457900  Beaufort  engineering            72             62\n",
       "299   947060  Beaufort  engineering            62             65\n",
       "\n",
       "[61 rows x 5 columns]"
      ]
     },
     "execution_count": 3,
     "metadata": {},
     "output_type": "execute_result"
    }
   ],
   "source": [
    "wb.query('Subject == \"engineering\"')"
   ]
  },
  {
   "cell_type": "markdown",
   "id": "c171ae2a",
   "metadata": {},
   "source": [
    "#### Things you need to decide:\n",
    "\n",
    "* what is our null hypothesis\n",
    "* what is our alternative hypothesis?\n",
    "\n",
    "Is it a paired or unpaired test?\n",
    "* therefore which `permutation_type` is needed, `samples`, `pairings` or `independent`?\n",
    "* are we testing for the mean difference (within pairs) `mean(x-y)`, or the difference of means `mean(x)-mean(y)`\n",
    "* what actually are `x` and `y` in this case?\n",
    "        \n",
    "Is it a one- or two-tailed test?\n",
    "* therefore which `alternative` hypothesis type is needed, `two-sided`, `greater` or `less`?\n",
    "\n",
    "What $\\alpha$ value will you use?\n",
    "* what value must $p$ be smaller than, to reject the null hypothesis?\n",
    "* this is the experimenter's choice but usually 0.05 is used (sometimes 0.001 or 0.001)"
   ]
  },
  {
   "cell_type": "markdown",
   "id": "e15c8d80",
   "metadata": {},
   "source": [
    "#### The answers to the things you need to decide!\n",
    "\n",
    "$\\mathcal{H_0}$: The mean difference in wellbeing post-pre vacation is zero for engineering students\n",
    "\n",
    "$\\mathcal{H_a}$: The mean difference in wellbeing post-pre vacation is greater than zero for engineering students, ie wellbeing improves over the vacation.\n",
    "\n",
    "This is a paired test as we are comparing each person's wellbeing before the vacation to their own wellbeing after the vacation. Therefore we are testing the mean difference `mean(x-y)` and need to shuffle the `samples` (flip pre and post labels with pairs, but don't break the pairings)"
   ]
  },
  {
   "cell_type": "code",
   "execution_count": 4,
   "id": "c4308ec0",
   "metadata": {
    "tags": []
   },
   "outputs": [],
   "source": [
    "# define a funtion that gives the mean difference for two series x and y\n",
    "def mDiff(x,y):\n",
    "    return np.mean(x-y)"
   ]
  },
  {
   "cell_type": "markdown",
   "id": "90e0dbd7",
   "metadata": {},
   "source": [
    "It's a one-tailed test because our hypothesis is directional (we expect wellbeing to increase after the vacation) and if we calculate of difference as post-pre, a significant effect would be a big positive difference, so we need `alternative='greater'`\n",
    "\n",
    "We will test at the 5% ($\\alpha=0.05$) level"
   ]
  },
  {
   "cell_type": "markdown",
   "id": "b544fd9e",
   "metadata": {},
   "source": [
    "#### Run the test!\n",
    "\n",
    "Here is some code to run the test"
   ]
  },
  {
   "cell_type": "code",
   "execution_count": 5,
   "id": "ad424a94",
   "metadata": {},
   "outputs": [
    {
     "data": {
      "text/plain": [
       "PermutationTestResult(statistic=np.float64(1.0491803278688525), pvalue=np.float64(0.20907909209079092), null_distribution=array([-0.81967213,  0.39344262,  0.19672131, ..., -0.55737705,\n",
       "        0.36065574,  0.45901639], shape=(10000,)))"
      ]
     },
     "execution_count": 5,
     "metadata": {},
     "output_type": "execute_result"
    }
   ],
   "source": [
    "post = wb.query('Subject == \"engineering\"').Score_postVac\n",
    "pre = wb.query('Subject == \"engineering\"').Score_preVac\n",
    "\n",
    "stats.permutation_test((post,pre), mDiff, alternative='greater', permutation_type='samples', n_resamples=10000)"
   ]
  },
  {
   "cell_type": "markdown",
   "id": "bc341136",
   "metadata": {},
   "source": [
    "#### Is it significant?\n",
    "\n",
    "Reading the test output:\n",
    "    \n",
    "`statistic=1.0491803278688525`    \n",
    "\n",
    "The mean post-pre wellfare score difference in our 'real' sample was 1.049 points (welfare was 1.049 points higher after the vac - this is a small increase as it's a 100-point scale)\n",
    "\n",
    "`pvalue=0.214`\n",
    "\n",
    "The probability of obtaining such a large increase in welfare due to chance if there was really no effect of the vacation is 21.4%\n",
    "\n",
    "#### Conclusions\n",
    "\n",
    "We fail to reject the null hypothesis as $p$ is not smaller than $\\alpha$\n",
    "\n",
    "#### How would you write that up in a journal article?\n",
    "\n",
    "We hypothesised that wellbeing increased over the vacation. We compared wellbeing in engineering students (n=61) before and after the vacation using a paired samples permutation test. There was no significant increase in wellbeing after the vacation (mean difference is an increase of 1.049 points, p=0.214, one tailed).\n",
    "                                                                                   "
   ]
  },
  {
   "cell_type": "markdown",
   "id": "1043dcd6",
   "metadata": {},
   "source": [
    "### 2. Do does wellbeing (before the vacation) differ between history and maths students?\n",
    "\n",
    "We hypothesise that students studying different subjects may have different levels of wellbeing but we don't have an a priori expectation about which subjects will have higher wellbeing. \n",
    "\n",
    "Test the hypothesis using a permutation test.\n",
    "\n",
    "Let's get just the prevacation wellbeing scores for history students and just maths students:"
   ]
  },
  {
   "cell_type": "code",
   "execution_count": 6,
   "id": "d5be40c1",
   "metadata": {},
   "outputs": [],
   "source": [
    "history = wb.query('Subject == \"history\"').Score_preVac\n",
    "maths = wb.query('Subject == \"maths\"').Score_preVac"
   ]
  },
  {
   "cell_type": "markdown",
   "id": "17ccd71c",
   "metadata": {},
   "source": [
    "#### Things you need to decide:\n",
    "\n",
    "* what is our null hypothesis\n",
    "* what is our alternative hypothesis?\n",
    "\n",
    "Is it a paired or unpaired test?\n",
    "* therefore which `permutation_type` is needed, `samples`, `pairings` or `independent`?\n",
    "* are we testing for the mean difference (within pairs) `mean(x-y)`, or the difference of means `mean(x)-mean(y)`\n",
    "* what actually are `x` and `y` in this case?\n",
    "        \n",
    "Is it a one- or two-tailed test?\n",
    "* therefore which `alternative` hypothesis type is needed, `two-sided`, `greater` or `less`?\n",
    "\n",
    "What $\\alpha$ value will you use?\n",
    "* what value must $p$ be smaller than, to reject the null hypothesis?\n",
    "* this is the experimenter's choice but usually 0.05 is used (sometimes 0.001 or 0.001)\n",
    "\n",
    "#### The answers to the things you need to decide!\n",
    "\n",
    "$\\mathcal{H_0}$: The difference mean wellbeing pre vacation for history and maths students is zero\n",
    "\n",
    "$\\mathcal{H_a}$: The difference mean wellbeing pre vacation for history and maths students is non-zero, ie one subject has higher wellbbeing\n",
    "\n",
    "This is an independent samples test as we are comparing each person's wellbeing before the vacation to their own wellbeing after the vacation. Therefore we are testing the mean difference `mean(x)-mean(y)` and need `permutation_type = 'independent'` (shuffle which datapoints are labelled 'history' or 'maths' but keep the number of students labelled as history and maths matching the original sample)"
   ]
  },
  {
   "cell_type": "code",
   "execution_count": 7,
   "id": "ee0279f5",
   "metadata": {},
   "outputs": [],
   "source": [
    "# define a funtion that gives the mean difference for two series x and y\n",
    "def dMeans(x,y):\n",
    "    return np.mean(x)-np.mean(y)"
   ]
  },
  {
   "cell_type": "markdown",
   "id": "d7ecea06",
   "metadata": {},
   "source": [
    "It's a two-tailed test because our hypothesis is non-directional (we don't have particular predictions about which subject we might have higher wellbeing, we are just interested in whether there is a difference) so we need alternative='two-sided'\n",
    "\n",
    "We will test at the 5% ($𝛼=0.05$) level\n",
    "\n",
    "#### Run the test!\n",
    "\n",
    "Here is some code to run the test:"
   ]
  },
  {
   "cell_type": "code",
   "execution_count": 8,
   "id": "fed63c81-92b7-4fa7-a499-44b457cf2ea9",
   "metadata": {
    "tags": []
   },
   "outputs": [
    {
     "data": {
      "text/plain": [
       "PermutationTestResult(statistic=np.float64(3.486388384755003), pvalue=np.float64(0.1713828617138286), null_distribution=array([-0.69509982,  0.69872958,  0.17604356, ..., -1.13067151,\n",
       "        0.78584392,  0.43738657], shape=(10000,)))"
      ]
     },
     "execution_count": 8,
     "metadata": {},
     "output_type": "execute_result"
    }
   ],
   "source": [
    "stats.permutation_test((history,maths), dMeans, alternative='two-sided', permutation_type='independent', n_resamples=10000)"
   ]
  },
  {
   "cell_type": "markdown",
   "id": "6b73c8a8",
   "metadata": {},
   "source": [
    "#### Is it significant?\n",
    "\n",
    "Reading the test output:\n",
    "    \n",
    "`statistic=3.486388384755003`    \n",
    "\n",
    "The difference in mean welfare score in our 'real' sample was 3.49 points (welfare was 3.49 points higher for history students)\n",
    "\n",
    "`pvalue=0.16718328167183283`\n",
    "\n",
    "The probability of obtaining such a large difference in welfare due to chance if there was really no effect of the subject is 16.7%\n",
    "\n",
    "#### Conclusions\n",
    "\n",
    "We fail to reject the null hypothesis as $p$ is not smaller than $\\alpha$\n",
    "\n",
    "#### How would you write that up in a journal article?\n",
    "\n",
    "We hypothesised that wellbeing might differ between students in different subjects. We compared wellbeing in maths students (n=29) and history students (n=19) before the vacation using an independent samples samples permutation test. There was no significant difference in wellbeing between subjects (difference of means = 3.48 points, p=0.167, two tailed).\n",
    "\n",
    "#### Note\n",
    "\n",
    "If we plot the distribution of wellbeing in the two subjects, we can see taht there is a lot of overlap"
   ]
  },
  {
   "cell_type": "code",
   "execution_count": 9,
   "id": "e2658533",
   "metadata": {
    "tags": []
   },
   "outputs": [
    {
     "data": {
      "image/png": "[encoded data removed]",
      "text/plain": [
       "<Figure size 640x480 with 1 Axes>"
      ]
     },
     "metadata": {},
     "output_type": "display_data"
    }
   ],
   "source": [
    "sns.kdeplot(history, color='b')\n",
    "sns.kdeplot(maths, color='r')\n",
    "plt.legend(['history','maths'])\n",
    "plt.show()"
   ]
  },
  {
   "cell_type": "markdown",
   "id": "ee6943d4",
   "metadata": {},
   "source": [
    "### 3. Are welfare scores pre- and post-vac correlated for biology students?\n",
    "\n",
    "We hypothesise that there is a strong individual difference effect on welfare scores and that scores pre- and post-vac are correlated. Let's say the sample we have availablbe to test this are biology students.\n",
    "\n",
    "Test the hypothesis using a permutation test.\n",
    "\n",
    "Let's get two series containing the data we need:"
   ]
  },
  {
   "cell_type": "code",
   "execution_count": 10,
   "id": "99bdf853",
   "metadata": {},
   "outputs": [],
   "source": [
    "prevac = wb.query('Subject==\"Biology\"').Score_preVac\n",
    "postvac = wb.query('Subject==\"Biology\"').Score_postVac"
   ]
  },
  {
   "cell_type": "markdown",
   "id": "0914f51b",
   "metadata": {},
   "source": [
    "#### Plot the data\n",
    "\n",
    "A scatterplot may help us get a sense of whether there is a correlation"
   ]
  },
  {
   "cell_type": "code",
   "execution_count": 11,
   "id": "5d616fb8",
   "metadata": {},
   "outputs": [
    {
     "data": {
      "image/png": "[encoded data removed]",
      "text/plain": [
       "<Figure size 640x480 with 1 Axes>"
      ]
     },
     "metadata": {},
     "output_type": "display_data"
    }
   ],
   "source": [
    "sns.scatterplot(x=prevac, y=postvac)\n",
    "plt.show()"
   ]
  },
  {
   "cell_type": "markdown",
   "id": "d7d59330",
   "metadata": {},
   "source": [
    "...looks like there is a correlation. Let's test it.\n",
    "\n",
    "#### The answers to the things you need to decide!\n",
    "\n",
    "$\\mathcal{H_0}$: The correlation in wellbeing pre- and post- vacation is zero for students in Lonsdale college\n",
    "\n",
    "$\\mathcal{H_a}$: The correlation in wellbeing pre- and post- vacation is greater than zero (students with high wellbeing bbefore the vac also have high wellbeing after the vac)\n",
    "\n",
    "As this is a correlation, we need `permutation_type = 'pairings'` (shuffle which datapoints are paired with which)\n"
   ]
  },
  {
   "cell_type": "code",
   "execution_count": 12,
   "id": "6e87edfa",
   "metadata": {},
   "outputs": [],
   "source": [
    "# define a function that gives the correlation for two series x and y\n",
    "# note that np.corrcoef returns a 2x2 matrix so we need to get just the relevant element\n",
    "def mycorr(x,y):\n",
    "    c = np.corrcoef(x,y)\n",
    "    return c[0,1]"
   ]
  },
  {
   "cell_type": "markdown",
   "id": "ae4508b0",
   "metadata": {},
   "source": [
    "It's a bit ambiguous whether a one- or two-tailed test is needed here.\n",
    "\n",
    "The question does not state the expected direction of effect, which would suggest a two tailed test.\n",
    "\n",
    "However, there is really only one reasonable direction in which a correlation could be expected, namely a positive correlation (we expect the students with the highest wellbeing before the vac also have highest wellbeing after the vac, hence we expect a positive correlation coefficient) - the reverse (students with high wellbeing before the vac have low wellbeing after) is nonsensical. So on the basis of common sense you could argue for a one-tailed test (and hence use `alternative='greater'`).\n",
    "\n",
    "Either of these is an acceptable answer as long as you briefly explain your decision.\n",
    "\n",
    "We will test at the 5% ($𝛼=0.05$) level\n",
    "\n",
    "#### Run the test!\n",
    "\n",
    "Here is some code to run the test:"
   ]
  },
  {
   "cell_type": "code",
   "execution_count": 13,
   "id": "e20a9297",
   "metadata": {},
   "outputs": [
    {
     "data": {
      "text/plain": [
       "PermutationTestResult(statistic=np.float64(0.7401813753937694), pvalue=np.float64(9.999000099990002e-05), null_distribution=array([ 0.19211721, -0.14280322,  0.09204193, ..., -0.06290887,\n",
       "       -0.06691741,  0.02057934], shape=(10000,)))"
      ]
     },
     "execution_count": 13,
     "metadata": {},
     "output_type": "execute_result"
    }
   ],
   "source": [
    "stats.permutation_test((prevac,postvac), mycorr, alternative='greater', permutation_type='pairings', n_resamples=10000)"
   ]
  },
  {
   "cell_type": "markdown",
   "id": "b60021c1",
   "metadata": {},
   "source": [
    "#### Is it significant?\n",
    "\n",
    "Reading the test output:\n",
    "    \n",
    "`statistic=0.7401813753937694`    \n",
    "\n",
    "The correlation between pre and post vac wellbeing scores in out 'real' sample was 0.74\n",
    "\n",
    "`pvalue=9.999000099990002e-05`\n",
    "\n",
    "The probability of obtaining such a large difference in welfare due to chance if there was really no effect of the subject is 9.99 x $10^{-5}$%, which is 0.0000999 or about one in ten thousand\n",
    "\n",
    "#### Conclusions\n",
    "\n",
    "We reject the null hypothesis as $p$ is much smaller than $\\alpha$ and conclude there is a correlation between wellbeing scores pre and post vacation\n",
    "\n",
    "#### How would you write that up in a journal article?\n",
    "\n",
    "We hypothesised that wellbeing before and after the vacation would be correlated across individuals. We calculated Pearson's $r$ for a group of biology students (n=51) before and after the vacation, and tested its significance using a permutation test. There was a highly significant positive correlation (r=0.74, p<0.0001, one tailed), meaning that students with higher wellbeing before the vacation also had high wellbeing after the vacation."
   ]
  },
  {
   "cell_type": "code",
   "execution_count": null,
   "id": "5b6c3874",
   "metadata": {},
   "outputs": [],
   "source": []
  },
  {
   "cell_type": "code",
   "execution_count": null,
   "id": "c154f3cf",
   "metadata": {},
   "outputs": [],
   "source": []
  }
 ],
 "metadata": {
  "kernelspec": {
   "display_name": "Python 3 (ipykernel)",
   "language": "python",
   "name": "python3"
  },
  "language_info": {
   "codemirror_mode": {
    "name": "ipython",
    "version": 3
   },
   "file_extension": ".py",
   "mimetype": "text/x-python",
   "name": "python",
   "nbconvert_exporter": "python",
   "pygments_lexer": "ipython3",
   "version": "3.11.13"
  }
 },
 "nbformat": 4,
 "nbformat_minor": 5
}