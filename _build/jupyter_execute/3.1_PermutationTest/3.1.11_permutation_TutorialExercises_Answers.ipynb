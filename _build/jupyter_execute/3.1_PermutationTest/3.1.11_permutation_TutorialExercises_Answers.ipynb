{
 "cells": [
  {
   "cell_type": "markdown",
   "id": "f038cfcb",
   "metadata": {},
   "source": [
    "# Tutorial exercises\n",
    "\n",
    "We again use the wellbeing dataset, to practice running permutation tests.\n",
    "\n",
    "### Set up Python libraries\n",
    "\n",
    "As usual, run the code cell below to import the relevant Python libraries"
   ]
  },
  {
   "cell_type": "code",
   "execution_count": 1,
   "id": "e89735f8",
   "metadata": {
    "tags": []
   },
   "outputs": [],
   "source": [
    "# Set-up Python libraries - you need to run this but you don't need to change it\n",
    "import numpy as np\n",
    "import matplotlib.pyplot as plt\n",
    "import scipy.stats as stats\n",
    "import pandas as pd\n",
    "import seaborn as sns\n",
    "sns.set_theme(style='white')\n",
    "import statsmodels.api as sm\n",
    "import statsmodels.formula.api as smf"
   ]
  },
  {
   "cell_type": "markdown",
   "id": "81aad7c0",
   "metadata": {},
   "source": [
    "### Import and view the data"
   ]
  },
  {
   "cell_type": "code",
   "execution_count": 2,
   "id": "741e30af",
   "metadata": {
    "tags": []
   },
   "outputs": [
    {
     "data": {
      "text/html": [
       "<div>\n",
       "<style scoped>\n",
       "    .dataframe tbody tr th:only-of-type {\n",
       "        vertical-align: middle;\n",
       "    }\n",
       "\n",
       "    .dataframe tbody tr th {\n",
       "        vertical-align: top;\n",
       "    }\n",
       "\n",
       "    .dataframe thead th {\n",
       "        text-align: right;\n",
       "    }\n",
       "</style>\n",
       "<table border=\"1\" class=\"dataframe\">\n",
       "  <thead>\n",
       "    <tr style=\"text-align: right;\">\n",
       "      <th></th>\n",
       "      <th>ID_code</th>\n",
       "      <th>College</th>\n",
       "      <th>Subject</th>\n",
       "      <th>Score_preVac</th>\n",
       "      <th>Score_postVac</th>\n",
       "    </tr>\n",
       "  </thead>\n",
       "  <tbody>\n",
       "    <tr>\n",
       "      <th>0</th>\n",
       "      <td>247610</td>\n",
       "      <td>Lonsdale</td>\n",
       "      <td>PPE</td>\n",
       "      <td>60</td>\n",
       "      <td>35</td>\n",
       "    </tr>\n",
       "    <tr>\n",
       "      <th>1</th>\n",
       "      <td>448590</td>\n",
       "      <td>Lonsdale</td>\n",
       "      <td>PPE</td>\n",
       "      <td>43</td>\n",
       "      <td>44</td>\n",
       "    </tr>\n",
       "    <tr>\n",
       "      <th>2</th>\n",
       "      <td>491100</td>\n",
       "      <td>Lonsdale</td>\n",
       "      <td>engineering</td>\n",
       "      <td>79</td>\n",
       "      <td>69</td>\n",
       "    </tr>\n",
       "    <tr>\n",
       "      <th>3</th>\n",
       "      <td>316150</td>\n",
       "      <td>Lonsdale</td>\n",
       "      <td>PPE</td>\n",
       "      <td>55</td>\n",
       "      <td>61</td>\n",
       "    </tr>\n",
       "    <tr>\n",
       "      <th>4</th>\n",
       "      <td>251870</td>\n",
       "      <td>Lonsdale</td>\n",
       "      <td>engineering</td>\n",
       "      <td>62</td>\n",
       "      <td>65</td>\n",
       "    </tr>\n",
       "    <tr>\n",
       "      <th>...</th>\n",
       "      <td>...</td>\n",
       "      <td>...</td>\n",
       "      <td>...</td>\n",
       "      <td>...</td>\n",
       "      <td>...</td>\n",
       "    </tr>\n",
       "    <tr>\n",
       "      <th>296</th>\n",
       "      <td>440570</td>\n",
       "      <td>Beaufort</td>\n",
       "      <td>history</td>\n",
       "      <td>75</td>\n",
       "      <td>70</td>\n",
       "    </tr>\n",
       "    <tr>\n",
       "      <th>297</th>\n",
       "      <td>826030</td>\n",
       "      <td>Beaufort</td>\n",
       "      <td>maths</td>\n",
       "      <td>52</td>\n",
       "      <td>49</td>\n",
       "    </tr>\n",
       "    <tr>\n",
       "      <th>298</th>\n",
       "      <td>856260</td>\n",
       "      <td>Beaufort</td>\n",
       "      <td>Biology</td>\n",
       "      <td>83</td>\n",
       "      <td>84</td>\n",
       "    </tr>\n",
       "    <tr>\n",
       "      <th>299</th>\n",
       "      <td>947060</td>\n",
       "      <td>Beaufort</td>\n",
       "      <td>engineering</td>\n",
       "      <td>62</td>\n",
       "      <td>65</td>\n",
       "    </tr>\n",
       "    <tr>\n",
       "      <th>300</th>\n",
       "      <td>165780</td>\n",
       "      <td>Beaufort</td>\n",
       "      <td>PPE</td>\n",
       "      <td>48</td>\n",
       "      <td>56</td>\n",
       "    </tr>\n",
       "  </tbody>\n",
       "</table>\n",
       "<p>301 rows × 5 columns</p>\n",
       "</div>"
      ],
      "text/plain": [
       "     ID_code   College      Subject  Score_preVac  Score_postVac\n",
       "0     247610  Lonsdale          PPE            60             35\n",
       "1     448590  Lonsdale          PPE            43             44\n",
       "2     491100  Lonsdale  engineering            79             69\n",
       "3     316150  Lonsdale          PPE            55             61\n",
       "4     251870  Lonsdale  engineering            62             65\n",
       "..       ...       ...          ...           ...            ...\n",
       "296   440570  Beaufort      history            75             70\n",
       "297   826030  Beaufort        maths            52             49\n",
       "298   856260  Beaufort      Biology            83             84\n",
       "299   947060  Beaufort  engineering            62             65\n",
       "300   165780  Beaufort          PPE            48             56\n",
       "\n",
       "[301 rows x 5 columns]"
      ]
     },
     "execution_count": 2,
     "metadata": {},
     "output_type": "execute_result"
    }
   ],
   "source": [
    "wb = pd.read_csv('https://raw.githubusercontent.com/jillxoreilly/StatsCourseBook_2024/main/data/WellbeingSample.csv')\n",
    "wb"
   ]
  },
  {
   "cell_type": "markdown",
   "id": "58d05f94",
   "metadata": {},
   "source": [
    "\n",
    "### Questions\n",
    "\n",
    "#### Test the following hypotheses:\n",
    "    \n",
    "1. Wellbeing scores pre- and post-vac are correlated in engineering students\n",
    "2. There is a difference in the wellbeing scores of PPE students between Beaufort or Lonsdale (before the vacation)?\n",
    "3. Wellbeing over all students increases across the vacation\n",
    "\n",
    "#### Slightly harder one:\n",
    "\n",
    "4. Wellbeing increases more across the vacation for Beaufort students than Lonsdale students \n",
    "\n",
    "#### Detailed Instructions\n",
    "\n",
    "In each case 1-4, you will need to decide what to do, carry it out and and write it up:\n",
    "\n",
    "**a. Hypotheses**\n",
    "* what is our null hypothesis\n",
    "* what is our alternative hypothesis?\n",
    "\n",
    "Is it a paired or unpaired test for difference of means, or a correlation test?\n",
    "* therefore which `permutation_type` is needed, `samples`, `pairings` or `independent`?\n",
    "        \n",
    "Is it a one- or two-tailed test?\n",
    "* therefore which `alternative` hypothesis type is needed, `two-sided`, `greater` or `less`?\n",
    "\n",
    "What $\\alpha$ value will you use?\n",
    "* what value must $p$ be smaller than, to reject the null hypothesis?\n",
    "* this is the experimenter's choice but usually 0.05 is used (sometimes 0.001 or 0.001)\n",
    "\n",
    "**b. Test statistic and descriptive statistics**\n",
    "\n",
    "What is your test statistic?\n",
    "\n",
    "Report appropriate descriptive statstics and plot the data (you should choose an appropriate plot type)\n",
    "\n",
    "**c. Carry out the permutation test**\n",
    "\n",
    "Carry out the test. Plot the null distribution. Report the $p$-value.\n",
    "\n",
    "**d. Report your conclusion**\n",
    "\n",
    "Will you reject the null hypothesis, or fail to reject it? What is your conclusion in plain English?\n",
    "\n",
    "**e. Finally, write it up**\n",
    "\n",
    "In each case, include a final cell in which you write the test up as if for a journal article\n",
    "\n",
    "\n"
   ]
  },
  {
   "cell_type": "markdown",
   "id": "330c4ebe-3e19-4add-bef5-c6e12b285243",
   "metadata": {},
   "source": [
    "\n",
    "## 1. Wellbeing scores pre- and post-vac are correlated in engineering students\n",
    "\n",
    "**a) Hypotheses etc**\n",
    "\n",
    "$\\mathcal{H_0}$: The correlation in wellbeing pre- and post- vacation is zero for engineering students\n",
    "\n",
    "$\\mathcal{H_a}$: The correlation in wellbeing pre- and post- vacation is greater than zero (students with high wellbeing before the vac also have high wellbeing after the vac)\n",
    "\n",
    "We will test at the 5% ($\\alpha=0.05$) level, one tailed as it only makes sense to look for a positive correlation (no sensible reason to think that those with the higherst scores pre-vac would have the *lowest* scores post vac)\n",
    "\n",
    "As this is a correlation, we need `permutation_type = 'pairings'` (shuffle which datapoints are paired with which)"
   ]
  },
  {
   "cell_type": "markdown",
   "id": "5f993240-4b46-4841-90bf-77908010305e",
   "metadata": {},
   "source": [
    "**b) Test statistic and descriptive statistics**\n",
    "\n",
    "Test statistic is Pearson's r. The relevant descriptive statistics are the observed value of r, which is 0.78 (calculated below), and the sample size which is 61"
   ]
  },
  {
   "cell_type": "code",
   "execution_count": 3,
   "id": "c146fce9-3390-4d89-8c85-174c019b5c83",
   "metadata": {
    "tags": []
   },
   "outputs": [
    {
     "data": {
      "text/plain": [
       "np.float64(0.7812255461336072)"
      ]
     },
     "execution_count": 3,
     "metadata": {},
     "output_type": "execute_result"
    }
   ],
   "source": [
    "# find the relevant data\n",
    "prevac = wb.query('Subject==\"engineering\"').Score_preVac\n",
    "postvac = wb.query('Subject==\"engineering\"').Score_postVac\n",
    "\n",
    "prevac.corr(postvac)"
   ]
  },
  {
   "cell_type": "code",
   "execution_count": 4,
   "id": "d4044d20-a668-431e-bbce-65a80324086b",
   "metadata": {
    "tags": []
   },
   "outputs": [
    {
     "name": "stdout",
     "output_type": "stream",
     "text": [
      "n pre = 61\n",
      "n post = 61\n"
     ]
    }
   ],
   "source": [
    "print('n pre = ' + str(prevac.count()))\n",
    "print('n post = ' + str(postvac.count()))"
   ]
  },
  {
   "cell_type": "markdown",
   "id": "6d1f0d41-9320-4fe9-90e5-3ec9910f8d5a",
   "metadata": {},
   "source": [
    "**Plot the data**: for a correlation, a scatter plot is good"
   ]
  },
  {
   "cell_type": "code",
   "execution_count": 5,
   "id": "f292ed81-b0fd-4bef-b75e-ad3d4cc6cc86",
   "metadata": {},
   "outputs": [
    {
     "data": {
      "image/png": "[encoded data removed]",
      "text/plain": [
       "<Figure size 640x480 with 1 Axes>"
      ]
     },
     "metadata": {},
     "output_type": "display_data"
    }
   ],
   "source": [
    "eng = wb.query('Subject == \"engineering\"')\n",
    "sns.scatterplot(data=eng, x='Score_preVac', y='Score_postVac')\n",
    "plt.xlabel('wellbeing before vacation'); plt.ylabel('wellbeing after vacation')\n",
    "plt.show()"
   ]
  },
  {
   "cell_type": "markdown",
   "id": "9b185dd9-761c-4720-b3cf-97f1c611fb4b",
   "metadata": {
    "tags": []
   },
   "source": [
    "**c) Carry out the test**"
   ]
  },
  {
   "cell_type": "code",
   "execution_count": 6,
   "id": "83bec307-6600-4b0f-a72c-824c2260f59a",
   "metadata": {
    "tags": []
   },
   "outputs": [
    {
     "data": {
      "text/plain": [
       "PermutationTestResult(statistic=np.float64(0.7812255461336072), pvalue=np.float64(9.999000099990002e-05), null_distribution=array([-0.23730725,  0.23090067, -0.10761585, ...,  0.09257365,\n",
       "       -0.02573442, -0.14310043], shape=(10000,)))"
      ]
     },
     "execution_count": 6,
     "metadata": {},
     "output_type": "execute_result"
    }
   ],
   "source": [
    "# define a function that gives the correlation for two series x and y\n",
    "# note that np.corrcoef returns a 2x2 matrix so we need to get just the relevant element\n",
    "def mycorr(x,y):\n",
    "    c = np.corrcoef(x,y)\n",
    "    return c[0,1]\n",
    "\n",
    "# run the permutation test\n",
    "stats.permutation_test((prevac,postvac), mycorr, alternative='greater', permutation_type='pairings', n_resamples=10000)"
   ]
  },
  {
   "cell_type": "markdown",
   "id": "c42fe7bb-5b0a-4d40-8807-d47ea3045732",
   "metadata": {},
   "source": [
    "**d) Report conclusion**\n",
    "\n",
    "As the p value is much less than 0.05, we conclude that there is a significant correlation in wellbeing scores pre- and post- the vacation in engineering student"
   ]
  },
  {
   "cell_type": "markdown",
   "id": "88399f64-185b-4725-abd5-83e9b0825956",
   "metadata": {},
   "source": [
    "**e) Write up**\n",
    "\n",
    "We hypothesised that wellbeing before and after the vacation would be correlated across individuals. We calculated Pearson's $r$ for a group of engineering students (n=61) before and after the vacation, and tested its significance using a permutation test. There was a highly significant positive correlation (r=0.78, p=0.000010, one tailed), meaning that students with higher wellbeing before the vacation also had high wellbeing after the vacation."
   ]
  },
  {
   "cell_type": "markdown",
   "id": "d51b59f5-5ff3-4f50-801f-36b43d4da680",
   "metadata": {},
   "source": [
    "## 2. There is a difference in the wellbeing scores of PPE students between Beaufort or Lonsdale (before the vacation)\n",
    "\n",
    "**a) Hypotheses etc**\n",
    "\n",
    "$\\mathcal{H_0}$: The mean wellbeing pre-vacation is the same in Beaufort and Lonsdale\n",
    "\n",
    "$\\mathcal{H_a}$: The mean wellbeing pre-vacation is different in Beaufort and Lonsdale\n",
    "\n",
    "We will test at the 5% ($\\alpha=0.05$) level, two-tailed as iwe have no a priori prediction about the direction of effect\n",
    "\n",
    "As this is an independent samples test, we need `permutation_type = 'independent'` "
   ]
  },
  {
   "cell_type": "code",
   "execution_count": 7,
   "id": "d874c1e9-146e-4e47-9b11-1d94a69e71de",
   "metadata": {},
   "outputs": [],
   "source": [
    "# isolate the data for PPE students\n",
    "ppe=wb.query('Subject == \"PPE\"')"
   ]
  },
  {
   "cell_type": "markdown",
   "id": "f11a3598-2c9a-4179-953b-8288d36722f1",
   "metadata": {},
   "source": [
    "**b) Test statistic and descriptive statistics**\n",
    "\n",
    "The test statistic is the difference of group means: 4.0 points.\n",
    "\n",
    "The relevant descriptive statistics are the group means (Beaufort = 71.1, Lonsdale = 67.2) and a measure of spread for each group (standard deviation is good here: Beaufort = 10.4, Lonsdale = 15.3), and the sample size (Beaufort = 71, Lonsdale = 45)."
   ]
  },
  {
   "cell_type": "code",
   "execution_count": 8,
   "id": "c77c19f7-d4bc-474b-913d-9d023faec8d7",
   "metadata": {},
   "outputs": [
    {
     "data": {
      "text/html": [
       "<div>\n",
       "<style scoped>\n",
       "    .dataframe tbody tr th:only-of-type {\n",
       "        vertical-align: middle;\n",
       "    }\n",
       "\n",
       "    .dataframe tbody tr th {\n",
       "        vertical-align: top;\n",
       "    }\n",
       "\n",
       "    .dataframe thead tr th {\n",
       "        text-align: left;\n",
       "    }\n",
       "\n",
       "    .dataframe thead tr:last-of-type th {\n",
       "        text-align: right;\n",
       "    }\n",
       "</style>\n",
       "<table border=\"1\" class=\"dataframe\">\n",
       "  <thead>\n",
       "    <tr>\n",
       "      <th></th>\n",
       "      <th colspan=\"3\" halign=\"left\">Score_preVac</th>\n",
       "    </tr>\n",
       "    <tr>\n",
       "      <th></th>\n",
       "      <th>count</th>\n",
       "      <th>mean</th>\n",
       "      <th>std</th>\n",
       "    </tr>\n",
       "    <tr>\n",
       "      <th>College</th>\n",
       "      <th></th>\n",
       "      <th></th>\n",
       "      <th></th>\n",
       "    </tr>\n",
       "  </thead>\n",
       "  <tbody>\n",
       "    <tr>\n",
       "      <th>Beaufort</th>\n",
       "      <td>71</td>\n",
       "      <td>71.140845</td>\n",
       "      <td>10.416053</td>\n",
       "    </tr>\n",
       "    <tr>\n",
       "      <th>Lonsdale</th>\n",
       "      <td>45</td>\n",
       "      <td>67.177778</td>\n",
       "      <td>15.297488</td>\n",
       "    </tr>\n",
       "  </tbody>\n",
       "</table>\n",
       "</div>"
      ],
      "text/plain": [
       "         Score_preVac                      \n",
       "                count       mean        std\n",
       "College                                    \n",
       "Beaufort           71  71.140845  10.416053\n",
       "Lonsdale           45  67.177778  15.297488"
      ]
     },
     "execution_count": 8,
     "metadata": {},
     "output_type": "execute_result"
    }
   ],
   "source": [
    "# find the means, sd and n\n",
    "ppe.groupby('College').agg({'Score_preVac':['count','mean', 'std']})"
   ]
  },
  {
   "cell_type": "markdown",
   "id": "e5012027-ed58-48c9-be6c-07c21370f5d3",
   "metadata": {},
   "source": [
    "Plot the data: for comparing means between groups, a bar plot is good"
   ]
  },
  {
   "cell_type": "code",
   "execution_count": 9,
   "id": "a31b39ca-feb3-4d87-b7eb-797e3bc5a4d2",
   "metadata": {},
   "outputs": [
    {
     "data": {
      "image/png": "[encoded data removed]",
      "text/plain": [
       "<Figure size 640x480 with 1 Axes>"
      ]
     },
     "metadata": {},
     "output_type": "display_data"
    }
   ],
   "source": [
    "sns.barplot(data=ppe, x='College', y='Score_preVac')\n",
    "plt.ylabel('wellbeing score')\n",
    "plt.show()"
   ]
  },
  {
   "cell_type": "markdown",
   "id": "711bdbad-c74c-49f8-b7ac-e4b636e060fd",
   "metadata": {},
   "source": [
    "**c) Carry out the test**"
   ]
  },
  {
   "cell_type": "code",
   "execution_count": 10,
   "id": "f2ea9fee-ae9e-490f-8dd3-e9c5a0cabe2e",
   "metadata": {},
   "outputs": [
    {
     "data": {
      "text/plain": [
       "PermutationTestResult(statistic=np.float64(3.9630672926447517), pvalue=np.float64(0.10818918108189181), null_distribution=array([ 1.82097027, -2.39061033,  1.42159624, ...,  0.55023474,\n",
       "        0.84068858,  1.53051643], shape=(10000,)))"
      ]
     },
     "execution_count": 10,
     "metadata": {},
     "output_type": "execute_result"
    }
   ],
   "source": [
    "# define a function that gives the difference of means for two independent samples\n",
    "def dMeans(x,y):\n",
    "    return np.mean(x)-np.mean(y)\n",
    "\n",
    "# run the permutation test\n",
    "stats.permutation_test((ppe.query('College == \"Beaufort\"').Score_preVac, \n",
    "                        ppe.query('College == \"Lonsdale\"').Score_preVac), \n",
    "                        dMeans, alternative='two-sided', permutation_type='independent', n_resamples=10000)\n",
    "\n"
   ]
  },
  {
   "cell_type": "markdown",
   "id": "fc9dd1d7-c4ab-422d-aefc-ee53f13f0344",
   "metadata": {},
   "source": [
    "**d) Report conclusion**\n",
    "\n",
    "As the p value is greater than 0.05, we conclude that there is no difference in wellbeing between colleged (pre vacation)"
   ]
  },
  {
   "cell_type": "markdown",
   "id": "40f8385a-2480-4960-a983-48b39e76dafd",
   "metadata": {},
   "source": [
    "**e) Write up**\n",
    "\n",
    "We hypothesised that wellbeing before and after the vacation would be different between Beaufort and Lonsdale colleges. We calculated the mean wellbeing score for students in two colleges, Beaufort and Lonsdale (n=71,45 respectively) before the vacation. The mean score was slightly higher in Beaufort college (Beaufort = 71.1, Lonsdale = 67.1)a but the difference was small compared to the standard deviation within each college (Beaufort = 10.4, Lonsdale = 15.3). We tested the difference of means using a permutation test and found no significant difference (p=0.44, two-tailed), meaning that there was no evidence of a difference in wellbeing between the colleges."
   ]
  },
  {
   "cell_type": "markdown",
   "id": "6251e4ba-4eca-4170-91e2-0732b6258ac9",
   "metadata": {},
   "source": [
    "## 3. Wellbeing over all students increases across the vacation"
   ]
  },
  {
   "cell_type": "markdown",
   "id": "15de5585-5db6-4fd6-abd8-f1b26f81d92f",
   "metadata": {},
   "source": [
    "**a) Hypotheses etc**\n",
    "\n",
    "$\\mathcal{H_0}$: Mean wellbeing is the same before and after the vacation\n",
    "\n",
    "$\\mathcal{H_a}$: Mean wellbeing is higher after the vacation\n",
    "\n",
    "We will test at the 5% ($\\alpha=0.05$) level, one-tailed as the question states a directional hypothesis\n",
    "\n",
    "As this is an paired samples test (we compare each student to themself, across two time points), we need `permutation_type = 'samples'` "
   ]
  },
  {
   "cell_type": "markdown",
   "id": "fcc7dc91-94c2-49b9-809e-b3d0ec327876",
   "metadata": {},
   "source": [
    "**b) Test statistic and descriptive statistics**\n",
    "\n",
    "The relevant test statistics are the mean difference in wellbeing score (an improvement of 2.587 points over the vacation), the standard deviation of differences (9.60), and the number of individual students ($n$=301), as these are the factors that will affect the significance of the paired test.\n",
    "\n",
    "To give the reader a fuller picture of the data, it is also recommended to report the group means (pre = 71.0, post = 73.6) and a measure of spread for each group (standard deviation is good here: pre = 11.9, post = 14.2)."
   ]
  },
  {
   "cell_type": "code",
   "execution_count": 11,
   "id": "51f5517f-f90d-43ac-b3d8-1ff9a389505c",
   "metadata": {},
   "outputs": [
    {
     "data": {
      "text/html": [
       "<div>\n",
       "<style scoped>\n",
       "    .dataframe tbody tr th:only-of-type {\n",
       "        vertical-align: middle;\n",
       "    }\n",
       "\n",
       "    .dataframe tbody tr th {\n",
       "        vertical-align: top;\n",
       "    }\n",
       "\n",
       "    .dataframe thead th {\n",
       "        text-align: right;\n",
       "    }\n",
       "</style>\n",
       "<table border=\"1\" class=\"dataframe\">\n",
       "  <thead>\n",
       "    <tr style=\"text-align: right;\">\n",
       "      <th></th>\n",
       "      <th>Score_preVac</th>\n",
       "      <th>Score_postVac</th>\n",
       "      <th>Diff</th>\n",
       "    </tr>\n",
       "  </thead>\n",
       "  <tbody>\n",
       "    <tr>\n",
       "      <th>count</th>\n",
       "      <td>301.000000</td>\n",
       "      <td>301.000000</td>\n",
       "      <td>301.000000</td>\n",
       "    </tr>\n",
       "    <tr>\n",
       "      <th>mean</th>\n",
       "      <td>71.033223</td>\n",
       "      <td>73.617940</td>\n",
       "      <td>2.584718</td>\n",
       "    </tr>\n",
       "    <tr>\n",
       "      <th>std</th>\n",
       "      <td>11.861375</td>\n",
       "      <td>14.196838</td>\n",
       "      <td>9.601925</td>\n",
       "    </tr>\n",
       "  </tbody>\n",
       "</table>\n",
       "</div>"
      ],
      "text/plain": [
       "       Score_preVac  Score_postVac        Diff\n",
       "count    301.000000     301.000000  301.000000\n",
       "mean      71.033223      73.617940    2.584718\n",
       "std       11.861375      14.196838    9.601925"
      ]
     },
     "execution_count": 11,
     "metadata": {},
     "output_type": "execute_result"
    }
   ],
   "source": [
    "# find the means, sd and n\n",
    "wb['Diff']=wb.Score_postVac - wb.Score_preVac\n",
    "wb.agg({'Score_preVac':['count','mean', 'std'],\n",
    "        'Score_postVac':['count','mean', 'std'],\n",
    "        'Diff':['count','mean', 'std']})"
   ]
  },
  {
   "cell_type": "markdown",
   "id": "61f8e74a-08e0-43ef-bebc-3b572174beba",
   "metadata": {},
   "source": [
    "**Plot the data** for a mean difference in a large group, I'd suggest either a bar plot for the **difference**, or a scatter plot with reference line x=y. For a small group you could have done a line plot (where each pair is represented by two dots linked by a line)"
   ]
  },
  {
   "cell_type": "code",
   "execution_count": 12,
   "id": "29bc859d-7434-47ac-b9e6-422470a073bd",
   "metadata": {},
   "outputs": [
    {
     "data": {
      "image/png": "[encoded data removed]",
      "text/plain": [
       "<Figure size 640x480 with 1 Axes>"
      ]
     },
     "metadata": {},
     "output_type": "display_data"
    }
   ],
   "source": [
    "sns.barplot(data=wb, y='Diff')\n",
    "plt.ylabel('Improvement in wellbeing')\n",
    "plt.show()"
   ]
  },
  {
   "cell_type": "code",
   "execution_count": 13,
   "id": "165ee8d6-ae6b-4c0a-81d9-11c5ceb9cc6a",
   "metadata": {},
   "outputs": [
    {
     "data": {
      "image/png": "[encoded data removed]",
      "text/plain": [
       "<Figure size 640x480 with 1 Axes>"
      ]
     },
     "metadata": {},
     "output_type": "display_data"
    }
   ],
   "source": [
    "sns.scatterplot(data=wb, x='Score_preVac', y='Score_postVac')\n",
    "plt.xlabel('wellbeing before vacation'); plt.ylabel('wellbeing after vacation')\n",
    "\n",
    "# reference line x=y\n",
    "plt.plot([0,100],[0,100],'r')\n",
    "plt.show()"
   ]
  },
  {
   "cell_type": "markdown",
   "id": "2d64c8ce-dc5f-4e70-8d1e-7c9b959827ac",
   "metadata": {},
   "source": [
    "**c. Carry out the test**"
   ]
  },
  {
   "cell_type": "code",
   "execution_count": 14,
   "id": "06e3aa0a-6549-46da-a8a8-75c153e34036",
   "metadata": {},
   "outputs": [
    {
     "data": {
      "text/plain": [
       "PermutationTestResult(statistic=np.float64(2.584717607973417), pvalue=np.float64(9.999000099990002e-05), null_distribution=array([ 0.25249169, -0.01993355,  0.07973422, ..., -0.2192691 ,\n",
       "       -0.67109635, -0.13953488], shape=(10000,)))"
      ]
     },
     "execution_count": 14,
     "metadata": {},
     "output_type": "execute_result"
    }
   ],
   "source": [
    "# define a function that gives the mean pairwise difference in scores for the group\n",
    "def mDiff(x,y):\n",
    "    return np.mean(x-y)\n",
    "\n",
    "# run the permutation test\n",
    "# Take care to put the score that we expect to be higher first when entering the data, \n",
    "# as we are testing for a positive difference (alternative='greater')\n",
    "stats.permutation_test((wb.Score_postVac, \n",
    "                        wb.Score_preVac), \n",
    "                        dMeans, alternative='greater', permutation_type='samples', n_resamples=10000)\n",
    "\n"
   ]
  },
  {
   "cell_type": "markdown",
   "id": "81f01a71-15cd-42f5-850c-2d0afa84b696",
   "metadata": {},
   "source": [
    "**d) Report conclusion**\n",
    "\n",
    "As the p value is less than 0.05, we conclude that wellbeing does indeed inprove across the vacation"
   ]
  },
  {
   "cell_type": "markdown",
   "id": "2e366586-90a4-45e2-91e1-1cbc8f0a1495",
   "metadata": {},
   "source": [
    "**e) Write up**\n",
    "\n",
    "We hypothesised that wellbeing would increase across the vacation. We calculated the mean increase in wellbeing score for students (n=301) from before to after the vacation (an improvement of 2.587 points over the vacation; standard deviation of within-subjects improvement =  9.60). This was in the context of mean scores of around 70 (mean pre = 71.0, post = 73.6; standard deviation  pre = 11.9, post = 14.2).\n",
    "\n",
    "We tested the significance of the mean improvement against zero using a permutation test and found that is was statistically signifiant (p=0.00020), indicating that wellbeing did indeed improve across the vacation."
   ]
  },
  {
   "cell_type": "markdown",
   "id": "368e1797-039f-41e4-97d0-4c4fceaf02a3",
   "metadata": {},
   "source": [
    "\n",
    "# 4. Wellbeing increases more across the vacation for Beaufort students than Lonsdale students \n",
    "\n",
    "**a) Hypotheses etc**\n",
    "\n",
    "$\\mathcal{H_0}$: The mean increase in wellbeing from pre- to post- vacation is the same for Beaufort and Lonsdale students\n",
    "\n",
    "$\\mathcal{H_a}$: The mean increase in wellbeing from pre- to post- vacation is greater for Beaufort students than Lonsdale\n",
    "\n",
    "We will test at the 5% ($\\alpha=0.05$) level, one-tailed as the question states a directional hypothesis\n",
    "\n",
    "This is an UNpaired test (comparing between two groups of students, in two colleges) although the improvement is inititally calculated by comparing each student to themself, across two time points); therefore we need `permutation_type = 'independent'` "
   ]
  },
  {
   "cell_type": "code",
   "execution_count": 15,
   "id": "730ef5b3-82c2-4963-8cfa-7b342fd449e9",
   "metadata": {},
   "outputs": [],
   "source": [
    "# FIRST: We need to create a column with the difference in wellbeing post-pre\n",
    "wb['Diff'] = wb.Score_postVac-wb.Score_preVac"
   ]
  },
  {
   "cell_type": "markdown",
   "id": "b20571e9-1001-410c-a8f7-973bc7128915",
   "metadata": {},
   "source": [
    "**b) Test statistic and descriptive statistics**\n",
    "\n",
    "The relevant test statistics are the mean improvement in each college (Beaufort = 2.91, Lonsdale = 2.10) and standard deviation of the improvement in each college (Beaufort = 13.0, Lonsdale = 15.7), and the number of students in each college (179,122).\n",
    "\n",
    "To give the reader a fuller picture of the data, you may like to give some additional statistics - you could report the mean wellbeing in each college (it is possible there could be no difference in improvement, whilst there is a difference in baseline wellbeing for example). These are included in the table below. \n",
    "\n",
    "In an exam you should make it clear which descriptives are relevant for the test and which are additional information - it is not sufficient to just dump in a table with all the descriptive statistics you can think of!"
   ]
  },
  {
   "cell_type": "code",
   "execution_count": 16,
   "id": "d249971b-dcf9-4dfd-b448-c05d9794e37c",
   "metadata": {},
   "outputs": [
    {
     "data": {
      "text/html": [
       "<div>\n",
       "<style scoped>\n",
       "    .dataframe tbody tr th:only-of-type {\n",
       "        vertical-align: middle;\n",
       "    }\n",
       "\n",
       "    .dataframe tbody tr th {\n",
       "        vertical-align: top;\n",
       "    }\n",
       "\n",
       "    .dataframe thead tr th {\n",
       "        text-align: left;\n",
       "    }\n",
       "\n",
       "    .dataframe thead tr:last-of-type th {\n",
       "        text-align: right;\n",
       "    }\n",
       "</style>\n",
       "<table border=\"1\" class=\"dataframe\">\n",
       "  <thead>\n",
       "    <tr>\n",
       "      <th></th>\n",
       "      <th colspan=\"3\" halign=\"left\">Diff</th>\n",
       "      <th colspan=\"3\" halign=\"left\">Score_postVac</th>\n",
       "      <th colspan=\"3\" halign=\"left\">Score_preVac</th>\n",
       "    </tr>\n",
       "    <tr>\n",
       "      <th></th>\n",
       "      <th>count</th>\n",
       "      <th>mean</th>\n",
       "      <th>std</th>\n",
       "      <th>count</th>\n",
       "      <th>mean</th>\n",
       "      <th>std</th>\n",
       "      <th>count</th>\n",
       "      <th>mean</th>\n",
       "      <th>std</th>\n",
       "    </tr>\n",
       "    <tr>\n",
       "      <th>College</th>\n",
       "      <th></th>\n",
       "      <th></th>\n",
       "      <th></th>\n",
       "      <th></th>\n",
       "      <th></th>\n",
       "      <th></th>\n",
       "      <th></th>\n",
       "      <th></th>\n",
       "      <th></th>\n",
       "    </tr>\n",
       "  </thead>\n",
       "  <tbody>\n",
       "    <tr>\n",
       "      <th>Beaufort</th>\n",
       "      <td>179</td>\n",
       "      <td>2.910615</td>\n",
       "      <td>9.542504</td>\n",
       "      <td>179</td>\n",
       "      <td>74.379888</td>\n",
       "      <td>13.039303</td>\n",
       "      <td>179</td>\n",
       "      <td>71.469274</td>\n",
       "      <td>10.859310</td>\n",
       "    </tr>\n",
       "    <tr>\n",
       "      <th>Lonsdale</th>\n",
       "      <td>122</td>\n",
       "      <td>2.106557</td>\n",
       "      <td>9.707974</td>\n",
       "      <td>122</td>\n",
       "      <td>72.500000</td>\n",
       "      <td>15.731345</td>\n",
       "      <td>122</td>\n",
       "      <td>70.393443</td>\n",
       "      <td>13.215666</td>\n",
       "    </tr>\n",
       "  </tbody>\n",
       "</table>\n",
       "</div>"
      ],
      "text/plain": [
       "          Diff                     Score_postVac                        \\\n",
       "         count      mean       std         count       mean        std   \n",
       "College                                                                  \n",
       "Beaufort   179  2.910615  9.542504           179  74.379888  13.039303   \n",
       "Lonsdale   122  2.106557  9.707974           122  72.500000  15.731345   \n",
       "\n",
       "         Score_preVac                        \n",
       "                count       mean        std  \n",
       "College                                      \n",
       "Beaufort          179  71.469274  10.859310  \n",
       "Lonsdale          122  70.393443  13.215666  "
      ]
     },
     "execution_count": 16,
     "metadata": {},
     "output_type": "execute_result"
    }
   ],
   "source": [
    "# find the means, sd and n\n",
    "wb.groupby('College').agg({ 'Diff':['count','mean', 'std'],\n",
    "                            'Score_postVac':['count','mean', 'std'],\n",
    "                            'Score_preVac':['count','mean', 'std']})"
   ]
  },
  {
   "cell_type": "markdown",
   "id": "55168709-a0bc-4f8d-a407-6d5db4b6db38",
   "metadata": {},
   "source": [
    "**Plot the data** as in q2, we are comparing group means (albeit in the improvement scores) so a bar plot will be appropriate"
   ]
  },
  {
   "cell_type": "code",
   "execution_count": 17,
   "id": "f9bf8732-db6a-44dc-b38e-4a7a4ac163c2",
   "metadata": {},
   "outputs": [
    {
     "data": {
      "image/png": "[encoded data removed]",
      "text/plain": [
       "<Figure size 640x480 with 1 Axes>"
      ]
     },
     "metadata": {},
     "output_type": "display_data"
    }
   ],
   "source": [
    "sns.barplot(data=wb, x='College', y='Diff')\n",
    "plt.ylabel('improvement in wellbeing score')\n",
    "plt.show()"
   ]
  },
  {
   "cell_type": "markdown",
   "id": "c246891a-8857-457e-9682-b307c94fb4c6",
   "metadata": {},
   "source": [
    "**c. Carry out the test**"
   ]
  },
  {
   "cell_type": "code",
   "execution_count": 18,
   "id": "6cc03756-f0b8-446d-aab0-f5aab78dbcf4",
   "metadata": {},
   "outputs": [
    {
     "data": {
      "text/plain": [
       "PermutationTestResult(statistic=np.float64(0.8040571480904846), pvalue=np.float64(0.24377562243775622), null_distribution=array([ 0.39055774, -2.104222  ,  1.64483927, ...,  1.25890649,\n",
       "        0.17002473, -0.50535763], shape=(10000,)))"
      ]
     },
     "execution_count": 18,
     "metadata": {},
     "output_type": "execute_result"
    }
   ],
   "source": [
    "# define a function that gives the difference of means for two independent samples\n",
    "def dMeans(x,y):\n",
    "    return np.mean(x)-np.mean(y)\n",
    "\n",
    "# run the permutation test\n",
    "stats.permutation_test((wb.query('College == \"Beaufort\"').Diff, \n",
    "                        wb.query('College == \"Lonsdale\"').Diff), \n",
    "                        dMeans, alternative='greater', permutation_type='independent', n_resamples=10000)\n",
    "\n"
   ]
  },
  {
   "cell_type": "markdown",
   "id": "de18b787-08ea-4ee4-80c8-340e6fe9d9c4",
   "metadata": {},
   "source": [
    "**d) Report conclusion**\n",
    "\n",
    "As the p value is greater than 0.05, we conclude that the improvement is not greater for Beuar=fort than Lonsdale"
   ]
  },
  {
   "cell_type": "markdown",
   "id": "36bda375-f059-4ba9-8b96-3d9914f57920",
   "metadata": {},
   "source": [
    "**e) Write up**\n",
    "\n",
    "We hypothesised that wellbeing would increase more across the vacation in Beaufort than Lonsdale college. We calculated the mean increase in wellbeing score for students (n=179,122 in Beaufort and Lonsdale) from before to after the vacation. The mean improvement was greater in Beuafort (2.91 vs 2.11 points; sd = 13.0 and 15.7points respectively). This was in the context of mean scores of around 70 (mean pre = 71.0, post = 73.6; standard deviation  pre = 11.9, post = 14.2).\n",
    "\n",
    "We tested the significance of the difference in improvement between colleges using a permutation test and found that is was not statistically signifiant (p=0.24); we tehrefore found no evidence for a greater improvement in wellbeing in Bauefort students across the vacation."
   ]
  },
  {
   "cell_type": "code",
   "execution_count": null,
   "id": "e4b3c65b-8488-4543-910f-f2b42639c599",
   "metadata": {},
   "outputs": [],
   "source": []
  }
 ],
 "metadata": {
  "kernelspec": {
   "display_name": "Python 3 (ipykernel)",
   "language": "python",
   "name": "python3"
  },
  "language_info": {
   "codemirror_mode": {
    "name": "ipython",
    "version": 3
   },
   "file_extension": ".py",
   "mimetype": "text/x-python",
   "name": "python",
   "nbconvert_exporter": "python",
   "pygments_lexer": "ipython3",
   "version": "3.11.13"
  }
 },
 "nbformat": 4,
 "nbformat_minor": 5
}