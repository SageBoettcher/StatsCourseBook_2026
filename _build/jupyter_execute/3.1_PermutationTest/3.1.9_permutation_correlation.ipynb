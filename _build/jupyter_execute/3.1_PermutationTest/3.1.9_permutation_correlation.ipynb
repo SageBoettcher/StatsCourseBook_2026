{
 "cells": [
  {
   "cell_type": "markdown",
   "id": "c8868457",
   "metadata": {},
   "source": [
    "# Permutation test for correlation\n",
    "\n",
    "In the previous examples we used permutation testing to assess the significance of a difference between groups (difference of means or mean difference).\n",
    "\n",
    "Permutation testing can also be used to assess the statistical significance of a <i>correlation</i>.\n",
    "\n",
    "As a reminder, a correlation can occur <i>only</i> in paired designs, as when two variables are correlated, it means that an individual's score on one variable is related to their score on the other variable. \n",
    "\n",
    "Correlations can be interesting in themselves (do students who score highly on English tests also score highly on maths tests?; do people who eat more broccli have greater bone density?). \n",
    "\n",
    "They can also reflect the fact that experimental measures often depend on factors other than the one we are manipulating (sometimes called <i>confounding factors</i>), which are what we try to control for by using a paired design. For example if we are interested in whether men earn more than women, we might use a paired design comparing brothers and sisters to take into account the very important effects of parental occupation and education on earnings which mean that high-earning brothers often have high-earning sisters. The fact that brothers' and sisters' earnings are correlated actually reflects the confounds that we want to 'cancel out' by using a paired design to test gender differences.\n",
    "\n",
    "\n",
    "### Set up Python libraries\n",
    "\n",
    "As usual, run the code cell below to import the relevant Python libraries"
   ]
  },
  {
   "cell_type": "code",
   "execution_count": 1,
   "id": "5fb0416d",
   "metadata": {
    "tags": []
   },
   "outputs": [],
   "source": [
    "# Set-up Python libraries - you need to run this but you don't need to change it\n",
    "import numpy as np\n",
    "import matplotlib.pyplot as plt\n",
    "import scipy.stats as stats\n",
    "import pandas as pd\n",
    "import seaborn as sns\n",
    "sns.set_theme(style='white')\n",
    "import statsmodels.api as sm\n",
    "import statsmodels.formula.api as smf"
   ]
  },
  {
   "cell_type": "markdown",
   "id": "f0806e8c",
   "metadata": {},
   "source": [
    "## Toy example\n",
    "\n",
    "[A toy example is an example with a very small dataset, just to show how it works]\n",
    "\n",
    "We are interested in whether people who eat more broccoli have higher IQs.\n",
    "\n",
    "#### Question & design\n",
    "\n",
    "We hypothesise that those wo eat more broccoli ave higher IQs \n",
    "\n",
    "This is tecnically a *repeated measures design* as we have two measurements (broccoli consumption and IQ) for each individual. \n",
    "\n",
    "#### Hypotheses\n",
    "\n",
    "We can state our hypotheses as follows:\n",
    "\n",
    "$\\mathcal{H_o}:$ There is no relationsip between broccoli consumption and IQ\n",
    "* the correlation, Pearson's $r=0$\n",
    "\n",
    "$\\mathcal{H_a}:$ Those with higher broccoli consumption have higher IQ\n",
    "* the correlation, Pearson's $r>0$\n",
    "\n",
    "This is a one-tailed (directional) alternative hypothesis\n",
    "\n",
    "#### Data\n",
    "\n",
    "The following made-up data give weekly broccoli consumption in grams and IQ for 25 individuals:"
   ]
  },
  {
   "cell_type": "code",
   "execution_count": 2,
   "id": "537072c8",
   "metadata": {
    "tags": []
   },
   "outputs": [
    {
     "data": {
      "text/html": [
       "<div>\n",
       "<style scoped>\n",
       "    .dataframe tbody tr th:only-of-type {\n",
       "        vertical-align: middle;\n",
       "    }\n",
       "\n",
       "    .dataframe tbody tr th {\n",
       "        vertical-align: top;\n",
       "    }\n",
       "\n",
       "    .dataframe thead th {\n",
       "        text-align: right;\n",
       "    }\n",
       "</style>\n",
       "<table border=\"1\" class=\"dataframe\">\n",
       "  <thead>\n",
       "    <tr style=\"text-align: right;\">\n",
       "      <th></th>\n",
       "      <th>broccoli_g</th>\n",
       "      <th>IQ</th>\n",
       "    </tr>\n",
       "  </thead>\n",
       "  <tbody>\n",
       "    <tr>\n",
       "      <th>0</th>\n",
       "      <td>0</td>\n",
       "      <td>87</td>\n",
       "    </tr>\n",
       "    <tr>\n",
       "      <th>1</th>\n",
       "      <td>28</td>\n",
       "      <td>91</td>\n",
       "    </tr>\n",
       "    <tr>\n",
       "      <th>2</th>\n",
       "      <td>0</td>\n",
       "      <td>101</td>\n",
       "    </tr>\n",
       "    <tr>\n",
       "      <th>3</th>\n",
       "      <td>20</td>\n",
       "      <td>92</td>\n",
       "    </tr>\n",
       "    <tr>\n",
       "      <th>4</th>\n",
       "      <td>0</td>\n",
       "      <td>96</td>\n",
       "    </tr>\n",
       "    <tr>\n",
       "      <th>5</th>\n",
       "      <td>92</td>\n",
       "      <td>95</td>\n",
       "    </tr>\n",
       "    <tr>\n",
       "      <th>6</th>\n",
       "      <td>88</td>\n",
       "      <td>92</td>\n",
       "    </tr>\n",
       "    <tr>\n",
       "      <th>7</th>\n",
       "      <td>128</td>\n",
       "      <td>94</td>\n",
       "    </tr>\n",
       "    <tr>\n",
       "      <th>8</th>\n",
       "      <td>0</td>\n",
       "      <td>96</td>\n",
       "    </tr>\n",
       "    <tr>\n",
       "      <th>9</th>\n",
       "      <td>22</td>\n",
       "      <td>99</td>\n",
       "    </tr>\n",
       "    <tr>\n",
       "      <th>10</th>\n",
       "      <td>114</td>\n",
       "      <td>99</td>\n",
       "    </tr>\n",
       "    <tr>\n",
       "      <th>11</th>\n",
       "      <td>0</td>\n",
       "      <td>96</td>\n",
       "    </tr>\n",
       "    <tr>\n",
       "      <th>12</th>\n",
       "      <td>146</td>\n",
       "      <td>99</td>\n",
       "    </tr>\n",
       "    <tr>\n",
       "      <th>13</th>\n",
       "      <td>255</td>\n",
       "      <td>108</td>\n",
       "    </tr>\n",
       "    <tr>\n",
       "      <th>14</th>\n",
       "      <td>131</td>\n",
       "      <td>100</td>\n",
       "    </tr>\n",
       "    <tr>\n",
       "      <th>15</th>\n",
       "      <td>255</td>\n",
       "      <td>107</td>\n",
       "    </tr>\n",
       "    <tr>\n",
       "      <th>16</th>\n",
       "      <td>390</td>\n",
       "      <td>114</td>\n",
       "    </tr>\n",
       "    <tr>\n",
       "      <th>17</th>\n",
       "      <td>402</td>\n",
       "      <td>107</td>\n",
       "    </tr>\n",
       "    <tr>\n",
       "      <th>18</th>\n",
       "      <td>216</td>\n",
       "      <td>108</td>\n",
       "    </tr>\n",
       "    <tr>\n",
       "      <th>19</th>\n",
       "      <td>719</td>\n",
       "      <td>104</td>\n",
       "    </tr>\n",
       "    <tr>\n",
       "      <th>20</th>\n",
       "      <td>395</td>\n",
       "      <td>107</td>\n",
       "    </tr>\n",
       "    <tr>\n",
       "      <th>21</th>\n",
       "      <td>485</td>\n",
       "      <td>114</td>\n",
       "    </tr>\n",
       "    <tr>\n",
       "      <th>22</th>\n",
       "      <td>553</td>\n",
       "      <td>116</td>\n",
       "    </tr>\n",
       "    <tr>\n",
       "      <th>23</th>\n",
       "      <td>682</td>\n",
       "      <td>116</td>\n",
       "    </tr>\n",
       "    <tr>\n",
       "      <th>24</th>\n",
       "      <td>815</td>\n",
       "      <td>111</td>\n",
       "    </tr>\n",
       "  </tbody>\n",
       "</table>\n",
       "</div>"
      ],
      "text/plain": [
       "    broccoli_g   IQ\n",
       "0            0   87\n",
       "1           28   91\n",
       "2            0  101\n",
       "3           20   92\n",
       "4            0   96\n",
       "5           92   95\n",
       "6           88   92\n",
       "7          128   94\n",
       "8            0   96\n",
       "9           22   99\n",
       "10         114   99\n",
       "11           0   96\n",
       "12         146   99\n",
       "13         255  108\n",
       "14         131  100\n",
       "15         255  107\n",
       "16         390  114\n",
       "17         402  107\n",
       "18         216  108\n",
       "19         719  104\n",
       "20         395  107\n",
       "21         485  114\n",
       "22         553  116\n",
       "23         682  116\n",
       "24         815  111"
      ]
     },
     "execution_count": 2,
     "metadata": {},
     "output_type": "execute_result"
    }
   ],
   "source": [
    "broccoli = pd.read_csv('https://raw.githubusercontent.com/jillxoreilly/StatsCourseBook_2024/main/data/broccoli.csv')\n",
    "broccoli"
   ]
  },
  {
   "cell_type": "markdown",
   "id": "325c73df",
   "metadata": {},
   "source": [
    "Let's plot the data:"
   ]
  },
  {
   "cell_type": "code",
   "execution_count": 3,
   "id": "356b33e8",
   "metadata": {
    "tags": []
   },
   "outputs": [
    {
     "data": {
      "image/png": "[encoded data removed]",
      "text/plain": [
       "<Figure size 640x480 with 1 Axes>"
      ]
     },
     "metadata": {},
     "output_type": "display_data"
    }
   ],
   "source": [
    "sns.scatterplot(data=broccoli, x='broccoli_g', y='IQ', alpha=0.5)\n",
    "plt.show()"
   ]
  },
  {
   "cell_type": "markdown",
   "id": "e65b5443",
   "metadata": {},
   "source": [
    "We can see that there does seem to be a correlation. \n",
    "\n",
    "### Test statistic\n",
    "\n",
    "Here our test statistic is Pearson's $r$"
   ]
  },
  {
   "cell_type": "code",
   "execution_count": 4,
   "id": "d93aa2ed",
   "metadata": {
    "tags": []
   },
   "outputs": [
    {
     "data": {
      "text/plain": [
       "0.8011532312132079"
      ]
     },
     "execution_count": 4,
     "metadata": {},
     "output_type": "execute_result"
    }
   ],
   "source": [
    "broccoli.broccoli_g.corr(broccoli.IQ)"
   ]
  },
  {
   "cell_type": "markdown",
   "id": "9b7aafdf",
   "metadata": {},
   "source": [
    "The correlation is 0.80, which is actually very strong (remember they are made-up data!)."
   ]
  },
  {
   "cell_type": "markdown",
   "id": "ed8de2f6",
   "metadata": {},
   "source": [
    "### Is this result statistically significant? \n",
    "\n",
    "That is, would the result (a correlation of 0.80) be very unlikely to occur due to chance, if the null hypothesis were true? \n",
    "\n",
    "Even if there was no relationship between broccoli consumption and IQ, it would sometimes happen that for 25 random people the ones with the highest IQ tend to also be the biggest broccoli-eaters, resulting in a positive correlation. The question is how often a positive correlation as large as $r$=0.80 would occur just due to chance if broccoli consuption and IQ were paired randomly.\n",
    "\n",
    "\n",
    "### Permutation\n",
    "\n",
    "The sample tells us several interesting things about broccoli consumption and IQ, regardless of whether broccoli consummption and IQ are related:\n",
    "\n",
    "**Independent features of Broccoli distribution (to be retained):**\n",
    "\n",
    "* Most people eat between 0 and 500g of broccoli a week\n",
    "* Quite a few people eat 0g of broccoli (they never eat broccoli, basically)\n",
    "\n",
    "It also tells us about some potential effects to do with the relationship between IQ and broccoli:\n",
    "\n",
    "**Possible correlation effects (to be shuffled out)\n",
    "* the quantity of broccoli eaten seems to be higher for individuals with higher IQ\n",
    "* none of the highest IQ people are the 0g of broccoli people\n",
    "\n",
    "\n",
    "### Visualizing random shuffles in correlation \n",
    "\n",
    "What we are going to do is shuffle the data around to create many new (re)samples preserving distribution within each variable (broccoli consumption and IQ - so for example there will always be 5 non-broccoli-eaters) but **pairing the datapoints** at random so one person's IQ is matched with another person's broccoli consumption. \n",
    "\n",
    "Using these simulated (shuffled) datasets we will work out how often we get a correlation of 0.80 or more. This is equivalent to determining how likely our correlation is to have occurred due to chance.\n",
    "\n"
   ]
  },
  {
   "cell_type": "markdown",
   "id": "86435bf3",
   "metadata": {},
   "source": [
    "Below you see jointplots for the original data and three random permutations (joint plots are scatter plots with histograms of the distributions of x and y at the sides, created using the function `sns.jointplot()`)\n",
    "\n",
    "\n",
    "Notice that in the shuffled data, when each person's broccoli consupmtion is randomly paired with another person's IQ, the correlation goes away. However, the distribution of each variable by itself (the histograms in the margins) remain unchanged.\n",
    "\n",
    "<img src= \"https://raw.githubusercontent.com/jillxoreilly/StatsCourseBook_2024/main/images/MT_wk5_3PermutationsCorr.png\" width=\"99%\" />"
   ]
  },
  {
   "cell_type": "markdown",
   "id": "e9a292f4",
   "metadata": {},
   "source": [
    "You can see that the relationship between broccoli consumption and IQ looks less tight in the shuffled datasets.\n",
    "\n"
   ]
  },
  {
   "cell_type": "markdown",
   "id": "23046d85",
   "metadata": {},
   "source": [
    "## Run 10,000 shuffles\n",
    "\n",
    "To get a fine-grained estimate of how likely it is to get a test statistic of r=0.8 due to chance, we run a *lot* of shuffles - say 10,000.\n",
    "\n",
    "We can do this using a function from the library `scipy.stats`, called `scipy.stats.permutation_test()`\n",
    "\n",
    "First of all we will run this (using the code block below) and learn about the output. Afterwards we will have a closer look at the Python syntax including defining a function.\n"
   ]
  },
  {
   "cell_type": "code",
   "execution_count": 5,
   "id": "216aabae-a11d-440d-af33-d4d35e100f61",
   "metadata": {
    "tags": []
   },
   "outputs": [
    {
     "name": "stdout",
     "output_type": "stream",
     "text": [
      "PermutationTestResult(statistic=0.8011532312132079, pvalue=9.999000099990002e-05, null_distribution=array([ 0.06152771,  0.16986972, -0.19184739, ..., -0.06802233,\n",
      "        0.20927576,  0.05857669]))\n"
     ]
    }
   ],
   "source": [
    "def correlate(x, y):\n",
    "    tmp = np.corrcoef(x,y)\n",
    "    c = tmp[0][1] \n",
    "    return c\n",
    "\n",
    "results = stats.permutation_test((broccoli.broccoli_g, broccoli.IQ), correlate, \n",
    "                                  permutation_type='pairings', alternative='greater', n_resamples=10000)\n",
    "print(results)"
   ]
  },
  {
   "cell_type": "markdown",
   "id": "3621e34c-11a3-4450-8778-59692c21c55e",
   "metadata": {
    "tags": []
   },
   "source": [
    "\n",
    "The results are displayed below the code box; there are number of outputs from the test (contained in the parentheses)\n",
    "\n",
    "* **statistic** - the test statistic (correlation) from our actual data, ie r=0.8\n",
    "* **pValue** - the proportion of shuffles in which a result greater than 0.8 was obtained (due to chance) - note this is very small, $9.9 \\times 10^{-5}$ or about 1/10000 \n",
    "* **null distribution** - this contains all 10,000 correlation values, for the 10,000 shuffles\n",
    "\n",
    "### The Null Distribution\n",
    "\n",
    "The **null distribution** is the set of 10,000 values we get for the correlation, from our 10,000 shuffles (the equivalent of the red numbers on the 4-permutation example above)\n",
    "\n",
    "Let's plot the null distribution in a histogram:"
   ]
  },
  {
   "cell_type": "code",
   "execution_count": 6,
   "id": "63f2fab4-9b0c-49ad-b6cc-515a5d4e42fc",
   "metadata": {
    "tags": []
   },
   "outputs": [
    {
     "data": {
      "image/png": "[encoded data removed]",
      "text/plain": [
       "<Figure size 640x480 with 1 Axes>"
      ]
     },
     "metadata": {},
     "output_type": "display_data"
    }
   ],
   "source": [
    "sns.histplot(results.null_distribution)\n",
    "plt.show()"
   ]
  },
  {
   "cell_type": "markdown",
   "id": "4b6633d8-fe62-449b-9a26-1863bd3b1ea8",
   "metadata": {},
   "source": [
    "We can see that the null distribution is nice and symmetrical (the average correlation in shuffled data is zero, whilst positive and negative correlations are equally likely)\n",
    "\n",
    "Note that our observed correlation, 0.8, is so rare that it was *never* obtained in the 10,000 shuffles"
   ]
  },
  {
   "cell_type": "code",
   "execution_count": 7,
   "id": "ddddc13f-7a62-44a7-975e-36d09b55fd39",
   "metadata": {
    "tags": []
   },
   "outputs": [
    {
     "data": {
      "text/plain": [
       "0.0"
      ]
     },
     "execution_count": 7,
     "metadata": {},
     "output_type": "execute_result"
    }
   ],
   "source": [
    "# check which values is the null distribution are greater than 4.6 and code as 1/0\n",
    "# then use the numpy function np.mean() to get the avergae of those ones and zeros (ie he proportion of 1s)\n",
    "np.mean(results.null_distribution >= 0.801)"
   ]
  },
  {
   "cell_type": "markdown",
   "id": "0f6dc507",
   "metadata": {},
   "source": [
    "### The $𝑝$-value¶\n",
    "\n",
    "The probability that the test statistic (in this case, the correlation between broccoli consumption and IQ) would be observed if the null hypothesis were true, is sometimes called the $𝑝$-value.\n",
    "\n",
    "Our permutation test shows that the $𝑝$-value associated with the observed difference of means is basically zero- we never get a correlation of 0.80 in our 10,000 random shuffles.\n",
    "\n",
    "The result is considered statistically significant if $𝑝$ is smaller than some predetermined level, known as $\\alpha$. Usually $\\alpha=0.05$ or $\\alpha=0.01$ is used, so the result is significant if $p=0.05$ or $p=0.01$. Our result would be considered highly statistically significant."
   ]
  },
  {
   "cell_type": "markdown",
   "id": "604bf628-6d76-49e6-8a3e-eeb5abea174c",
   "metadata": {},
   "source": [
    "## Syntax of `stats.permutation_test()`\n",
    "\n",
    "Let's have a look at the Python code to run the permutation test.\n",
    "\n",
    "\n",
    "Firstly, we had to give the function `stats.permutation_test()` our two samples. In this case, the data are in 'wide form', ie the two measurements for each individual (broccoli consumption and IW) are contained in two different columns <tt>(broccoli.broccoli_g, broccoli.IQ)</tt>\n",
    "\n",
    "Secondly, to tell `stats.permutation_test()` the test statistic we want to get the null distribution of, we had to pass it a *function* that calculates that test statistic. We created that function, `correlation()`, using a function definition, before running the permutation test\n",
    "\n",
    "### Arguments\n",
    "\n",
    "When running the permutation test, we have to specify some arguments\n",
    "\n",
    "* **n_resamples** the number of shuffles to do.\n",
    "* **alternative** - whether to do a one-tailed test (and in whcih direction: 'greater' counts how many shuffles result in test statistic values greater than the one obtained from unshuffled data) or a two tailed test\n",
    "* **permutation_type** - pairings, samples, or independent. These are for test of correlation, paired data and unpaired data respectively.\n",
    "\n",
    "Here we are testing for correlation so we shuffle the *pairings*, ie in shuffled data we pair each person's IQ with a random person's broccoli consumption"
   ]
  },
  {
   "cell_type": "markdown",
   "id": "5fca8a34",
   "metadata": {},
   "source": [
    "## Recap\n",
    "\n",
    "To run a permutation test on a correlation, we shuffled up all the pairings so each person's IQ was paired with someone else's broccoli consumption. We did not switch any datapoints from the broccoli column into the the IQ column (!).\n",
    "\n",
    "For each shuffle we calculated the correlation between broccoli consumption and IQ\n",
    "\n",
    "Permutation testing in this way gives us a null distribution for the correlation. Values of the correlation coefficient that occur rarely in the null distriubtion are considered statistically significant.\n",
    "    \n",
    "To run the permutation test with <tt>scipy.stats</tt> we need the option `permutation_type='pairings'`"
   ]
  },
  {
   "cell_type": "code",
   "execution_count": null,
   "id": "267cc3b2",
   "metadata": {},
   "outputs": [],
   "source": []
  }
 ],
 "metadata": {
  "kernelspec": {
   "display_name": "Python 3 (ipykernel)",
   "language": "python",
   "name": "python3"
  },
  "language_info": {
   "codemirror_mode": {
    "name": "ipython",
    "version": 3
   },
   "file_extension": ".py",
   "mimetype": "text/x-python",
   "name": "python",
   "nbconvert_exporter": "python",
   "pygments_lexer": "ipython3",
   "version": "3.11.7"
  }
 },
 "nbformat": 4,
 "nbformat_minor": 5
}