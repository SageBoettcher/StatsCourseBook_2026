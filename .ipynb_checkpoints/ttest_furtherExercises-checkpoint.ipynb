{
 "cells": [
  {
   "cell_type": "markdown",
   "id": "49887e83",
   "metadata": {},
   "source": [
    "# Tutorial Exercises: $t$-test and non-parametric equivalents\n",
    "\n",
    "Here are some more exercises on comparing means using the t-test and non-parametric equivalents\n",
    "\n",
    "These exercises are very similar to what you did in the t-test and Mann-Whitney/Wilcoxon examples so in most cases you will be able to copy and adapt code and text from the examples."
   ]
  },
  {
   "cell_type": "markdown",
   "id": "741220b6",
   "metadata": {},
   "source": [
    "### Set up Python libraries\n",
    "\n",
    "As usual, run the code cell below to import the relevant Python libraries"
   ]
  },
  {
   "cell_type": "code",
   "execution_count": 3,
   "id": "692abf91",
   "metadata": {},
   "outputs": [],
   "source": [
    "# Set-up Python libraries - you need to run this but you don't need to change it\n",
    "import numpy as np\n",
    "import matplotlib.pyplot as plt\n",
    "import scipy.stats as stats\n",
    "import pandas as pd\n",
    "import seaborn as sns\n",
    "sns.set_theme(style='white')\n",
    "import statsmodels.api as sm\n",
    "import statsmodels.formula.api as smf\n",
    "import warnings \n",
    "warnings.simplefilter('ignore', category=FutureWarning)"
   ]
  },
  {
   "cell_type": "markdown",
   "id": "91eef546",
   "metadata": {},
   "source": [
    "## 1. Whose peaches are heavier?\n",
    "\n",
    "<img src=\"https://raw.githubusercontent.com/jillxoreilly/StatsCourseBook/main/images/peaches.png\" width=30% alt=\"There should be a picture of some peaches here\" >\n",
    "\n",
    "As last week:\n",
    "\n",
    "Mr Robinson’s juice factory buys peaches from farmers by the tray. Each tray contains 50 peaches. Farmer McDonald claims that this is unfair as his peaches are juicier and therefore weigh more than the peaches of his rival, Mr McGregor. \n",
    "\n",
    "Mr Robinson weighs eight trays of Farmer McDonald’s peaches and 8 trays of Mr McGregor’s peaches. \n",
    "The weights, in kilograms are given in the file peaches.csv \n",
    "\n",
    "Investigate whether McDonald's claim is justified by testing for a difference in weight between McDonald and McGregor's peaches. Use both a parametric and non-parametric test."
   ]
  },
  {
   "cell_type": "markdown",
   "id": "134615c7",
   "metadata": {},
   "source": [
    "a) Load the data into a Pandas dataframe"
   ]
  },
  {
   "cell_type": "code",
   "execution_count": 9,
   "id": "e524eb4b",
   "metadata": {},
   "outputs": [],
   "source": [
    "peaches = pd.read_csv('https://raw.githubusercontent.com/jillxoreilly/StatsCourseBook_2024/main/data/peaches.csv')\n",
    "peaches"
   ]
  },
  {
   "cell_type": "markdown",
   "id": "cf39faa0",
   "metadata": {},
   "source": [
    "b) Plot the data and comment on whether they are noramlly distributed. \n",
    "\n",
    "A KDE plot (to show the distribution) and rug plot (to show individual data points) would be a good choice here. You should comment on whether the data appear to be Normally distriubted and hence the suitability of the t-test. "
   ]
  },
  {
   "cell_type": "code",
   "execution_count": 10,
   "id": "ecb9049b",
   "metadata": {},
   "outputs": [],
   "source": [
    "# your code here to plot the data"
   ]
  },
  {
   "cell_type": "markdown",
   "id": "8f940c21",
   "metadata": {},
   "source": [
    "d) We can assume (based on the Central Limit Theorem) that these data points are normally distributed. Explain why."
   ]
  },
  {
   "cell_type": "markdown",
   "id": "0cb87fa8",
   "metadata": {},
   "source": [
    "<font color='red'> Your text here explaining why the data should be Normal according to the CLT </font>"
   ]
  },
  {
   "cell_type": "markdown",
   "id": "8b701bfb",
   "metadata": {},
   "source": [
    "e) Conduct a t-test to test Farmer McDonald's claim\n",
    "\n",
    "* State your hypotheses\n",
    "* State relevant descriptive statistics\n",
    "* Carry out the test using the built in function from `scipy.stats` with appropriate option choices\n",
    "* State your conclusions"
   ]
  },
  {
   "cell_type": "markdown",
   "id": "575a5400",
   "metadata": {},
   "source": [
    "<font color='red'>  Your answer here! You will need to add additional cells</font>"
   ]
  },
  {
   "cell_type": "markdown",
   "id": "be0c251b",
   "metadata": {},
   "source": [
    "f) Look back at the rank-based and permutation tests we carried out on the same data in the previous section. How do the results of the three tests differ? Which test was the best choice, and why?"
   ]
  },
  {
   "cell_type": "markdown",
   "id": "bf2702d0",
   "metadata": {},
   "source": [
    "## 2. IQ and vitamins\n",
    "\n",
    "<img src=\"https://raw.githubusercontent.com/jillxoreilly/StatsCourseBook/main/images/vitamins.jpg\" width=50% alt=\"There should be a picture of some vitamin pills here\" >\n",
    "\n",
    "The VitalVit company claim that after taking their VitalVit supplement, IQ is increased. \n",
    "\n",
    "They run a trial in which 22 participants complete a baseline IQ test, then take VitalVit for six weeks, then complete another IQ test.\n"
   ]
  },
  {
   "cell_type": "markdown",
   "id": "36be5eb5",
   "metadata": {},
   "source": [
    "a) Load the data into a Pandas dataframe"
   ]
  },
  {
   "cell_type": "code",
   "execution_count": 1,
   "id": "864de087",
   "metadata": {},
   "outputs": [
    {
     "ename": "NameError",
     "evalue": "name 'pd' is not defined",
     "output_type": "error",
     "traceback": [
      "\u001b[0;31m---------------------------------------------------------------------------\u001b[0m",
      "\u001b[0;31mNameError\u001b[0m                                 Traceback (most recent call last)",
      "Cell \u001b[0;32mIn[1], line 1\u001b[0m\n\u001b[0;32m----> 1\u001b[0m vitamin \u001b[38;5;241m=\u001b[39m pd\u001b[38;5;241m.\u001b[39mread_csv(\u001b[38;5;124m'\u001b[39m\u001b[38;5;124mhttps://raw.githubusercontent.com/jillxoreilly/StatsCourseBook_2025/main/data/vitalVit.csv\u001b[39m\u001b[38;5;124m'\u001b[39m)\n\u001b[1;32m      2\u001b[0m vitamin\n",
      "\u001b[0;31mNameError\u001b[0m: name 'pd' is not defined"
     ]
    }
   ],
   "source": [
    "vitamin = pd.read_csv('https://raw.githubusercontent.com/jillxoreilly/StatsCourseBook_2025/main/data/vitalVit.csv')\n",
    "vitamin"
   ]
  },
  {
   "cell_type": "markdown",
   "id": "fa85f514",
   "metadata": {},
   "source": [
    "b) The requirement for a paired t-test is that the pairwise differences in scores are normally distributed. Plot the data in such a way as to check this assumption. Comment on your plot.\n",
    "\n",
    "* A KDE plot of the pairwise differences, after-before, would be a good choice hereA scatterplot would be a good choice as these are paired data. "
   ]
  },
  {
   "cell_type": "code",
   "execution_count": 24,
   "id": "1ff48986",
   "metadata": {},
   "outputs": [],
   "source": [
    "# Your code here"
   ]
  },
  {
   "cell_type": "markdown",
   "id": "300671b9",
   "metadata": {},
   "source": [
    "*you may need to look back to the section on data generating distributions, especially the relationship between the binomial and normal distributions, to answer parts c and d* \n",
    "\n",
    "c) Consider an IQ test in multiplce choice format, with 100 questions. The average score on the test is 50/100 and the standard deviation is 10. Explain why we might expect scores on this test to be normally distributed. \n",
    "\n"
   ]
  },
  {
   "cell_type": "markdown",
   "id": "a8ae8e79-9c32-4869-83d6-073f94d4c9ec",
   "metadata": {},
   "source": [
    "<font color='red'> Your answer here. </font>"
   ]
  },
  {
   "cell_type": "markdown",
   "id": "d55d5b8b-ca96-4b93-a05d-175ce50c4fff",
   "metadata": {},
   "source": [
    "d) Consider another IQ test, with 100 questions, on which the average score is 90/100 and the standard deviation is 10. Why would we not expect the scores to be normally distributed in this case?\n"
   ]
  },
  {
   "cell_type": "markdown",
   "id": "745bf787-54ab-4515-b472-78a3af756c40",
   "metadata": {},
   "source": [
    "<font color='red'> Your answer here. </font>"
   ]
  },
  {
   "cell_type": "markdown",
   "id": "fdf0434b-4223-4cd8-978e-6bed2c7f08bd",
   "metadata": {},
   "source": [
    "In real IQ tests, IQ scores are normally distributed by design (the tests are designed to yeild a normal distribution of scores). Therefore we should be able to use a t-test to compare the scores from before and after taking VitalVit."
   ]
  },
  {
   "cell_type": "markdown",
   "id": "f289ad7d",
   "metadata": {},
   "source": [
    "e) Conduct a t-test to test VitalVit's claim\n",
    "\n",
    "* State your hypotheses\n",
    "* State relevant descriptive statistics\n",
    "* Carry out the test using the biilt in function from <tt>scipy.stats</tt> with appropriate option choices\n",
    "* State your conclusions"
   ]
  },
  {
   "cell_type": "markdown",
   "id": "84c9a8ed",
   "metadata": {},
   "source": [
    "<font color='red'> Your answer here. </font>"
   ]
  },
  {
   "cell_type": "markdown",
   "id": "8a3f3840",
   "metadata": {},
   "source": [
    "f) Look back to the rank-based and permutation tests on the same data, which you carried out last week. How do the results differ? Why test was the best choice, and why?"
   ]
  },
  {
   "cell_type": "markdown",
   "id": "8e2cd017",
   "metadata": {},
   "source": [
    "<font color='red'> Your answer here.</font>"
   ]
  },
  {
   "cell_type": "markdown",
   "id": "6bf78ba2",
   "metadata": {},
   "source": [
    "## 3. Who has the tallest students?\n",
    "\n",
    "A student from Lonsdale college claims that Lonsdale students are taller than students from Beaufort college.\n",
    "\n",
    "Heights of 30 randomly selected male undergraduates from each college are found in the file heightsCollege.csv\n",
    "\n",
    "Test the student's hypothesis using a t-test (this is justified as heights are generally normally distributed) and write up your report as if for a scientific publication. Your report should include the following elements:\n",
    "\n",
    "* A plot of the data to show the data distribution\n",
    "* The relevant descriptive statistics\n",
    "* The results of the t-test\n",
    "* A conclusion\n",
    "\n",
    "\n",
    "You can use the write-up sections of the t-test example notebooks as a model"
   ]
  },
  {
   "cell_type": "code",
   "execution_count": 5,
   "id": "a0706fe2",
   "metadata": {},
   "outputs": [
    {
     "ename": "SyntaxError",
     "evalue": "invalid syntax (2323592595.py, line 2)",
     "output_type": "error",
     "traceback": [
      "\u001b[0;36m  Cell \u001b[0;32mIn[5], line 2\u001b[0;36m\u001b[0m\n\u001b[0;31m    heights = pd.read_csv(https://raw.githubusercontent.com/jillxoreilly/StatsCourseBook_2025/main/data/heightsCollege.csv)\u001b[0m\n\u001b[0m                               ^\u001b[0m\n\u001b[0;31mSyntaxError\u001b[0m\u001b[0;31m:\u001b[0m invalid syntax\n"
     ]
    }
   ],
   "source": [
    "# Load the data\n",
    "heights = pd.read_csv(https://raw.githubusercontent.com/jillxoreilly/StatsCourseBook_2025/main/data/heightsCollege.csv)"
   ]
  },
  {
   "cell_type": "code",
   "execution_count": null,
   "id": "39dc24e1",
   "metadata": {},
   "outputs": [],
   "source": []
  }
 ],
 "metadata": {
  "kernelspec": {
   "display_name": "Python 3 (ipykernel)",
   "language": "python",
   "name": "python3"
  },
  "language_info": {
   "codemirror_mode": {
    "name": "ipython",
    "version": 3
   },
   "file_extension": ".py",
   "mimetype": "text/x-python",
   "name": "python",
   "nbconvert_exporter": "python",
   "pygments_lexer": "ipython3",
   "version": "3.11.7"
  }
 },
 "nbformat": 4,
 "nbformat_minor": 5
}
