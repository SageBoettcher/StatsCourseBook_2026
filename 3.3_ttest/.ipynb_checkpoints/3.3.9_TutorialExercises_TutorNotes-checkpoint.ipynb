{
 "cells": [
  {
   "cell_type": "markdown",
   "id": "49887e83",
   "metadata": {},
   "source": [
    "# Tutorial Exercises: $t$-test \n",
    "\n",
    "Here are some exercises on comparing means using the t-test"
   ]
  },
  {
   "cell_type": "markdown",
   "id": "741220b6",
   "metadata": {},
   "source": [
    "### Set up Python libraries\n",
    "\n",
    "As usual, run the code cell below to import the relevant Python libraries"
   ]
  },
  {
   "cell_type": "code",
   "execution_count": 3,
   "id": "692abf91",
   "metadata": {},
   "outputs": [],
   "source": [
    "# Set-up Python libraries - you need to run this but you don't need to change it\n",
    "import numpy as np\n",
    "import matplotlib.pyplot as plt\n",
    "import scipy.stats as stats\n",
    "import pandas as pd\n",
    "import seaborn as sns\n",
    "sns.set_theme(style='white')\n",
    "import statsmodels.api as sm\n",
    "import statsmodels.formula.api as smf\n",
    "import warnings \n",
    "warnings.simplefilter('ignore', category=FutureWarning)"
   ]
  },
  {
   "cell_type": "markdown",
   "id": "91eef546",
   "metadata": {},
   "source": [
    "## 1. Whose peaches are heavier?\n",
    "\n",
    "<img src=\"https://raw.githubusercontent.com/jillxoreilly/StatsCourseBook/main/images/peaches.png\" width=30% alt=\"There should be a picture of some peaches here\" >\n",
    "\n",
    "As last week:\n",
    "\n",
    "Mr Robinson’s juice factory buys peaches from farmers by the tray. Each tray contains 50 peaches. Farmer McDonald claims that this is unfair as his peaches are juicier and therefore weigh more than the peaches of his rival, Mr McGregor. \n",
    "\n",
    "Mr Robinson weighs eight trays of Farmer McDonald’s peaches and 8 trays of Mr McGregor’s peaches. \n",
    "The weights, in kilograms are given in the file peaches.csv \n",
    "\n",
    "Investigate whether McDonald's claim is justified by testing for a difference in weight between McDonald and McGregor's peaches. Use both a parametric and non-parametric test."
   ]
  },
  {
   "cell_type": "markdown",
   "id": "134615c7",
   "metadata": {},
   "source": [
    "a) Load the data into a Pandas dataframe"
   ]
  },
  {
   "cell_type": "code",
   "execution_count": 4,
   "id": "e524eb4b",
   "metadata": {},
   "outputs": [
    {
     "data": {
      "text/html": [
       "<div>\n",
       "<style scoped>\n",
       "    .dataframe tbody tr th:only-of-type {\n",
       "        vertical-align: middle;\n",
       "    }\n",
       "\n",
       "    .dataframe tbody tr th {\n",
       "        vertical-align: top;\n",
       "    }\n",
       "\n",
       "    .dataframe thead th {\n",
       "        text-align: right;\n",
       "    }\n",
       "</style>\n",
       "<table border=\"1\" class=\"dataframe\">\n",
       "  <thead>\n",
       "    <tr style=\"text-align: right;\">\n",
       "      <th></th>\n",
       "      <th>McGregor</th>\n",
       "      <th>MacDonald</th>\n",
       "    </tr>\n",
       "  </thead>\n",
       "  <tbody>\n",
       "    <tr>\n",
       "      <th>0</th>\n",
       "      <td>7.867</td>\n",
       "      <td>8.289</td>\n",
       "    </tr>\n",
       "    <tr>\n",
       "      <th>1</th>\n",
       "      <td>7.637</td>\n",
       "      <td>7.972</td>\n",
       "    </tr>\n",
       "    <tr>\n",
       "      <th>2</th>\n",
       "      <td>7.652</td>\n",
       "      <td>8.237</td>\n",
       "    </tr>\n",
       "    <tr>\n",
       "      <th>3</th>\n",
       "      <td>7.772</td>\n",
       "      <td>7.789</td>\n",
       "    </tr>\n",
       "    <tr>\n",
       "      <th>4</th>\n",
       "      <td>7.510</td>\n",
       "      <td>7.345</td>\n",
       "    </tr>\n",
       "    <tr>\n",
       "      <th>5</th>\n",
       "      <td>7.743</td>\n",
       "      <td>7.861</td>\n",
       "    </tr>\n",
       "    <tr>\n",
       "      <th>6</th>\n",
       "      <td>7.356</td>\n",
       "      <td>7.779</td>\n",
       "    </tr>\n",
       "    <tr>\n",
       "      <th>7</th>\n",
       "      <td>7.944</td>\n",
       "      <td>7.974</td>\n",
       "    </tr>\n",
       "  </tbody>\n",
       "</table>\n",
       "</div>"
      ],
      "text/plain": [
       "   McGregor  MacDonald\n",
       "0     7.867      8.289\n",
       "1     7.637      7.972\n",
       "2     7.652      8.237\n",
       "3     7.772      7.789\n",
       "4     7.510      7.345\n",
       "5     7.743      7.861\n",
       "6     7.356      7.779\n",
       "7     7.944      7.974"
      ]
     },
     "execution_count": 4,
     "metadata": {},
     "output_type": "execute_result"
    }
   ],
   "source": [
    "peaches = pd.read_csv('https://raw.githubusercontent.com/jillxoreilly/StatsCourseBook_2024/main/data/peaches.csv')\n",
    "peaches"
   ]
  },
  {
   "cell_type": "markdown",
   "id": "cf39faa0",
   "metadata": {},
   "source": [
    "b) Plot the data and comment on whether they are noramlly distributed. \n",
    "\n",
    "A KDE plot (to show the distribution) and rug plot (to show individual data points) would be a good choice here. You should comment on whether the data appear to be Normally distriubted and hence the suitability of the t-test. "
   ]
  },
  {
   "cell_type": "code",
   "execution_count": 5,
   "id": "ecb9049b",
   "metadata": {},
   "outputs": [
    {
     "data": {
      "image/png": "[encoded data removed]",
      "text/plain": [
       "<Figure size 640x480 with 1 Axes>"
      ]
     },
     "metadata": {},
     "output_type": "display_data"
    }
   ],
   "source": [
    "# your code here to plot the data\n",
    "sns.kdeplot(data=peaches.McGregor, color='r', fill=True)\n",
    "sns.rugplot(x=peaches.McGregor, color='r', height=0.1)\n",
    "sns.kdeplot(data=peaches.MacDonald, color='b', fill=True)\n",
    "sns.rugplot(x=peaches.MacDonald, color='b', height=0.1)\n",
    "plt.show()"
   ]
  },
  {
   "cell_type": "markdown",
   "id": "8f940c21",
   "metadata": {},
   "source": [
    "d) We can assume (based on the Central Limit Theorem) that these data points are normally distributed. Explain why."
   ]
  },
  {
   "cell_type": "markdown",
   "id": "0cb87fa8",
   "metadata": {},
   "source": [
    "<font color='red'> Each tray contains 50 peaches. The weight of the total tray is 50x the weight of the mean peach in the tray. But the mean of a large sample (n=50) is normally distributed, according to the Central Limit Theorem. So the total weight, as 50x the mean weight, should also be normally distributed.</font>"
   ]
  },
  {
   "cell_type": "markdown",
   "id": "8b701bfb",
   "metadata": {},
   "source": [
    "e) Conduct a t-test to test Farmer McDonald's claim\n",
    "\n",
    "* State your hypotheses\n",
    "* State relevant descriptive statistics\n",
    "* Carry out the test using the built in function from `scipy.stats` with appropriate option choices\n",
    "* State your conclusions"
   ]
  },
  {
   "cell_type": "markdown",
   "id": "575a5400",
   "metadata": {},
   "source": [
    "<font color='red'>**Hypotheses:**\n",
    "\n",
    "* <font color='red'> Ho: The mean weight of trays of peaches is the same for Farmer MacDonald and Farmer McGregor's farms\n",
    "* <font color='red'> Ha: The mean weight is higher for Farmer McDonald's farm\n",
    "\n",
    "<font color='red'>We will test at the 5% alpha level, one-tailed.\n",
    "\n",
    "<font color='red'>*Notes* \n",
    "* <font color='red'> In this case, we are testing for a difference of *means* not medians, since the maths of the t-test concerns variability in the sample mean\n",
    "\n",
    "<font color='red'>**Descriptive Statistics**\n",
    "\n",
    "<font color='red'>We need to report the mean, sample size, and a measure of spread for each group. Here we can use `df.agg()` to get the mean and standard deviation.\n",
    "</font>"
   ]
  },
  {
   "cell_type": "code",
   "execution_count": null,
   "id": "16e7c006-8031-4293-a927-89bff71404fe",
   "metadata": {},
   "outputs": [],
   "source": [
    "peaches.agg({'McGregor':['mean', 'std', 'count'], 'MacDonald':['mean', 'std', 'count']})"
   ]
  },
  {
   "cell_type": "markdown",
   "id": "46387b83-5fb0-4a6e-b8af-3faad4e408d9",
   "metadata": {},
   "source": [
    "<font color='red'>Farmer MacDonald's trays of peaches (n=8, mean = 7.91kg, sd=0.30) are slightly heavier than Farmer McGregor's (n=8, mean = 7.70kg, sd=0.19)</font>\n",
    "\n",
    "<font color='red'>**Carry out the test**\n",
    "\n",
    "<font color='red'>Note that you must choose the correct option for `alternative`"
   ]
  },
  {
   "cell_type": "code",
   "execution_count": 6,
   "id": "6e0abac8-0276-4913-ac3a-c73444cabffc",
   "metadata": {},
   "outputs": [
    {
     "data": {
      "text/plain": [
       "Ttest_indResult(statistic=1.7749776811588107, pvalue=0.04881876713074563)"
      ]
     },
     "execution_count": 6,
     "metadata": {},
     "output_type": "execute_result"
    }
   ],
   "source": [
    "stats.ttest_ind(peaches.MacDonald, peaches.McGregor, alternative='greater')"
   ]
  },
  {
   "cell_type": "markdown",
   "id": "076aa1f0-4da4-46cb-a578-1700d34700ba",
   "metadata": {},
   "source": [
    "<font color='red'> As the p-value is (just!) less than the chosen alpha value (0.05), we reject the null hypothesis.\n",
    "\n",
    "<font color='red'> **Conclusions**\n",
    "\n",
    "<font color='red'> The trays of peaches from Farmer MacDonald are heavier"
   ]
  },
  {
   "cell_type": "markdown",
   "id": "be0c251b",
   "metadata": {},
   "source": [
    "f) Look back at the rank-based and permutation tests we carried out on the same data in the previous section. How do the results of the three tests differ? Which test was the best choice, and why?"
   ]
  },
  {
   "cell_type": "markdown",
   "id": "4de85793-b6fa-46a5-a095-b0d893146dac",
   "metadata": {},
   "source": [
    "<font color='red'> All three tests gave a significant difference such that Farmer MacDonald's peaches were heavier, but the p-value varied slightly. As it happens the rank-based test has the 'most significant' p value even though this is the least sensitive test. \n",
    "\n",
    "<font color='red'> All three tests are appropriate as the assumptions for all three tests are met. I woudl choose the t-test as it is theoretically the most sensitive, given that that the criteria are indeed met.\n",
    "\n",
    "<font color='red'> What you should *not* do in your own research is try all the available tests and pick the one with the lowest p-value"
   ]
  },
  {
   "cell_type": "markdown",
   "id": "bf2702d0",
   "metadata": {},
   "source": [
    "## 2. IQ and vitamins\n",
    "\n",
    "<img src=\"https://raw.githubusercontent.com/jillxoreilly/StatsCourseBook/main/images/vitamins.jpg\" width=50% alt=\"There should be a picture of some vitamin pills here\" >\n",
    "\n",
    "The VitalVit company claim that after taking their VitalVit supplement, IQ is increased. \n",
    "\n",
    "They run a trial in which 22 participants complete a baseline IQ test, then take VitalVit for six weeks, then complete another IQ test.\n"
   ]
  },
  {
   "cell_type": "markdown",
   "id": "36be5eb5",
   "metadata": {},
   "source": [
    "a) Load the data into a Pandas dataframe"
   ]
  },
  {
   "cell_type": "code",
   "execution_count": 8,
   "id": "864de087",
   "metadata": {},
   "outputs": [
    {
     "data": {
      "text/html": [
       "<div>\n",
       "<style scoped>\n",
       "    .dataframe tbody tr th:only-of-type {\n",
       "        vertical-align: middle;\n",
       "    }\n",
       "\n",
       "    .dataframe tbody tr th {\n",
       "        vertical-align: top;\n",
       "    }\n",
       "\n",
       "    .dataframe thead th {\n",
       "        text-align: right;\n",
       "    }\n",
       "</style>\n",
       "<table border=\"1\" class=\"dataframe\">\n",
       "  <thead>\n",
       "    <tr style=\"text-align: right;\">\n",
       "      <th></th>\n",
       "      <th>ID_code</th>\n",
       "      <th>before</th>\n",
       "      <th>after</th>\n",
       "    </tr>\n",
       "  </thead>\n",
       "  <tbody>\n",
       "    <tr>\n",
       "      <th>0</th>\n",
       "      <td>688870</td>\n",
       "      <td>82.596</td>\n",
       "      <td>83.437</td>\n",
       "    </tr>\n",
       "    <tr>\n",
       "      <th>1</th>\n",
       "      <td>723650</td>\n",
       "      <td>117.200</td>\n",
       "      <td>119.810</td>\n",
       "    </tr>\n",
       "    <tr>\n",
       "      <th>2</th>\n",
       "      <td>445960</td>\n",
       "      <td>85.861</td>\n",
       "      <td>83.976</td>\n",
       "    </tr>\n",
       "    <tr>\n",
       "      <th>3</th>\n",
       "      <td>708780</td>\n",
       "      <td>125.640</td>\n",
       "      <td>127.680</td>\n",
       "    </tr>\n",
       "    <tr>\n",
       "      <th>4</th>\n",
       "      <td>109960</td>\n",
       "      <td>96.751</td>\n",
       "      <td>99.103</td>\n",
       "    </tr>\n",
       "    <tr>\n",
       "      <th>5</th>\n",
       "      <td>968530</td>\n",
       "      <td>105.680</td>\n",
       "      <td>106.890</td>\n",
       "    </tr>\n",
       "    <tr>\n",
       "      <th>6</th>\n",
       "      <td>164930</td>\n",
       "      <td>142.410</td>\n",
       "      <td>145.550</td>\n",
       "    </tr>\n",
       "    <tr>\n",
       "      <th>7</th>\n",
       "      <td>744410</td>\n",
       "      <td>109.650</td>\n",
       "      <td>109.320</td>\n",
       "    </tr>\n",
       "    <tr>\n",
       "      <th>8</th>\n",
       "      <td>499380</td>\n",
       "      <td>128.210</td>\n",
       "      <td>125.110</td>\n",
       "    </tr>\n",
       "    <tr>\n",
       "      <th>9</th>\n",
       "      <td>290560</td>\n",
       "      <td>84.773</td>\n",
       "      <td>87.249</td>\n",
       "    </tr>\n",
       "    <tr>\n",
       "      <th>10</th>\n",
       "      <td>780690</td>\n",
       "      <td>110.470</td>\n",
       "      <td>112.650</td>\n",
       "    </tr>\n",
       "    <tr>\n",
       "      <th>11</th>\n",
       "      <td>660820</td>\n",
       "      <td>100.870</td>\n",
       "      <td>99.074</td>\n",
       "    </tr>\n",
       "    <tr>\n",
       "      <th>12</th>\n",
       "      <td>758780</td>\n",
       "      <td>94.117</td>\n",
       "      <td>95.951</td>\n",
       "    </tr>\n",
       "    <tr>\n",
       "      <th>13</th>\n",
       "      <td>363320</td>\n",
       "      <td>96.952</td>\n",
       "      <td>96.801</td>\n",
       "    </tr>\n",
       "    <tr>\n",
       "      <th>14</th>\n",
       "      <td>638840</td>\n",
       "      <td>86.280</td>\n",
       "      <td>87.669</td>\n",
       "    </tr>\n",
       "    <tr>\n",
       "      <th>15</th>\n",
       "      <td>483930</td>\n",
       "      <td>89.413</td>\n",
       "      <td>94.379</td>\n",
       "    </tr>\n",
       "    <tr>\n",
       "      <th>16</th>\n",
       "      <td>102800</td>\n",
       "      <td>85.283</td>\n",
       "      <td>88.316</td>\n",
       "    </tr>\n",
       "    <tr>\n",
       "      <th>17</th>\n",
       "      <td>581620</td>\n",
       "      <td>94.477</td>\n",
       "      <td>96.300</td>\n",
       "    </tr>\n",
       "    <tr>\n",
       "      <th>18</th>\n",
       "      <td>754980</td>\n",
       "      <td>90.649</td>\n",
       "      <td>94.158</td>\n",
       "    </tr>\n",
       "    <tr>\n",
       "      <th>19</th>\n",
       "      <td>268960</td>\n",
       "      <td>103.190</td>\n",
       "      <td>104.300</td>\n",
       "    </tr>\n",
       "    <tr>\n",
       "      <th>20</th>\n",
       "      <td>314040</td>\n",
       "      <td>92.880</td>\n",
       "      <td>94.556</td>\n",
       "    </tr>\n",
       "    <tr>\n",
       "      <th>21</th>\n",
       "      <td>324960</td>\n",
       "      <td>97.843</td>\n",
       "      <td>97.969</td>\n",
       "    </tr>\n",
       "  </tbody>\n",
       "</table>\n",
       "</div>"
      ],
      "text/plain": [
       "    ID_code   before    after\n",
       "0    688870   82.596   83.437\n",
       "1    723650  117.200  119.810\n",
       "2    445960   85.861   83.976\n",
       "3    708780  125.640  127.680\n",
       "4    109960   96.751   99.103\n",
       "5    968530  105.680  106.890\n",
       "6    164930  142.410  145.550\n",
       "7    744410  109.650  109.320\n",
       "8    499380  128.210  125.110\n",
       "9    290560   84.773   87.249\n",
       "10   780690  110.470  112.650\n",
       "11   660820  100.870   99.074\n",
       "12   758780   94.117   95.951\n",
       "13   363320   96.952   96.801\n",
       "14   638840   86.280   87.669\n",
       "15   483930   89.413   94.379\n",
       "16   102800   85.283   88.316\n",
       "17   581620   94.477   96.300\n",
       "18   754980   90.649   94.158\n",
       "19   268960  103.190  104.300\n",
       "20   314040   92.880   94.556\n",
       "21   324960   97.843   97.969"
      ]
     },
     "execution_count": 8,
     "metadata": {},
     "output_type": "execute_result"
    }
   ],
   "source": [
    "vitamin = pd.read_csv('https://raw.githubusercontent.com/jillxoreilly/StatsCourseBook_2025/main/data/vitalVit.csv')\n",
    "vitamin"
   ]
  },
  {
   "cell_type": "markdown",
   "id": "fa85f514",
   "metadata": {},
   "source": [
    "b) The requirement for a paired t-test is that the pairwise differences in scores are normally distributed. Plot the data in such a way as to check this assumption. Comment on your plot.\n",
    "\n",
    "* A KDE plot of the pairwise differences, after-before, would be a good choice here"
   ]
  },
  {
   "cell_type": "code",
   "execution_count": 12,
   "id": "616e7fc9-0bad-4fd9-91e9-5b051b3ae544",
   "metadata": {},
   "outputs": [
    {
     "data": {
      "image/png": "[encoded data removed]",
      "text/plain": [
       "<Figure size 640x480 with 1 Axes>"
      ]
     },
     "metadata": {},
     "output_type": "display_data"
    }
   ],
   "source": [
    "vitamin['change']=vitamin.after-vitamin.before\n",
    "\n",
    "sns.kdeplot(data=vitamin.change, fill=True)\n",
    "plt.xlabel('increase in IQ after VitalVit')\n",
    "plt.show()"
   ]
  },
  {
   "cell_type": "markdown",
   "id": "add80dcc-2818-4bd4-9f2b-8fbea8891bca",
   "metadata": {},
   "source": [
    "<font color='red'> The change in IQ could be normally distributed - it is unimodal and fairly symmetrical, although with neagutive skew and heavy tails\n",
    "\n",
    "<font color='red'> There seem to be more people showing positive than negative changes"
   ]
  },
  {
   "cell_type": "markdown",
   "id": "fdf0434b-4223-4cd8-978e-6bed2c7f08bd",
   "metadata": {},
   "source": [
    "In real IQ tests, IQ scores are normally distributed by design (the tests are designed to yeild a normal distribution of scores). Therefore we should be able to use a t-test to compare the scores from before and after taking VitalVit."
   ]
  },
  {
   "cell_type": "markdown",
   "id": "f289ad7d",
   "metadata": {},
   "source": [
    "c) Conduct a t-test to test VitalVit's claim\n",
    "\n",
    "* State your hypotheses\n",
    "* State relevant descriptive statistics\n",
    "* Carry out the test using the biilt in function from <tt>scipy.stats</tt> with appropriate option choices\n",
    "* State your conclusions"
   ]
  },
  {
   "cell_type": "markdown",
   "id": "84c9a8ed",
   "metadata": {},
   "source": [
    "<font color='red'>**Hypotheses:**\n",
    "\n",
    "* <font color='red'> Ho: The mean change in IQ after taking VitalVit is zero \n",
    "* <font color='red'> Ha: The mean change in IQ is positive\n",
    "\n",
    "<font color='red'> We will test at the 5% alpha level, one-tailed.\n",
    "\n",
    "<font color='red'>*Notes* \n",
    "* <font color='red'> The hypotheses concern the mean change in IQ as the maths of the t-test concerns variation in the mean\n",
    "* <font color='red'> We are testing the mean *change* in IQ (within subjects) rather than the difference of means (between the before- and after- datasets) as this is a paired test.\n",
    "* <font color='red'> The alternative hypothesis is *directional* as VitalVit is supposed to increase IQ, not decrease it. This means we need to choose a one-tailed test and choose the correct value of `alternative` when we run the test\n",
    "\n",
    "<font color='red'>**Descriptive Statistics**\n",
    "* <font color='red'>We need to report the mean difference, sample size (number of pairs), and a measure of spread for the differences (sd). \n",
    "* <font color='red'> I would advise also reporting these statistics for each session (before/after) as this gives the reader a fuller picture of the data (are the changes in IQ score within individuals large, compared to the variation between individuals)\n",
    "\n",
    "</font>"
   ]
  },
  {
   "cell_type": "code",
   "execution_count": 13,
   "id": "b7da8cb1-b613-4dff-9ff6-c37c1da94fbf",
   "metadata": {},
   "outputs": [
    {
     "data": {
      "text/html": [
       "<div>\n",
       "<style scoped>\n",
       "    .dataframe tbody tr th:only-of-type {\n",
       "        vertical-align: middle;\n",
       "    }\n",
       "\n",
       "    .dataframe tbody tr th {\n",
       "        vertical-align: top;\n",
       "    }\n",
       "\n",
       "    .dataframe thead th {\n",
       "        text-align: right;\n",
       "    }\n",
       "</style>\n",
       "<table border=\"1\" class=\"dataframe\">\n",
       "  <thead>\n",
       "    <tr style=\"text-align: right;\">\n",
       "      <th></th>\n",
       "      <th>before</th>\n",
       "      <th>after</th>\n",
       "      <th>change</th>\n",
       "    </tr>\n",
       "  </thead>\n",
       "  <tbody>\n",
       "    <tr>\n",
       "      <th>mean</th>\n",
       "      <td>100.963409</td>\n",
       "      <td>102.284000</td>\n",
       "      <td>1.320591</td>\n",
       "    </tr>\n",
       "    <tr>\n",
       "      <th>std</th>\n",
       "      <td>15.815174</td>\n",
       "      <td>15.714324</td>\n",
       "      <td>1.907622</td>\n",
       "    </tr>\n",
       "    <tr>\n",
       "      <th>count</th>\n",
       "      <td>22.000000</td>\n",
       "      <td>22.000000</td>\n",
       "      <td>22.000000</td>\n",
       "    </tr>\n",
       "  </tbody>\n",
       "</table>\n",
       "</div>"
      ],
      "text/plain": [
       "           before       after     change\n",
       "mean   100.963409  102.284000   1.320591\n",
       "std     15.815174   15.714324   1.907622\n",
       "count   22.000000   22.000000  22.000000"
      ]
     },
     "execution_count": 13,
     "metadata": {},
     "output_type": "execute_result"
    }
   ],
   "source": [
    "vitamin.agg({'before':['mean', 'std', 'count'], 'after':['mean', 'std', 'count'] , 'change':['mean', 'std', 'count']})"
   ]
  },
  {
   "cell_type": "markdown",
   "id": "7ec0c7b9-593d-4128-ac0f-c338e0a3942c",
   "metadata": {},
   "source": [
    "<font color='red'> The mean change in IQ is positive (n=22, mean(after-before) = 1.32, sd=1.91). The change is small compared to the mean value for IQ in each group (before: mean=101.0, sd=15.8. after: mean = 102.3, sd=15.7) </font>\n",
    "\n",
    "<font color='red'>**Carry out the test**\n",
    "\n",
    "<font color='red'>Note that you must choose the correct option for `alternative`, bearing in mind that the order in which you input the data also matters. "
   ]
  },
  {
   "cell_type": "code",
   "execution_count": 14,
   "id": "13a0c536-774d-4fae-a2fe-a3656f999e65",
   "metadata": {},
   "outputs": [
    {
     "data": {
      "text/plain": [
       "TtestResult(statistic=3.247037547947646, pvalue=0.0019289530228459733, df=21)"
      ]
     },
     "execution_count": 14,
     "metadata": {},
     "output_type": "execute_result"
    }
   ],
   "source": [
    "stats.ttest_rel(vitamin.after, vitamin.before, alternative='greater')\n"
   ]
  },
  {
   "cell_type": "markdown",
   "id": "5dab568b-e4f4-4876-9db8-f0957d9241a8",
   "metadata": {},
   "source": [
    "<font color='red'> As the p-value is less than the chosen alpha value (0.05), we reject the null hypothesis.\n",
    "\n",
    "<font color='red'> **Conclusions**\n",
    "\n",
    "<font color='red'> VitalVit does indeed increase IQ"
   ]
  },
  {
   "cell_type": "markdown",
   "id": "8a3f3840",
   "metadata": {},
   "source": [
    "f) Look back to the rank-based and permutation tests on the same data, which you carried out last week. How do the results differ? Why test was the best choice, and why?"
   ]
  },
  {
   "cell_type": "markdown",
   "id": "8e2cd017",
   "metadata": {},
   "source": [
    "<font color='red'> All three tests find a significant increase in IQ after taking VitalVit.\n",
    "\n",
    "<font color='red'> In this case the t-test had the 'most significant' p-value\n",
    "\n",
    "<font color='red'> Since we know the t-test should be the most sensitive (as its assumptions are fulfilled, this is probably the one we should ave chosen in the first place</font>"
   ]
  },
  {
   "cell_type": "markdown",
   "id": "6bf78ba2",
   "metadata": {},
   "source": [
    "## 3. Who has the tallest students?\n",
    "\n",
    "A student from Lonsdale college claims that Lonsdale students are taller than students from Beaufort college.\n",
    "\n",
    "Heights of 30 randomly selected male undergraduates from each college are found in the file heightsCollege.csv\n",
    "\n",
    "Test the student's hypothesis using a t-test (this is justified as heights are generally normally distributed) and write up your report as if for a scientific publication. Your report should include the following elements:\n",
    "\n",
    "* A plot of the data to show the data distribution\n",
    "* The relevant descriptive statistics\n",
    "* The results of the t-test\n",
    "* A conclusion\n",
    "\n",
    "\n",
    "You can use the write-up sections of the t-test example notebooks as a model"
   ]
  },
  {
   "cell_type": "code",
   "execution_count": 17,
   "id": "a0706fe2",
   "metadata": {},
   "outputs": [],
   "source": [
    "# Load the data\n",
    "heights = pd.read_csv('https://raw.githubusercontent.com/jillxoreilly/StatsCourseBook_2025/main/data/heightsCollege.csv')"
   ]
  },
  {
   "cell_type": "markdown",
   "id": "d3daec2a-b95b-4602-af9a-2ba7319dabe4",
   "metadata": {},
   "source": [
    "<font color='red'> Heights were recorded for 30 male undergraduates in each of two Oxford colleges (Lonsdale and Beaufort)\n",
    "\n",
    "<font color='red'> The data within each college have a unimodal and roughly symmetrical distribution consistent with the expected Normal distribution for height. There are three very tall students at Lonsdale creating a heavy positive tail in that distribution:"
   ]
  },
  {
   "cell_type": "code",
   "execution_count": 21,
   "id": "abc4247a-ab46-4973-88c0-ff4cde4927f9",
   "metadata": {},
   "outputs": [
    {
     "data": {
      "image/png": "[encoded data removed]",
      "text/plain": [
       "<Figure size 640x480 with 1 Axes>"
      ]
     },
     "metadata": {},
     "output_type": "display_data"
    }
   ],
   "source": [
    "sns.kdeplot(heights, fill=True)\n",
    "sns.rugplot(heights)\n",
    "plt.xlabel('height in cm')\n",
    "plt.show()"
   ]
  },
  {
   "cell_type": "markdown",
   "id": "2ffb5324-6c30-4310-a0f4-ecae29123a06",
   "metadata": {},
   "source": [
    "<font color='red'> **Descriptive Statistics**"
   ]
  },
  {
   "cell_type": "code",
   "execution_count": 24,
   "id": "aaa32d6c-8a08-4176-93eb-167b67a699ac",
   "metadata": {},
   "outputs": [
    {
     "data": {
      "text/html": [
       "<div>\n",
       "<style scoped>\n",
       "    .dataframe tbody tr th:only-of-type {\n",
       "        vertical-align: middle;\n",
       "    }\n",
       "\n",
       "    .dataframe tbody tr th {\n",
       "        vertical-align: top;\n",
       "    }\n",
       "\n",
       "    .dataframe thead th {\n",
       "        text-align: right;\n",
       "    }\n",
       "</style>\n",
       "<table border=\"1\" class=\"dataframe\">\n",
       "  <thead>\n",
       "    <tr style=\"text-align: right;\">\n",
       "      <th></th>\n",
       "      <th>lonsdale</th>\n",
       "      <th>beaufort</th>\n",
       "    </tr>\n",
       "  </thead>\n",
       "  <tbody>\n",
       "    <tr>\n",
       "      <th>mean</th>\n",
       "      <td>183.863667</td>\n",
       "      <td>178.440000</td>\n",
       "    </tr>\n",
       "    <tr>\n",
       "      <th>std</th>\n",
       "      <td>9.099884</td>\n",
       "      <td>7.066874</td>\n",
       "    </tr>\n",
       "    <tr>\n",
       "      <th>count</th>\n",
       "      <td>30.000000</td>\n",
       "      <td>30.000000</td>\n",
       "    </tr>\n",
       "  </tbody>\n",
       "</table>\n",
       "</div>"
      ],
      "text/plain": [
       "         lonsdale    beaufort\n",
       "mean   183.863667  178.440000\n",
       "std      9.099884    7.066874\n",
       "count   30.000000   30.000000"
      ]
     },
     "execution_count": 24,
     "metadata": {},
     "output_type": "execute_result"
    }
   ],
   "source": [
    "heights.agg({'lonsdale':['mean', 'std', 'count'], 'beaufort':['mean', 'std', 'count']})"
   ]
  },
  {
   "cell_type": "markdown",
   "id": "0ed8e63d-6d30-496d-8f98-f0ad224c89bb",
   "metadata": {},
   "source": [
    "<font color='red'> The mean height is greater at Lonsdale (mean = 183.9cm, sd=9.09) than Beaufort (mean = 178.4cm, sd=7.07)"
   ]
  },
  {
   "cell_type": "markdown",
   "id": "642f5805-e801-4e0a-a1d2-45acf282458e",
   "metadata": {},
   "source": [
    "<font color = 'red'> We carried out an independent samples t-test ..."
   ]
  },
  {
   "cell_type": "code",
   "execution_count": 27,
   "id": "075f0da4-fd41-457f-9b27-10314ea44d6e",
   "metadata": {},
   "outputs": [
    {
     "data": {
      "text/plain": [
       "Ttest_indResult(statistic=2.5783308721106657, pvalue=0.012488916322958012)"
      ]
     },
     "execution_count": 27,
     "metadata": {},
     "output_type": "execute_result"
    }
   ],
   "source": [
    "stats.ttest_ind(heights.lonsdale, heights.beaufort, alternative='two-sided')"
   ]
  },
  {
   "cell_type": "markdown",
   "id": "2a0fce66-5709-4089-a6a2-e4d23d2e2f4b",
   "metadata": {},
   "source": [
    "<font color='red'> ... which showed a significant difference in height between the colleges (t(58) = 2.58, p=0.012, two-tailed) at the 5% level. \n",
    "\n",
    "<font color='red'> We conclude that there is indeed a significant difference in mean height between colleges, with men at Lonsdale being taller."
   ]
  },
  {
   "cell_type": "code",
   "execution_count": null,
   "id": "6fa6151d-5daf-487c-8c4b-2c61351bbde1",
   "metadata": {},
   "outputs": [],
   "source": []
  }
 ],
 "metadata": {
  "kernelspec": {
   "display_name": "Python 3 (ipykernel)",
   "language": "python",
   "name": "python3"
  },
  "language_info": {
   "codemirror_mode": {
    "name": "ipython",
    "version": 3
   },
   "file_extension": ".py",
   "mimetype": "text/x-python",
   "name": "python",
   "nbconvert_exporter": "python",
   "pygments_lexer": "ipython3",
   "version": "3.11.7"
  }
 },
 "nbformat": 4,
 "nbformat_minor": 5
}
